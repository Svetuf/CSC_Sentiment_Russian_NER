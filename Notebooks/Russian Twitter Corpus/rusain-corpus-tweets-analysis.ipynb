{
 "cells": [
  {
   "cell_type": "code",
   "execution_count": 23,
   "metadata": {},
   "outputs": [],
   "source": [
    "import sys  \n",
    "sys.path.insert(0, '../../Utils')"
   ]
  },
  {
   "cell_type": "code",
   "execution_count": 24,
   "metadata": {},
   "outputs": [],
   "source": [
    "from data_analys import *\n",
    "import numpy as np"
   ]
  },
  {
   "cell_type": "markdown",
   "metadata": {},
   "source": [
    "Это костыль :) По идее оно должно всё в одном окружении работать, но у меня не получилось так сделать. Так что библиотеки тут тоже устанавливаются"
   ]
  },
  {
   "cell_type": "code",
   "execution_count": 2,
   "metadata": {
    "scrolled": true
   },
   "outputs": [
    {
     "name": "stdout",
     "output_type": "stream",
     "text": [
      "Requirement already satisfied: pip in c:\\users\\iluch\\anaconda3\\lib\\site-packages (21.0.1)\n",
      "Requirement already satisfied: setuptools in c:\\users\\iluch\\anaconda3\\lib\\site-packages (56.0.0)\n",
      "Requirement already satisfied: wheel in c:\\users\\iluch\\anaconda3\\lib\\site-packages (0.36.2)\n",
      "Requirement already satisfied: spacy in c:\\users\\iluch\\anaconda3\\lib\\site-packages (3.0.5)\n",
      "Requirement already satisfied: srsly<3.0.0,>=2.4.0 in c:\\users\\iluch\\anaconda3\\lib\\site-packages (from spacy) (2.4.0)\n",
      "Requirement already satisfied: murmurhash<1.1.0,>=0.28.0 in c:\\users\\iluch\\anaconda3\\lib\\site-packages (from spacy) (1.0.5)\n",
      "Requirement already satisfied: cymem<2.1.0,>=2.0.2 in c:\\users\\iluch\\anaconda3\\lib\\site-packages (from spacy) (2.0.5)\n",
      "Requirement already satisfied: numpy>=1.15.0 in c:\\users\\iluch\\anaconda3\\lib\\site-packages (from spacy) (1.19.2)\n",
      "Requirement already satisfied: pydantic<1.8.0,>=1.7.1 in c:\\users\\iluch\\anaconda3\\lib\\site-packages (from spacy) (1.7.3)\n",
      "Requirement already satisfied: wasabi<1.1.0,>=0.8.1 in c:\\users\\iluch\\anaconda3\\lib\\site-packages (from spacy) (0.8.2)\n",
      "Requirement already satisfied: preshed<3.1.0,>=3.0.2 in c:\\users\\iluch\\anaconda3\\lib\\site-packages (from spacy) (3.0.5)\n",
      "Requirement already satisfied: jinja2 in c:\\users\\iluch\\anaconda3\\lib\\site-packages (from spacy) (2.11.2)\n",
      "Requirement already satisfied: thinc<8.1.0,>=8.0.2 in c:\\users\\iluch\\anaconda3\\lib\\site-packages (from spacy) (8.0.2)\n",
      "Requirement already satisfied: blis<0.8.0,>=0.4.0 in c:\\users\\iluch\\anaconda3\\lib\\site-packages (from spacy) (0.7.4)\n",
      "Requirement already satisfied: typer<0.4.0,>=0.3.0 in c:\\users\\iluch\\anaconda3\\lib\\site-packages (from spacy) (0.3.2)\n",
      "Requirement already satisfied: setuptools in c:\\users\\iluch\\anaconda3\\lib\\site-packages (from spacy) (56.0.0)\n",
      "Requirement already satisfied: spacy-legacy<3.1.0,>=3.0.0 in c:\\users\\iluch\\anaconda3\\lib\\site-packages (from spacy) (3.0.2)\n",
      "Requirement already satisfied: packaging>=20.0 in c:\\users\\iluch\\anaconda3\\lib\\site-packages (from spacy) (20.4)\n",
      "Requirement already satisfied: requests<3.0.0,>=2.13.0 in c:\\users\\iluch\\anaconda3\\lib\\site-packages (from spacy) (2.24.0)\n",
      "Requirement already satisfied: catalogue<2.1.0,>=2.0.1 in c:\\users\\iluch\\anaconda3\\lib\\site-packages (from spacy) (2.0.1)\n",
      "Requirement already satisfied: pathy>=0.3.5 in c:\\users\\iluch\\anaconda3\\lib\\site-packages (from spacy) (0.4.0)\n",
      "Requirement already satisfied: tqdm<5.0.0,>=4.38.0 in c:\\users\\iluch\\anaconda3\\lib\\site-packages (from spacy) (4.50.2)\n",
      "Requirement already satisfied: six in c:\\users\\iluch\\anaconda3\\lib\\site-packages (from packaging>=20.0->spacy) (1.15.0)\n",
      "Requirement already satisfied: pyparsing>=2.0.2 in c:\\users\\iluch\\anaconda3\\lib\\site-packages (from packaging>=20.0->spacy) (2.4.7)\n",
      "Requirement already satisfied: smart-open<4.0.0,>=2.2.0 in c:\\users\\iluch\\anaconda3\\lib\\site-packages (from pathy>=0.3.5->spacy) (3.0.0)\n",
      "Requirement already satisfied: certifi>=2017.4.17 in c:\\users\\iluch\\anaconda3\\lib\\site-packages (from requests<3.0.0,>=2.13.0->spacy) (2020.6.20)\n",
      "Requirement already satisfied: urllib3!=1.25.0,!=1.25.1,<1.26,>=1.21.1 in c:\\users\\iluch\\anaconda3\\lib\\site-packages (from requests<3.0.0,>=2.13.0->spacy) (1.25.11)\n",
      "Requirement already satisfied: idna<3,>=2.5 in c:\\users\\iluch\\anaconda3\\lib\\site-packages (from requests<3.0.0,>=2.13.0->spacy) (2.10)\n",
      "Requirement already satisfied: chardet<4,>=3.0.2 in c:\\users\\iluch\\anaconda3\\lib\\site-packages (from requests<3.0.0,>=2.13.0->spacy) (3.0.4)\n",
      "Requirement already satisfied: click<7.2.0,>=7.1.1 in c:\\users\\iluch\\anaconda3\\lib\\site-packages (from typer<0.4.0,>=0.3.0->spacy) (7.1.2)\n",
      "Requirement already satisfied: MarkupSafe>=0.23 in c:\\users\\iluch\\anaconda3\\lib\\site-packages (from jinja2->spacy) (1.1.1)\n",
      "Requirement already satisfied: pandas in c:\\users\\iluch\\anaconda3\\lib\\site-packages (1.1.3)\n",
      "Requirement already satisfied: python-dateutil>=2.7.3 in c:\\users\\iluch\\anaconda3\\lib\\site-packages (from pandas) (2.8.1)\n",
      "Requirement already satisfied: numpy>=1.15.4 in c:\\users\\iluch\\anaconda3\\lib\\site-packages (from pandas) (1.19.2)\n",
      "Requirement already satisfied: pytz>=2017.2 in c:\\users\\iluch\\anaconda3\\lib\\site-packages (from pandas) (2020.1)\n",
      "Requirement already satisfied: six>=1.5 in c:\\users\\iluch\\anaconda3\\lib\\site-packages (from python-dateutil>=2.7.3->pandas) (1.15.0)\n",
      "Requirement already satisfied: nltk in c:\\users\\iluch\\anaconda3\\lib\\site-packages (3.5)\n",
      "Requirement already satisfied: regex in c:\\users\\iluch\\anaconda3\\lib\\site-packages (from nltk) (2020.10.15)\n",
      "Requirement already satisfied: tqdm in c:\\users\\iluch\\anaconda3\\lib\\site-packages (from nltk) (4.50.2)\n",
      "Requirement already satisfied: joblib in c:\\users\\iluch\\anaconda3\\lib\\site-packages (from nltk) (0.17.0)\n",
      "Requirement already satisfied: click in c:\\users\\iluch\\anaconda3\\lib\\site-packages (from nltk) (7.1.2)\n",
      "Collecting ru-core-news-lg==3.0.0\n",
      "  Downloading https://github.com/explosion/spacy-models/releases/download/ru_core_news_lg-3.0.0/ru_core_news_lg-3.0.0-py3-none-any.whl (515.3 MB)\n",
      "Requirement already satisfied: pymorphy2>=0.9 in c:\\users\\iluch\\anaconda3\\lib\\site-packages (from ru-core-news-lg==3.0.0) (0.9.1)\n",
      "Requirement already satisfied: spacy<3.1.0,>=3.0.0 in c:\\users\\iluch\\anaconda3\\lib\\site-packages (from ru-core-news-lg==3.0.0) (3.0.5)\n",
      "Requirement already satisfied: pymorphy2-dicts-ru<3.0,>=2.4 in c:\\users\\iluch\\anaconda3\\lib\\site-packages (from pymorphy2>=0.9->ru-core-news-lg==3.0.0) (2.4.417127.4579844)\n",
      "Requirement already satisfied: dawg-python>=0.7.1 in c:\\users\\iluch\\anaconda3\\lib\\site-packages (from pymorphy2>=0.9->ru-core-news-lg==3.0.0) (0.7.2)\n",
      "Requirement already satisfied: docopt>=0.6 in c:\\users\\iluch\\anaconda3\\lib\\site-packages (from pymorphy2>=0.9->ru-core-news-lg==3.0.0) (0.6.2)\n",
      "Requirement already satisfied: packaging>=20.0 in c:\\users\\iluch\\anaconda3\\lib\\site-packages (from spacy<3.1.0,>=3.0.0->ru-core-news-lg==3.0.0) (20.4)\n",
      "Requirement already satisfied: numpy>=1.15.0 in c:\\users\\iluch\\anaconda3\\lib\\site-packages (from spacy<3.1.0,>=3.0.0->ru-core-news-lg==3.0.0) (1.19.2)\n",
      "Requirement already satisfied: murmurhash<1.1.0,>=0.28.0 in c:\\users\\iluch\\anaconda3\\lib\\site-packages (from spacy<3.1.0,>=3.0.0->ru-core-news-lg==3.0.0) (1.0.5)\n",
      "Requirement already satisfied: srsly<3.0.0,>=2.4.0 in c:\\users\\iluch\\anaconda3\\lib\\site-packages (from spacy<3.1.0,>=3.0.0->ru-core-news-lg==3.0.0) (2.4.0)\n",
      "Requirement already satisfied: typer<0.4.0,>=0.3.0 in c:\\users\\iluch\\anaconda3\\lib\\site-packages (from spacy<3.1.0,>=3.0.0->ru-core-news-lg==3.0.0) (0.3.2)\n",
      "Requirement already satisfied: requests<3.0.0,>=2.13.0 in c:\\users\\iluch\\anaconda3\\lib\\site-packages (from spacy<3.1.0,>=3.0.0->ru-core-news-lg==3.0.0) (2.24.0)\n",
      "Requirement already satisfied: pydantic<1.8.0,>=1.7.1 in c:\\users\\iluch\\anaconda3\\lib\\site-packages (from spacy<3.1.0,>=3.0.0->ru-core-news-lg==3.0.0) (1.7.3)\n",
      "Requirement already satisfied: wasabi<1.1.0,>=0.8.1 in c:\\users\\iluch\\anaconda3\\lib\\site-packages (from spacy<3.1.0,>=3.0.0->ru-core-news-lg==3.0.0) (0.8.2)\n",
      "Requirement already satisfied: catalogue<2.1.0,>=2.0.1 in c:\\users\\iluch\\anaconda3\\lib\\site-packages (from spacy<3.1.0,>=3.0.0->ru-core-news-lg==3.0.0) (2.0.1)\n",
      "Requirement already satisfied: pathy>=0.3.5 in c:\\users\\iluch\\anaconda3\\lib\\site-packages (from spacy<3.1.0,>=3.0.0->ru-core-news-lg==3.0.0) (0.4.0)\n",
      "Requirement already satisfied: jinja2 in c:\\users\\iluch\\anaconda3\\lib\\site-packages (from spacy<3.1.0,>=3.0.0->ru-core-news-lg==3.0.0) (2.11.2)\n",
      "Requirement already satisfied: thinc<8.1.0,>=8.0.2 in c:\\users\\iluch\\anaconda3\\lib\\site-packages (from spacy<3.1.0,>=3.0.0->ru-core-news-lg==3.0.0) (8.0.2)\n",
      "Requirement already satisfied: spacy-legacy<3.1.0,>=3.0.0 in c:\\users\\iluch\\anaconda3\\lib\\site-packages (from spacy<3.1.0,>=3.0.0->ru-core-news-lg==3.0.0) (3.0.2)\n",
      "Requirement already satisfied: setuptools in c:\\users\\iluch\\anaconda3\\lib\\site-packages (from spacy<3.1.0,>=3.0.0->ru-core-news-lg==3.0.0) (56.0.0)\n",
      "Requirement already satisfied: tqdm<5.0.0,>=4.38.0 in c:\\users\\iluch\\anaconda3\\lib\\site-packages (from spacy<3.1.0,>=3.0.0->ru-core-news-lg==3.0.0) (4.50.2)\n",
      "Requirement already satisfied: preshed<3.1.0,>=3.0.2 in c:\\users\\iluch\\anaconda3\\lib\\site-packages (from spacy<3.1.0,>=3.0.0->ru-core-news-lg==3.0.0) (3.0.5)\n",
      "Requirement already satisfied: cymem<2.1.0,>=2.0.2 in c:\\users\\iluch\\anaconda3\\lib\\site-packages (from spacy<3.1.0,>=3.0.0->ru-core-news-lg==3.0.0) (2.0.5)\n",
      "Requirement already satisfied: blis<0.8.0,>=0.4.0 in c:\\users\\iluch\\anaconda3\\lib\\site-packages (from spacy<3.1.0,>=3.0.0->ru-core-news-lg==3.0.0) (0.7.4)\n",
      "Requirement already satisfied: pyparsing>=2.0.2 in c:\\users\\iluch\\anaconda3\\lib\\site-packages (from packaging>=20.0->spacy<3.1.0,>=3.0.0->ru-core-news-lg==3.0.0) (2.4.7)\n",
      "Requirement already satisfied: six in c:\\users\\iluch\\anaconda3\\lib\\site-packages (from packaging>=20.0->spacy<3.1.0,>=3.0.0->ru-core-news-lg==3.0.0) (1.15.0)\n",
      "Requirement already satisfied: smart-open<4.0.0,>=2.2.0 in c:\\users\\iluch\\anaconda3\\lib\\site-packages (from pathy>=0.3.5->spacy<3.1.0,>=3.0.0->ru-core-news-lg==3.0.0) (3.0.0)\n",
      "Requirement already satisfied: certifi>=2017.4.17 in c:\\users\\iluch\\anaconda3\\lib\\site-packages (from requests<3.0.0,>=2.13.0->spacy<3.1.0,>=3.0.0->ru-core-news-lg==3.0.0) (2020.6.20)\n",
      "Requirement already satisfied: urllib3!=1.25.0,!=1.25.1,<1.26,>=1.21.1 in c:\\users\\iluch\\anaconda3\\lib\\site-packages (from requests<3.0.0,>=2.13.0->spacy<3.1.0,>=3.0.0->ru-core-news-lg==3.0.0) (1.25.11)\n",
      "Requirement already satisfied: chardet<4,>=3.0.2 in c:\\users\\iluch\\anaconda3\\lib\\site-packages (from requests<3.0.0,>=2.13.0->spacy<3.1.0,>=3.0.0->ru-core-news-lg==3.0.0) (3.0.4)\n",
      "Requirement already satisfied: idna<3,>=2.5 in c:\\users\\iluch\\anaconda3\\lib\\site-packages (from requests<3.0.0,>=2.13.0->spacy<3.1.0,>=3.0.0->ru-core-news-lg==3.0.0) (2.10)\n",
      "Requirement already satisfied: click<7.2.0,>=7.1.1 in c:\\users\\iluch\\anaconda3\\lib\\site-packages (from typer<0.4.0,>=0.3.0->spacy<3.1.0,>=3.0.0->ru-core-news-lg==3.0.0) (7.1.2)\n",
      "Requirement already satisfied: MarkupSafe>=0.23 in c:\\users\\iluch\\anaconda3\\lib\\site-packages (from jinja2->spacy<3.1.0,>=3.0.0->ru-core-news-lg==3.0.0) (1.1.1)\n",
      "[+] Download and installation successful\n",
      "You can now load the package via spacy.load('ru_core_news_lg')\n"
     ]
    }
   ],
   "source": [
    "!pip install -U pip setuptools wheel\n",
    "!pip install -U spacy\n",
    "!pip install pandas\n",
    "!pip install nltk\n",
    "#!python -m spacy download en_core_web_trf --user\n",
    "!python -m spacy download ru_core_news_lg --user"
   ]
  },
  {
   "cell_type": "markdown",
   "metadata": {},
   "source": [
    "Читаем данные. Параметром передается имя файла, функция ищет этот файл в папке \"/Data/Russian Twitter Corpus/\""
   ]
  },
  {
   "cell_type": "code",
   "execution_count": 3,
   "metadata": {},
   "outputs": [],
   "source": [
    "x = read_csv_clear('positive.csv')"
   ]
  },
  {
   "cell_type": "markdown",
   "metadata": {},
   "source": [
    "Гистограмма распределения длинны твитов"
   ]
  },
  {
   "cell_type": "code",
   "execution_count": 4,
   "metadata": {},
   "outputs": [],
   "source": [
    "import re"
   ]
  },
  {
   "cell_type": "code",
   "execution_count": 5,
   "metadata": {},
   "outputs": [],
   "source": [
    "reg = re.compile('[^а-яА-Я]+')\n",
    "for i,_ in enumerate(x[3]):\n",
    "    x.at[i, 3] = reg.sub(' ', x.at[i, 3]).lower()"
   ]
  },
  {
   "cell_type": "code",
   "execution_count": 6,
   "metadata": {},
   "outputs": [
    {
     "data": {
      "image/png": "[encoded data removed]",
      "text/plain": [
       "<Figure size 432x288 with 1 Axes>"
      ]
     },
     "metadata": {
      "needs_background": "light"
     },
     "output_type": "display_data"
    }
   ],
   "source": [
    "h = x['size'].hist()\n",
    "fig = h.get_figure()"
   ]
  },
  {
   "cell_type": "markdown",
   "metadata": {},
   "source": [
    "Боксплот"
   ]
  },
  {
   "cell_type": "code",
   "execution_count": 7,
   "metadata": {},
   "outputs": [
    {
     "data": {
      "image/png": "[encoded data removed]",
      "text/plain": [
       "<Figure size 432x288 with 1 Axes>"
      ]
     },
     "metadata": {
      "needs_background": "light"
     },
     "output_type": "display_data"
    }
   ],
   "source": [
    "boxplot = x.boxplot(column=['size'])"
   ]
  },
  {
   "cell_type": "markdown",
   "metadata": {},
   "source": [
    "Средняя длинна твита"
   ]
  },
  {
   "cell_type": "code",
   "execution_count": 8,
   "metadata": {},
   "outputs": [
    {
     "data": {
      "text/plain": [
       "78.92663887704397"
      ]
     },
     "execution_count": 8,
     "metadata": {},
     "output_type": "execute_result"
    }
   ],
   "source": [
    "averageNum = x.iloc[:, 1].mean()\n",
    "averageNum"
   ]
  },
  {
   "cell_type": "markdown",
   "metadata": {},
   "source": [
    "Медианная длинна твита"
   ]
  },
  {
   "cell_type": "code",
   "execution_count": 9,
   "metadata": {},
   "outputs": [
    {
     "data": {
      "text/plain": [
       "73.0"
      ]
     },
     "execution_count": 9,
     "metadata": {},
     "output_type": "execute_result"
    }
   ],
   "source": [
    "medianNum = x.iloc[:, 1].median()\n",
    "medianNum"
   ]
  },
  {
   "cell_type": "markdown",
   "metadata": {},
   "source": [
    "Среднеквадратичное отклонение"
   ]
  },
  {
   "cell_type": "code",
   "execution_count": 10,
   "metadata": {},
   "outputs": [
    {
     "data": {
      "text/plain": [
       "29.613165284084694"
      ]
     },
     "execution_count": 10,
     "metadata": {},
     "output_type": "execute_result"
    }
   ],
   "source": [
    "MeanSquare = np.std(x.iloc[:, 1])\n",
    "MeanSquare"
   ]
  },
  {
   "cell_type": "markdown",
   "metadata": {},
   "source": [
    "Подсчёт n-грамм слов. 10 самый популярных. Вот тут странно: видимо люди пишут смайлики через пробел, типа \") ) )\" поэтому каждая скобочка считается отдельным словом. Похоже надо нормализовывать текст, а смайлики и тд обрабатывать отдельно(так делали в статье которую я чиатал)"
   ]
  },
  {
   "cell_type": "code",
   "execution_count": 11,
   "metadata": {},
   "outputs": [
    {
     "data": {
      "text/plain": [
       "[(\"('^', 'у', 'меня')\", 502),\n",
       " (\"('^', 'а', 'я')\", 341),\n",
       " (\"('^', 'Доброе', 'утро')\", 326),\n",
       " (\"('^', 'У', 'меня')\", 293),\n",
       " (\"('за', 'то', 'что')\", 229),\n",
       " (\"('у', 'меня', 'есть')\", 224),\n",
       " (\"('^', 'А', 'я')\", 214),\n",
       " (\"('^', 'я', 'не')\", 208),\n",
       " (\"('на', 'новый', 'год')\", 205),\n",
       " (\"('^', 'я', 'тоже')\", 201)]"
      ]
     },
     "execution_count": 11,
     "metadata": {},
     "output_type": "execute_result"
    }
   ],
   "source": [
    "dst = calculate_ngrams(x,3)\n",
    "dst.most_common(10)"
   ]
  },
  {
   "cell_type": "markdown",
   "metadata": {},
   "source": [
    "Подсчёт n-грамм частей речи. 10 самых популярных"
   ]
  },
  {
   "cell_type": "code",
   "execution_count": 12,
   "metadata": {
    "scrolled": true
   },
   "outputs": [
    {
     "data": {
      "text/plain": [
       "[(\"('ADP', 'NOUN')\", 59521),\n",
       " (\"('NOUN', 'NOUN')\", 47108),\n",
       " (\"('ADJ', 'NOUN')\", 42802),\n",
       " (\"('NOUN', 'VERB')\", 40486),\n",
       " (\"('PRON', 'VERB')\", 35865),\n",
       " (\"('NOUN', 'ADP')\", 35681),\n",
       " (\"('VERB', 'NOUN')\", 33945),\n",
       " (\"('VERB', 'ADP')\", 28673),\n",
       " (\"('ADV', 'VERB')\", 27074),\n",
       " (\"('PART', 'VERB')\", 26417)]"
      ]
     },
     "execution_count": 12,
     "metadata": {},
     "output_type": "execute_result"
    }
   ],
   "source": [
    "pos = POS_bigrams(x, 2)\n",
    "pos.most_common(10)"
   ]
  },
  {
   "cell_type": "markdown",
   "metadata": {},
   "source": [
    "То же самое для негативных твитов"
   ]
  },
  {
   "cell_type": "code",
   "execution_count": 13,
   "metadata": {},
   "outputs": [],
   "source": [
    "y = read_csv_clear('negative.csv')"
   ]
  },
  {
   "cell_type": "code",
   "execution_count": 14,
   "metadata": {},
   "outputs": [],
   "source": [
    "reg = re.compile('[^а-яА-Я]+')\n",
    "for i,_ in enumerate(y[3]):\n",
    "    y.at[i, 3] = reg.sub(' ', y.at[i, 3]).lower()"
   ]
  },
  {
   "cell_type": "code",
   "execution_count": 15,
   "metadata": {},
   "outputs": [
    {
     "data": {
      "image/png": "[encoded data removed]",
      "text/plain": [
       "<Figure size 432x288 with 1 Axes>"
      ]
     },
     "metadata": {
      "needs_background": "light"
     },
     "output_type": "display_data"
    }
   ],
   "source": [
    "h2 = y['size'].hist()\n",
    "fig2 = h2.get_figure()"
   ]
  },
  {
   "cell_type": "code",
   "execution_count": 16,
   "metadata": {},
   "outputs": [
    {
     "data": {
      "image/png": "[encoded data removed]",
      "text/plain": [
       "<Figure size 432x288 with 1 Axes>"
      ]
     },
     "metadata": {
      "needs_background": "light"
     },
     "output_type": "display_data"
    }
   ],
   "source": [
    "boxplotn = y.boxplot(column=['size'])"
   ]
  },
  {
   "cell_type": "code",
   "execution_count": 17,
   "metadata": {},
   "outputs": [
    {
     "data": {
      "text/plain": [
       "72.96314430456653"
      ]
     },
     "execution_count": 17,
     "metadata": {},
     "output_type": "execute_result"
    }
   ],
   "source": [
    "averageNumn = y.iloc[:, 1].mean()\n",
    "averageNumn"
   ]
  },
  {
   "cell_type": "code",
   "execution_count": 18,
   "metadata": {},
   "outputs": [
    {
     "data": {
      "text/plain": [
       "66.0"
      ]
     },
     "execution_count": 18,
     "metadata": {},
     "output_type": "execute_result"
    }
   ],
   "source": [
    "medianNumn = y.iloc[:, 1].median()\n",
    "medianNumn"
   ]
  },
  {
   "cell_type": "code",
   "execution_count": 19,
   "metadata": {},
   "outputs": [
    {
     "data": {
      "text/plain": [
       "30.967071343770197"
      ]
     },
     "execution_count": 19,
     "metadata": {},
     "output_type": "execute_result"
    }
   ],
   "source": [
    "MeanSquaren = np.std(y.iloc[:, 1])\n",
    "MeanSquaren"
   ]
  },
  {
   "cell_type": "code",
   "execution_count": 20,
   "metadata": {},
   "outputs": [
    {
     "data": {
      "text/plain": [
       "[(\"('^', 'у', 'меня')\", 953),\n",
       " (\"('о', 'О', '$')\", 788),\n",
       " (\"('^', 'Как', 'же')\", 571),\n",
       " (\"('а', 'у', 'меня')\", 543),\n",
       " (\"('^', 'У', 'меня')\", 513),\n",
       " (\"('^', 'а', 'я')\", 470),\n",
       " (\"('я', 'не', 'могу')\", 426),\n",
       " (\"('^', 'я', 'не')\", 392),\n",
       " (\"('не', 'могу', '$')\", 385),\n",
       " (\"('так', 'и', 'не')\", 364)]"
      ]
     },
     "execution_count": 20,
     "metadata": {},
     "output_type": "execute_result"
    }
   ],
   "source": [
    "dstn = calculate_ngrams(y,3)\n",
    "dstn.most_common(10)"
   ]
  },
  {
   "cell_type": "code",
   "execution_count": 21,
   "metadata": {
    "scrolled": true
   },
   "outputs": [
    {
     "data": {
      "text/plain": [
       "[(\"('ADP', 'NOUN')\", 55817),\n",
       " (\"('NOUN', 'VERB')\", 39846),\n",
       " (\"('PART', 'VERB')\", 39580),\n",
       " (\"('NOUN', 'NOUN')\", 37252),\n",
       " (\"('PRON', 'VERB')\", 35545),\n",
       " (\"('ADJ', 'NOUN')\", 33528),\n",
       " (\"('VERB', 'NOUN')\", 32339),\n",
       " (\"('NOUN', 'ADP')\", 30229),\n",
       " (\"('VERB', 'ADP')\", 29427),\n",
       " (\"('ADV', 'VERB')\", 28234)]"
      ]
     },
     "execution_count": 21,
     "metadata": {},
     "output_type": "execute_result"
    }
   ],
   "source": [
    "posn = POS_bigrams(y, 2)\n",
    "posn.most_common(10)"
   ]
  }
 ],
 "metadata": {
  "kernelspec": {
   "display_name": "Python 3",
   "language": "python",
   "name": "python3"
  },
  "language_info": {
   "codemirror_mode": {
    "name": "ipython",
    "version": 3
   },
   "file_extension": ".py",
   "mimetype": "text/x-python",
   "name": "python",
   "nbconvert_exporter": "python",
   "pygments_lexer": "ipython3",
   "version": "3.8.5"
  }
 },
 "nbformat": 4,
 "nbformat_minor": 4
}
