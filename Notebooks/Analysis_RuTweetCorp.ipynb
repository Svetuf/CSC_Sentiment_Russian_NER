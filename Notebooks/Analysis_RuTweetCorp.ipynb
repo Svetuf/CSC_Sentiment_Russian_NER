{
  "nbformat": 4,
  "nbformat_minor": 5,
  "metadata": {
    "colab": {
      "name": "Analysis_RuTweetCorp.ipynb",
      "provenance": [],
      "collapsed_sections": [],
      "toc_visible": true
    },
    "kernelspec": {
      "display_name": "Python 3",
      "language": "python",
      "name": "python3"
    },
    "language_info": {
      "codemirror_mode": {
        "name": "ipython",
        "version": 3
      },
      "file_extension": ".py",
      "mimetype": "text/x-python",
      "name": "python",
      "nbconvert_exporter": "python",
      "pygments_lexer": "ipython3",
      "version": "3.7.9"
    },
    "accelerator": "GPU"
  },
  "cells": [
    {
      "cell_type": "code",
      "metadata": {
        "id": "wired-stranger"
      },
      "source": [
        "import re\n",
        "import collections\n",
        "from nltk.probability import FreqDist\n",
        "import nltk\n",
        "import numpy as np\n",
        "from matplotlib import pyplot as plt\n",
        "from nltk import ngrams\n",
        "from pymystem3 import Mystem\n",
        "from spacy.lang.ru import Russian\n",
        "import spacy\n",
        "from functions import *\n",
        "import pandas as pd\n",
        "from tqdm import tqdm"
      ],
      "id": "wired-stranger",
      "execution_count": null,
      "outputs": []
    },
    {
      "cell_type": "markdown",
      "metadata": {
        "id": "institutional-million"
      },
      "source": [
        "База данных состоит из 12 столбцов:\n",
        "\n",
        "– id: уникальный номер сообщения в системе twitter;\n",
        "\n",
        "– tdate: дата публикации сообщения (твита);\n",
        "\n",
        "– tnamee: имя пользователя, опубликовавшего сообщение;\n",
        "\n",
        "– ttext:  текст сообщения (твита);\n",
        "\n",
        "– ttype: поле в котором в дальнейшем будет указано к кому классу относится твит (положительный, отрицательный, нейтральный);\n",
        "\n",
        "– trep: количество реплаев к данному сообщению. В настоящий момент API твиттера не отдает эту информацию;\n",
        "\n",
        "– trtw: число ретвитов;\n",
        "\n",
        "– tfav: число сколько раз данное сообщение было добавлено в избранное другими пользователями;\n",
        "\n",
        "– tstcount: число всех сообщений пользователя в сети twitter;\n",
        "\n",
        "– tfol: количество фоловеров пользователя (тех людей, которые читают пользователя);\n",
        "\n",
        "– tfrien: количество друзей пользователя (те люди, которых читает пользователь);\n",
        "\n",
        "– listcount: количество листов-подписок в которые добавлен твиттер-пользователь."
      ],
      "id": "institutional-million"
    },
    {
      "cell_type": "markdown",
      "metadata": {
        "id": "processed-satin"
      },
      "source": [
        "Прочитаем данные и построим различные статистики."
      ],
      "id": "processed-satin"
    },
    {
      "cell_type": "code",
      "metadata": {
        "id": "eleven-yeast"
      },
      "source": [
        "columns_name = ['id', 'tdate', 'tname', 'ttext', 'ttype', 'trep','trtw', 'tfav', 'tstcount', 'tfol', 'tfrien', 'listcount']\n",
        "positive_dataset = pd.read_csv('positive.csv', sep = ';', names = columns_name)\n",
        "negative_dataset = pd.read_csv('negative.csv', sep = ';', names = columns_name)"
      ],
      "id": "eleven-yeast",
      "execution_count": null,
      "outputs": []
    },
    {
      "cell_type": "code",
      "metadata": {
        "colab": {
          "base_uri": "https://localhost:8080/"
        },
        "id": "illegal-accounting",
        "outputId": "160a3ec9-77cf-41cf-ccc8-10a425ad21ad"
      },
      "source": [
        "len(positive_dataset)"
      ],
      "id": "illegal-accounting",
      "execution_count": null,
      "outputs": [
        {
          "output_type": "execute_result",
          "data": {
            "text/plain": [
              "114911"
            ]
          },
          "metadata": {
            "tags": []
          },
          "execution_count": 6
        }
      ]
    },
    {
      "cell_type": "code",
      "metadata": {
        "colab": {
          "base_uri": "https://localhost:8080/",
          "height": 513
        },
        "id": "minimal-creek",
        "outputId": "0b79ad75-b5c4-472a-dc21-7a8187911907"
      },
      "source": [
        "positive_dataset.head()"
      ],
      "id": "minimal-creek",
      "execution_count": null,
      "outputs": [
        {
          "output_type": "execute_result",
          "data": {
            "text/html": [
              "<div>\n",
              "<style scoped>\n",
              "    .dataframe tbody tr th:only-of-type {\n",
              "        vertical-align: middle;\n",
              "    }\n",
              "\n",
              "    .dataframe tbody tr th {\n",
              "        vertical-align: top;\n",
              "    }\n",
              "\n",
              "    .dataframe thead th {\n",
              "        text-align: right;\n",
              "    }\n",
              "</style>\n",
              "<table border=\"1\" class=\"dataframe\">\n",
              "  <thead>\n",
              "    <tr style=\"text-align: right;\">\n",
              "      <th></th>\n",
              "      <th>id</th>\n",
              "      <th>tdate</th>\n",
              "      <th>tname</th>\n",
              "      <th>ttext</th>\n",
              "      <th>ttype</th>\n",
              "      <th>trep</th>\n",
              "      <th>trtw</th>\n",
              "      <th>tfav</th>\n",
              "      <th>tstcount</th>\n",
              "      <th>tfol</th>\n",
              "      <th>tfrien</th>\n",
              "      <th>listcount</th>\n",
              "    </tr>\n",
              "  </thead>\n",
              "  <tbody>\n",
              "    <tr>\n",
              "      <th>0</th>\n",
              "      <td>408906692374446080</td>\n",
              "      <td>1386325927</td>\n",
              "      <td>pleease_shut_up</td>\n",
              "      <td>@first_timee хоть я и школота, но поверь, у на...</td>\n",
              "      <td>1</td>\n",
              "      <td>0</td>\n",
              "      <td>0</td>\n",
              "      <td>0</td>\n",
              "      <td>7569</td>\n",
              "      <td>62</td>\n",
              "      <td>61</td>\n",
              "      <td>0</td>\n",
              "    </tr>\n",
              "    <tr>\n",
              "      <th>1</th>\n",
              "      <td>408906692693221377</td>\n",
              "      <td>1386325927</td>\n",
              "      <td>alinakirpicheva</td>\n",
              "      <td>Да, все-таки он немного похож на него. Но мой ...</td>\n",
              "      <td>1</td>\n",
              "      <td>0</td>\n",
              "      <td>0</td>\n",
              "      <td>0</td>\n",
              "      <td>11825</td>\n",
              "      <td>59</td>\n",
              "      <td>31</td>\n",
              "      <td>2</td>\n",
              "    </tr>\n",
              "    <tr>\n",
              "      <th>2</th>\n",
              "      <td>408906695083954177</td>\n",
              "      <td>1386325927</td>\n",
              "      <td>EvgeshaRe</td>\n",
              "      <td>RT @KatiaCheh: Ну ты идиотка) я испугалась за ...</td>\n",
              "      <td>1</td>\n",
              "      <td>0</td>\n",
              "      <td>1</td>\n",
              "      <td>0</td>\n",
              "      <td>1273</td>\n",
              "      <td>26</td>\n",
              "      <td>27</td>\n",
              "      <td>0</td>\n",
              "    </tr>\n",
              "    <tr>\n",
              "      <th>3</th>\n",
              "      <td>408906695356973056</td>\n",
              "      <td>1386325927</td>\n",
              "      <td>ikonnikova_21</td>\n",
              "      <td>RT @digger2912: \"Кто то в углу сидит и погибае...</td>\n",
              "      <td>1</td>\n",
              "      <td>0</td>\n",
              "      <td>1</td>\n",
              "      <td>0</td>\n",
              "      <td>1549</td>\n",
              "      <td>19</td>\n",
              "      <td>17</td>\n",
              "      <td>0</td>\n",
              "    </tr>\n",
              "    <tr>\n",
              "      <th>4</th>\n",
              "      <td>408906761416867842</td>\n",
              "      <td>1386325943</td>\n",
              "      <td>JumpyAlex</td>\n",
              "      <td>@irina_dyshkant Вот что значит страшилка :D\\nН...</td>\n",
              "      <td>1</td>\n",
              "      <td>0</td>\n",
              "      <td>0</td>\n",
              "      <td>0</td>\n",
              "      <td>597</td>\n",
              "      <td>16</td>\n",
              "      <td>23</td>\n",
              "      <td>1</td>\n",
              "    </tr>\n",
              "  </tbody>\n",
              "</table>\n",
              "</div>"
            ],
            "text/plain": [
              "                   id       tdate            tname  ... tfol  tfrien  listcount\n",
              "0  408906692374446080  1386325927  pleease_shut_up  ...   62      61          0\n",
              "1  408906692693221377  1386325927  alinakirpicheva  ...   59      31          2\n",
              "2  408906695083954177  1386325927        EvgeshaRe  ...   26      27          0\n",
              "3  408906695356973056  1386325927    ikonnikova_21  ...   19      17          0\n",
              "4  408906761416867842  1386325943        JumpyAlex  ...   16      23          1\n",
              "\n",
              "[5 rows x 12 columns]"
            ]
          },
          "metadata": {
            "tags": []
          },
          "execution_count": 7
        }
      ]
    },
    {
      "cell_type": "markdown",
      "metadata": {
        "id": "above-latest"
      },
      "source": [
        "Тренировочный корпус состоит из 114,911 положительных, 111,923 отрицательных записей.\n",
        "\n",
        "Удалим NA"
      ],
      "id": "above-latest"
    },
    {
      "cell_type": "code",
      "metadata": {
        "id": "xaVxm4G-yxAX"
      },
      "source": [
        "pos_text = positive_dataset['ttext'].dropna().values\n",
        "neg_text = negative_dataset['ttext'].dropna().values"
      ],
      "id": "xaVxm4G-yxAX",
      "execution_count": null,
      "outputs": []
    },
    {
      "cell_type": "code",
      "metadata": {
        "id": "optical-dividend"
      },
      "source": [
        "pos_text = regul(r' *http\\S* *', pos_text)\n",
        "pos_text = regul(r' *@\\S* ', pos_text)\n",
        "pos_text = regul(r'RT *', pos_text)\n",
        "pos_text = regul(r'&quot;', pos_text)\n",
        "pos_text = regul(r'\\n', pos_text)\n",
        "pos_text = regul(r'[.,!?#$%&0-9A-Za-z&\\\"\\']+', pos_text)\n",
        "#pos_text = regul(r\"[A-Za-z0-9!#$%&'()*+,./:;<=>?@[\\]^_`{|}~—\\\"\\-]+\",pos_text) #уберем знаки препинания"
      ],
      "id": "optical-dividend",
      "execution_count": null,
      "outputs": []
    },
    {
      "cell_type": "code",
      "metadata": {
        "id": "CdaiX0O05XpF"
      },
      "source": [
        "#отделим от слов смайлики и запишем их как один\n",
        "def split_smile(r,smile, t):\n",
        "  ans = []\n",
        "  for i in t:\n",
        "    ans.append(re.sub(r,smile, i))\n",
        "  return ans   "
      ],
      "id": "CdaiX0O05XpF",
      "execution_count": null,
      "outputs": []
    },
    {
      "cell_type": "code",
      "metadata": {
        "id": "RbSwKIiO9M2O"
      },
      "source": [
        "pos_text = split_smile(r'(\\w)\\)+', r'\\1 )', pos_text)"
      ],
      "id": "RbSwKIiO9M2O",
      "execution_count": null,
      "outputs": []
    },
    {
      "cell_type": "code",
      "metadata": {
        "id": "naughty-palace"
      },
      "source": [
        "neg_text = regul(r' *http\\S* *', neg_text)\n",
        "neg_text = regul(r' *@\\S* ', neg_text)\n",
        "neg_text = regul(r'RT *', neg_text)\n",
        "neg_text = regul(r'&quot;', neg_text)\n",
        "neg_text = regul(r'\\n', neg_text)\n",
        "\n",
        "neg_text = regul(r'[.,!?#$%&0-9A-Za-z&\\\"\\']+', neg_text)\n",
        "#neg_text = regul(r\"[A-Za-z0-9!#$%&'()*+,./:;<=>?@[\\]^_`{|}~—\\\"\\-]+\",neg_text) #уберем знаки препинания\n",
        "neg_text = split_smile(r'(\\w)\\(+', r'\\1 (', neg_text)"
      ],
      "id": "naughty-palace",
      "execution_count": null,
      "outputs": []
    },
    {
      "cell_type": "code",
      "metadata": {
        "id": "controlling-baptist"
      },
      "source": [
        "len_pos = len(pos_text)\n",
        "len_neg = len(neg_text)"
      ],
      "id": "controlling-baptist",
      "execution_count": null,
      "outputs": []
    },
    {
      "cell_type": "code",
      "metadata": {
        "colab": {
          "base_uri": "https://localhost:8080/"
        },
        "id": "broadband-extension",
        "outputId": "27a5a4d9-d6c1-43ef-8e04-ec25d8e710e9"
      },
      "source": [
        "twits = np.concatenate((pos_text, neg_text))\n",
        "twits"
      ],
      "id": "broadband-extension",
      "execution_count": null,
      "outputs": [
        {
          "output_type": "execute_result",
          "data": {
            "text/plain": [
              "array([' хоть я и школота  но поверь  у нас то же самое :  общество профилирующий предмет типа )',\n",
              "       'Да  все-таки он немного похож на него  Но мой мальчик все равно лучше: ',\n",
              "       ' Ну ты идиотка ) я испугалась за тебя ', ...,\n",
              "       'Вот и в школу  в говно это идти уже надо (',\n",
              "       ' Тауриэль  не грусти :( *обнял*',\n",
              "       'Такси везет меня на работу  Раздумываю приплатить  чтобы меня втащили на пятый этаж  Лифта то нет :('],\n",
              "      dtype='<U159')"
            ]
          },
          "metadata": {
            "tags": []
          },
          "execution_count": 14
        }
      ]
    },
    {
      "cell_type": "code",
      "metadata": {
        "colab": {
          "base_uri": "https://localhost:8080/"
        },
        "id": "confirmed-street",
        "outputId": "cf568678-60ef-48da-b998-53600fef0dbd"
      },
      "source": [
        "labels = [1] * len_pos + [0] * len_neg\n",
        "labels = np.array(labels)\n",
        "labels"
      ],
      "id": "confirmed-street",
      "execution_count": null,
      "outputs": [
        {
          "output_type": "execute_result",
          "data": {
            "text/plain": [
              "array([1, 1, 1, ..., 0, 0, 0])"
            ]
          },
          "metadata": {
            "tags": []
          },
          "execution_count": 15
        }
      ]
    },
    {
      "cell_type": "code",
      "metadata": {
        "id": "critical-funds"
      },
      "source": [
        "#twits = list(filter(None, twits))"
      ],
      "id": "critical-funds",
      "execution_count": null,
      "outputs": []
    },
    {
      "cell_type": "code",
      "metadata": {
        "id": "palestinian-flooring"
      },
      "source": [
        "symb_len = [len(i) for i in twits]\n",
        "word_len = [len(i.split()) for i in twits]"
      ],
      "id": "palestinian-flooring",
      "execution_count": null,
      "outputs": []
    },
    {
      "cell_type": "markdown",
      "metadata": {
        "id": "subsequent-constitutional"
      },
      "source": [
        "Построим среднее, медиану, стандартное отклонение, минимальное, максимальное значение."
      ],
      "id": "subsequent-constitutional"
    },
    {
      "cell_type": "code",
      "metadata": {
        "colab": {
          "base_uri": "https://localhost:8080/"
        },
        "id": "swedish-tonight",
        "outputId": "1804ae13-0c52-4f8b-9a4d-bc4e8cdd1c85"
      },
      "source": [
        "symb_mean = np.mean(symb_len)\n",
        "word_mean = np.mean(word_len)\n",
        "print(symb_mean, word_mean)"
      ],
      "id": "swedish-tonight",
      "execution_count": null,
      "outputs": [
        {
          "output_type": "stream",
          "text": [
            "68.23689129495578 11.997121242847193\n"
          ],
          "name": "stdout"
        }
      ]
    },
    {
      "cell_type": "code",
      "metadata": {
        "colab": {
          "base_uri": "https://localhost:8080/"
        },
        "id": "premium-transition",
        "outputId": "c65113ad-8063-4c0c-eb74-2afe15aa731c"
      },
      "source": [
        "symb_median = np.median(symb_len)\n",
        "word_median = np.median(word_len)\n",
        "print(symb_median, word_median)"
      ],
      "id": "premium-transition",
      "execution_count": null,
      "outputs": [
        {
          "output_type": "stream",
          "text": [
            "63.0 11.0\n"
          ],
          "name": "stdout"
        }
      ]
    },
    {
      "cell_type": "code",
      "metadata": {
        "colab": {
          "base_uri": "https://localhost:8080/"
        },
        "id": "certified-improvement",
        "outputId": "c2ba6f9f-cb7c-402d-9f26-85da3a0e4015"
      },
      "source": [
        "symb_std = np.std(symb_len)\n",
        "word_std = np.std(word_len)\n",
        "print(symb_std, word_std)"
      ],
      "id": "certified-improvement",
      "execution_count": null,
      "outputs": [
        {
          "output_type": "stream",
          "text": [
            "29.100786106000726 5.1585763374296425\n"
          ],
          "name": "stdout"
        }
      ]
    },
    {
      "cell_type": "code",
      "metadata": {
        "colab": {
          "base_uri": "https://localhost:8080/"
        },
        "id": "prospective-simpson",
        "outputId": "cc76f04c-114a-4e2d-92d0-5f6a87876f58"
      },
      "source": [
        "symb_min = np.min(symb_len)\n",
        "word_min = np.min(word_len)\n",
        "symb_max = np.max(symb_len)\n",
        "word_max = np.max(word_len)\n",
        "print(symb_min, word_min, symb_max, word_max)"
      ],
      "id": "prospective-simpson",
      "execution_count": null,
      "outputs": [
        {
          "output_type": "stream",
          "text": [
            "2 1 159 36\n"
          ],
          "name": "stdout"
        }
      ]
    },
    {
      "cell_type": "markdown",
      "metadata": {
        "id": "driving-portsmouth"
      },
      "source": [
        "Построим гистограммы"
      ],
      "id": "driving-portsmouth"
    },
    {
      "cell_type": "code",
      "metadata": {
        "colab": {
          "base_uri": "https://localhost:8080/",
          "height": 295
        },
        "id": "unique-target",
        "outputId": "ef722962-1963-4b02-dd2d-f47aae0cc4cf"
      },
      "source": [
        "create_hist(symb_len, np.arange(symb_min, symb_max, 5), 'Распределение количества символов в твите', 'количество символов', 'сколько таких элементов')"
      ],
      "id": "unique-target",
      "execution_count": null,
      "outputs": [
        {
          "output_type": "display_data",
          "data": {
            "image/png": "[encoded data removed]",
            "text/plain": [
              "<Figure size 432x288 with 1 Axes>"
            ]
          },
          "metadata": {
            "tags": [],
            "needs_background": "light"
          }
        }
      ]
    },
    {
      "cell_type": "code",
      "metadata": {
        "colab": {
          "base_uri": "https://localhost:8080/",
          "height": 295
        },
        "id": "subject-ceremony",
        "outputId": "f8ec2780-fdee-4235-bfbe-485f65cfb4d5"
      },
      "source": [
        "create_hist(word_len, np.arange(word_min, word_max, 1), 'Распределение количества слов в твите', 'количество слов', 'сколько таких элементов')"
      ],
      "id": "subject-ceremony",
      "execution_count": null,
      "outputs": [
        {
          "output_type": "display_data",
          "data": {
            "image/png": "[encoded data removed]",
            "text/plain": [
              "<Figure size 432x288 with 1 Axes>"
            ]
          },
          "metadata": {
            "tags": [],
            "needs_background": "light"
          }
        }
      ]
    },
    {
      "cell_type": "code",
      "metadata": {
        "colab": {
          "base_uri": "https://localhost:8080/",
          "height": 265
        },
        "id": "crazy-armenia",
        "outputId": "7d6aa9de-2861-4f63-d29f-84ab1d9b3cbe"
      },
      "source": [
        "create_boxplot(symb_len)"
      ],
      "id": "crazy-armenia",
      "execution_count": null,
      "outputs": [
        {
          "output_type": "display_data",
          "data": {
            "image/png": "[encoded data removed]",
            "text/plain": [
              "<Figure size 432x288 with 1 Axes>"
            ]
          },
          "metadata": {
            "tags": [],
            "needs_background": "light"
          }
        }
      ]
    },
    {
      "cell_type": "code",
      "metadata": {
        "colab": {
          "base_uri": "https://localhost:8080/",
          "height": 265
        },
        "id": "aware-match",
        "outputId": "4c5e6186-79ef-4260-905e-5febf8f17c19"
      },
      "source": [
        "create_boxplot(word_len)"
      ],
      "id": "aware-match",
      "execution_count": null,
      "outputs": [
        {
          "output_type": "display_data",
          "data": {
            "image/png": "[encoded data removed]",
            "text/plain": [
              "<Figure size 432x288 with 1 Axes>"
            ]
          },
          "metadata": {
            "tags": [],
            "needs_background": "light"
          }
        }
      ]
    },
    {
      "cell_type": "code",
      "metadata": {
        "colab": {
          "base_uri": "https://localhost:8080/",
          "height": 552
        },
        "id": "banner-cathedral",
        "outputId": "0dde56a2-de36-44a7-f7af-d19543f774da"
      },
      "source": [
        "data = [symb_len, word_len]\n",
        "fig = plt.figure(figsize =(10, 7))\n",
        "  \n",
        "# Creating axes instance\n",
        "ax = fig.add_axes([0, 0, 1, 1])\n",
        "  \n",
        "# Creating plot\n",
        "bp = ax.boxplot(data)\n",
        "  \n",
        "# show plot\n",
        "plt.show()"
      ],
      "id": "banner-cathedral",
      "execution_count": null,
      "outputs": [
        {
          "output_type": "display_data",
          "data": {
            "image/png": "[encoded data removed]",
            "text/plain": [
              "<Figure size 720x504 with 1 Axes>"
            ]
          },
          "metadata": {
            "tags": [],
            "needs_background": "light"
          }
        }
      ]
    },
    {
      "cell_type": "code",
      "metadata": {
        "colab": {
          "base_uri": "https://localhost:8080/"
        },
        "id": "central-initial",
        "outputId": "e370288e-9f8e-42fe-a63f-21917ff80f7f"
      },
      "source": [
        "get_ngrams(2, twits, worst=True)"
      ],
      "id": "central-initial",
      "execution_count": null,
      "outputs": [
        {
          "output_type": "stream",
          "text": [
            "Лучшие 10 2-грамм\n",
            "[(('у', 'меня'), 8268), (('я', 'не'), 4470), (('а', 'я'), 3705), (('и', 'не'), 3235), (('что', 'я'), 2862), (('не', 'могу'), 2804), (('у', 'нас'), 2318), (('не', 'знаю'), 1992), (('у', 'тебя'), 1601), (('и', 'я'), 1520)]\n",
            "Худшие 10 2-грамм\n",
            "[(('Лифта', 'то'), 1), (('этаж', 'Лифта'), 1), (('пятый', 'этаж'), 1), (('на', 'пятый'), 1), (('втащили', 'на'), 1), (('меня', 'втащили'), 1), (('приплатить', 'чтобы'), 1), (('Раздумываю', 'приплатить'), 1), (('работу', 'Раздумываю'), 1), (('Такси', 'везет'), 1)]\n"
          ],
          "name": "stdout"
        }
      ]
    },
    {
      "cell_type": "code",
      "metadata": {
        "id": "quantitative-jacket"
      },
      "source": [
        "# get_ngrams(3, twits, worst=True)"
      ],
      "id": "quantitative-jacket",
      "execution_count": null,
      "outputs": []
    },
    {
      "cell_type": "code",
      "metadata": {
        "id": "sound-crown",
        "colab": {
          "base_uri": "https://localhost:8080/"
        },
        "outputId": "8d53116b-7ff6-4241-dcae-ceef92d38aea"
      },
      "source": [
        "get_frequent_words(' '.join(twits), top=10)"
      ],
      "id": "sound-crown",
      "execution_count": null,
      "outputs": [
        {
          "output_type": "execute_result",
          "data": {
            "text/plain": [
              "[('не', 69370),\n",
              " (')', 65535),\n",
              " ('и', 55018),\n",
              " ('(', 54483),\n",
              " ('в', 52888),\n",
              " ('я', 52550),\n",
              " ('на', 35716),\n",
              " ('что', 31491),\n",
              " ('а', 26709),\n",
              " ('с', 25512)]"
            ]
          },
          "metadata": {
            "tags": []
          },
          "execution_count": 30
        }
      ]
    },
    {
      "cell_type": "code",
      "metadata": {
        "id": "relevant-effects"
      },
      "source": [
        "# twits_lem = get_lemmatize(' '.join(twits))"
      ],
      "id": "relevant-effects",
      "execution_count": null,
      "outputs": []
    },
    {
      "cell_type": "markdown",
      "metadata": {
        "id": "equivalent-restaurant"
      },
      "source": [
        "Определим части речи у слов и посмотрим распределение биграмм частей речи"
      ],
      "id": "equivalent-restaurant"
    },
    {
      "cell_type": "markdown",
      "metadata": {
        "id": "solid-strain"
      },
      "source": [
        "Available trained pipelines for Russian: ru_core_news_sm, ru_core_news_md, ru_core_news_lg\n",
        "\n",
        "https://spacy.io/models/ru"
      ],
      "id": "solid-strain"
    },
    {
      "cell_type": "code",
      "metadata": {
        "id": "polar-edwards"
      },
      "source": [
        "#!python -m spacy download ru_core_news_sm"
      ],
      "id": "polar-edwards",
      "execution_count": null,
      "outputs": []
    },
    {
      "cell_type": "code",
      "metadata": {
        "id": "worst-province"
      },
      "source": [
        "#!python -m spacy download ru_core_news_lg"
      ],
      "id": "worst-province",
      "execution_count": null,
      "outputs": []
    },
    {
      "cell_type": "code",
      "metadata": {
        "id": "consolidated-tooth"
      },
      "source": [
        "#get_freq_pos(twits, \"ru_core_news_lg\")# используем обученную модель\n",
        "# разбить на части и склеить потом"
      ],
      "id": "consolidated-tooth",
      "execution_count": null,
      "outputs": []
    },
    {
      "cell_type": "code",
      "metadata": {
        "id": "hazardous-shark"
      },
      "source": [
        "# ans_pos = get_pos(twits, \"ru_core_news_lg\")"
      ],
      "id": "hazardous-shark",
      "execution_count": null,
      "outputs": []
    },
    {
      "cell_type": "code",
      "metadata": {
        "id": "extreme-cutting"
      },
      "source": [
        "# get_ngrams(2, ans_pos, worst=True)"
      ],
      "id": "extreme-cutting",
      "execution_count": null,
      "outputs": []
    },
    {
      "cell_type": "markdown",
      "metadata": {
        "id": "substantial-phrase"
      },
      "source": [
        "прилагательное (ADJ)\n",
        "\n",
        "наречие (ADV)\n",
        "\n",
        "междометие (INTJ)\n",
        "\n",
        "существительное (NOUN)\n",
        "\n",
        "фразеологизм (PHRASE)\n",
        "\n",
        "предикатив (PRE)\n",
        "\n",
        "имя собственное (PROPN)\n",
        "\n",
        "глагол (VERB)\n",
        "\n",
        "вспомогательный глагол (AUX)\n",
        "\n",
        "союз сочинительный (CCONJ)\n",
        "\n",
        "детерминатив (DET)\n",
        "\n",
        "числительное (NUM)\n",
        "\n",
        "частица (PART)\n",
        "\n",
        "послелог (ADP)\n",
        "\n",
        "предлог (ADP)\n",
        "\n",
        "местоимение (PRON)\n",
        "\n",
        "союз подчинительный (SCONJ)\n",
        "\n",
        "пунктуация (PUNCT)\n",
        "\n",
        "символ (SYM)\n",
        "\n",
        "другое (X)"
      ],
      "id": "substantial-phrase"
    },
    {
      "cell_type": "markdown",
      "metadata": {
        "id": "micro-lloyd"
      },
      "source": [
        "# Issue 1: Training of the first sentiment model"
      ],
      "id": "micro-lloyd"
    },
    {
      "cell_type": "code",
      "metadata": {
        "id": "emotional-potato"
      },
      "source": [
        "import random\n",
        "from sklearn.model_selection import train_test_split"
      ],
      "id": "emotional-potato",
      "execution_count": null,
      "outputs": []
    },
    {
      "cell_type": "code",
      "metadata": {
        "id": "front-chamber"
      },
      "source": [
        "# data = list(zip(twits, labels))\n",
        "# random.shuffle(data)\n",
        "\n",
        "# X, y = zip(*data)"
      ],
      "id": "front-chamber",
      "execution_count": null,
      "outputs": []
    },
    {
      "cell_type": "code",
      "metadata": {
        "id": "acknowledged-saskatchewan"
      },
      "source": [
        "X_train, X_test, y_train, y_test = train_test_split(twits, labels, test_size=0.2, random_state=42)"
      ],
      "id": "acknowledged-saskatchewan",
      "execution_count": null,
      "outputs": []
    },
    {
      "cell_type": "code",
      "metadata": {
        "id": "ecological-planning"
      },
      "source": [
        "import gensim\n",
        "from gensim.models import Word2Vec"
      ],
      "id": "ecological-planning",
      "execution_count": null,
      "outputs": []
    },
    {
      "cell_type": "code",
      "metadata": {
        "colab": {
          "base_uri": "https://localhost:8080/"
        },
        "id": "NYux61l8ZbUn",
        "outputId": "4c992d56-32d1-4a37-ecd7-6a8b29fe82ef"
      },
      "source": [
        "X_train"
      ],
      "id": "NYux61l8ZbUn",
      "execution_count": null,
      "outputs": [
        {
          "output_type": "execute_result",
          "data": {
            "text/plain": [
              "array(['Немного выпьем  говорил он  ничего не будет  говорил он )',\n",
              "       'я по твоему общению и шуткам соскучилась  Че-то давно не виделись (',\n",
              "       ' ахахаахх как ты мою собаку уже не называл  ))', ...,\n",
              "       'дому чуть больше   лет а мне приходится вторую раковину менять ;(',\n",
              "       '  даже представить боюсь (',\n",
              "       'через   дней будет месяц как мы не общаемся  мм да уж как время быстро летит ('],\n",
              "      dtype='<U159')"
            ]
          },
          "metadata": {
            "tags": []
          },
          "execution_count": 35
        }
      ]
    },
    {
      "cell_type": "code",
      "metadata": {
        "id": "considerable-salmon"
      },
      "source": [
        "#X_train list; здесь токенизируем\n",
        "X_right = []\n",
        "for el in X_train:\n",
        "    X_right.append(el.strip().split())  "
      ],
      "id": "considerable-salmon",
      "execution_count": null,
      "outputs": []
    },
    {
      "cell_type": "code",
      "metadata": {
        "id": "precious-sweden"
      },
      "source": [
        "model_right = gensim.models.Word2Vec(X_right, min_count = 1, window = 10,  sg = 1)"
      ],
      "id": "precious-sweden",
      "execution_count": null,
      "outputs": []
    },
    {
      "cell_type": "code",
      "metadata": {
        "colab": {
          "base_uri": "https://localhost:8080/"
        },
        "id": "outdoor-tourist",
        "outputId": "f6b4bd3a-5155-4ade-bebb-6768aa870892"
      },
      "source": [
        "model_right.wv.most_similar('уроке', topn=10)"
      ],
      "id": "outdoor-tourist",
      "execution_count": null,
      "outputs": [
        {
          "output_type": "execute_result",
          "data": {
            "text/plain": [
              "[('физ-ре', 0.8956855535507202),\n",
              " ('уроках', 0.8883489370346069),\n",
              " ('перемене', 0.879915714263916),\n",
              " ('укр', 0.8773329257965088),\n",
              " ('контрольную', 0.8639079332351685),\n",
              " ('проходим', 0.8625271320343018),\n",
              " ('паре', 0.8616552948951721),\n",
              " ('самостоятельную', 0.860016942024231),\n",
              " ('танцах', 0.8580213785171509),\n",
              " ('Учительница', 0.8574640154838562)]"
            ]
          },
          "metadata": {
            "tags": []
          },
          "execution_count": 38
        }
      ]
    },
    {
      "cell_type": "code",
      "metadata": {
        "colab": {
          "base_uri": "https://localhost:8080/"
        },
        "id": "korean-fountain",
        "outputId": "99059e7f-216e-453d-f322-ef1c0524eecb"
      },
      "source": [
        "model_right.wv['улице']"
      ],
      "id": "korean-fountain",
      "execution_count": null,
      "outputs": [
        {
          "output_type": "execute_result",
          "data": {
            "text/plain": [
              "array([ 0.02659396, -0.21479213, -0.5838129 , -0.01427948,  0.3098289 ,\n",
              "       -0.09860443,  0.6683553 ,  0.17624868, -0.5699238 , -0.6850354 ,\n",
              "       -0.5846386 ,  0.7942575 , -0.34407356,  0.53469473,  0.14910698,\n",
              "        0.142934  ,  0.7119737 ,  0.01488933,  1.0393494 , -0.3290772 ,\n",
              "        0.44176653, -1.1502817 , -0.48028624,  0.01783479,  0.26309302,\n",
              "        0.561948  , -0.3439081 , -0.3458481 , -1.3591629 ,  0.61437047,\n",
              "        0.23388295,  0.8347557 ,  0.1749731 , -0.17671809,  1.0055851 ,\n",
              "        0.4035532 ,  0.12973857, -0.05185575,  0.14419444,  0.43023998,\n",
              "        0.17006554, -0.8265554 ,  0.02959737,  0.05288721,  0.32981366,\n",
              "       -0.19299507,  0.01130702,  0.7696313 ,  0.19468246,  0.3066525 ,\n",
              "        0.17131075,  0.36529404, -0.01019254, -0.03127773, -0.18771806,\n",
              "       -0.23403208, -0.1262413 , -0.62575716,  0.63603336,  0.05595901,\n",
              "       -0.0521203 ,  0.31383407,  0.9197134 ,  0.179193  , -0.15492418,\n",
              "        0.26048315,  0.04717547,  0.85867554,  0.26033524, -0.6152769 ,\n",
              "       -0.31809527,  0.5573252 ,  0.00360407, -0.03106987,  0.51055527,\n",
              "       -0.01610568, -0.21878506, -0.27598143, -0.8795505 ,  0.04489762,\n",
              "       -0.12604128, -0.2286956 ,  1.0287124 , -0.5408601 , -0.13363275,\n",
              "       -0.6031981 ,  0.4855824 , -0.3576208 ,  0.82941437, -0.03573673,\n",
              "        0.231012  , -0.00459144,  0.03243844,  0.46909586,  0.59160584,\n",
              "        0.57909584, -0.61251307,  0.44649374, -0.25825945, -0.05931631],\n",
              "      dtype=float32)"
            ]
          },
          "metadata": {
            "tags": []
          },
          "execution_count": 39
        }
      ]
    },
    {
      "cell_type": "code",
      "metadata": {
        "colab": {
          "base_uri": "https://localhost:8080/"
        },
        "id": "veterinary-financing",
        "outputId": "fbd52ea0-5189-4f28-d56d-be3c1571b70a"
      },
      "source": [
        "X_right[0]"
      ],
      "id": "veterinary-financing",
      "execution_count": null,
      "outputs": [
        {
          "output_type": "execute_result",
          "data": {
            "text/plain": [
              "['Немного',\n",
              " 'выпьем',\n",
              " 'говорил',\n",
              " 'он',\n",
              " 'ничего',\n",
              " 'не',\n",
              " 'будет',\n",
              " 'говорил',\n",
              " 'он',\n",
              " ')']"
            ]
          },
          "metadata": {
            "tags": []
          },
          "execution_count": 40
        }
      ]
    },
    {
      "cell_type": "code",
      "metadata": {
        "id": "hourly-journalist"
      },
      "source": [
        "# посчитаем среднее значение векторов, входящих в твит\n",
        "X_vec = []"
      ],
      "id": "hourly-journalist",
      "execution_count": null,
      "outputs": []
    },
    {
      "cell_type": "code",
      "metadata": {
        "id": "behavioral-sussex"
      },
      "source": [
        "for i in range(len(X_right)):\n",
        "    ans = 0\n",
        "    for j in range(len(X_right[i])):\n",
        "        ans += model_right.wv[X_right[i][j]]\n",
        "    X_vec.append(ans/len(X_right[i]))    "
      ],
      "id": "behavioral-sussex",
      "execution_count": null,
      "outputs": []
    },
    {
      "cell_type": "markdown",
      "metadata": {
        "id": "natural-metabolism"
      },
      "source": [
        "Рассмотрим XGBoost"
      ],
      "id": "natural-metabolism"
    },
    {
      "cell_type": "code",
      "metadata": {
        "id": "central-sweden"
      },
      "source": [
        "import xgboost"
      ],
      "id": "central-sweden",
      "execution_count": null,
      "outputs": []
    },
    {
      "cell_type": "code",
      "metadata": {
        "colab": {
          "base_uri": "https://localhost:8080/"
        },
        "id": "foreign-recruitment",
        "outputId": "03d1ce14-92e3-4ccf-a5a1-6966d318cc07"
      },
      "source": [
        "model = xgboost.XGBClassifier(n_estimators=200)\n",
        "model.fit(np.array(X_vec), y_train)"
      ],
      "id": "foreign-recruitment",
      "execution_count": null,
      "outputs": [
        {
          "output_type": "execute_result",
          "data": {
            "text/plain": [
              "XGBClassifier(base_score=0.5, booster='gbtree', colsample_bylevel=1,\n",
              "              colsample_bynode=1, colsample_bytree=1, gamma=0,\n",
              "              learning_rate=0.1, max_delta_step=0, max_depth=3,\n",
              "              min_child_weight=1, missing=None, n_estimators=200, n_jobs=1,\n",
              "              nthread=None, objective='binary:logistic', random_state=0,\n",
              "              reg_alpha=0, reg_lambda=1, scale_pos_weight=1, seed=None,\n",
              "              silent=None, subsample=1, verbosity=1)"
            ]
          },
          "metadata": {
            "tags": []
          },
          "execution_count": 44
        }
      ]
    },
    {
      "cell_type": "code",
      "metadata": {
        "id": "individual-decision"
      },
      "source": [
        "from sklearn.metrics import accuracy_score\n",
        "from sklearn.metrics import roc_auc_score\n",
        "from sklearn import metrics"
      ],
      "id": "individual-decision",
      "execution_count": null,
      "outputs": []
    },
    {
      "cell_type": "code",
      "metadata": {
        "id": "immune-papua"
      },
      "source": [
        "#X_test in list\n",
        "X_right_test = []\n",
        "for el in X_test:\n",
        "    X_right_test.append(el.strip().split())"
      ],
      "id": "immune-papua",
      "execution_count": null,
      "outputs": []
    },
    {
      "cell_type": "markdown",
      "metadata": {
        "id": "timely-series"
      },
      "source": [
        "Обучим модель w2v так же на тестовом датасете."
      ],
      "id": "timely-series"
    },
    {
      "cell_type": "code",
      "metadata": {
        "colab": {
          "base_uri": "https://localhost:8080/"
        },
        "id": "raised-catalyst",
        "outputId": "fb37bb4c-0c5b-45f6-ac05-6fa7c822d0dc"
      },
      "source": [
        "model_right.train(X_right_test, total_examples = len(X_right_test), epochs = 10)"
      ],
      "id": "raised-catalyst",
      "execution_count": null,
      "outputs": [
        {
          "output_type": "execute_result",
          "data": {
            "text/plain": [
              "(4206328, 5437340)"
            ]
          },
          "metadata": {
            "tags": []
          },
          "execution_count": 47
        }
      ]
    },
    {
      "cell_type": "code",
      "metadata": {
        "id": "assigned-being"
      },
      "source": [
        "model_right.build_vocab(X_right_test, update=True)"
      ],
      "id": "assigned-being",
      "execution_count": null,
      "outputs": []
    },
    {
      "cell_type": "code",
      "metadata": {
        "id": "accessible-deadline"
      },
      "source": [
        "X_vec_test = []"
      ],
      "id": "accessible-deadline",
      "execution_count": null,
      "outputs": []
    },
    {
      "cell_type": "code",
      "metadata": {
        "id": "flying-cooking"
      },
      "source": [
        "for i in range(len(X_right_test)):\n",
        "    ans = 0\n",
        "    for j in range(len(X_right_test[i])):\n",
        "        ans += model_right.wv[X_right_test[i][j]]\n",
        "    X_vec_test.append(ans/len(X_right_test[i])) "
      ],
      "id": "flying-cooking",
      "execution_count": null,
      "outputs": []
    },
    {
      "cell_type": "code",
      "metadata": {
        "colab": {
          "base_uri": "https://localhost:8080/"
        },
        "id": "subtle-burke",
        "outputId": "6cec5463-30f8-4e20-803a-ed15ec22709d"
      },
      "source": [
        "y_pred = model.predict(np.array(X_vec_test))\n",
        "accuracy = accuracy_score(y_test, y_pred)\n",
        "print(\"Accuracy: %.2f%%\" % (accuracy * 100.0))\n",
        "# 76.70% с /len(X_right_test[i]) с ! \n",
        "# 69.93% без /len(X_right_test[i])\n",
        "# 77.43% с /len(X_right_test[i]) и без !\n",
        "# 80.04%\n",
        "# 86.12%"
      ],
      "id": "subtle-burke",
      "execution_count": null,
      "outputs": [
        {
          "output_type": "stream",
          "text": [
            "Accuracy: 86.85%\n"
          ],
          "name": "stdout"
        }
      ]
    },
    {
      "cell_type": "code",
      "metadata": {
        "id": "TiJpIAznRVYT"
      },
      "source": [
        "#print(roc_auc_score(y_test,y_pred))"
      ],
      "id": "TiJpIAznRVYT",
      "execution_count": null,
      "outputs": []
    },
    {
      "cell_type": "code",
      "metadata": {
        "colab": {
          "base_uri": "https://localhost:8080/",
          "height": 296
        },
        "id": "5uaznVlrRvZI",
        "outputId": "6bf556ee-e491-4208-9c76-1d3071a840ee"
      },
      "source": [
        "y_score = model.predict_proba(X_vec_test)\n",
        "print(roc_auc_score(y_test, y_score[:, 1]))\n",
        "\n",
        "metrics.plot_roc_curve(model, X_vec_test, y_test)  \n",
        "plt.show()                               "
      ],
      "id": "5uaznVlrRvZI",
      "execution_count": null,
      "outputs": [
        {
          "output_type": "stream",
          "text": [
            "0.9491059840338895\n"
          ],
          "name": "stdout"
        },
        {
          "output_type": "display_data",
          "data": {
            "image/png": "[encoded data removed]",
            "text/plain": [
              "<Figure size 432x288 with 1 Axes>"
            ]
          },
          "metadata": {
            "tags": [],
            "needs_background": "light"
          }
        }
      ]
    },
    {
      "cell_type": "code",
      "metadata": {
        "id": "plastic-psychology"
      },
      "source": [
        "from sklearn.metrics import classification_report, confusion_matrix"
      ],
      "id": "plastic-psychology",
      "execution_count": null,
      "outputs": []
    },
    {
      "cell_type": "code",
      "metadata": {
        "colab": {
          "base_uri": "https://localhost:8080/"
        },
        "id": "quarterly-paraguay",
        "outputId": "592d81d8-3f58-4a89-869b-0b7b7c22ec45"
      },
      "source": [
        "#print(confusion_matrix(y_test,y_pred))\n",
        "print(classification_report(y_test,y_pred))"
      ],
      "id": "quarterly-paraguay",
      "execution_count": null,
      "outputs": [
        {
          "output_type": "stream",
          "text": [
            "              precision    recall  f1-score   support\n",
            "\n",
            "           0       0.84      0.91      0.87     22480\n",
            "           1       0.90      0.83      0.86     22887\n",
            "\n",
            "    accuracy                           0.87     45367\n",
            "   macro avg       0.87      0.87      0.87     45367\n",
            "weighted avg       0.87      0.87      0.87     45367\n",
            "\n"
          ],
          "name": "stdout"
        }
      ]
    },
    {
      "cell_type": "code",
      "metadata": {
        "colab": {
          "base_uri": "https://localhost:8080/"
        },
        "id": "serial-enemy",
        "outputId": "3279f646-96d1-4e36-cadb-43821868d8b2"
      },
      "source": [
        "confusion_matrix = pd.crosstab(y_test, y_pred, rownames=['Actual'], colnames=['Predicted'])\n",
        "print(confusion_matrix)"
      ],
      "id": "serial-enemy",
      "execution_count": null,
      "outputs": [
        {
          "output_type": "stream",
          "text": [
            "Predicted      0      1\n",
            "Actual                 \n",
            "0          20478   2002\n",
            "1           3964  18923\n"
          ],
          "name": "stdout"
        }
      ]
    },
    {
      "cell_type": "code",
      "metadata": {
        "id": "relevant-billion"
      },
      "source": [
        "import seaborn as sn"
      ],
      "id": "relevant-billion",
      "execution_count": null,
      "outputs": []
    },
    {
      "cell_type": "code",
      "metadata": {
        "colab": {
          "base_uri": "https://localhost:8080/",
          "height": 279
        },
        "id": "pointed-mumbai",
        "outputId": "936d61ed-74d9-4ac0-e4b7-3c8343b9d0f2"
      },
      "source": [
        "sn.heatmap(confusion_matrix, annot=True)\n",
        "plt.show()"
      ],
      "id": "pointed-mumbai",
      "execution_count": null,
      "outputs": [
        {
          "output_type": "display_data",
          "data": {
            "image/png": "[encoded data removed]",
            "text/plain": [
              "<Figure size 432x288 with 2 Axes>"
            ]
          },
          "metadata": {
            "tags": [],
            "needs_background": "light"
          }
        }
      ]
    },
    {
      "cell_type": "markdown",
      "metadata": {
        "id": "objective-nirvana"
      },
      "source": [
        "Посмотрим на LIGHTGBM.\n"
      ],
      "id": "objective-nirvana"
    },
    {
      "cell_type": "code",
      "metadata": {
        "id": "established-directive"
      },
      "source": [
        "import lightgbm as lgb"
      ],
      "id": "established-directive",
      "execution_count": null,
      "outputs": []
    },
    {
      "cell_type": "code",
      "metadata": {
        "colab": {
          "base_uri": "https://localhost:8080/"
        },
        "id": "authorized-fault",
        "outputId": "ffe43788-9bac-423e-f10a-2be95a9ff397"
      },
      "source": [
        "clf = lgb.LGBMClassifier(learning_rate=0.1)\n",
        "clf.fit(X_vec, y_train)"
      ],
      "id": "authorized-fault",
      "execution_count": null,
      "outputs": [
        {
          "output_type": "execute_result",
          "data": {
            "text/plain": [
              "LGBMClassifier(boosting_type='gbdt', class_weight=None, colsample_bytree=1.0,\n",
              "               importance_type='split', learning_rate=0.1, max_depth=-1,\n",
              "               min_child_samples=20, min_child_weight=0.001, min_split_gain=0.0,\n",
              "               n_estimators=100, n_jobs=-1, num_leaves=31, objective=None,\n",
              "               random_state=None, reg_alpha=0.0, reg_lambda=0.0, silent=True,\n",
              "               subsample=1.0, subsample_for_bin=200000, subsample_freq=0)"
            ]
          },
          "metadata": {
            "tags": []
          },
          "execution_count": 59
        }
      ]
    },
    {
      "cell_type": "code",
      "metadata": {
        "id": "spanish-garlic"
      },
      "source": [
        "y_pred=clf.predict(X_vec_test)"
      ],
      "id": "spanish-garlic",
      "execution_count": null,
      "outputs": []
    },
    {
      "cell_type": "code",
      "metadata": {
        "colab": {
          "base_uri": "https://localhost:8080/"
        },
        "id": "noticed-proof",
        "outputId": "952d8205-57d8-44f4-dc38-df32b6f5663d"
      },
      "source": [
        "from sklearn.metrics import accuracy_score\n",
        "accuracy=accuracy_score(y_pred, y_test)\n",
        "print('LightGBM Model accuracy score: {0:0.4f}'.format(accuracy_score(y_test, y_pred)))\n",
        "# 0.7822\n",
        "# 0.7708\n",
        "# 0.8611"
      ],
      "id": "noticed-proof",
      "execution_count": null,
      "outputs": [
        {
          "output_type": "stream",
          "text": [
            "LightGBM Model accuracy score: 0.8702\n"
          ],
          "name": "stdout"
        }
      ]
    },
    {
      "cell_type": "code",
      "metadata": {
        "colab": {
          "base_uri": "https://localhost:8080/"
        },
        "id": "contrary-fifty",
        "outputId": "6279ca4e-9c33-41d8-aab0-66d80a4a3704"
      },
      "source": [
        "from sklearn.metrics import confusion_matrix\n",
        "cm = confusion_matrix(y_test, y_pred)\n",
        "print('Confusion matrix\\n\\n', cm)\n",
        "print('\\nTrue Positives(TP) = ', cm[0,0])\n",
        "print('\\nTrue Negatives(TN) = ', cm[1,1])\n",
        "print('\\nFalse Positives(FP) = ', cm[0,1])\n",
        "print('\\nFalse Negatives(FN) = ', cm[1,0])"
      ],
      "id": "contrary-fifty",
      "execution_count": null,
      "outputs": [
        {
          "output_type": "stream",
          "text": [
            "Confusion matrix\n",
            "\n",
            " [[20260  2220]\n",
            " [ 3670 19217]]\n",
            "\n",
            "True Positives(TP) =  20260\n",
            "\n",
            "True Negatives(TN) =  19217\n",
            "\n",
            "False Positives(FP) =  2220\n",
            "\n",
            "False Negatives(FN) =  3670\n"
          ],
          "name": "stdout"
        }
      ]
    },
    {
      "cell_type": "code",
      "metadata": {
        "colab": {
          "base_uri": "https://localhost:8080/"
        },
        "id": "rocky-tenant",
        "outputId": "4bf019de-e5c6-4a23-cda4-c55f6975d8db"
      },
      "source": [
        "print(classification_report(y_test, y_pred))"
      ],
      "id": "rocky-tenant",
      "execution_count": null,
      "outputs": [
        {
          "output_type": "stream",
          "text": [
            "              precision    recall  f1-score   support\n",
            "\n",
            "           0       0.85      0.90      0.87     22480\n",
            "           1       0.90      0.84      0.87     22887\n",
            "\n",
            "    accuracy                           0.87     45367\n",
            "   macro avg       0.87      0.87      0.87     45367\n",
            "weighted avg       0.87      0.87      0.87     45367\n",
            "\n"
          ],
          "name": "stdout"
        }
      ]
    },
    {
      "cell_type": "code",
      "metadata": {
        "colab": {
          "base_uri": "https://localhost:8080/",
          "height": 296
        },
        "id": "412PD_BoS1kr",
        "outputId": "bfbb3b7a-91d6-4960-d6d3-dd84901ec328"
      },
      "source": [
        "y_score = clf.predict_proba(X_vec_test)\n",
        "print(roc_auc_score(y_test, y_score[:, 1]))\n",
        "\n",
        "metrics.plot_roc_curve(clf, X_vec_test, y_test)  \n",
        "plt.show()  "
      ],
      "id": "412PD_BoS1kr",
      "execution_count": null,
      "outputs": [
        {
          "output_type": "stream",
          "text": [
            "0.9484174268613847\n"
          ],
          "name": "stdout"
        },
        {
          "output_type": "display_data",
          "data": {
            "image/png": "[encoded data removed]",
            "text/plain": [
              "<Figure size 432x288 with 1 Axes>"
            ]
          },
          "metadata": {
            "tags": [],
            "needs_background": "light"
          }
        }
      ]
    },
    {
      "cell_type": "markdown",
      "metadata": {
        "id": "jewish-parish"
      },
      "source": [
        "https://www.kaggle.com/prashant111/lightgbm-classifier-in-python"
      ],
      "id": "jewish-parish"
    },
    {
      "cell_type": "markdown",
      "metadata": {
        "id": "dimensional-pound"
      },
      "source": [
        "Рассмотрим модель svm. Тут очень долго все работает."
      ],
      "id": "dimensional-pound"
    },
    {
      "cell_type": "code",
      "metadata": {
        "id": "featured-devon"
      },
      "source": [
        "from sklearn import svm"
      ],
      "id": "featured-devon",
      "execution_count": null,
      "outputs": []
    },
    {
      "cell_type": "code",
      "metadata": {
        "colab": {
          "background_save": true
        },
        "id": "stretch-bible",
        "outputId": "3a11f14d-2288-48b9-e6e3-228c52712750"
      },
      "source": [
        "# svclassifier = svm.SVC(kernel='linear')\n",
        "# svclassifier.fit(X_vec, y_train)"
      ],
      "id": "stretch-bible",
      "execution_count": null,
      "outputs": [
        {
          "output_type": "execute_result",
          "data": {
            "text/plain": [
              "SVC(C=1.0, break_ties=False, cache_size=200, class_weight=None, coef0=0.0,\n",
              "    decision_function_shape='ovr', degree=3, gamma='scale', kernel='linear',\n",
              "    max_iter=-1, probability=False, random_state=None, shrinking=True,\n",
              "    tol=0.001, verbose=False)"
            ]
          },
          "metadata": {
            "tags": []
          },
          "execution_count": 0
        }
      ]
    },
    {
      "cell_type": "code",
      "metadata": {
        "id": "religious-vegetable"
      },
      "source": [
        "# y_pred = svclassifier.predict(X_test)"
      ],
      "id": "religious-vegetable",
      "execution_count": null,
      "outputs": []
    },
    {
      "cell_type": "code",
      "metadata": {
        "id": "NchgmN2XFAsV"
      },
      "source": [
        "# accuracy=accuracy_score(y_pred, y_test)\n",
        "# print('SVM Model accuracy score: {0:0.4f}'.format(accuracy_score(y_test, y_pred)))"
      ],
      "id": "NchgmN2XFAsV",
      "execution_count": null,
      "outputs": []
    },
    {
      "cell_type": "code",
      "metadata": {
        "id": "rising-photography"
      },
      "source": [
        "# print(confusion_matrix(y_test,y_pred))\n",
        "# print(classification_report(y_test,y_pred))"
      ],
      "id": "rising-photography",
      "execution_count": null,
      "outputs": []
    },
    {
      "cell_type": "code",
      "metadata": {
        "id": "broadband-breeding"
      },
      "source": [
        "#model.train([['potoatoes', 'and', 'farmers']], total_examples=model.corpus_count, epochs=model.epochs)\n",
        "#model.build_vocab([['potoatoes', 'and', 'farmers']], update=True)"
      ],
      "id": "broadband-breeding",
      "execution_count": null,
      "outputs": []
    },
    {
      "cell_type": "code",
      "metadata": {
        "id": "sunrise-whale"
      },
      "source": [
        "print(confusion_matrix(y_test,y_pred))"
      ],
      "id": "sunrise-whale",
      "execution_count": null,
      "outputs": []
    },
    {
      "cell_type": "code",
      "metadata": {
        "id": "wLukJlRMjBH8"
      },
      "source": [
        "# !wget https://developer.nvidia.com/compute/cuda/9.0/Prod/local_installers/cuda-repo-ubuntu1704-9-0-local_9.0.176-1_amd64-deb\n",
        "\n",
        "# !ls  ## Check if required cuda 9.0 amd64-deb file is downloaded\n",
        "# !dpkg -i cuda-repo-ubuntu1704-9-0-local_9.0.176-1_amd64-deb\n",
        "# !ls /var/cuda-repo-9-0-local | grep .pub\n",
        "# !apt-key add /var/cuda-repo-9-0-local/7fa2af80.pub\n",
        "# !apt-get update\n",
        "# !sudo apt-get install cuda-9.0"
      ],
      "id": "wLukJlRMjBH8",
      "execution_count": null,
      "outputs": []
    },
    {
      "cell_type": "code",
      "metadata": {
        "id": "bIA2hD1HlT1c"
      },
      "source": [
        "#from thundersvm import SVC"
      ],
      "id": "bIA2hD1HlT1c",
      "execution_count": null,
      "outputs": []
    },
    {
      "cell_type": "code",
      "metadata": {
        "id": "Zd_DUBc0jE1D"
      },
      "source": [
        "# clf = SVC()\n",
        "# clf.fit(X_vec, y_train)"
      ],
      "id": "Zd_DUBc0jE1D",
      "execution_count": null,
      "outputs": []
    },
    {
      "cell_type": "code",
      "metadata": {
        "id": "lUx7j9vnn9s8"
      },
      "source": [
        "# y_pred = clf.predict(X_vec_test)"
      ],
      "id": "lUx7j9vnn9s8",
      "execution_count": null,
      "outputs": []
    },
    {
      "cell_type": "markdown",
      "metadata": {
        "id": "heated-comparison"
      },
      "source": [
        "w2v в картинках: https://habr.com/ru/post/446530/"
      ],
      "id": "heated-comparison"
    },
    {
      "cell_type": "code",
      "metadata": {
        "id": "vLmFZhwSFqGK"
      },
      "source": [
        "#ПОПРОБУЕМ ЕЩЕ RANDOM FOREST"
      ],
      "id": "vLmFZhwSFqGK",
      "execution_count": null,
      "outputs": []
    },
    {
      "cell_type": "code",
      "metadata": {
        "id": "pUMSBciGFw7J"
      },
      "source": [
        "from sklearn.ensemble import RandomForestClassifier"
      ],
      "id": "pUMSBciGFw7J",
      "execution_count": null,
      "outputs": []
    },
    {
      "cell_type": "code",
      "metadata": {
        "colab": {
          "base_uri": "https://localhost:8080/"
        },
        "id": "bkX4u1prF7hC",
        "outputId": "dc9390f4-9dec-4ccd-bd6b-a5848a978643"
      },
      "source": [
        "clf = RandomForestClassifier(max_depth=2, random_state=42, n_estimators = 200)\n",
        "clf.fit(X_vec, y_train)"
      ],
      "id": "bkX4u1prF7hC",
      "execution_count": null,
      "outputs": [
        {
          "output_type": "execute_result",
          "data": {
            "text/plain": [
              "RandomForestClassifier(bootstrap=True, ccp_alpha=0.0, class_weight=None,\n",
              "                       criterion='gini', max_depth=2, max_features='auto',\n",
              "                       max_leaf_nodes=None, max_samples=None,\n",
              "                       min_impurity_decrease=0.0, min_impurity_split=None,\n",
              "                       min_samples_leaf=1, min_samples_split=2,\n",
              "                       min_weight_fraction_leaf=0.0, n_estimators=200,\n",
              "                       n_jobs=None, oob_score=False, random_state=42, verbose=0,\n",
              "                       warm_start=False)"
            ]
          },
          "metadata": {
            "tags": []
          },
          "execution_count": 66
        }
      ]
    },
    {
      "cell_type": "code",
      "metadata": {
        "id": "KuHEmNN9GAfL"
      },
      "source": [
        "y_pred = clf.predict(X_vec_test)"
      ],
      "id": "KuHEmNN9GAfL",
      "execution_count": null,
      "outputs": []
    },
    {
      "cell_type": "code",
      "metadata": {
        "colab": {
          "base_uri": "https://localhost:8080/"
        },
        "id": "HNPIW_cnGF4k",
        "outputId": "edd50446-a8d5-4fd4-cb04-b1ea369e386a"
      },
      "source": [
        "accuracy=accuracy_score(y_pred, y_test)\n",
        "print('Random forest Model accuracy score: {0:0.4f}'.format(accuracy_score(y_test, y_pred)))"
      ],
      "id": "HNPIW_cnGF4k",
      "execution_count": null,
      "outputs": [
        {
          "output_type": "stream",
          "text": [
            "Random forest Model accuracy score: 0.7799\n"
          ],
          "name": "stdout"
        }
      ]
    },
    {
      "cell_type": "code",
      "metadata": {
        "id": "Zz5e73wuaT26"
      },
      "source": [
        "#Напишем нейронную сеть"
      ],
      "id": "Zz5e73wuaT26",
      "execution_count": null,
      "outputs": []
    },
    {
      "cell_type": "code",
      "metadata": {
        "id": "oasa7IJbajkl"
      },
      "source": [
        "import torch\n",
        "import torchvision\n",
        "from torchvision import transforms"
      ],
      "id": "oasa7IJbajkl",
      "execution_count": null,
      "outputs": []
    },
    {
      "cell_type": "code",
      "metadata": {
        "id": "Dh9UzlA9c_dk"
      },
      "source": [
        "import torch.nn as nn\n",
        "import torch.nn.functional as F"
      ],
      "id": "Dh9UzlA9c_dk",
      "execution_count": null,
      "outputs": []
    },
    {
      "cell_type": "code",
      "metadata": {
        "colab": {
          "base_uri": "https://localhost:8080/"
        },
        "id": "-yi2b9GebL32",
        "outputId": "6052a48b-25db-4e85-dd17-4fc5609b9b5a"
      },
      "source": [
        "class Net(nn.Module):\n",
        "    def __init__(self):\n",
        "        super().__init__()\n",
        "        self.fc1 = nn.Linear(100, 128)\n",
        "        self.fc2 = nn.Linear(128, 64)\n",
        "        self.fc3 = nn.Linear(64, 32)\n",
        "        self.fc4 = nn.Linear(32, 2)\n",
        "\n",
        "    def forward(self, x):\n",
        "        x = F.relu(self.fc1(x))\n",
        "        x = F.relu(self.fc2(x))\n",
        "        x = F.relu(self.fc3(x))\n",
        "        x = self.fc4(x)\n",
        "        return torch.sigmoid(x)\n",
        "\n",
        "net = Net()\n",
        "print(net)"
      ],
      "id": "-yi2b9GebL32",
      "execution_count": null,
      "outputs": [
        {
          "output_type": "stream",
          "text": [
            "Net(\n",
            "  (fc1): Linear(in_features=100, out_features=128, bias=True)\n",
            "  (fc2): Linear(in_features=128, out_features=64, bias=True)\n",
            "  (fc3): Linear(in_features=64, out_features=32, bias=True)\n",
            "  (fc4): Linear(in_features=32, out_features=2, bias=True)\n",
            ")\n"
          ],
          "name": "stdout"
        }
      ]
    },
    {
      "cell_type": "code",
      "metadata": {
        "id": "0_GFvX2GxG0a"
      },
      "source": [
        "y_train_new = [np.eye(2)[i] for i in y_train]"
      ],
      "id": "0_GFvX2GxG0a",
      "execution_count": null,
      "outputs": []
    },
    {
      "cell_type": "code",
      "metadata": {
        "id": "RJDgOxRjzqEi"
      },
      "source": [
        "y_test_new = [np.eye(2)[i] for i in y_test]"
      ],
      "id": "RJDgOxRjzqEi",
      "execution_count": null,
      "outputs": []
    },
    {
      "cell_type": "code",
      "metadata": {
        "id": "hvpfb_a9d9P5"
      },
      "source": [
        "X_train_net = torch.Tensor(X_vec)\n",
        "y_train_net = torch.Tensor(y_train_new)"
      ],
      "id": "hvpfb_a9d9P5",
      "execution_count": null,
      "outputs": []
    },
    {
      "cell_type": "code",
      "metadata": {
        "colab": {
          "base_uri": "https://localhost:8080/"
        },
        "id": "dDdUqjo8eB9L",
        "outputId": "6c334591-6bc5-4d84-ff9e-888a57d83b74"
      },
      "source": [
        "y_train_net"
      ],
      "id": "dDdUqjo8eB9L",
      "execution_count": null,
      "outputs": [
        {
          "output_type": "execute_result",
          "data": {
            "text/plain": [
              "tensor([[0., 1.],\n",
              "        [1., 0.],\n",
              "        [0., 1.],\n",
              "        ...,\n",
              "        [1., 0.],\n",
              "        [1., 0.],\n",
              "        [1., 0.]])"
            ]
          },
          "metadata": {
            "tags": []
          },
          "execution_count": 76
        }
      ]
    },
    {
      "cell_type": "code",
      "metadata": {
        "colab": {
          "base_uri": "https://localhost:8080/"
        },
        "id": "k9AyOUXXfWtC",
        "outputId": "0a00369f-1954-430e-d366-7f893ffdf627"
      },
      "source": [
        "net.forward(X_train_net)"
      ],
      "id": "k9AyOUXXfWtC",
      "execution_count": null,
      "outputs": [
        {
          "output_type": "execute_result",
          "data": {
            "text/plain": [
              "tensor([[0.5213, 0.4908],\n",
              "        [0.5201, 0.4920],\n",
              "        [0.5210, 0.4900],\n",
              "        ...,\n",
              "        [0.5205, 0.4908],\n",
              "        [0.5193, 0.4901],\n",
              "        [0.5203, 0.4920]], grad_fn=<SigmoidBackward>)"
            ]
          },
          "metadata": {
            "tags": []
          },
          "execution_count": 77
        }
      ]
    },
    {
      "cell_type": "code",
      "metadata": {
        "id": "KjoSCCgJeJrY"
      },
      "source": [
        "# trainset = torch.utils.data.DataLoader(X_vec, batch_size=10, shuffle=True)\n",
        "# testset = torch.utils.data.DataLoader(X_vec_test, batch_size=10, shuffle=False)"
      ],
      "id": "KjoSCCgJeJrY",
      "execution_count": null,
      "outputs": []
    },
    {
      "cell_type": "code",
      "metadata": {
        "id": "WPFeiBPKe1Lt"
      },
      "source": [
        "import torch.optim as optim\n",
        "from tqdm import tqdm\n",
        "\n",
        "optimizer = optim.Adam(net.parameters(), lr=0.001)\n",
        "loss_function = nn.MSELoss()"
      ],
      "id": "WPFeiBPKe1Lt",
      "execution_count": null,
      "outputs": []
    },
    {
      "cell_type": "code",
      "metadata": {
        "colab": {
          "base_uri": "https://localhost:8080/"
        },
        "id": "42A3ZJSVe3Qz",
        "outputId": "13c0d8e2-a0fa-4524-c40d-a2fd32aa31a9"
      },
      "source": [
        "BATCH_SIZE = 128\n",
        "EPOCHS = 30\n",
        "\n",
        "for epoch in range(EPOCHS):\n",
        "     \n",
        "    # random_index = random.sample(range(len(X_train_net)), len(X_train_net))\n",
        "    random_index = np.random.permutation(len(X_train_net))\n",
        "    X_train_net = X_train_net[random_index]\n",
        "    y_train_net = y_train_net[random_index]\n",
        "\n",
        "    for i in tqdm(range(0, len(X_train_net), BATCH_SIZE)): \n",
        "\n",
        "        batch_X = X_train_net[i:i+BATCH_SIZE]\n",
        "        batch_y = y_train_net[i:i+BATCH_SIZE]\n",
        "\n",
        "        net.zero_grad()\n",
        "\n",
        "        outputs = net(batch_X)\n",
        "        loss = loss_function(outputs, batch_y)\n",
        "        loss.backward()\n",
        "        optimizer.step()    \n",
        "\n",
        "    print(f\"Epoch: {epoch}. Loss: {loss}\")"
      ],
      "id": "42A3ZJSVe3Qz",
      "execution_count": null,
      "outputs": [
        {
          "output_type": "stream",
          "text": [
            "100%|██████████| 1418/1418 [00:02<00:00, 538.60it/s]\n",
            "  4%|▍         | 59/1418 [00:00<00:02, 582.10it/s]"
          ],
          "name": "stderr"
        },
        {
          "output_type": "stream",
          "text": [
            "Epoch: 0. Loss: 0.058864776045084\n"
          ],
          "name": "stdout"
        },
        {
          "output_type": "stream",
          "text": [
            "100%|██████████| 1418/1418 [00:02<00:00, 528.86it/s]\n",
            "  4%|▍         | 56/1418 [00:00<00:02, 559.65it/s]"
          ],
          "name": "stderr"
        },
        {
          "output_type": "stream",
          "text": [
            "Epoch: 1. Loss: 0.04241866618394852\n"
          ],
          "name": "stdout"
        },
        {
          "output_type": "stream",
          "text": [
            "100%|██████████| 1418/1418 [00:02<00:00, 546.24it/s]\n",
            "  4%|▎         | 53/1418 [00:00<00:02, 528.86it/s]"
          ],
          "name": "stderr"
        },
        {
          "output_type": "stream",
          "text": [
            "Epoch: 2. Loss: 0.04085514694452286\n"
          ],
          "name": "stdout"
        },
        {
          "output_type": "stream",
          "text": [
            "100%|██████████| 1418/1418 [00:02<00:00, 529.42it/s]\n",
            "  4%|▍         | 55/1418 [00:00<00:02, 547.27it/s]"
          ],
          "name": "stderr"
        },
        {
          "output_type": "stream",
          "text": [
            "Epoch: 3. Loss: 0.04722614213824272\n"
          ],
          "name": "stdout"
        },
        {
          "output_type": "stream",
          "text": [
            "100%|██████████| 1418/1418 [00:02<00:00, 535.03it/s]\n",
            "  4%|▍         | 54/1418 [00:00<00:02, 534.50it/s]"
          ],
          "name": "stderr"
        },
        {
          "output_type": "stream",
          "text": [
            "Epoch: 4. Loss: 0.05678291618824005\n"
          ],
          "name": "stdout"
        },
        {
          "output_type": "stream",
          "text": [
            "100%|██████████| 1418/1418 [00:02<00:00, 520.97it/s]\n",
            "  4%|▎         | 53/1418 [00:00<00:02, 525.89it/s]"
          ],
          "name": "stderr"
        },
        {
          "output_type": "stream",
          "text": [
            "Epoch: 5. Loss: 0.0404091440141201\n"
          ],
          "name": "stdout"
        },
        {
          "output_type": "stream",
          "text": [
            "100%|██████████| 1418/1418 [00:02<00:00, 529.98it/s]\n",
            "  4%|▎         | 50/1418 [00:00<00:02, 494.44it/s]"
          ],
          "name": "stderr"
        },
        {
          "output_type": "stream",
          "text": [
            "Epoch: 6. Loss: 0.0591270737349987\n"
          ],
          "name": "stdout"
        },
        {
          "output_type": "stream",
          "text": [
            "100%|██████████| 1418/1418 [00:02<00:00, 519.15it/s]\n",
            "  4%|▍         | 55/1418 [00:00<00:02, 544.44it/s]"
          ],
          "name": "stderr"
        },
        {
          "output_type": "stream",
          "text": [
            "Epoch: 7. Loss: 0.02330845780670643\n"
          ],
          "name": "stdout"
        },
        {
          "output_type": "stream",
          "text": [
            "100%|██████████| 1418/1418 [00:02<00:00, 518.75it/s]\n",
            "  4%|▍         | 54/1418 [00:00<00:02, 539.64it/s]"
          ],
          "name": "stderr"
        },
        {
          "output_type": "stream",
          "text": [
            "Epoch: 8. Loss: 0.05585000663995743\n"
          ],
          "name": "stdout"
        },
        {
          "output_type": "stream",
          "text": [
            "100%|██████████| 1418/1418 [00:02<00:00, 515.06it/s]\n",
            "  3%|▎         | 47/1418 [00:00<00:02, 469.21it/s]"
          ],
          "name": "stderr"
        },
        {
          "output_type": "stream",
          "text": [
            "Epoch: 9. Loss: 0.042354173958301544\n"
          ],
          "name": "stdout"
        },
        {
          "output_type": "stream",
          "text": [
            "100%|██████████| 1418/1418 [00:02<00:00, 502.37it/s]\n",
            "  4%|▍         | 54/1418 [00:00<00:02, 534.76it/s]"
          ],
          "name": "stderr"
        },
        {
          "output_type": "stream",
          "text": [
            "Epoch: 10. Loss: 0.06782840937376022\n"
          ],
          "name": "stdout"
        },
        {
          "output_type": "stream",
          "text": [
            "100%|██████████| 1418/1418 [00:02<00:00, 500.48it/s]\n",
            "  4%|▍         | 54/1418 [00:00<00:02, 539.60it/s]"
          ],
          "name": "stderr"
        },
        {
          "output_type": "stream",
          "text": [
            "Epoch: 11. Loss: 0.03428070619702339\n"
          ],
          "name": "stdout"
        },
        {
          "output_type": "stream",
          "text": [
            "100%|██████████| 1418/1418 [00:02<00:00, 495.49it/s]\n",
            "  4%|▎         | 53/1418 [00:00<00:02, 525.79it/s]"
          ],
          "name": "stderr"
        },
        {
          "output_type": "stream",
          "text": [
            "Epoch: 12. Loss: 0.01807447336614132\n"
          ],
          "name": "stdout"
        },
        {
          "output_type": "stream",
          "text": [
            "100%|██████████| 1418/1418 [00:02<00:00, 498.34it/s]\n",
            "  4%|▍         | 55/1418 [00:00<00:02, 546.70it/s]"
          ],
          "name": "stderr"
        },
        {
          "output_type": "stream",
          "text": [
            "Epoch: 13. Loss: 0.043368395417928696\n"
          ],
          "name": "stdout"
        },
        {
          "output_type": "stream",
          "text": [
            "100%|██████████| 1418/1418 [00:02<00:00, 498.22it/s]\n",
            "  4%|▎         | 50/1418 [00:00<00:02, 492.20it/s]"
          ],
          "name": "stderr"
        },
        {
          "output_type": "stream",
          "text": [
            "Epoch: 14. Loss: 0.01821487955749035\n"
          ],
          "name": "stdout"
        },
        {
          "output_type": "stream",
          "text": [
            "100%|██████████| 1418/1418 [00:02<00:00, 498.71it/s]\n",
            "  4%|▎         | 51/1418 [00:00<00:02, 502.75it/s]"
          ],
          "name": "stderr"
        },
        {
          "output_type": "stream",
          "text": [
            "Epoch: 15. Loss: 0.025613391771912575\n"
          ],
          "name": "stdout"
        },
        {
          "output_type": "stream",
          "text": [
            "100%|██████████| 1418/1418 [00:02<00:00, 495.77it/s]\n",
            "  3%|▎         | 44/1418 [00:00<00:03, 433.56it/s]"
          ],
          "name": "stderr"
        },
        {
          "output_type": "stream",
          "text": [
            "Epoch: 16. Loss: 0.03688644990324974\n"
          ],
          "name": "stdout"
        },
        {
          "output_type": "stream",
          "text": [
            "100%|██████████| 1418/1418 [00:02<00:00, 490.76it/s]\n",
            "  4%|▎         | 51/1418 [00:00<00:02, 507.12it/s]"
          ],
          "name": "stderr"
        },
        {
          "output_type": "stream",
          "text": [
            "Epoch: 17. Loss: 0.03709330037236214\n"
          ],
          "name": "stdout"
        },
        {
          "output_type": "stream",
          "text": [
            "100%|██████████| 1418/1418 [00:02<00:00, 489.17it/s]\n",
            "  4%|▍         | 54/1418 [00:00<00:02, 534.39it/s]"
          ],
          "name": "stderr"
        },
        {
          "output_type": "stream",
          "text": [
            "Epoch: 18. Loss: 0.03553009033203125\n"
          ],
          "name": "stdout"
        },
        {
          "output_type": "stream",
          "text": [
            "100%|██████████| 1418/1418 [00:02<00:00, 486.34it/s]\n",
            "  4%|▎         | 50/1418 [00:00<00:02, 492.17it/s]"
          ],
          "name": "stderr"
        },
        {
          "output_type": "stream",
          "text": [
            "Epoch: 19. Loss: 0.04439026862382889\n"
          ],
          "name": "stdout"
        },
        {
          "output_type": "stream",
          "text": [
            "100%|██████████| 1418/1418 [00:02<00:00, 495.34it/s]\n",
            "  4%|▎         | 52/1418 [00:00<00:02, 515.30it/s]"
          ],
          "name": "stderr"
        },
        {
          "output_type": "stream",
          "text": [
            "Epoch: 20. Loss: 0.06969977170228958\n"
          ],
          "name": "stdout"
        },
        {
          "output_type": "stream",
          "text": [
            "100%|██████████| 1418/1418 [00:02<00:00, 496.90it/s]\n",
            "  4%|▎         | 53/1418 [00:00<00:02, 529.95it/s]"
          ],
          "name": "stderr"
        },
        {
          "output_type": "stream",
          "text": [
            "Epoch: 21. Loss: 0.02271992340683937\n"
          ],
          "name": "stdout"
        },
        {
          "output_type": "stream",
          "text": [
            "100%|██████████| 1418/1418 [00:02<00:00, 490.62it/s]\n",
            "  4%|▎         | 52/1418 [00:00<00:02, 518.86it/s]"
          ],
          "name": "stderr"
        },
        {
          "output_type": "stream",
          "text": [
            "Epoch: 22. Loss: 0.04814671352505684\n"
          ],
          "name": "stdout"
        },
        {
          "output_type": "stream",
          "text": [
            "100%|██████████| 1418/1418 [00:02<00:00, 483.61it/s]\n",
            "  4%|▎         | 53/1418 [00:00<00:02, 521.95it/s]"
          ],
          "name": "stderr"
        },
        {
          "output_type": "stream",
          "text": [
            "Epoch: 23. Loss: 0.037339773029088974\n"
          ],
          "name": "stdout"
        },
        {
          "output_type": "stream",
          "text": [
            "100%|██████████| 1418/1418 [00:02<00:00, 483.72it/s]\n",
            "  3%|▎         | 48/1418 [00:00<00:02, 473.02it/s]"
          ],
          "name": "stderr"
        },
        {
          "output_type": "stream",
          "text": [
            "Epoch: 24. Loss: 0.020557332783937454\n"
          ],
          "name": "stdout"
        },
        {
          "output_type": "stream",
          "text": [
            "100%|██████████| 1418/1418 [00:02<00:00, 491.69it/s]\n",
            "  4%|▎         | 51/1418 [00:00<00:02, 503.40it/s]"
          ],
          "name": "stderr"
        },
        {
          "output_type": "stream",
          "text": [
            "Epoch: 25. Loss: 0.04390701279044151\n"
          ],
          "name": "stdout"
        },
        {
          "output_type": "stream",
          "text": [
            "100%|██████████| 1418/1418 [00:02<00:00, 487.48it/s]\n",
            "  4%|▎         | 50/1418 [00:00<00:02, 497.41it/s]"
          ],
          "name": "stderr"
        },
        {
          "output_type": "stream",
          "text": [
            "Epoch: 26. Loss: 0.03247120603919029\n"
          ],
          "name": "stdout"
        },
        {
          "output_type": "stream",
          "text": [
            "100%|██████████| 1418/1418 [00:02<00:00, 477.51it/s]\n",
            "  4%|▎         | 52/1418 [00:00<00:02, 511.34it/s]"
          ],
          "name": "stderr"
        },
        {
          "output_type": "stream",
          "text": [
            "Epoch: 27. Loss: 0.06503939628601074\n"
          ],
          "name": "stdout"
        },
        {
          "output_type": "stream",
          "text": [
            "100%|██████████| 1418/1418 [00:02<00:00, 484.57it/s]\n",
            "  4%|▎         | 50/1418 [00:00<00:02, 495.88it/s]"
          ],
          "name": "stderr"
        },
        {
          "output_type": "stream",
          "text": [
            "Epoch: 28. Loss: 0.043364960700273514\n"
          ],
          "name": "stdout"
        },
        {
          "output_type": "stream",
          "text": [
            "100%|██████████| 1418/1418 [00:02<00:00, 479.69it/s]"
          ],
          "name": "stderr"
        },
        {
          "output_type": "stream",
          "text": [
            "Epoch: 29. Loss: 0.04013681784272194\n"
          ],
          "name": "stdout"
        },
        {
          "output_type": "stream",
          "text": [
            "\n"
          ],
          "name": "stderr"
        }
      ]
    },
    {
      "cell_type": "code",
      "metadata": {
        "id": "3dk9hOxkzxjj"
      },
      "source": [
        "X_test_net = torch.Tensor(X_vec_test)\n",
        "y_test_net = torch.Tensor(y_test_new)"
      ],
      "id": "3dk9hOxkzxjj",
      "execution_count": null,
      "outputs": []
    },
    {
      "cell_type": "code",
      "metadata": {
        "colab": {
          "base_uri": "https://localhost:8080/"
        },
        "id": "UvUA0FsFh4Um",
        "outputId": "ee90b7be-0a8f-4311-eed9-f1e0f2ebe490"
      },
      "source": [
        "correct = 0\n",
        "total = 0\n",
        "vect_y_predict = []\n",
        "with torch.no_grad():\n",
        "    for i in tqdm(range(len(X_test_net))):\n",
        "        real_class = torch.argmax(y_test_net[i])\n",
        "        net_out = net(X_test_net[i]) \n",
        "        predicted_class = torch.argmax(net_out)\n",
        "        vect_y_predict.append(predicted_class.item())\n",
        "\n",
        "        if predicted_class == real_class:\n",
        "            correct += 1\n",
        "        total += 1\n",
        "print(\"Accuracy: \", round(correct/total, 3))\n",
        "# 0.891"
      ],
      "id": "UvUA0FsFh4Um",
      "execution_count": null,
      "outputs": [
        {
          "output_type": "stream",
          "text": [
            "100%|██████████| 45367/45367 [00:08<00:00, 5330.67it/s]"
          ],
          "name": "stderr"
        },
        {
          "output_type": "stream",
          "text": [
            "Accuracy:  0.898\n"
          ],
          "name": "stdout"
        },
        {
          "output_type": "stream",
          "text": [
            "\n"
          ],
          "name": "stderr"
        }
      ]
    },
    {
      "cell_type": "code",
      "metadata": {
        "colab": {
          "base_uri": "https://localhost:8080/"
        },
        "id": "vjyG68pODHRP",
        "outputId": "311a581a-dc60-46e1-b3a8-1e136b3fe4ac"
      },
      "source": [
        "print(classification_report(y_test,vect_y_predict))"
      ],
      "id": "vjyG68pODHRP",
      "execution_count": null,
      "outputs": [
        {
          "output_type": "stream",
          "text": [
            "              precision    recall  f1-score   support\n",
            "\n",
            "           0       0.88      0.92      0.90     22480\n",
            "           1       0.92      0.88      0.90     22887\n",
            "\n",
            "    accuracy                           0.90     45367\n",
            "   macro avg       0.90      0.90      0.90     45367\n",
            "weighted avg       0.90      0.90      0.90     45367\n",
            "\n"
          ],
          "name": "stdout"
        }
      ]
    },
    {
      "cell_type": "markdown",
      "metadata": {
        "id": "yellow-hacker"
      },
      "source": [
        "# Extension of word2vec"
      ],
      "id": "yellow-hacker"
    },
    {
      "cell_type": "code",
      "metadata": {
        "colab": {
          "base_uri": "https://localhost:8080/"
        },
        "id": "3XXJt-GS1vAw",
        "outputId": "b6f78fe1-8301-405f-9a89-d4585a8e82f6"
      },
      "source": [
        "pip install pymorphy2"
      ],
      "id": "3XXJt-GS1vAw",
      "execution_count": null,
      "outputs": [
        {
          "output_type": "stream",
          "text": [
            "Collecting pymorphy2\n",
            "\u001b[?25l  Downloading https://files.pythonhosted.org/packages/07/57/b2ff2fae3376d4f3c697b9886b64a54b476e1a332c67eee9f88e7f1ae8c9/pymorphy2-0.9.1-py3-none-any.whl (55kB)\n",
            "\u001b[K     |████████████████████████████████| 61kB 3.3MB/s \n",
            "\u001b[?25hRequirement already satisfied: docopt>=0.6 in /usr/local/lib/python3.7/dist-packages (from pymorphy2) (0.6.2)\n",
            "Collecting pymorphy2-dicts-ru<3.0,>=2.4\n",
            "\u001b[?25l  Downloading https://files.pythonhosted.org/packages/3a/79/bea0021eeb7eeefde22ef9e96badf174068a2dd20264b9a378f2be1cdd9e/pymorphy2_dicts_ru-2.4.417127.4579844-py2.py3-none-any.whl (8.2MB)\n",
            "\u001b[K     |████████████████████████████████| 8.2MB 7.3MB/s \n",
            "\u001b[?25hCollecting dawg-python>=0.7.1\n",
            "  Downloading https://files.pythonhosted.org/packages/6a/84/ff1ce2071d4c650ec85745766c0047ccc3b5036f1d03559fd46bb38b5eeb/DAWG_Python-0.7.2-py2.py3-none-any.whl\n",
            "Installing collected packages: pymorphy2-dicts-ru, dawg-python, pymorphy2\n",
            "Successfully installed dawg-python-0.7.2 pymorphy2-0.9.1 pymorphy2-dicts-ru-2.4.417127.4579844\n"
          ],
          "name": "stdout"
        }
      ]
    },
    {
      "cell_type": "code",
      "metadata": {
        "id": "adult-render"
      },
      "source": [
        "from nltk.corpus import stopwords\n",
        "import re\n",
        "from pymorphy2 import MorphAnalyzer"
      ],
      "id": "adult-render",
      "execution_count": null,
      "outputs": []
    },
    {
      "cell_type": "code",
      "metadata": {
        "colab": {
          "base_uri": "https://localhost:8080/"
        },
        "id": "unauthorized-saturn",
        "outputId": "8edd7278-4eaa-42db-f073-d12fec493872"
      },
      "source": [
        "import nltk\n",
        "nltk.download('stopwords')"
      ],
      "id": "unauthorized-saturn",
      "execution_count": null,
      "outputs": [
        {
          "output_type": "stream",
          "text": [
            "[nltk_data] Downloading package stopwords to /root/nltk_data...\n",
            "[nltk_data]   Unzipping corpora/stopwords.zip.\n"
          ],
          "name": "stdout"
        },
        {
          "output_type": "execute_result",
          "data": {
            "text/plain": [
              "True"
            ]
          },
          "metadata": {
            "tags": []
          },
          "execution_count": 86
        }
      ]
    },
    {
      "cell_type": "code",
      "metadata": {
        "id": "aggressive-baking"
      },
      "source": [
        "#patterns = \"[A-Za-z0-9!#$%&'()*+,./:;<=>?@[\\]^_`{|}~—\\\"\\-]+\"\n",
        "#patterns = \"[A-Za-z0-9!#$%&'*+,./<=>?@[\\]^_`{|}~—\\\"\\-]+\"\n",
        "#patterns = \"[A-Z]+\"\n",
        "#stopwords_ru = stopwords.words(\"russian\")\n",
        "#morph = MorphAnalyzer()\n",
        "def lemmatize(doc):\n",
        "    # doc = re.sub(patterns, ' ', doc)\n",
        "    tokens = []\n",
        "    for token in doc.split():\n",
        "        # if token and token not in stopwords_ru:\n",
        "        if token:\n",
        "            token = token.strip()\n",
        "            #token = morph.normal_forms(token)[0]\n",
        "            \n",
        "            tokens.append(token)      \n",
        "    # if len(tokens) > 2:\n",
        "    #     return tokens\n",
        "    # return None\n",
        "    return tokens"
      ],
      "id": "aggressive-baking",
      "execution_count": null,
      "outputs": []
    },
    {
      "cell_type": "code",
      "metadata": {
        "colab": {
          "base_uri": "https://localhost:8080/"
        },
        "id": "xU5m6p7zO-6z",
        "outputId": "47a38e28-b060-4147-8e2f-cddbb2c34e8a"
      },
      "source": [
        "lemmatize(pos_text[0])"
      ],
      "id": "xU5m6p7zO-6z",
      "execution_count": null,
      "outputs": [
        {
          "output_type": "execute_result",
          "data": {
            "text/plain": [
              "['хоть',\n",
              " 'я',\n",
              " 'и',\n",
              " 'школота',\n",
              " 'но',\n",
              " 'поверь',\n",
              " 'у',\n",
              " 'нас',\n",
              " 'то',\n",
              " 'же',\n",
              " 'самое',\n",
              " ':',\n",
              " 'общество',\n",
              " 'профилирующий',\n",
              " 'предмет',\n",
              " 'типа',\n",
              " ')']"
            ]
          },
          "metadata": {
            "tags": []
          },
          "execution_count": 88
        }
      ]
    },
    {
      "cell_type": "code",
      "metadata": {
        "id": "MsYolg0l2Kl2"
      },
      "source": [
        "pos_text_lem = []\n",
        "for i in range(len(pos_text)):\n",
        "    pos_text_lem.append(lemmatize(pos_text[i]))"
      ],
      "id": "MsYolg0l2Kl2",
      "execution_count": null,
      "outputs": []
    },
    {
      "cell_type": "code",
      "metadata": {
        "id": "v_DtnnDN2ak4"
      },
      "source": [
        "pos_text_lem = list(filter(None, pos_text_lem))"
      ],
      "id": "v_DtnnDN2ak4",
      "execution_count": null,
      "outputs": []
    },
    {
      "cell_type": "code",
      "metadata": {
        "id": "YQ8KNp_N3XZA"
      },
      "source": [
        "neg_text_lem = []\n",
        "for i in range(len(neg_text)):\n",
        "    neg_text_lem.append(lemmatize(neg_text[i]))"
      ],
      "id": "YQ8KNp_N3XZA",
      "execution_count": null,
      "outputs": []
    },
    {
      "cell_type": "code",
      "metadata": {
        "id": "KUlep-uCAsx6"
      },
      "source": [
        "neg_text_lem = list(filter(None, neg_text_lem))"
      ],
      "id": "KUlep-uCAsx6",
      "execution_count": null,
      "outputs": []
    },
    {
      "cell_type": "code",
      "metadata": {
        "colab": {
          "base_uri": "https://localhost:8080/"
        },
        "id": "logical-experience",
        "outputId": "423f6944-a7de-476a-e477-54b2b3434abf"
      },
      "source": [
        "twits_lem = np.concatenate((pos_text_lem, neg_text_lem))"
      ],
      "id": "logical-experience",
      "execution_count": null,
      "outputs": [
        {
          "output_type": "stream",
          "text": [
            "<string>:6: VisibleDeprecationWarning: Creating an ndarray from ragged nested sequences (which is a list-or-tuple of lists-or-tuples-or ndarrays with different lengths or shapes) is deprecated. If you meant to do this, you must specify 'dtype=object' when creating the ndarray\n"
          ],
          "name": "stderr"
        }
      ]
    },
    {
      "cell_type": "code",
      "metadata": {
        "colab": {
          "base_uri": "https://localhost:8080/"
        },
        "id": "TpMacWoPAUHo",
        "outputId": "1b353cb2-26bb-4a83-d2b3-4b9277c9f759"
      },
      "source": [
        "twits_lem"
      ],
      "id": "TpMacWoPAUHo",
      "execution_count": null,
      "outputs": [
        {
          "output_type": "execute_result",
          "data": {
            "text/plain": [
              "array([list(['хоть', 'я', 'и', 'школота', 'но', 'поверь', 'у', 'нас', 'то', 'же', 'самое', ':', 'общество', 'профилирующий', 'предмет', 'типа', ')']),\n",
              "       list(['Да', 'все-таки', 'он', 'немного', 'похож', 'на', 'него', 'Но', 'мой', 'мальчик', 'все', 'равно', 'лучше:']),\n",
              "       list(['Ну', 'ты', 'идиотка', ')', 'я', 'испугалась', 'за', 'тебя']),\n",
              "       ...,\n",
              "       list(['Вот', 'и', 'в', 'школу', 'в', 'говно', 'это', 'идти', 'уже', 'надо', '(']),\n",
              "       list(['Тауриэль', 'не', 'грусти', ':(', '*обнял*']),\n",
              "       list(['Такси', 'везет', 'меня', 'на', 'работу', 'Раздумываю', 'приплатить', 'чтобы', 'меня', 'втащили', 'на', 'пятый', 'этаж', 'Лифта', 'то', 'нет', ':('])],\n",
              "      dtype=object)"
            ]
          },
          "metadata": {
            "tags": []
          },
          "execution_count": 97
        }
      ]
    },
    {
      "cell_type": "code",
      "metadata": {
        "colab": {
          "base_uri": "https://localhost:8080/",
          "height": 37
        },
        "id": "Gl3f3ffUUtRU",
        "outputId": "5d618aed-acb0-4d03-edc3-689d8120f1d9"
      },
      "source": [
        "twits[0]"
      ],
      "id": "Gl3f3ffUUtRU",
      "execution_count": null,
      "outputs": [
        {
          "output_type": "execute_result",
          "data": {
            "application/vnd.google.colaboratory.intrinsic+json": {
              "type": "string"
            },
            "text/plain": [
              "' хоть я и школота  но поверь  у нас то же самое :  общество профилирующий предмет типа )'"
            ]
          },
          "metadata": {
            "tags": []
          },
          "execution_count": 98
        }
      ]
    },
    {
      "cell_type": "code",
      "metadata": {
        "colab": {
          "base_uri": "https://localhost:8080/"
        },
        "id": "3kkSZKUN-C4p",
        "outputId": "dc0f8de8-4b1c-45f7-867d-45b27144c2b6"
      },
      "source": [
        "twits_lem[0]"
      ],
      "id": "3kkSZKUN-C4p",
      "execution_count": null,
      "outputs": [
        {
          "output_type": "execute_result",
          "data": {
            "text/plain": [
              "['хоть',\n",
              " 'я',\n",
              " 'и',\n",
              " 'школота',\n",
              " 'но',\n",
              " 'поверь',\n",
              " 'у',\n",
              " 'нас',\n",
              " 'то',\n",
              " 'же',\n",
              " 'самое',\n",
              " ':',\n",
              " 'общество',\n",
              " 'профилирующий',\n",
              " 'предмет',\n",
              " 'типа',\n",
              " ')']"
            ]
          },
          "metadata": {
            "tags": []
          },
          "execution_count": 99
        }
      ]
    },
    {
      "cell_type": "code",
      "metadata": {
        "id": "extreme-tourist"
      },
      "source": [
        "def compute_tf(text):\n",
        "    tf_text = collections.Counter(text)\n",
        "    for i in tf_text:\n",
        "        tf_text[i] = tf_text[i]/float(len(text))\n",
        "    return tf_text    "
      ],
      "id": "extreme-tourist",
      "execution_count": null,
      "outputs": []
    },
    {
      "cell_type": "code",
      "metadata": {
        "id": "visible-bottom"
      },
      "source": [
        "s = ['школота,',\n",
        "  'поверь,',\n",
        "  'самый',\n",
        "  ':d',\n",
        "  'общество',\n",
        "  'профилировать',\n",
        "  'предмет',\n",
        "  'типа)']"
      ],
      "id": "visible-bottom",
      "execution_count": null,
      "outputs": []
    },
    {
      "cell_type": "code",
      "metadata": {
        "colab": {
          "base_uri": "https://localhost:8080/"
        },
        "id": "exceptional-brush",
        "outputId": "691011b1-4e51-4935-9699-4cff742202aa"
      },
      "source": [
        "compute_tf(s)"
      ],
      "id": "exceptional-brush",
      "execution_count": null,
      "outputs": [
        {
          "output_type": "execute_result",
          "data": {
            "text/plain": [
              "Counter({':d': 0.125,\n",
              "         'общество': 0.125,\n",
              "         'поверь,': 0.125,\n",
              "         'предмет': 0.125,\n",
              "         'профилировать': 0.125,\n",
              "         'самый': 0.125,\n",
              "         'типа)': 0.125,\n",
              "         'школота,': 0.125})"
            ]
          },
          "metadata": {
            "tags": []
          },
          "execution_count": 102
        }
      ]
    },
    {
      "cell_type": "code",
      "metadata": {
        "id": "following-classics"
      },
      "source": [
        "import math"
      ],
      "id": "following-classics",
      "execution_count": null,
      "outputs": []
    },
    {
      "cell_type": "code",
      "metadata": {
        "id": "individual-cattle"
      },
      "source": [
        "def compute_idf(word, corpus):\n",
        "    s = sum([1.0 for i in corpus if word in i])\n",
        "    if s == 0:\n",
        "        return math.log10(len(corpus))\n",
        "    return math.log2(len(corpus)/s)"
      ],
      "id": "individual-cattle",
      "execution_count": null,
      "outputs": []
    },
    {
      "cell_type": "code",
      "metadata": {
        "colab": {
          "base_uri": "https://localhost:8080/"
        },
        "id": "apparent-queue",
        "outputId": "e778a8ab-1701-47a4-9b1e-2982df9d5c7f"
      },
      "source": [
        "compute_idf('общество', twits_lem)"
      ],
      "id": "apparent-queue",
      "execution_count": null,
      "outputs": [
        {
          "output_type": "execute_result",
          "data": {
            "text/plain": [
              "11.95838736137694"
            ]
          },
          "metadata": {
            "tags": []
          },
          "execution_count": 105
        }
      ]
    },
    {
      "cell_type": "code",
      "metadata": {
        "colab": {
          "base_uri": "https://localhost:8080/"
        },
        "id": "AJjTUcA1BgMs",
        "outputId": "3a4e98dd-946b-487e-dec8-17f1829f741a"
      },
      "source": [
        "labels_lem = [1] * len(pos_text_lem) + [0] * len(neg_text_lem)\n",
        "labels_lem = np.array(labels_lem)\n",
        "labels_lem"
      ],
      "id": "AJjTUcA1BgMs",
      "execution_count": null,
      "outputs": [
        {
          "output_type": "execute_result",
          "data": {
            "text/plain": [
              "array([1, 1, 1, ..., 0, 0, 0])"
            ]
          },
          "metadata": {
            "tags": []
          },
          "execution_count": 106
        }
      ]
    },
    {
      "cell_type": "code",
      "metadata": {
        "id": "4RMRxZrpqv9q"
      },
      "source": [
        "model_before = gensim.models.Word2Vec(twits_lem, min_count = 1, window = 5,  sg = 1)   "
      ],
      "id": "4RMRxZrpqv9q",
      "execution_count": null,
      "outputs": []
    },
    {
      "cell_type": "code",
      "metadata": {
        "id": "bqKrsRJOeyEk"
      },
      "source": [
        "X_train, X_test, y_train, y_test = train_test_split(twits_lem, labels_lem, test_size=0.2, random_state=42)"
      ],
      "id": "bqKrsRJOeyEk",
      "execution_count": null,
      "outputs": []
    },
    {
      "cell_type": "code",
      "metadata": {
        "colab": {
          "base_uri": "https://localhost:8080/"
        },
        "id": "EYkaMQ63hYXj",
        "outputId": "b6c0fd98-ae33-421c-f2e1-4a3afb539037"
      },
      "source": [
        "X_train"
      ],
      "id": "EYkaMQ63hYXj",
      "execution_count": null,
      "outputs": [
        {
          "output_type": "execute_result",
          "data": {
            "text/plain": [
              "array([list(['Немного', 'выпьем', 'говорил', 'он', 'ничего', 'не', 'будет', 'говорил', 'он', ')']),\n",
              "       list(['я', 'по', 'твоему', 'общению', 'и', 'шуткам', 'соскучилась', 'Че-то', 'давно', 'не', 'виделись', '(']),\n",
              "       list(['ахахаахх', 'как', 'ты', 'мою', 'собаку', 'уже', 'не', 'называл', '))']),\n",
              "       ...,\n",
              "       list(['дому', 'чуть', 'больше', 'лет', 'а', 'мне', 'приходится', 'вторую', 'раковину', 'менять', ';(']),\n",
              "       list(['даже', 'представить', 'боюсь', '(']),\n",
              "       list(['через', 'дней', 'будет', 'месяц', 'как', 'мы', 'не', 'общаемся', 'мм', 'да', 'уж', 'как', 'время', 'быстро', 'летит', '('])],\n",
              "      dtype=object)"
            ]
          },
          "metadata": {
            "tags": []
          },
          "execution_count": 109
        }
      ]
    },
    {
      "cell_type": "code",
      "metadata": {
        "id": "xv6gVOl1irIp"
      },
      "source": [
        "X_train_sentences = []\n",
        "for i in X_train:\n",
        "    X_train_sentences.append(' '.join(i))  "
      ],
      "id": "xv6gVOl1irIp",
      "execution_count": null,
      "outputs": []
    },
    {
      "cell_type": "code",
      "metadata": {
        "id": "a6nZloLjxbP0"
      },
      "source": [
        "#gensim.models.TfidfModel(X_train_sentences)\n",
        "from gensim import corpora, models, similarities\n",
        "\n",
        "dictionary = corpora.Dictionary(X_train)\n",
        "\n",
        "corpus = [dictionary.doc2bow(text) for text in X_train]\n",
        "\n",
        "\n",
        "tfidf = models.TfidfModel(corpus)\n",
        "\n"
      ],
      "id": "a6nZloLjxbP0",
      "execution_count": null,
      "outputs": []
    },
    {
      "cell_type": "code",
      "metadata": {
        "colab": {
          "base_uri": "https://localhost:8080/"
        },
        "id": "EgXw3PljRZiV",
        "outputId": "82f34ef6-bf1a-4434-ea97-84511ce354d3"
      },
      "source": [
        "dictionary.token2id['мой']"
      ],
      "id": "EgXw3PljRZiV",
      "execution_count": null,
      "outputs": [
        {
          "output_type": "execute_result",
          "data": {
            "text/plain": [
              "244"
            ]
          },
          "metadata": {
            "tags": []
          },
          "execution_count": 114
        }
      ]
    },
    {
      "cell_type": "code",
      "metadata": {
        "colab": {
          "base_uri": "https://localhost:8080/"
        },
        "id": "DpQyV2Ko01Xw",
        "outputId": "05c3f53b-dcfa-4318-ec9a-e40f3b465495"
      },
      "source": [
        "tfidf.idfs[dictionary.token2id['мой']]"
      ],
      "id": "DpQyV2Ko01Xw",
      "execution_count": null,
      "outputs": [
        {
          "output_type": "execute_result",
          "data": {
            "text/plain": [
              "6.449756962261614"
            ]
          },
          "metadata": {
            "tags": []
          },
          "execution_count": 115
        }
      ]
    },
    {
      "cell_type": "code",
      "metadata": {
        "colab": {
          "base_uri": "https://localhost:8080/"
        },
        "id": "WsxF5D2HFe8H",
        "outputId": "0323a833-d1d2-4ee9-a13d-0d800f048a84"
      },
      "source": [
        "tfidf.idfs[dictionary.token2id[':)']]"
      ],
      "id": "WsxF5D2HFe8H",
      "execution_count": null,
      "outputs": [
        {
          "output_type": "execute_result",
          "data": {
            "text/plain": [
              "4.214909542352239"
            ]
          },
          "metadata": {
            "tags": []
          },
          "execution_count": 116
        }
      ]
    },
    {
      "cell_type": "code",
      "metadata": {
        "id": "Mi8GWAR5Ipla"
      },
      "source": [
        "# word_dict = {}\n",
        "\n",
        "# X_vec_idf = []\n",
        "# for i in range(len(X_train)):\n",
        "#     ans = 0\n",
        "#     for j in range(len(X_train[i])):\n",
        "#         if X_train[i][j] not in word_dict:\n",
        "#             word_dict[X_train[i][j]] = compute_idf(X_train[i][j], X_train)\n",
        "#         ans += model2_right.wv[X_train[i][j]] * word_dict[X_train[i][j]]\n",
        "                                                          \n",
        "#     X_vec_idf.append(ans/len(X_train[i]))\n"
      ],
      "id": "Mi8GWAR5Ipla",
      "execution_count": null,
      "outputs": []
    },
    {
      "cell_type": "code",
      "metadata": {
        "id": "rBISRwX8Vuu3"
      },
      "source": [
        "from sklearn.feature_extraction.text import TfidfVectorizer"
      ],
      "id": "rBISRwX8Vuu3",
      "execution_count": null,
      "outputs": []
    },
    {
      "cell_type": "code",
      "metadata": {
        "id": "d_uJIH01XHYR"
      },
      "source": [
        "# tfidf = TfidfVectorizer()\n",
        "# tfidf.fit(X_train_sentences)\n",
        "#X_test_counts = tfidf.transform(X_test)"
      ],
      "id": "d_uJIH01XHYR",
      "execution_count": null,
      "outputs": []
    },
    {
      "cell_type": "code",
      "metadata": {
        "id": "OGrbFn-LXcfL"
      },
      "source": [
        "# dictionary = dict(zip(tfidf.get_feature_names(), list(tfidf.idf_)))"
      ],
      "id": "OGrbFn-LXcfL",
      "execution_count": null,
      "outputs": []
    },
    {
      "cell_type": "code",
      "metadata": {
        "id": "jmdX0BVeagJM"
      },
      "source": [
        "from tqdm import tqdm"
      ],
      "id": "jmdX0BVeagJM",
      "execution_count": null,
      "outputs": []
    },
    {
      "cell_type": "code",
      "metadata": {
        "id": "2YddXF_rrESR"
      },
      "source": [
        "emoticons_happy = set([ ')',\n",
        "    ':-)', ':)', ';)', ':o)', ':]', ':3', ':c)', ':>', '=]', '8)', '=)', ':}',\n",
        "    ':^)', ':-D', ':D', '8-D', '8D', 'x-D', 'xD', 'X-D', 'XD', '=-D', '=D',\n",
        "    '=-3', '=3', ':-))', \":'-)\", \":')\", ':*', ':^*', '>:P', ':-P', ':P', 'X-P',\n",
        "    'x-p', 'xp', 'XP', ':-p', ':p', '=p', ':-b', ':b', '>:)', '>;)', '>:-)',\n",
        "    '<3'\n",
        "    ])\n",
        "\n",
        "# Sad Emoticons\n",
        "emoticons_sad = set(['(',\n",
        "    ':L', ':-/', '>:/', ':S', '>:[', ':@', ':-(', ':[', ':-||', '=L', ':<',\n",
        "    ':-[', ':-<', '=\\\\', '=/', '>:(', ':(', '>.<', \":'-(\", \":'(\", ':\\\\', ':-c',\n",
        "    ':c', ':{', '>:\\\\', ';('\n",
        "    ])"
      ],
      "id": "2YddXF_rrESR",
      "execution_count": null,
      "outputs": []
    },
    {
      "cell_type": "code",
      "metadata": {
        "colab": {
          "base_uri": "https://localhost:8080/"
        },
        "id": "vwJF9IwpaQMV",
        "outputId": "d100e2ac-fcba-44fb-d8c5-703dee92c80f"
      },
      "source": [
        "# отдельно чтобы был список списков слов и список предложений, так как для каждого метода\n",
        "# нужно что-то свое + для второй модели нормализовать текст\n",
        "X_vec_idf = []\n",
        "for i in tqdm(range(len(X_train))):\n",
        "    ans = 0\n",
        "    for el in X_train[i]:\n",
        "      \n",
        "\n",
        "        # cur = dictionary.token2id[el]\n",
        "        # if el in emoticons_happy or el in emoticons_sad:\n",
        "        #  idf_feature = compute_idf(el, twits_lem)\n",
        "        # else:\n",
        "        #   idf_feature = tfidf.idfs[cur]  \n",
        "        ans += model_before.wv[el] * tfidf.idfs[dictionary.token2id[el]]\n",
        "        # ans += model_before.wv[el] * idf_feature\n",
        "\n",
        "    #X_vec_idf.append(ans/len(X_train[i]))                                                      \n",
        "    X_vec_idf.append(ans)"
      ],
      "id": "vwJF9IwpaQMV",
      "execution_count": null,
      "outputs": [
        {
          "output_type": "stream",
          "text": [
            "100%|██████████| 181467/181467 [00:15<00:00, 11769.31it/s]\n"
          ],
          "name": "stderr"
        }
      ]
    },
    {
      "cell_type": "code",
      "metadata": {
        "colab": {
          "base_uri": "https://localhost:8080/"
        },
        "id": "p-0NdKUqVAHA",
        "outputId": "f37fb0b0-fd34-4916-9802-a5d4946ef5f5"
      },
      "source": [
        "len(y_train)"
      ],
      "id": "p-0NdKUqVAHA",
      "execution_count": null,
      "outputs": [
        {
          "output_type": "execute_result",
          "data": {
            "text/plain": [
              "181467"
            ]
          },
          "metadata": {
            "tags": []
          },
          "execution_count": 121
        }
      ]
    },
    {
      "cell_type": "code",
      "metadata": {
        "id": "kZ6hmGIuseki"
      },
      "source": [
        "import xgboost"
      ],
      "id": "kZ6hmGIuseki",
      "execution_count": null,
      "outputs": []
    },
    {
      "cell_type": "markdown",
      "metadata": {
        "id": "3TqGwpq_GoF0"
      },
      "source": [
        "Обучим модель"
      ],
      "id": "3TqGwpq_GoF0"
    },
    {
      "cell_type": "code",
      "metadata": {
        "id": "0FaK9evsuEkC"
      },
      "source": [
        "from sklearn.metrics import accuracy_score"
      ],
      "id": "0FaK9evsuEkC",
      "execution_count": null,
      "outputs": []
    },
    {
      "cell_type": "code",
      "metadata": {
        "colab": {
          "base_uri": "https://localhost:8080/"
        },
        "id": "-mrBcneJDNLz",
        "outputId": "14b0efab-d41f-4e6b-c7a2-754a12930cad"
      },
      "source": [
        "model_2 = xgboost.XGBClassifier()\n",
        "model_2.fit(np.array(X_vec_idf), y_train)"
      ],
      "id": "-mrBcneJDNLz",
      "execution_count": null,
      "outputs": [
        {
          "output_type": "execute_result",
          "data": {
            "text/plain": [
              "XGBClassifier(base_score=0.5, booster='gbtree', colsample_bylevel=1,\n",
              "              colsample_bynode=1, colsample_bytree=1, gamma=0,\n",
              "              learning_rate=0.1, max_delta_step=0, max_depth=3,\n",
              "              min_child_weight=1, missing=None, n_estimators=100, n_jobs=1,\n",
              "              nthread=None, objective='binary:logistic', random_state=0,\n",
              "              reg_alpha=0, reg_lambda=1, scale_pos_weight=1, seed=None,\n",
              "              silent=None, subsample=1, verbosity=1)"
            ]
          },
          "metadata": {
            "tags": []
          },
          "execution_count": 133
        }
      ]
    },
    {
      "cell_type": "code",
      "metadata": {
        "id": "5osbIbvUGzYD"
      },
      "source": [
        "y_fake_pred = model_2.predict(np.array(X_vec_idf))\n",
        "predictions = [round(value) for value in y_fake_pred]\n",
        "\n",
        "accuracy = accuracy_score(y_train, predictions)"
      ],
      "id": "5osbIbvUGzYD",
      "execution_count": null,
      "outputs": []
    },
    {
      "cell_type": "code",
      "metadata": {
        "colab": {
          "base_uri": "https://localhost:8080/"
        },
        "id": "Msns0BCxWTBX",
        "outputId": "89e726f0-0315-4476-f219-3c47c6bf8f39"
      },
      "source": [
        "print(\"Accuracy: %.2f%%\" % (accuracy * 100.0))\n",
        "#69.07%\n",
        "#74.22%\n",
        "#75.43%"
      ],
      "id": "Msns0BCxWTBX",
      "execution_count": null,
      "outputs": [
        {
          "output_type": "stream",
          "text": [
            "Accuracy: 74.61%\n"
          ],
          "name": "stdout"
        }
      ]
    },
    {
      "cell_type": "code",
      "metadata": {
        "id": "fImshKoKWpo_"
      },
      "source": [
        "X_test_sentences = []\n",
        "for i in X_test:\n",
        "    X_test_sentences.append(' '.join(i)) "
      ],
      "id": "fImshKoKWpo_",
      "execution_count": null,
      "outputs": []
    },
    {
      "cell_type": "code",
      "metadata": {
        "id": "U7YJPbz4hXJW"
      },
      "source": [
        "#model2_right.train(X_test, total_examples = len(X_test), epochs = 10)\n",
        "#model2_right.build_vocab(X_test, update=True)"
      ],
      "id": "U7YJPbz4hXJW",
      "execution_count": null,
      "outputs": []
    },
    {
      "cell_type": "code",
      "metadata": {
        "colab": {
          "base_uri": "https://localhost:8080/"
        },
        "id": "i03go4phi0zh",
        "outputId": "70395710-2091-4efc-ed4d-2b04410bc4ea"
      },
      "source": [
        "X_vec_idf_test = []\n",
        "for i in tqdm(range(len(X_test))):\n",
        "    ans = 0\n",
        "\n",
        "    for el in X_test[i]:\n",
        "\n",
        " \n",
        "        if el in dictionary:\n",
        "          idf = tfidf.idfs[dictionary.token2id[el]]\n",
        "        else:\n",
        "          idf = np.sqrt(len(X_train))  \n",
        "\n",
        "        ans += model_before.wv[el] * idf\n",
        "        \n",
        "    #X_vec_idf_test.append(ans/len(X_test[i]))                                                      \n",
        "    X_vec_idf_test.append(ans)"
      ],
      "id": "i03go4phi0zh",
      "execution_count": null,
      "outputs": [
        {
          "output_type": "stream",
          "text": [
            "100%|██████████| 45367/45367 [00:05<00:00, 8377.96it/s]\n"
          ],
          "name": "stderr"
        }
      ]
    },
    {
      "cell_type": "code",
      "metadata": {
        "colab": {
          "base_uri": "https://localhost:8080/"
        },
        "id": "DprOmasViDu_",
        "outputId": "45f6029b-e1f2-4d77-d5ed-4886556dd3df"
      },
      "source": [
        "y_pred = model_2.predict(np.array(X_vec_idf_test))\n",
        "predictions = [round(value) for value in y_pred]\n",
        "\n",
        "accuracy = accuracy_score(y_test, predictions)\n",
        "print(\"Accuracy: %.2f%%\" % (accuracy * 100.0))\n",
        "#61.70%\n",
        "#71.20%"
      ],
      "id": "DprOmasViDu_",
      "execution_count": null,
      "outputs": [
        {
          "output_type": "stream",
          "text": [
            "Accuracy: 72.70%\n"
          ],
          "name": "stdout"
        }
      ]
    },
    {
      "cell_type": "code",
      "metadata": {
        "colab": {
          "base_uri": "https://localhost:8080/"
        },
        "id": "_tuvPCd7arjH",
        "outputId": "ff4bfe9f-9967-45cf-b166-cda4e49e740b"
      },
      "source": [
        "print(classification_report(y_test, y_pred))"
      ],
      "id": "_tuvPCd7arjH",
      "execution_count": null,
      "outputs": [
        {
          "output_type": "stream",
          "text": [
            "              precision    recall  f1-score   support\n",
            "\n",
            "           0       0.70      0.78      0.74     22480\n",
            "           1       0.76      0.67      0.71     22887\n",
            "\n",
            "    accuracy                           0.73     45367\n",
            "   macro avg       0.73      0.73      0.73     45367\n",
            "weighted avg       0.73      0.73      0.73     45367\n",
            "\n"
          ],
          "name": "stdout"
        }
      ]
    },
    {
      "cell_type": "code",
      "metadata": {
        "id": "HNF-LpmcaWTw"
      },
      "source": [
        "def plot_confusion_matrix(labels, pred_labels):\n",
        "    \n",
        "    fig = plt.figure(figsize = (10, 10));\n",
        "    ax = fig.add_subplot(1, 1, 1);\n",
        "    cm = metrics.confusion_matrix(labels, pred_labels);\n",
        "    cm = metrics.ConfusionMatrixDisplay(cm, display_labels = range(10));\n",
        "    cm.plot(values_format = 'd', cmap = 'Blues', ax = ax)"
      ],
      "id": "HNF-LpmcaWTw",
      "execution_count": null,
      "outputs": []
    },
    {
      "cell_type": "markdown",
      "metadata": {
        "id": "E2QwPAX_HC0-"
      },
      "source": [
        "# Tacatron encoder"
      ],
      "id": "E2QwPAX_HC0-"
    },
    {
      "cell_type": "markdown",
      "metadata": {
        "id": "c-gM70nM9Zct"
      },
      "source": [
        "Теперь построим нейронную сеть, такую как encoder в Tacatron."
      ],
      "id": "c-gM70nM9Zct"
    },
    {
      "cell_type": "code",
      "metadata": {
        "id": "WThuSStRMJXs"
      },
      "source": [
        "import torch\n",
        "import torch.nn as nn\n",
        "import torch.nn.functional as F"
      ],
      "id": "WThuSStRMJXs",
      "execution_count": null,
      "outputs": []
    },
    {
      "cell_type": "code",
      "metadata": {
        "id": "jh2HulfTrjCU"
      },
      "source": [
        "class Encoder(nn.Module):\n",
        "    \"\"\"\n",
        "    Encoder\n",
        "    \"\"\"\n",
        "    def __init__(self, vocab_size, embedding_size):\n",
        "\n",
        "        super().__init__()\n",
        "        self.embedding_size = embedding_size\n",
        "\n",
        "        #nn.Embedding holds a Tensor of dimension (vocab_size, vector_size)\n",
        "        #embedding = nn.Embedding(1000,128)\n",
        "        #embedding(torch.LongTensor([3,4])) представление 3 и 4 слова в виде эмбедингов\n",
        "        self.embed = nn.Embedding(vocab_size, embedding_size)\n",
        "\n",
        "        self.conv1 = nn.Conv1d(1, 8, 4)\n",
        "        \n",
        "        #self.maxpool1 = nn.MaxPool1d(2)\n",
        "        self.conv2 = nn.Conv1d(8, 16, 4)\n",
        "        #self.maxpool2 = nn.MaxPool1d(2)\n",
        "        self.conv3 = nn.Conv1d(16, 32, 4)\n",
        "        #self.maxpool3 = nn.MaxPool1d(2)\n",
        "        self.lstm = nn.LSTM(1, 20, bidirectional=True)\n",
        "        self.fc1 = nn.Linear(32*20*2, 2)\n",
        "\n",
        "\n",
        "\n",
        "    def forward(self, x):\n",
        "\n",
        "        x = self.embed(x)\n",
        "        print(x.shape)\n",
        "\n",
        "        #x = self.maxpool1(F.relu(self.conv1(x)))\n",
        "        x = F.relu(self.conv1(x))\n",
        "        print(x.shape)\n",
        "        # x = self.maxpool2(F.relu(self.conv2(x)))\n",
        "        x = F.relu(self.conv2(x))\n",
        "        # x = self.maxpool3(F.relu(self.conv3(x)))\n",
        "        x = F.relu(self.conv3(x))\n",
        "        print(x.shape)\n",
        "\n",
        "        packed_output, (hidden, cell) = self.lstm(x)\n",
        "        cat = torch.cat((hidden[-2, :, :], hidden[-1, :, :]), dim=1)\n",
        "\n",
        "        rel = F.relu(cat)\n",
        "\n",
        "        ans = rel.view(1, -1)\n",
        "\n",
        "        dense1 = self.fc1(ans)\n",
        "      \n",
        "\n",
        "        return dense1"
      ],
      "id": "jh2HulfTrjCU",
      "execution_count": null,
      "outputs": []
    },
    {
      "cell_type": "code",
      "metadata": {
        "id": "2oVFpVdsmcwe"
      },
      "source": [
        "#токенизируем\n",
        "X_twits = []\n",
        "for el in twits:\n",
        "    X_twits.append(el.strip().split())  "
      ],
      "id": "2oVFpVdsmcwe",
      "execution_count": null,
      "outputs": []
    },
    {
      "cell_type": "code",
      "metadata": {
        "id": "vu1R1UIMqxQj"
      },
      "source": [
        "X_dict = {}\n",
        "\n",
        "for el in X_twits:\n",
        "  for i in el:\n",
        "    if i not in X_dict:\n",
        "      X_dict[i] = len(X_dict)"
      ],
      "id": "vu1R1UIMqxQj",
      "execution_count": null,
      "outputs": []
    },
    {
      "cell_type": "code",
      "metadata": {
        "id": "7qIT-GURuZ9A"
      },
      "source": [
        "import copy"
      ],
      "id": "7qIT-GURuZ9A",
      "execution_count": null,
      "outputs": []
    },
    {
      "cell_type": "code",
      "metadata": {
        "id": "2n220PwdsROW"
      },
      "source": [
        "X_twits_encoded = copy.deepcopy(X_twits)\n",
        "for n_el, el in enumerate(X_twits_encoded):\n",
        "  for n_i, i in enumerate(el):\n",
        "    el[n_i] = X_dict[i] "
      ],
      "id": "2n220PwdsROW",
      "execution_count": null,
      "outputs": []
    },
    {
      "cell_type": "code",
      "metadata": {
        "id": "uuSq6YnMmeQ8"
      },
      "source": [
        "vocab_size = len(X_dict)\n",
        "embedding_size = 32"
      ],
      "id": "uuSq6YnMmeQ8",
      "execution_count": null,
      "outputs": []
    },
    {
      "cell_type": "code",
      "metadata": {
        "colab": {
          "base_uri": "https://localhost:8080/"
        },
        "id": "jg4rl0HqXSK6",
        "outputId": "e8619e6b-9e86-4207-b3d2-58a00e9940da"
      },
      "source": [
        "if torch.cuda.is_available():\n",
        "    device = torch.device(\"cuda:0\")  # you can continue going on here, like cuda:1 cuda:2....etc. \n",
        "    print(\"Running on the GPU\")\n",
        "else:\n",
        "    device = torch.device(\"cpu\")\n",
        "    print(\"Running on the CPU\")"
      ],
      "id": "jg4rl0HqXSK6",
      "execution_count": null,
      "outputs": [
        {
          "output_type": "stream",
          "text": [
            "Running on the GPU\n"
          ],
          "name": "stdout"
        }
      ]
    },
    {
      "cell_type": "code",
      "metadata": {
        "id": "cQ5K0AXNvDeK"
      },
      "source": [
        "net = Encoder(vocab_size, embedding_size).to(device)"
      ],
      "id": "cQ5K0AXNvDeK",
      "execution_count": null,
      "outputs": []
    },
    {
      "cell_type": "code",
      "metadata": {
        "id": "Wqr-PP4l2A0l"
      },
      "source": [
        "#net = Encoder(6, 32)"
      ],
      "id": "Wqr-PP4l2A0l",
      "execution_count": null,
      "outputs": []
    },
    {
      "cell_type": "code",
      "metadata": {
        "id": "NigiF1D-0ImV"
      },
      "source": [
        "#x = torch.LongTensor([1,2,3,4,5,6])\n",
        "#x = torch.LongTensor([2,3])"
      ],
      "id": "NigiF1D-0ImV",
      "execution_count": null,
      "outputs": []
    },
    {
      "cell_type": "code",
      "metadata": {
        "id": "VFRGWXJhEntj"
      },
      "source": [
        "#x = x.view(-1, 1)"
      ],
      "id": "VFRGWXJhEntj",
      "execution_count": null,
      "outputs": []
    },
    {
      "cell_type": "code",
      "metadata": {
        "id": "1nZtI2va0JYi"
      },
      "source": [
        "#net.forward(x)"
      ],
      "id": "1nZtI2va0JYi",
      "execution_count": null,
      "outputs": []
    },
    {
      "cell_type": "code",
      "metadata": {
        "id": "r18oug8V0MMz"
      },
      "source": [
        "loss_function = nn.CrossEntropyLoss()\n",
        "optimizer = torch.optim.Adam(net.parameters(), lr=0.01)"
      ],
      "id": "r18oug8V0MMz",
      "execution_count": null,
      "outputs": []
    },
    {
      "cell_type": "code",
      "metadata": {
        "id": "d2HKnhpgXopM"
      },
      "source": [
        "from sklearn.model_selection import train_test_split"
      ],
      "id": "d2HKnhpgXopM",
      "execution_count": null,
      "outputs": []
    },
    {
      "cell_type": "code",
      "metadata": {
        "id": "i6ftn84bGqUe"
      },
      "source": [
        "X_train, X_test, y_train, y_test = train_test_split(X_twits_encoded, labels, test_size=0.2, random_state=42)"
      ],
      "id": "i6ftn84bGqUe",
      "execution_count": null,
      "outputs": []
    },
    {
      "cell_type": "code",
      "metadata": {
        "id": "AlUFdJJhLRer"
      },
      "source": [
        "y_train_new = [np.eye(2)[i] for i in y_train]\n",
        "y_test_new = [np.eye(2)[i] for i in y_test]"
      ],
      "id": "AlUFdJJhLRer",
      "execution_count": null,
      "outputs": []
    },
    {
      "cell_type": "code",
      "metadata": {
        "id": "4F4BcTa2J7Pp"
      },
      "source": [
        "from tqdm import tqdm"
      ],
      "id": "4F4BcTa2J7Pp",
      "execution_count": null,
      "outputs": []
    },
    {
      "cell_type": "code",
      "metadata": {
        "id": "wHvZ2kmdIhJh"
      },
      "source": [
        "BATCH_SIZE = 1\n",
        "EPOCHS = 1"
      ],
      "id": "wHvZ2kmdIhJh",
      "execution_count": null,
      "outputs": []
    },
    {
      "cell_type": "code",
      "metadata": {
        "colab": {
          "base_uri": "https://localhost:8080/"
        },
        "id": "sRNM9wTrwYrr",
        "outputId": "abd50055-f0a0-4b70-d250-2e069cd9e323"
      },
      "source": [
        "len(X_train)"
      ],
      "id": "sRNM9wTrwYrr",
      "execution_count": null,
      "outputs": [
        {
          "output_type": "execute_result",
          "data": {
            "text/plain": [
              "181467"
            ]
          },
          "metadata": {
            "tags": []
          },
          "execution_count": 35
        }
      ]
    },
    {
      "cell_type": "code",
      "metadata": {
        "colab": {
          "base_uri": "https://localhost:8080/",
          "height": 460
        },
        "id": "oKEoWmIiI1r7",
        "outputId": "83f32574-295f-41f6-bb0d-a7f8da224814"
      },
      "source": [
        "for epoch in range(EPOCHS):\n",
        "    # z = np.random.shuffle(np.arange(len(X_train)))\n",
        "    # X_train = X_train[z]\n",
        "    # y_train = y_train[z]\n",
        "\n",
        "    #random_index = np.random.permutation(np.arange(len(X_train)))\n",
        "    # X_train = X_train[random_index]\n",
        "    # y_train = y_train[random_index]\n",
        "\n",
        "    for i in tqdm(range(0, len(X_train), BATCH_SIZE)): \n",
        "    #for i in tqdm(random_index):\n",
        "\n",
        "        batch_X = torch.LongTensor(X_train[i:i+BATCH_SIZE]).view(-1, 1)\n",
        "        batch_y = torch.LongTensor(y_train[i:i+BATCH_SIZE])\n",
        "\n",
        "        batch_X, batch_y = batch_X.to(device), batch_y.to(device)\n",
        "\n",
        "        net.zero_grad()\n",
        "\n",
        "        outputs = net(batch_X)\n",
        "        # print(outputs.shape)\n",
        "        # print(batch_y.shape)\n",
        "        t = batch_y\n",
        "        # print(t.shape)\n",
        "        loss = loss_function(outputs, t)\n",
        "        loss.backward()\n",
        "        optimizer.step()    \n",
        "\n",
        "    print(f\"Epoch: {epoch}. Loss: {loss}\")"
      ],
      "id": "oKEoWmIiI1r7",
      "execution_count": null,
      "outputs": [
        {
          "output_type": "stream",
          "text": [
            "  0%|          | 0/181467 [00:00<?, ?it/s]"
          ],
          "name": "stderr"
        },
        {
          "output_type": "stream",
          "text": [
            "torch.Size([10, 1, 32])\n",
            "torch.Size([10, 8, 29])\n",
            "torch.Size([10, 32, 23])\n"
          ],
          "name": "stdout"
        },
        {
          "output_type": "stream",
          "text": [
            "\n"
          ],
          "name": "stderr"
        },
        {
          "output_type": "error",
          "ename": "RuntimeError",
          "evalue": "ignored",
          "traceback": [
            "\u001b[0;31m---------------------------------------------------------------------------\u001b[0m",
            "\u001b[0;31mRuntimeError\u001b[0m                              Traceback (most recent call last)",
            "\u001b[0;32m<ipython-input-39-0e1573e699a2>\u001b[0m in \u001b[0;36m<module>\u001b[0;34m()\u001b[0m\n\u001b[1;32m     18\u001b[0m         \u001b[0mnet\u001b[0m\u001b[0;34m.\u001b[0m\u001b[0mzero_grad\u001b[0m\u001b[0;34m(\u001b[0m\u001b[0;34m)\u001b[0m\u001b[0;34m\u001b[0m\u001b[0;34m\u001b[0m\u001b[0m\n\u001b[1;32m     19\u001b[0m \u001b[0;34m\u001b[0m\u001b[0m\n\u001b[0;32m---> 20\u001b[0;31m         \u001b[0moutputs\u001b[0m \u001b[0;34m=\u001b[0m \u001b[0mnet\u001b[0m\u001b[0;34m(\u001b[0m\u001b[0mbatch_X\u001b[0m\u001b[0;34m)\u001b[0m\u001b[0;34m\u001b[0m\u001b[0;34m\u001b[0m\u001b[0m\n\u001b[0m\u001b[1;32m     21\u001b[0m         \u001b[0;31m# print(outputs.shape)\u001b[0m\u001b[0;34m\u001b[0m\u001b[0;34m\u001b[0m\u001b[0;34m\u001b[0m\u001b[0m\n\u001b[1;32m     22\u001b[0m         \u001b[0;31m# print(batch_y.shape)\u001b[0m\u001b[0;34m\u001b[0m\u001b[0;34m\u001b[0m\u001b[0;34m\u001b[0m\u001b[0m\n",
            "\u001b[0;32m/usr/local/lib/python3.7/dist-packages/torch/nn/modules/module.py\u001b[0m in \u001b[0;36m_call_impl\u001b[0;34m(self, *input, **kwargs)\u001b[0m\n\u001b[1;32m    887\u001b[0m             \u001b[0mresult\u001b[0m \u001b[0;34m=\u001b[0m \u001b[0mself\u001b[0m\u001b[0;34m.\u001b[0m\u001b[0m_slow_forward\u001b[0m\u001b[0;34m(\u001b[0m\u001b[0;34m*\u001b[0m\u001b[0minput\u001b[0m\u001b[0;34m,\u001b[0m \u001b[0;34m**\u001b[0m\u001b[0mkwargs\u001b[0m\u001b[0;34m)\u001b[0m\u001b[0;34m\u001b[0m\u001b[0;34m\u001b[0m\u001b[0m\n\u001b[1;32m    888\u001b[0m         \u001b[0;32melse\u001b[0m\u001b[0;34m:\u001b[0m\u001b[0;34m\u001b[0m\u001b[0;34m\u001b[0m\u001b[0m\n\u001b[0;32m--> 889\u001b[0;31m             \u001b[0mresult\u001b[0m \u001b[0;34m=\u001b[0m \u001b[0mself\u001b[0m\u001b[0;34m.\u001b[0m\u001b[0mforward\u001b[0m\u001b[0;34m(\u001b[0m\u001b[0;34m*\u001b[0m\u001b[0minput\u001b[0m\u001b[0;34m,\u001b[0m \u001b[0;34m**\u001b[0m\u001b[0mkwargs\u001b[0m\u001b[0;34m)\u001b[0m\u001b[0;34m\u001b[0m\u001b[0;34m\u001b[0m\u001b[0m\n\u001b[0m\u001b[1;32m    890\u001b[0m         for hook in itertools.chain(\n\u001b[1;32m    891\u001b[0m                 \u001b[0m_global_forward_hooks\u001b[0m\u001b[0;34m.\u001b[0m\u001b[0mvalues\u001b[0m\u001b[0;34m(\u001b[0m\u001b[0;34m)\u001b[0m\u001b[0;34m,\u001b[0m\u001b[0;34m\u001b[0m\u001b[0;34m\u001b[0m\u001b[0m\n",
            "\u001b[0;32m<ipython-input-37-e3493cd8b71e>\u001b[0m in \u001b[0;36mforward\u001b[0;34m(self, x)\u001b[0m\n\u001b[1;32m     39\u001b[0m         \u001b[0mprint\u001b[0m\u001b[0;34m(\u001b[0m\u001b[0mx\u001b[0m\u001b[0;34m.\u001b[0m\u001b[0mshape\u001b[0m\u001b[0;34m)\u001b[0m\u001b[0;34m\u001b[0m\u001b[0;34m\u001b[0m\u001b[0m\n\u001b[1;32m     40\u001b[0m \u001b[0;34m\u001b[0m\u001b[0m\n\u001b[0;32m---> 41\u001b[0;31m         \u001b[0mpacked_output\u001b[0m\u001b[0;34m,\u001b[0m \u001b[0;34m(\u001b[0m\u001b[0mhidden\u001b[0m\u001b[0;34m,\u001b[0m \u001b[0mcell\u001b[0m\u001b[0;34m)\u001b[0m \u001b[0;34m=\u001b[0m \u001b[0mself\u001b[0m\u001b[0;34m.\u001b[0m\u001b[0mlstm\u001b[0m\u001b[0;34m(\u001b[0m\u001b[0mx\u001b[0m\u001b[0;34m)\u001b[0m\u001b[0;34m\u001b[0m\u001b[0;34m\u001b[0m\u001b[0m\n\u001b[0m\u001b[1;32m     42\u001b[0m         \u001b[0mcat\u001b[0m \u001b[0;34m=\u001b[0m \u001b[0mtorch\u001b[0m\u001b[0;34m.\u001b[0m\u001b[0mcat\u001b[0m\u001b[0;34m(\u001b[0m\u001b[0;34m(\u001b[0m\u001b[0mhidden\u001b[0m\u001b[0;34m[\u001b[0m\u001b[0;34m-\u001b[0m\u001b[0;36m2\u001b[0m\u001b[0;34m,\u001b[0m \u001b[0;34m:\u001b[0m\u001b[0;34m,\u001b[0m \u001b[0;34m:\u001b[0m\u001b[0;34m]\u001b[0m\u001b[0;34m,\u001b[0m \u001b[0mhidden\u001b[0m\u001b[0;34m[\u001b[0m\u001b[0;34m-\u001b[0m\u001b[0;36m1\u001b[0m\u001b[0;34m,\u001b[0m \u001b[0;34m:\u001b[0m\u001b[0;34m,\u001b[0m \u001b[0;34m:\u001b[0m\u001b[0;34m]\u001b[0m\u001b[0;34m)\u001b[0m\u001b[0;34m,\u001b[0m \u001b[0mdim\u001b[0m\u001b[0;34m=\u001b[0m\u001b[0;36m1\u001b[0m\u001b[0;34m)\u001b[0m\u001b[0;34m\u001b[0m\u001b[0;34m\u001b[0m\u001b[0m\n\u001b[1;32m     43\u001b[0m \u001b[0;34m\u001b[0m\u001b[0m\n",
            "\u001b[0;32m/usr/local/lib/python3.7/dist-packages/torch/nn/modules/module.py\u001b[0m in \u001b[0;36m_call_impl\u001b[0;34m(self, *input, **kwargs)\u001b[0m\n\u001b[1;32m    887\u001b[0m             \u001b[0mresult\u001b[0m \u001b[0;34m=\u001b[0m \u001b[0mself\u001b[0m\u001b[0;34m.\u001b[0m\u001b[0m_slow_forward\u001b[0m\u001b[0;34m(\u001b[0m\u001b[0;34m*\u001b[0m\u001b[0minput\u001b[0m\u001b[0;34m,\u001b[0m \u001b[0;34m**\u001b[0m\u001b[0mkwargs\u001b[0m\u001b[0;34m)\u001b[0m\u001b[0;34m\u001b[0m\u001b[0;34m\u001b[0m\u001b[0m\n\u001b[1;32m    888\u001b[0m         \u001b[0;32melse\u001b[0m\u001b[0;34m:\u001b[0m\u001b[0;34m\u001b[0m\u001b[0;34m\u001b[0m\u001b[0m\n\u001b[0;32m--> 889\u001b[0;31m             \u001b[0mresult\u001b[0m \u001b[0;34m=\u001b[0m \u001b[0mself\u001b[0m\u001b[0;34m.\u001b[0m\u001b[0mforward\u001b[0m\u001b[0;34m(\u001b[0m\u001b[0;34m*\u001b[0m\u001b[0minput\u001b[0m\u001b[0;34m,\u001b[0m \u001b[0;34m**\u001b[0m\u001b[0mkwargs\u001b[0m\u001b[0;34m)\u001b[0m\u001b[0;34m\u001b[0m\u001b[0;34m\u001b[0m\u001b[0m\n\u001b[0m\u001b[1;32m    890\u001b[0m         for hook in itertools.chain(\n\u001b[1;32m    891\u001b[0m                 \u001b[0m_global_forward_hooks\u001b[0m\u001b[0;34m.\u001b[0m\u001b[0mvalues\u001b[0m\u001b[0;34m(\u001b[0m\u001b[0;34m)\u001b[0m\u001b[0;34m,\u001b[0m\u001b[0;34m\u001b[0m\u001b[0;34m\u001b[0m\u001b[0m\n",
            "\u001b[0;32m/usr/local/lib/python3.7/dist-packages/torch/nn/modules/rnn.py\u001b[0m in \u001b[0;36mforward\u001b[0;34m(self, input, hx)\u001b[0m\n\u001b[1;32m    657\u001b[0m             \u001b[0mhx\u001b[0m \u001b[0;34m=\u001b[0m \u001b[0mself\u001b[0m\u001b[0;34m.\u001b[0m\u001b[0mpermute_hidden\u001b[0m\u001b[0;34m(\u001b[0m\u001b[0mhx\u001b[0m\u001b[0;34m,\u001b[0m \u001b[0msorted_indices\u001b[0m\u001b[0;34m)\u001b[0m\u001b[0;34m\u001b[0m\u001b[0;34m\u001b[0m\u001b[0m\n\u001b[1;32m    658\u001b[0m \u001b[0;34m\u001b[0m\u001b[0m\n\u001b[0;32m--> 659\u001b[0;31m         \u001b[0mself\u001b[0m\u001b[0;34m.\u001b[0m\u001b[0mcheck_forward_args\u001b[0m\u001b[0;34m(\u001b[0m\u001b[0minput\u001b[0m\u001b[0;34m,\u001b[0m \u001b[0mhx\u001b[0m\u001b[0;34m,\u001b[0m \u001b[0mbatch_sizes\u001b[0m\u001b[0;34m)\u001b[0m\u001b[0;34m\u001b[0m\u001b[0;34m\u001b[0m\u001b[0m\n\u001b[0m\u001b[1;32m    660\u001b[0m         \u001b[0;32mif\u001b[0m \u001b[0mbatch_sizes\u001b[0m \u001b[0;32mis\u001b[0m \u001b[0;32mNone\u001b[0m\u001b[0;34m:\u001b[0m\u001b[0;34m\u001b[0m\u001b[0;34m\u001b[0m\u001b[0m\n\u001b[1;32m    661\u001b[0m             result = _VF.lstm(input, hx, self._flat_weights, self.bias, self.num_layers,\n",
            "\u001b[0;32m/usr/local/lib/python3.7/dist-packages/torch/nn/modules/rnn.py\u001b[0m in \u001b[0;36mcheck_forward_args\u001b[0;34m(self, input, hidden, batch_sizes)\u001b[0m\n\u001b[1;32m    603\u001b[0m     \u001b[0;31m# See torch/nn/modules/module.py::_forward_unimplemented\u001b[0m\u001b[0;34m\u001b[0m\u001b[0;34m\u001b[0m\u001b[0;34m\u001b[0m\u001b[0m\n\u001b[1;32m    604\u001b[0m     \u001b[0;32mdef\u001b[0m \u001b[0mcheck_forward_args\u001b[0m\u001b[0;34m(\u001b[0m\u001b[0mself\u001b[0m\u001b[0;34m,\u001b[0m \u001b[0minput\u001b[0m\u001b[0;34m:\u001b[0m \u001b[0mTensor\u001b[0m\u001b[0;34m,\u001b[0m \u001b[0mhidden\u001b[0m\u001b[0;34m:\u001b[0m \u001b[0mTuple\u001b[0m\u001b[0;34m[\u001b[0m\u001b[0mTensor\u001b[0m\u001b[0;34m,\u001b[0m \u001b[0mTensor\u001b[0m\u001b[0;34m]\u001b[0m\u001b[0;34m,\u001b[0m \u001b[0mbatch_sizes\u001b[0m\u001b[0;34m:\u001b[0m \u001b[0mOptional\u001b[0m\u001b[0;34m[\u001b[0m\u001b[0mTensor\u001b[0m\u001b[0;34m]\u001b[0m\u001b[0;34m)\u001b[0m\u001b[0;34m:\u001b[0m  \u001b[0;31m# type: ignore\u001b[0m\u001b[0;34m\u001b[0m\u001b[0;34m\u001b[0m\u001b[0m\n\u001b[0;32m--> 605\u001b[0;31m         \u001b[0mself\u001b[0m\u001b[0;34m.\u001b[0m\u001b[0mcheck_input\u001b[0m\u001b[0;34m(\u001b[0m\u001b[0minput\u001b[0m\u001b[0;34m,\u001b[0m \u001b[0mbatch_sizes\u001b[0m\u001b[0;34m)\u001b[0m\u001b[0;34m\u001b[0m\u001b[0;34m\u001b[0m\u001b[0m\n\u001b[0m\u001b[1;32m    606\u001b[0m         self.check_hidden_size(hidden[0], self.get_expected_hidden_size(input, batch_sizes),\n\u001b[1;32m    607\u001b[0m                                'Expected hidden[0] size {}, got {}')\n",
            "\u001b[0;32m/usr/local/lib/python3.7/dist-packages/torch/nn/modules/rnn.py\u001b[0m in \u001b[0;36mcheck_input\u001b[0;34m(self, input, batch_sizes)\u001b[0m\n\u001b[1;32m    202\u001b[0m             raise RuntimeError(\n\u001b[1;32m    203\u001b[0m                 'input.size(-1) must be equal to input_size. Expected {}, got {}'.format(\n\u001b[0;32m--> 204\u001b[0;31m                     self.input_size, input.size(-1)))\n\u001b[0m\u001b[1;32m    205\u001b[0m \u001b[0;34m\u001b[0m\u001b[0m\n\u001b[1;32m    206\u001b[0m     \u001b[0;32mdef\u001b[0m \u001b[0mget_expected_hidden_size\u001b[0m\u001b[0;34m(\u001b[0m\u001b[0mself\u001b[0m\u001b[0;34m,\u001b[0m \u001b[0minput\u001b[0m\u001b[0;34m:\u001b[0m \u001b[0mTensor\u001b[0m\u001b[0;34m,\u001b[0m \u001b[0mbatch_sizes\u001b[0m\u001b[0;34m:\u001b[0m \u001b[0mOptional\u001b[0m\u001b[0;34m[\u001b[0m\u001b[0mTensor\u001b[0m\u001b[0;34m]\u001b[0m\u001b[0;34m)\u001b[0m \u001b[0;34m->\u001b[0m \u001b[0mTuple\u001b[0m\u001b[0;34m[\u001b[0m\u001b[0mint\u001b[0m\u001b[0;34m,\u001b[0m \u001b[0mint\u001b[0m\u001b[0;34m,\u001b[0m \u001b[0mint\u001b[0m\u001b[0;34m]\u001b[0m\u001b[0;34m:\u001b[0m\u001b[0;34m\u001b[0m\u001b[0;34m\u001b[0m\u001b[0m\n",
            "\u001b[0;31mRuntimeError\u001b[0m: input.size(-1) must be equal to input_size. Expected 1, got 23"
          ]
        }
      ]
    },
    {
      "cell_type": "code",
      "metadata": {
        "id": "j3Sc73LsWF6d"
      },
      "source": [
        "correct = 0\n",
        "total = 0\n",
        "vect_y_predict = []\n",
        "with torch.no_grad():\n",
        "    for i in tqdm(range(len(X_test))):\n",
        "        #real_class = torch.argmax(y_test_net[i])\n",
        "        batch_X = torch.LongTensor(X_test[i]).view(-1, 1)\n",
        "        batch_y = torch.LongTensor(y_test[i])\n",
        "\n",
        "\n",
        "        batch_X, batch_y = batch_X.to(device), batch_y.to(device)\n",
        "\n",
        "        net_out = net(batch_X) \n",
        "        predicted_class = torch.argmax(net_out)\n",
        "        vect_y_predict.append(predicted_class.item())\n",
        "\n",
        "        if predicted_class == y_test[i]:\n",
        "            correct += 1\n",
        "        total += 1\n",
        "print(\"Accuracy: \", round(correct/total, 3))\n",
        "#0.816\n",
        "#0.91"
      ],
      "id": "j3Sc73LsWF6d",
      "execution_count": null,
      "outputs": []
    },
    {
      "cell_type": "code",
      "metadata": {
        "id": "4dDhINUGnYlV"
      },
      "source": [
        "print(classification_report(y_test, vect_y_predict))"
      ],
      "id": "4dDhINUGnYlV",
      "execution_count": null,
      "outputs": []
    },
    {
      "cell_type": "code",
      "metadata": {
        "id": "MXSn6o9PtDHV"
      },
      "source": [
        ""
      ],
      "id": "MXSn6o9PtDHV",
      "execution_count": null,
      "outputs": []
    }
  ]
}