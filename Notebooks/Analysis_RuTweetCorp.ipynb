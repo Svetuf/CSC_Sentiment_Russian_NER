{
  "nbformat": 4,
  "nbformat_minor": 5,
  "metadata": {
    "colab": {
      "name": "Analysis_RuTweetCorp.ipynb",
      "provenance": [],
      "collapsed_sections": [
        "objective-nirvana",
        "acpmIDys1BT5",
        "yellow-hacker",
        "z2KsySDpWYOd"
      ],
      "toc_visible": true
    },
    "kernelspec": {
      "display_name": "Python 3",
      "language": "python",
      "name": "python3"
    },
    "language_info": {
      "codemirror_mode": {
        "name": "ipython",
        "version": 3
      },
      "file_extension": ".py",
      "mimetype": "text/x-python",
      "name": "python",
      "nbconvert_exporter": "python",
      "pygments_lexer": "ipython3",
      "version": "3.7.9"
    },
    "accelerator": "GPU"
  },
  "cells": [
    {
      "cell_type": "code",
      "metadata": {
        "colab": {
          "base_uri": "https://localhost:8080/"
        },
        "id": "otH_dgcpuWih",
        "outputId": "889ebdb1-388d-417d-9ed3-8c67bd9c8507"
      },
      "source": [
        "from google.colab import drive\n",
        "drive.mount('/content/gdrive')"
      ],
      "id": "otH_dgcpuWih",
      "execution_count": null,
      "outputs": [
        {
          "output_type": "stream",
          "text": [
            "Mounted at /content/gdrive\n"
          ],
          "name": "stdout"
        }
      ]
    },
    {
      "cell_type": "code",
      "metadata": {
        "id": "Vap9pMoE6eZg"
      },
      "source": [
        "import sys\n",
        "sys.path.append('/content/gdrive/MyDrive/Project/')"
      ],
      "id": "Vap9pMoE6eZg",
      "execution_count": null,
      "outputs": []
    },
    {
      "cell_type": "markdown",
      "metadata": {
        "id": "XSbsS1KBDKi7"
      },
      "source": [
        "# Imports"
      ],
      "id": "XSbsS1KBDKi7"
    },
    {
      "cell_type": "code",
      "metadata": {
        "id": "kyUJJi-cBLhq",
        "colab": {
          "base_uri": "https://localhost:8080/"
        },
        "outputId": "6c217fc9-8976-4114-ea28-82d1d52878a2"
      },
      "source": [
        "pip install pymorphy2"
      ],
      "id": "kyUJJi-cBLhq",
      "execution_count": null,
      "outputs": [
        {
          "output_type": "stream",
          "text": [
            "Collecting pymorphy2\n",
            "  Downloading pymorphy2-0.9.1-py3-none-any.whl (55 kB)\n",
            "\u001b[K     |████████████████████████████████| 55 kB 2.0 MB/s \n",
            "\u001b[?25hCollecting pymorphy2-dicts-ru<3.0,>=2.4\n",
            "  Downloading pymorphy2_dicts_ru-2.4.417127.4579844-py2.py3-none-any.whl (8.2 MB)\n",
            "\u001b[K     |████████████████████████████████| 8.2 MB 8.5 MB/s \n",
            "\u001b[?25hRequirement already satisfied: docopt>=0.6 in /usr/local/lib/python3.7/dist-packages (from pymorphy2) (0.6.2)\n",
            "Collecting dawg-python>=0.7.1\n",
            "  Downloading DAWG_Python-0.7.2-py2.py3-none-any.whl (11 kB)\n",
            "Installing collected packages: pymorphy2-dicts-ru, dawg-python, pymorphy2\n",
            "Successfully installed dawg-python-0.7.2 pymorphy2-0.9.1 pymorphy2-dicts-ru-2.4.417127.4579844\n"
          ],
          "name": "stdout"
        }
      ]
    },
    {
      "cell_type": "code",
      "metadata": {
        "id": "wired-stranger"
      },
      "source": [
        "from functions import *\n",
        "from gensim import corpora, models, similarities\n",
        "from gensim.models import Word2Vec\n",
        "from matplotlib import pyplot as plt\n",
        "from nltk import ngrams\n",
        "from nltk.corpus import stopwords\n",
        "from nltk.probability import FreqDist\n",
        "from pymorphy2 import MorphAnalyzer\n",
        "from pymystem3 import Mystem\n",
        "from scipy import stats\n",
        "from sklearn.ensemble import RandomForestClassifier\n",
        "from sklearn.feature_extraction.text import TfidfVectorizer\n",
        "from sklearn.model_selection import train_test_split\n",
        "from sklearn.metrics import classification_report, confusion_matrix\n",
        "from sklearn.metrics import accuracy_score\n",
        "from sklearn.metrics import roc_auc_score\n",
        "from sklearn import metrics\n",
        "from spacy.lang.ru import Russian\n",
        "from tqdm import tqdm\n",
        "from torchvision import transforms\n",
        "\n",
        "\n",
        "import collections\n",
        "import copy\n",
        "import gensim\n",
        "import lightgbm as lgb\n",
        "import math\n",
        "import nltk\n",
        "import numpy as np\n",
        "import os\n",
        "import pandas as pd\n",
        "import pickle\n",
        "import random\n",
        "import re\n",
        "import seaborn as sn\n",
        "import spacy\n",
        "import torch\n",
        "import torchvision\n",
        "import torch.nn as nn\n",
        "import torch.nn.functional as F\n",
        "import torch.optim as optim\n",
        "import xgboost"
      ],
      "id": "wired-stranger",
      "execution_count": null,
      "outputs": []
    },
    {
      "cell_type": "markdown",
      "metadata": {
        "id": "QqUUAwCzKH2F"
      },
      "source": [
        "# Preprocessing Data"
      ],
      "id": "QqUUAwCzKH2F"
    },
    {
      "cell_type": "markdown",
      "metadata": {
        "id": "institutional-million"
      },
      "source": [
        "База данных состоит из 12 столбцов:\n",
        "\n",
        "– id: уникальный номер сообщения в системе twitter;\n",
        "\n",
        "– tdate: дата публикации сообщения (твита);\n",
        "\n",
        "– tnamee: имя пользователя, опубликовавшего сообщение;\n",
        "\n",
        "– ttext:  текст сообщения (твита);\n",
        "\n",
        "– ttype: поле в котором в дальнейшем будет указано к кому классу относится твит (положительный, отрицательный, нейтральный);\n",
        "\n",
        "– trep: количество реплаев к данному сообщению. В настоящий момент API твиттера не отдает эту информацию;\n",
        "\n",
        "– trtw: число ретвитов;\n",
        "\n",
        "– tfav: число сколько раз данное сообщение было добавлено в избранное другими пользователями;\n",
        "\n",
        "– tstcount: число всех сообщений пользователя в сети twitter;\n",
        "\n",
        "– tfol: количество фоловеров пользователя (тех людей, которые читают пользователя);\n",
        "\n",
        "– tfrien: количество друзей пользователя (те люди, которых читает пользователь);\n",
        "\n",
        "– listcount: количество листов-подписок в которые добавлен твиттер-пользователь."
      ],
      "id": "institutional-million"
    },
    {
      "cell_type": "markdown",
      "metadata": {
        "id": "processed-satin"
      },
      "source": [
        "Прочитаем данные и построим различные статистики."
      ],
      "id": "processed-satin"
    },
    {
      "cell_type": "code",
      "metadata": {
        "id": "SGw3sxic5vne"
      },
      "source": [
        "positive_path = \"/content/gdrive/MyDrive/Project/positive.csv\"\n",
        "negative_path = \"/content/gdrive/MyDrive/Project/negative.csv\""
      ],
      "id": "SGw3sxic5vne",
      "execution_count": null,
      "outputs": []
    },
    {
      "cell_type": "code",
      "metadata": {
        "id": "eleven-yeast"
      },
      "source": [
        "columns_name = ['id', 'tdate', 'tname', 'ttext', 'ttype', 'trep','trtw', 'tfav',\n",
        "                'tstcount', 'tfol', 'tfrien', 'listcount']\n",
        "positive_dataset = pd.read_csv(positive_path, sep = ';', names = columns_name)\n",
        "negative_dataset = pd.read_csv(negative_path, sep = ';', names = columns_name)"
      ],
      "id": "eleven-yeast",
      "execution_count": null,
      "outputs": []
    },
    {
      "cell_type": "code",
      "metadata": {
        "colab": {
          "base_uri": "https://localhost:8080/"
        },
        "id": "illegal-accounting",
        "outputId": "0037c5e3-0d10-4104-b319-75c02bf97b74"
      },
      "source": [
        "len(positive_dataset)"
      ],
      "id": "illegal-accounting",
      "execution_count": null,
      "outputs": [
        {
          "output_type": "execute_result",
          "data": {
            "text/plain": [
              "114911"
            ]
          },
          "metadata": {},
          "execution_count": 7
        }
      ]
    },
    {
      "cell_type": "code",
      "metadata": {
        "colab": {
          "base_uri": "https://localhost:8080/",
          "height": 513
        },
        "id": "minimal-creek",
        "outputId": "21a2d3aa-9abc-4770-a326-6fea787773d5"
      },
      "source": [
        "positive_dataset.head()"
      ],
      "id": "minimal-creek",
      "execution_count": null,
      "outputs": [
        {
          "output_type": "execute_result",
          "data": {
            "text/html": [
              "<div>\n",
              "<style scoped>\n",
              "    .dataframe tbody tr th:only-of-type {\n",
              "        vertical-align: middle;\n",
              "    }\n",
              "\n",
              "    .dataframe tbody tr th {\n",
              "        vertical-align: top;\n",
              "    }\n",
              "\n",
              "    .dataframe thead th {\n",
              "        text-align: right;\n",
              "    }\n",
              "</style>\n",
              "<table border=\"1\" class=\"dataframe\">\n",
              "  <thead>\n",
              "    <tr style=\"text-align: right;\">\n",
              "      <th></th>\n",
              "      <th>id</th>\n",
              "      <th>tdate</th>\n",
              "      <th>tname</th>\n",
              "      <th>ttext</th>\n",
              "      <th>ttype</th>\n",
              "      <th>trep</th>\n",
              "      <th>trtw</th>\n",
              "      <th>tfav</th>\n",
              "      <th>tstcount</th>\n",
              "      <th>tfol</th>\n",
              "      <th>tfrien</th>\n",
              "      <th>listcount</th>\n",
              "    </tr>\n",
              "  </thead>\n",
              "  <tbody>\n",
              "    <tr>\n",
              "      <th>0</th>\n",
              "      <td>408906692374446080</td>\n",
              "      <td>1386325927</td>\n",
              "      <td>pleease_shut_up</td>\n",
              "      <td>@first_timee хоть я и школота, но поверь, у на...</td>\n",
              "      <td>1</td>\n",
              "      <td>0</td>\n",
              "      <td>0</td>\n",
              "      <td>0</td>\n",
              "      <td>7569</td>\n",
              "      <td>62</td>\n",
              "      <td>61</td>\n",
              "      <td>0</td>\n",
              "    </tr>\n",
              "    <tr>\n",
              "      <th>1</th>\n",
              "      <td>408906692693221377</td>\n",
              "      <td>1386325927</td>\n",
              "      <td>alinakirpicheva</td>\n",
              "      <td>Да, все-таки он немного похож на него. Но мой ...</td>\n",
              "      <td>1</td>\n",
              "      <td>0</td>\n",
              "      <td>0</td>\n",
              "      <td>0</td>\n",
              "      <td>11825</td>\n",
              "      <td>59</td>\n",
              "      <td>31</td>\n",
              "      <td>2</td>\n",
              "    </tr>\n",
              "    <tr>\n",
              "      <th>2</th>\n",
              "      <td>408906695083954177</td>\n",
              "      <td>1386325927</td>\n",
              "      <td>EvgeshaRe</td>\n",
              "      <td>RT @KatiaCheh: Ну ты идиотка) я испугалась за ...</td>\n",
              "      <td>1</td>\n",
              "      <td>0</td>\n",
              "      <td>1</td>\n",
              "      <td>0</td>\n",
              "      <td>1273</td>\n",
              "      <td>26</td>\n",
              "      <td>27</td>\n",
              "      <td>0</td>\n",
              "    </tr>\n",
              "    <tr>\n",
              "      <th>3</th>\n",
              "      <td>408906695356973056</td>\n",
              "      <td>1386325927</td>\n",
              "      <td>ikonnikova_21</td>\n",
              "      <td>RT @digger2912: \"Кто то в углу сидит и погибае...</td>\n",
              "      <td>1</td>\n",
              "      <td>0</td>\n",
              "      <td>1</td>\n",
              "      <td>0</td>\n",
              "      <td>1549</td>\n",
              "      <td>19</td>\n",
              "      <td>17</td>\n",
              "      <td>0</td>\n",
              "    </tr>\n",
              "    <tr>\n",
              "      <th>4</th>\n",
              "      <td>408906761416867842</td>\n",
              "      <td>1386325943</td>\n",
              "      <td>JumpyAlex</td>\n",
              "      <td>@irina_dyshkant Вот что значит страшилка :D\\nН...</td>\n",
              "      <td>1</td>\n",
              "      <td>0</td>\n",
              "      <td>0</td>\n",
              "      <td>0</td>\n",
              "      <td>597</td>\n",
              "      <td>16</td>\n",
              "      <td>23</td>\n",
              "      <td>1</td>\n",
              "    </tr>\n",
              "  </tbody>\n",
              "</table>\n",
              "</div>"
            ],
            "text/plain": [
              "                   id       tdate            tname  ... tfol  tfrien  listcount\n",
              "0  408906692374446080  1386325927  pleease_shut_up  ...   62      61          0\n",
              "1  408906692693221377  1386325927  alinakirpicheva  ...   59      31          2\n",
              "2  408906695083954177  1386325927        EvgeshaRe  ...   26      27          0\n",
              "3  408906695356973056  1386325927    ikonnikova_21  ...   19      17          0\n",
              "4  408906761416867842  1386325943        JumpyAlex  ...   16      23          1\n",
              "\n",
              "[5 rows x 12 columns]"
            ]
          },
          "metadata": {},
          "execution_count": 8
        }
      ]
    },
    {
      "cell_type": "markdown",
      "metadata": {
        "id": "above-latest"
      },
      "source": [
        "Тренировочный корпус состоит из 114,911 положительных, 111,923 отрицательных записей.\n",
        "\n",
        "Удалим NA."
      ],
      "id": "above-latest"
    },
    {
      "cell_type": "code",
      "metadata": {
        "id": "xaVxm4G-yxAX"
      },
      "source": [
        "pos_text = positive_dataset['ttext'].dropna().values\n",
        "neg_text = negative_dataset['ttext'].dropna().values"
      ],
      "id": "xaVxm4G-yxAX",
      "execution_count": null,
      "outputs": []
    },
    {
      "cell_type": "code",
      "metadata": {
        "id": "U1O99VMZEimo"
      },
      "source": [
        "from typing import List"
      ],
      "id": "U1O99VMZEimo",
      "execution_count": null,
      "outputs": []
    },
    {
      "cell_type": "code",
      "metadata": {
        "id": "CdaiX0O05XpF"
      },
      "source": [
        "# отделим от слов смайлики и запишем их как один\n",
        "def split_smile(reg_exp: str, smile: str, sentences: List[str]) -> List[str]:\n",
        "  return [re.sub(reg_exp, smile, sentence) for sentence in sentences]"
      ],
      "id": "CdaiX0O05XpF",
      "execution_count": null,
      "outputs": []
    },
    {
      "cell_type": "code",
      "metadata": {
        "id": "optical-dividend"
      },
      "source": [
        "pos_text = regul(r' *http\\S* *', pos_text)\n",
        "pos_text = regul(r' *@\\S* ', pos_text)\n",
        "pos_text = regul(r'RT *', pos_text)\n",
        "pos_text = regul(r'&quot;', pos_text)\n",
        "pos_text = regul(r'\\n', pos_text)\n",
        "pos_text = regul(r'[.,!?#$%&0-9A-Za-z&\\\"\\']+', pos_text)\n",
        "pos_text = split_smile(r'(\\w)([:;/\\!]*)\\)+', r'\\1 \\2)', pos_text)\n",
        "# pos_text = split_smile(r'(\\w)\\)+', r'\\1 )', pos_text)"
      ],
      "id": "optical-dividend",
      "execution_count": null,
      "outputs": []
    },
    {
      "cell_type": "code",
      "metadata": {
        "colab": {
          "base_uri": "https://localhost:8080/",
          "height": 37
        },
        "id": "y0XuvKGwKuAh",
        "outputId": "7b0451ba-b991-45b2-bf4c-8e5bd583dc73"
      },
      "source": [
        "pos_text[10]"
      ],
      "id": "y0XuvKGwKuAh",
      "execution_count": null,
      "outputs": [
        {
          "output_type": "execute_result",
          "data": {
            "application/vnd.google.colaboratory.intrinsic+json": {
              "type": "string"
            },
            "text/plain": [
              "'Люблю маму и папу а в остальное я так -влюбляюсь  привязываюсь )\\xa0'"
            ]
          },
          "metadata": {},
          "execution_count": 13
        }
      ]
    },
    {
      "cell_type": "code",
      "metadata": {
        "id": "naughty-palace"
      },
      "source": [
        "neg_text = regul(r' *http\\S* *', neg_text)\n",
        "neg_text = regul(r' *@\\S* ', neg_text)\n",
        "neg_text = regul(r'RT *', neg_text)\n",
        "neg_text = regul(r'&quot;', neg_text)\n",
        "neg_text = regul(r'\\n', neg_text)\n",
        "neg_text = regul(r'[.,!?#$%&0-9A-Za-z&\\\"\\']+', neg_text)\n",
        "neg_text = split_smile(r'(\\w)([:/\\!]*)\\(+', r'\\1 \\2(', neg_text)\n",
        "# neg_text = split_smile(r'(\\w)\\(+', r'\\1 (', neg_text)"
      ],
      "id": "naughty-palace",
      "execution_count": null,
      "outputs": []
    },
    {
      "cell_type": "code",
      "metadata": {
        "id": "controlling-baptist"
      },
      "source": [
        "len_pos = len(pos_text)\n",
        "len_neg = len(neg_text)"
      ],
      "id": "controlling-baptist",
      "execution_count": null,
      "outputs": []
    },
    {
      "cell_type": "code",
      "metadata": {
        "colab": {
          "base_uri": "https://localhost:8080/"
        },
        "id": "broadband-extension",
        "outputId": "4e34458d-7bed-42f8-a496-8648bd413858"
      },
      "source": [
        "twits = np.concatenate((pos_text, neg_text))\n",
        "twits"
      ],
      "id": "broadband-extension",
      "execution_count": null,
      "outputs": [
        {
          "output_type": "execute_result",
          "data": {
            "text/plain": [
              "array([' хоть я и школота  но поверь  у нас то же самое :  общество профилирующий предмет типа )',\n",
              "       'Да  все-таки он немного похож на него  Но мой мальчик все равно лучше: ',\n",
              "       ' Ну ты идиотка ) я испугалась за тебя ', ...,\n",
              "       'Вот и в школу  в говно это идти уже надо (',\n",
              "       ' Тауриэль  не грусти :( *обнял*',\n",
              "       'Такси везет меня на работу  Раздумываю приплатить  чтобы меня втащили на пятый этаж  Лифта то нет :('],\n",
              "      dtype='<U159')"
            ]
          },
          "metadata": {},
          "execution_count": 16
        }
      ]
    },
    {
      "cell_type": "code",
      "metadata": {
        "colab": {
          "base_uri": "https://localhost:8080/"
        },
        "id": "confirmed-street",
        "outputId": "582fb8df-6d28-4d20-aa7f-854226fd4bfa"
      },
      "source": [
        "labels = [1] * len_pos + [0] * len_neg\n",
        "labels = np.array(labels)\n",
        "labels"
      ],
      "id": "confirmed-street",
      "execution_count": null,
      "outputs": [
        {
          "output_type": "execute_result",
          "data": {
            "text/plain": [
              "array([1, 1, 1, ..., 0, 0, 0])"
            ]
          },
          "metadata": {},
          "execution_count": 17
        }
      ]
    },
    {
      "cell_type": "code",
      "metadata": {
        "id": "palestinian-flooring"
      },
      "source": [
        "symb_len = [len(i) for i in twits]\n",
        "word_len = [len(i.split()) for i in twits]"
      ],
      "id": "palestinian-flooring",
      "execution_count": null,
      "outputs": []
    },
    {
      "cell_type": "markdown",
      "metadata": {
        "id": "subsequent-constitutional"
      },
      "source": [
        "Найдем среднее, медиану, стандартное отклонение, минимальное, максимальное значение."
      ],
      "id": "subsequent-constitutional"
    },
    {
      "cell_type": "code",
      "metadata": {
        "colab": {
          "base_uri": "https://localhost:8080/"
        },
        "id": "swedish-tonight",
        "outputId": "311727cb-78a3-4c3d-80fd-b1e57558af6c"
      },
      "source": [
        "symb_mean = np.mean(symb_len)\n",
        "word_mean = np.mean(word_len)\n",
        "print(symb_mean, word_mean)"
      ],
      "id": "swedish-tonight",
      "execution_count": null,
      "outputs": [
        {
          "output_type": "stream",
          "text": [
            "68.30129522029326 12.097890968726029\n"
          ],
          "name": "stdout"
        }
      ]
    },
    {
      "cell_type": "code",
      "metadata": {
        "colab": {
          "base_uri": "https://localhost:8080/"
        },
        "id": "premium-transition",
        "outputId": "00236cec-79e8-4238-fcf8-b3b215f3d717"
      },
      "source": [
        "symb_median = np.median(symb_len)\n",
        "word_median = np.median(word_len)\n",
        "print(symb_median, word_median)"
      ],
      "id": "premium-transition",
      "execution_count": null,
      "outputs": [
        {
          "output_type": "stream",
          "text": [
            "63.0 11.0\n"
          ],
          "name": "stdout"
        }
      ]
    },
    {
      "cell_type": "code",
      "metadata": {
        "colab": {
          "base_uri": "https://localhost:8080/"
        },
        "id": "certified-improvement",
        "outputId": "cdb46a1a-ae26-4d5e-bbcd-62f3ad46b0d6"
      },
      "source": [
        "symb_std = np.std(symb_len)\n",
        "word_std = np.std(word_len)\n",
        "print(symb_std, word_std)"
      ],
      "id": "certified-improvement",
      "execution_count": null,
      "outputs": [
        {
          "output_type": "stream",
          "text": [
            "29.106003039930123 5.152044015732866\n"
          ],
          "name": "stdout"
        }
      ]
    },
    {
      "cell_type": "code",
      "metadata": {
        "colab": {
          "base_uri": "https://localhost:8080/"
        },
        "id": "prospective-simpson",
        "outputId": "4bf77f9e-dc3b-4f59-ae6e-56a17ef19ef8"
      },
      "source": [
        "symb_min = np.min(symb_len)\n",
        "word_min = np.min(word_len)\n",
        "symb_max = np.max(symb_len)\n",
        "word_max = np.max(word_len)\n",
        "print(symb_min, word_min, symb_max, word_max)"
      ],
      "id": "prospective-simpson",
      "execution_count": null,
      "outputs": [
        {
          "output_type": "stream",
          "text": [
            "2 1 159 36\n"
          ],
          "name": "stdout"
        }
      ]
    },
    {
      "cell_type": "markdown",
      "metadata": {
        "id": "driving-portsmouth"
      },
      "source": [
        "Построим гистограммы"
      ],
      "id": "driving-portsmouth"
    },
    {
      "cell_type": "code",
      "metadata": {
        "colab": {
          "base_uri": "https://localhost:8080/",
          "height": 295
        },
        "id": "unique-target",
        "outputId": "e3ee7305-d687-49cb-a20d-8a3fdd77a37a"
      },
      "source": [
        "create_hist(symb_len, np.arange(symb_min, symb_max, 5), 'Распределение количества символов в твите', 'количество символов', 'количество твитов')"
      ],
      "id": "unique-target",
      "execution_count": null,
      "outputs": [
        {
          "output_type": "display_data",
          "data": {
            "image/png": "[encoded data removed]",
            "text/plain": [
              "<Figure size 432x288 with 1 Axes>"
            ]
          },
          "metadata": {
            "tags": [],
            "needs_background": "light"
          }
        }
      ]
    },
    {
      "cell_type": "code",
      "metadata": {
        "colab": {
          "base_uri": "https://localhost:8080/",
          "height": 295
        },
        "id": "subject-ceremony",
        "outputId": "d47f7705-cf5b-490a-a854-a2dd3ac7a850"
      },
      "source": [
        "create_hist(word_len, np.arange(word_min, word_max, 1), 'Распределение количества слов в твите', 'количество слов', 'количество твитов')"
      ],
      "id": "subject-ceremony",
      "execution_count": null,
      "outputs": [
        {
          "output_type": "display_data",
          "data": {
            "image/png": "[encoded data removed]",
            "text/plain": [
              "<Figure size 432x288 with 1 Axes>"
            ]
          },
          "metadata": {
            "tags": [],
            "needs_background": "light"
          }
        }
      ]
    },
    {
      "cell_type": "code",
      "metadata": {
        "colab": {
          "base_uri": "https://localhost:8080/",
          "height": 265
        },
        "id": "crazy-armenia",
        "outputId": "522db0eb-400f-4296-a4ad-d106bb24c078"
      },
      "source": [
        "create_boxplot(symb_len)"
      ],
      "id": "crazy-armenia",
      "execution_count": null,
      "outputs": [
        {
          "output_type": "display_data",
          "data": {
            "image/png": "[encoded data removed]",
            "text/plain": [
              "<Figure size 432x288 with 1 Axes>"
            ]
          },
          "metadata": {
            "tags": [],
            "needs_background": "light"
          }
        }
      ]
    },
    {
      "cell_type": "code",
      "metadata": {
        "colab": {
          "base_uri": "https://localhost:8080/",
          "height": 265
        },
        "id": "aware-match",
        "outputId": "14e93141-b8e5-4ebd-8925-4b495b781cb3"
      },
      "source": [
        "create_boxplot(word_len)"
      ],
      "id": "aware-match",
      "execution_count": null,
      "outputs": [
        {
          "output_type": "display_data",
          "data": {
            "image/png": "[encoded data removed]",
            "text/plain": [
              "<Figure size 432x288 with 1 Axes>"
            ]
          },
          "metadata": {
            "tags": [],
            "needs_background": "light"
          }
        }
      ]
    },
    {
      "cell_type": "code",
      "metadata": {
        "colab": {
          "base_uri": "https://localhost:8080/"
        },
        "id": "central-initial",
        "outputId": "158ff7d2-5299-4567-f427-13ce6e85c50a"
      },
      "source": [
        "get_ngrams(2, twits, worst=True)"
      ],
      "id": "central-initial",
      "execution_count": null,
      "outputs": [
        {
          "output_type": "stream",
          "text": [
            "Лучшие 10 2-грамм\n",
            "[(('у', 'меня'), 8289), (('я', 'не'), 4470), (('а', 'я'), 3705), (('и', 'не'), 3235), (('не', 'могу'), 2865), (('что', 'я'), 2862), (('у', 'нас'), 2324), (('не', 'знаю'), 2025), (('у', 'тебя'), 1606), (('и', 'я'), 1525)]\n",
            "Худшие 10 2-грамм\n",
            "[(('Лифта', 'то'), 1), (('этаж', 'Лифта'), 1), (('пятый', 'этаж'), 1), (('на', 'пятый'), 1), (('втащили', 'на'), 1), (('меня', 'втащили'), 1), (('приплатить', 'чтобы'), 1), (('Раздумываю', 'приплатить'), 1), (('работу', 'Раздумываю'), 1), (('Такси', 'везет'), 1)]\n"
          ],
          "name": "stdout"
        }
      ]
    },
    {
      "cell_type": "code",
      "metadata": {
        "id": "sound-crown",
        "colab": {
          "base_uri": "https://localhost:8080/"
        },
        "outputId": "88ee4593-9afd-42df-af94-ae926c731f16"
      },
      "source": [
        "get_frequent_words(' '.join(twits), top=10)"
      ],
      "id": "sound-crown",
      "execution_count": null,
      "outputs": [
        {
          "output_type": "execute_result",
          "data": {
            "text/plain": [
              "[('не', 69374),\n",
              " (')', 65535),\n",
              " ('и', 55018),\n",
              " ('(', 54483),\n",
              " ('в', 52888),\n",
              " ('я', 52612),\n",
              " ('на', 35716),\n",
              " (':(', 33682),\n",
              " ('что', 31522),\n",
              " ('а', 26712)]"
            ]
          },
          "metadata": {
            "tags": []
          },
          "execution_count": 28
        }
      ]
    },
    {
      "cell_type": "markdown",
      "metadata": {
        "id": "micro-lloyd"
      },
      "source": [
        "# Training of the first sentiment model"
      ],
      "id": "micro-lloyd"
    },
    {
      "cell_type": "markdown",
      "metadata": {
        "id": "xMSi3SidWyhm"
      },
      "source": [
        "Algorithm:\n",
        "\n",
        "- creating of word2vec\n",
        "- training model: one of the GBM (i.e. LightGBM, XGBoost) / SVM / ...)"
      ],
      "id": "xMSi3SidWyhm"
    },
    {
      "cell_type": "markdown",
      "metadata": {
        "id": "5g-LCdfjG8R1"
      },
      "source": [
        "## Word2Vec"
      ],
      "id": "5g-LCdfjG8R1"
    },
    {
      "cell_type": "code",
      "metadata": {
        "id": "FNFQBt7QgjJM"
      },
      "source": [
        "def tokenize(X: np.ndarray) -> List[List[str]]:\n",
        "    return [el.strip().split() for el in X] "
      ],
      "id": "FNFQBt7QgjJM",
      "execution_count": null,
      "outputs": []
    },
    {
      "cell_type": "code",
      "metadata": {
        "id": "QOTzrRUP_NbN"
      },
      "source": [
        "twits_tokenized = tokenize(twits)"
      ],
      "id": "QOTzrRUP_NbN",
      "execution_count": null,
      "outputs": []
    },
    {
      "cell_type": "code",
      "metadata": {
        "id": "tbYbXkq-Jfph"
      },
      "source": [
        "VECTOR_SIZE = 100"
      ],
      "id": "tbYbXkq-Jfph",
      "execution_count": null,
      "outputs": []
    },
    {
      "cell_type": "code",
      "metadata": {
        "id": "precious-sweden"
      },
      "source": [
        "w2v_model = gensim.models.Word2Vec(sentences=twits_tokenized,\n",
        "                                     size=VECTOR_SIZE, \n",
        "                                     window=10, min_count=1, sg=1)"
      ],
      "id": "precious-sweden",
      "execution_count": null,
      "outputs": []
    },
    {
      "cell_type": "code",
      "metadata": {
        "colab": {
          "base_uri": "https://localhost:8080/"
        },
        "id": "outdoor-tourist",
        "outputId": "8eed8192-aa53-45ef-c9ac-4e2c930c97e9"
      },
      "source": [
        "w2v_model.wv.most_similar('уроке', topn=10)"
      ],
      "id": "outdoor-tourist",
      "execution_count": null,
      "outputs": [
        {
          "output_type": "execute_result",
          "data": {
            "text/plain": [
              "[('уроках', 0.8779839277267456),\n",
              " ('географии', 0.8455512523651123),\n",
              " ('перемене', 0.840225100517273),\n",
              " ('физ-ре', 0.8396453857421875),\n",
              " ('самостоятельную', 0.8381562232971191),\n",
              " ('Учитель', 0.8363189101219177),\n",
              " ('биологии', 0.8352177143096924),\n",
              " ('матем', 0.8349128365516663),\n",
              " ('укр', 0.8287764191627502),\n",
              " ('обж', 0.8268444538116455)]"
            ]
          },
          "metadata": {
            "tags": []
          },
          "execution_count": 66
        }
      ]
    },
    {
      "cell_type": "code",
      "metadata": {
        "colab": {
          "base_uri": "https://localhost:8080/"
        },
        "id": "korean-fountain",
        "outputId": "d80caad0-97f6-4989-a4ff-89c0fa8a1d0c"
      },
      "source": [
        "w2v_model.wv['улице']"
      ],
      "id": "korean-fountain",
      "execution_count": null,
      "outputs": [
        {
          "output_type": "execute_result",
          "data": {
            "text/plain": [
              "array([ 0.37868282, -0.3461936 , -0.39527294,  0.15524021, -0.15521859,\n",
              "       -0.47789642, -0.29967478,  0.08862143, -0.6672601 ,  1.0189778 ,\n",
              "        0.6314346 , -0.1983034 ,  0.13989499,  0.3321629 ,  0.49181437,\n",
              "       -0.2103866 ,  0.42957187, -0.01277212,  0.20695168, -0.1495388 ,\n",
              "        0.14975066,  0.75027496,  0.324704  , -0.06900626,  0.5726902 ,\n",
              "        0.6447787 ,  0.39280292,  0.06173901, -0.47403884,  0.0062482 ,\n",
              "        0.16657075, -0.9465925 ,  0.25989532, -0.13866445,  0.36634824,\n",
              "       -0.4100706 , -0.56737775, -0.6240521 , -0.15733676,  0.48778093,\n",
              "       -0.26115605,  0.6265135 , -0.05875947,  0.09641584,  1.5054127 ,\n",
              "        0.49990627,  0.51937455,  0.21791631, -0.20129858,  0.34843814,\n",
              "        0.8545033 , -0.9019192 , -0.6282438 ,  0.60777456, -0.45367473,\n",
              "        0.3851915 ,  0.32540357, -0.22775032, -0.01167135,  0.7138916 ,\n",
              "        0.37774864,  0.5288137 ,  0.12523125, -0.22165766,  0.16960222,\n",
              "       -0.54994035, -1.1232667 ,  0.627229  , -0.64692026, -0.41528967,\n",
              "       -0.27433595, -0.50850224, -0.26739416, -0.006948  ,  0.49467453,\n",
              "       -0.16185133,  0.21284877, -0.3708338 , -0.22541219, -0.2808717 ,\n",
              "       -0.22324689,  0.86622965, -0.1945142 ,  0.5365167 ,  0.2010957 ,\n",
              "       -0.30343926, -0.40053996, -0.27014583,  0.11573801,  0.16719216,\n",
              "       -0.2943784 , -0.5131365 ,  0.24280934, -0.23888502, -0.00309086,\n",
              "       -0.2126236 , -0.03459527,  1.1200958 ,  0.18317665,  0.24314083],\n",
              "      dtype=float32)"
            ]
          },
          "metadata": {
            "tags": []
          },
          "execution_count": 67
        }
      ]
    },
    {
      "cell_type": "markdown",
      "metadata": {
        "id": "TsyTMLOhHLSX"
      },
      "source": [
        "## DataBuilder"
      ],
      "id": "TsyTMLOhHLSX"
    },
    {
      "cell_type": "markdown",
      "metadata": {
        "id": "YZ19a0wcYN4-"
      },
      "source": [
        "Разобьем данные на train/test."
      ],
      "id": "YZ19a0wcYN4-"
    },
    {
      "cell_type": "code",
      "metadata": {
        "id": "acknowledged-saskatchewan"
      },
      "source": [
        "X_train, X_test, y_train, y_test = train_test_split(twits_tokenized, labels,\n",
        "                                                    test_size=0.2,\n",
        "                                                    random_state=42)"
      ],
      "id": "acknowledged-saskatchewan",
      "execution_count": null,
      "outputs": []
    },
    {
      "cell_type": "code",
      "metadata": {
        "id": "ojXHELZAiVZr"
      },
      "source": [
        "def get_mean_vec(X: List[List[str]],\n",
        "                  model: gensim.models.Word2Vec) -> List[np.ndarray]:\n",
        "    vec_representations = []\n",
        "\n",
        "    for sentence in X:\n",
        "        vec_representation = sum(model.wv[token] for token in sentence)\n",
        "        vec_representations.append(vec_representation / len(sentence)) \n",
        "\n",
        "    return vec_representations        "
      ],
      "id": "ojXHELZAiVZr",
      "execution_count": null,
      "outputs": []
    },
    {
      "cell_type": "markdown",
      "metadata": {
        "id": "fUISwUSIF-6i"
      },
      "source": [
        "Посчитаем среднее значение векторов, входящих в твит."
      ],
      "id": "fUISwUSIF-6i"
    },
    {
      "cell_type": "code",
      "metadata": {
        "id": "hourly-journalist",
        "colab": {
          "base_uri": "https://localhost:8080/"
        },
        "outputId": "aec8c840-ea30-478d-d7d7-f19c3db06ab7"
      },
      "source": [
        "X_train_vectorized = get_mean_vec(X_train, w2v_model)\n",
        "X_test_vectorized = get_mean_vec(X_test, w2v_model)"
      ],
      "id": "hourly-journalist",
      "execution_count": null,
      "outputs": [
        {
          "output_type": "stream",
          "text": [
            "100%|██████████| 181467/181467 [00:08<00:00, 22214.87it/s]\n",
            "100%|██████████| 45367/45367 [00:02<00:00, 22454.11it/s]\n"
          ],
          "name": "stderr"
        }
      ]
    },
    {
      "cell_type": "markdown",
      "metadata": {
        "id": "natural-metabolism"
      },
      "source": [
        "## XGBoost"
      ],
      "id": "natural-metabolism"
    },
    {
      "cell_type": "code",
      "metadata": {
        "colab": {
          "base_uri": "https://localhost:8080/"
        },
        "id": "foreign-recruitment",
        "outputId": "83a7fed5-1341-4f43-acf4-7e62fe451d55"
      },
      "source": [
        "xgboost_model = xgboost.XGBClassifier(n_estimators=200)\n",
        "xgboost_model.fit(np.array(X_train_vectorized), y_train)"
      ],
      "id": "foreign-recruitment",
      "execution_count": null,
      "outputs": [
        {
          "output_type": "execute_result",
          "data": {
            "text/plain": [
              "XGBClassifier(base_score=0.5, booster='gbtree', colsample_bylevel=1,\n",
              "              colsample_bynode=1, colsample_bytree=1, gamma=0,\n",
              "              learning_rate=0.1, max_delta_step=0, max_depth=3,\n",
              "              min_child_weight=1, missing=None, n_estimators=200, n_jobs=1,\n",
              "              nthread=None, objective='binary:logistic', random_state=0,\n",
              "              reg_alpha=0, reg_lambda=1, scale_pos_weight=1, seed=None,\n",
              "              silent=None, subsample=1, verbosity=1)"
            ]
          },
          "metadata": {},
          "execution_count": 31
        }
      ]
    },
    {
      "cell_type": "code",
      "metadata": {
        "id": "86hdNdwZQIS-"
      },
      "source": [
        "file_name = '/content/gdrive/MyDrive/Project/Models/xgb_model.pickle'\n",
        "# with open(file_name, \"wb\") as f:\n",
        "#     pickle.dump(xgboost_model, f)"
      ],
      "id": "86hdNdwZQIS-",
      "execution_count": null,
      "outputs": []
    },
    {
      "cell_type": "code",
      "metadata": {
        "id": "tvidACBORQjq"
      },
      "source": [
        "with open(file_name, \"rb\") as f:\n",
        "    xgboost_model = pickle.load(f)"
      ],
      "id": "tvidACBORQjq",
      "execution_count": null,
      "outputs": []
    },
    {
      "cell_type": "code",
      "metadata": {
        "id": "fzTo3f1fY7aX"
      },
      "source": [
        "# xgboost_model.save_model(\"model_xgboost.json\")"
      ],
      "id": "fzTo3f1fY7aX",
      "execution_count": null,
      "outputs": []
    },
    {
      "cell_type": "code",
      "metadata": {
        "colab": {
          "base_uri": "https://localhost:8080/"
        },
        "id": "subtle-burke",
        "outputId": "9b6cdea7-8262-4ba5-aa20-0344edffd86c"
      },
      "source": [
        "y_pred = xgboost_model.predict(np.array(X_test_vectorized))\n",
        "accuracy = accuracy_score(y_test, y_pred)\n",
        "print(\"Accuracy: %.2f%%\" % (accuracy * 100.0))\n",
        "# 76.70% с /len(X_right_test[i]) с ! \n",
        "# 69.93% без /len(X_right_test[i])\n",
        "# 77.43% с /len(X_right_test[i]) и без !\n",
        "# 80.04%\n",
        "# 86.12%\n",
        "# 85.54%\n",
        "# 86.79%\n",
        "# 88.59%\n",
        "# 90.26%"
      ],
      "id": "subtle-burke",
      "execution_count": null,
      "outputs": [
        {
          "output_type": "stream",
          "text": [
            "Accuracy: 93.05%\n"
          ],
          "name": "stdout"
        }
      ]
    },
    {
      "cell_type": "code",
      "metadata": {
        "colab": {
          "base_uri": "https://localhost:8080/",
          "height": 296
        },
        "id": "5uaznVlrRvZI",
        "outputId": "85ed74b4-3914-42fa-9d2b-c6aa379bc19f"
      },
      "source": [
        "y_score = xgboost_model.predict_proba(X_test_vectorized)\n",
        "print(roc_auc_score(y_test, y_score[:, 1]))\n",
        "\n",
        "metrics.plot_roc_curve(xgboost_model, X_test_vectorized, y_test)  \n",
        "plt.show()                               "
      ],
      "id": "5uaznVlrRvZI",
      "execution_count": null,
      "outputs": [
        {
          "output_type": "stream",
          "text": [
            "0.9819850197792124\n"
          ],
          "name": "stdout"
        },
        {
          "output_type": "display_data",
          "data": {
            "image/png": "[encoded data removed]",
            "text/plain": [
              "<Figure size 432x288 with 1 Axes>"
            ]
          },
          "metadata": {
            "needs_background": "light"
          }
        }
      ]
    },
    {
      "cell_type": "code",
      "metadata": {
        "colab": {
          "base_uri": "https://localhost:8080/"
        },
        "id": "quarterly-paraguay",
        "outputId": "673d1cbf-82b5-4679-d7c2-d6fc02c8c485"
      },
      "source": [
        "print(classification_report(y_test,y_pred))"
      ],
      "id": "quarterly-paraguay",
      "execution_count": null,
      "outputs": [
        {
          "output_type": "stream",
          "text": [
            "              precision    recall  f1-score   support\n",
            "\n",
            "           0       0.93      0.92      0.93     22480\n",
            "           1       0.93      0.94      0.93     22887\n",
            "\n",
            "    accuracy                           0.93     45367\n",
            "   macro avg       0.93      0.93      0.93     45367\n",
            "weighted avg       0.93      0.93      0.93     45367\n",
            "\n"
          ],
          "name": "stdout"
        }
      ]
    },
    {
      "cell_type": "code",
      "metadata": {
        "colab": {
          "base_uri": "https://localhost:8080/"
        },
        "id": "serial-enemy",
        "outputId": "ca58da3d-5127-4b1d-e2ad-e5d0393c3b6b"
      },
      "source": [
        "conf_m = pd.crosstab(y_test, y_pred, rownames=['Actual'], colnames=['Predicted'])\n",
        "print(conf_m)"
      ],
      "id": "serial-enemy",
      "execution_count": null,
      "outputs": [
        {
          "output_type": "stream",
          "text": [
            "Predicted      0      1\n",
            "Actual                 \n",
            "0          20776   1704\n",
            "1           1450  21437\n"
          ],
          "name": "stdout"
        }
      ]
    },
    {
      "cell_type": "markdown",
      "metadata": {
        "id": "objective-nirvana"
      },
      "source": [
        "## LIGHTGBM\n"
      ],
      "id": "objective-nirvana"
    },
    {
      "cell_type": "code",
      "metadata": {
        "colab": {
          "base_uri": "https://localhost:8080/"
        },
        "id": "authorized-fault",
        "outputId": "3d3e0dca-6a97-4187-fecd-af9564ce661c"
      },
      "source": [
        "clf = lgb.LGBMClassifier(learning_rate=0.1)\n",
        "clf.fit(X_train_vectorized, y_train)"
      ],
      "id": "authorized-fault",
      "execution_count": null,
      "outputs": [
        {
          "output_type": "execute_result",
          "data": {
            "text/plain": [
              "LGBMClassifier(boosting_type='gbdt', class_weight=None, colsample_bytree=1.0,\n",
              "               importance_type='split', learning_rate=0.1, max_depth=-1,\n",
              "               min_child_samples=20, min_child_weight=0.001, min_split_gain=0.0,\n",
              "               n_estimators=100, n_jobs=-1, num_leaves=31, objective=None,\n",
              "               random_state=None, reg_alpha=0.0, reg_lambda=0.0, silent=True,\n",
              "               subsample=1.0, subsample_for_bin=200000, subsample_freq=0)"
            ]
          },
          "metadata": {
            "tags": []
          },
          "execution_count": 37
        }
      ]
    },
    {
      "cell_type": "code",
      "metadata": {
        "id": "spanish-garlic"
      },
      "source": [
        "y_pred=clf.predict(X_test_vectorized)"
      ],
      "id": "spanish-garlic",
      "execution_count": null,
      "outputs": []
    },
    {
      "cell_type": "code",
      "metadata": {
        "colab": {
          "base_uri": "https://localhost:8080/"
        },
        "id": "noticed-proof",
        "outputId": "f7ce64ff-1d00-4eb9-ae98-fbe00963d425"
      },
      "source": [
        "accuracy=accuracy_score(y_pred, y_test)\n",
        "print('LightGBM Model accuracy score: {0:0.4f}'.format(accuracy_score(y_test, y_pred)))\n",
        "# 0.7822\n",
        "# 0.7708\n",
        "# 0.8611"
      ],
      "id": "noticed-proof",
      "execution_count": null,
      "outputs": [
        {
          "output_type": "stream",
          "text": [
            "LightGBM Model accuracy score: 0.9013\n"
          ],
          "name": "stdout"
        }
      ]
    },
    {
      "cell_type": "code",
      "metadata": {
        "colab": {
          "base_uri": "https://localhost:8080/"
        },
        "id": "rocky-tenant",
        "outputId": "e3170551-a1a7-44af-e45f-940b963950f2"
      },
      "source": [
        "print(classification_report(y_test, y_pred))"
      ],
      "id": "rocky-tenant",
      "execution_count": null,
      "outputs": [
        {
          "output_type": "stream",
          "text": [
            "              precision    recall  f1-score   support\n",
            "\n",
            "           0       0.90      0.91      0.90     22480\n",
            "           1       0.91      0.90      0.90     22887\n",
            "\n",
            "    accuracy                           0.90     45367\n",
            "   macro avg       0.90      0.90      0.90     45367\n",
            "weighted avg       0.90      0.90      0.90     45367\n",
            "\n"
          ],
          "name": "stdout"
        }
      ]
    },
    {
      "cell_type": "code",
      "metadata": {
        "colab": {
          "base_uri": "https://localhost:8080/",
          "height": 296
        },
        "id": "412PD_BoS1kr",
        "outputId": "c29553da-532d-4b95-9a3b-c10026eaf997"
      },
      "source": [
        "y_score = clf.predict_proba(X_test_vectorized)\n",
        "print(roc_auc_score(y_test, y_score[:, 1]))\n",
        "\n",
        "metrics.plot_roc_curve(clf, X_test_vectorized, y_test)  \n",
        "plt.show()  "
      ],
      "id": "412PD_BoS1kr",
      "execution_count": null,
      "outputs": [
        {
          "output_type": "stream",
          "text": [
            "0.9650717669916892\n"
          ],
          "name": "stdout"
        },
        {
          "output_type": "display_data",
          "data": {
            "image/png": "[encoded data removed]",
            "text/plain": [
              "<Figure size 432x288 with 1 Axes>"
            ]
          },
          "metadata": {
            "tags": [],
            "needs_background": "light"
          }
        }
      ]
    },
    {
      "cell_type": "markdown",
      "metadata": {
        "id": "acpmIDys1BT5"
      },
      "source": [
        "## Random Forest"
      ],
      "id": "acpmIDys1BT5"
    },
    {
      "cell_type": "code",
      "metadata": {
        "colab": {
          "base_uri": "https://localhost:8080/"
        },
        "id": "bkX4u1prF7hC",
        "outputId": "2e5e7b48-c743-4517-ac67-5d0712e0302f"
      },
      "source": [
        "clf = RandomForestClassifier(max_depth=2, random_state=42, n_estimators = 200)\n",
        "clf.fit(X_train_vectorized, y_train)"
      ],
      "id": "bkX4u1prF7hC",
      "execution_count": null,
      "outputs": [
        {
          "output_type": "execute_result",
          "data": {
            "text/plain": [
              "RandomForestClassifier(bootstrap=True, ccp_alpha=0.0, class_weight=None,\n",
              "                       criterion='gini', max_depth=2, max_features='auto',\n",
              "                       max_leaf_nodes=None, max_samples=None,\n",
              "                       min_impurity_decrease=0.0, min_impurity_split=None,\n",
              "                       min_samples_leaf=1, min_samples_split=2,\n",
              "                       min_weight_fraction_leaf=0.0, n_estimators=200,\n",
              "                       n_jobs=None, oob_score=False, random_state=42, verbose=0,\n",
              "                       warm_start=False)"
            ]
          },
          "metadata": {
            "tags": []
          },
          "execution_count": 42
        }
      ]
    },
    {
      "cell_type": "code",
      "metadata": {
        "id": "KuHEmNN9GAfL"
      },
      "source": [
        "y_pred = clf.predict(X_test_vectorized)"
      ],
      "id": "KuHEmNN9GAfL",
      "execution_count": null,
      "outputs": []
    },
    {
      "cell_type": "code",
      "metadata": {
        "colab": {
          "base_uri": "https://localhost:8080/"
        },
        "id": "HNPIW_cnGF4k",
        "outputId": "aab14552-db03-4b0b-c76b-c85e18b1ee4d"
      },
      "source": [
        "# accuracy=accuracy_score(y_pred, y_test)\n",
        "print('Random forest Model accuracy score: {0:0.4f}'.format(accuracy_score(y_test, y_pred)))"
      ],
      "id": "HNPIW_cnGF4k",
      "execution_count": null,
      "outputs": [
        {
          "output_type": "stream",
          "text": [
            "Random forest Model accuracy score: 0.8189\n"
          ],
          "name": "stdout"
        }
      ]
    },
    {
      "cell_type": "code",
      "metadata": {
        "colab": {
          "base_uri": "https://localhost:8080/"
        },
        "id": "FE0kGhdKyin-",
        "outputId": "a4b9e9ff-39e6-4f0b-d1f4-bb12cbb6dbce"
      },
      "source": [
        "print(classification_report(y_test, y_pred))"
      ],
      "id": "FE0kGhdKyin-",
      "execution_count": null,
      "outputs": [
        {
          "output_type": "stream",
          "text": [
            "              precision    recall  f1-score   support\n",
            "\n",
            "           0       0.82      0.81      0.82     22480\n",
            "           1       0.82      0.83      0.82     22887\n",
            "\n",
            "    accuracy                           0.82     45367\n",
            "   macro avg       0.82      0.82      0.82     45367\n",
            "weighted avg       0.82      0.82      0.82     45367\n",
            "\n"
          ],
          "name": "stdout"
        }
      ]
    },
    {
      "cell_type": "markdown",
      "metadata": {
        "id": "Cvnk4z_nJL3a"
      },
      "source": [
        "## Простая нейронная сеть"
      ],
      "id": "Cvnk4z_nJL3a"
    },
    {
      "cell_type": "code",
      "metadata": {
        "colab": {
          "base_uri": "https://localhost:8080/"
        },
        "id": "-yi2b9GebL32",
        "outputId": "c7fe2042-90c7-437c-eef6-a19e65143db3"
      },
      "source": [
        "class Net(nn.Module):\n",
        "    def __init__(self, input_dim: int, output_dim: int = 2):\n",
        "        super().__init__()\n",
        "        self.fc1 = nn.Linear(input_dim, 128)\n",
        "        self.fc2 = nn.Linear(128, 64)\n",
        "        self.fc3 = nn.Linear(64, 32)\n",
        "        self.fc4 = nn.Linear(32, output_dim)\n",
        "\n",
        "    def forward(self, x):\n",
        "        x = F.relu(self.fc1(x))\n",
        "        x = F.relu(self.fc2(x))\n",
        "        x = F.relu(self.fc3(x))\n",
        "        x = self.fc4(x)\n",
        "        return torch.sigmoid(x)\n",
        "\n",
        "net = Net(VECTOR_SIZE)\n",
        "print(net)"
      ],
      "id": "-yi2b9GebL32",
      "execution_count": null,
      "outputs": [
        {
          "output_type": "stream",
          "text": [
            "Net(\n",
            "  (fc1): Linear(in_features=100, out_features=128, bias=True)\n",
            "  (fc2): Linear(in_features=128, out_features=64, bias=True)\n",
            "  (fc3): Linear(in_features=64, out_features=32, bias=True)\n",
            "  (fc4): Linear(in_features=32, out_features=2, bias=True)\n",
            ")\n"
          ],
          "name": "stdout"
        }
      ]
    },
    {
      "cell_type": "code",
      "metadata": {
        "id": "0_GFvX2GxG0a"
      },
      "source": [
        "y_train_new = [np.eye(2)[i] for i in y_train]\n",
        "y_test_new = [np.eye(2)[i] for i in y_test]"
      ],
      "id": "0_GFvX2GxG0a",
      "execution_count": null,
      "outputs": []
    },
    {
      "cell_type": "code",
      "metadata": {
        "id": "hvpfb_a9d9P5"
      },
      "source": [
        "X_train_net = torch.Tensor(X_train_vectorized)\n",
        "y_train_net = torch.Tensor(y_train_new)"
      ],
      "id": "hvpfb_a9d9P5",
      "execution_count": null,
      "outputs": []
    },
    {
      "cell_type": "code",
      "metadata": {
        "id": "WPFeiBPKe1Lt"
      },
      "source": [
        "optimizer = optim.Adam(net.parameters(), lr=0.001)\n",
        "loss_function = nn.MSELoss()"
      ],
      "id": "WPFeiBPKe1Lt",
      "execution_count": null,
      "outputs": []
    },
    {
      "cell_type": "code",
      "metadata": {
        "colab": {
          "base_uri": "https://localhost:8080/"
        },
        "id": "42A3ZJSVe3Qz",
        "outputId": "b083fa88-59c0-41b1-ec83-24224cce5e55"
      },
      "source": [
        "BATCH_SIZE = 128\n",
        "EPOCHS = 30\n",
        "\n",
        "for epoch in tqdm(range(EPOCHS), position=0, leave=True):\n",
        "    random_index = np.random.permutation(len(X_train_net))\n",
        "    X_train_net = X_train_net[random_index]\n",
        "    y_train_net = y_train_net[random_index]\n",
        "\n",
        "    for i in range(0, len(X_train_net), BATCH_SIZE): \n",
        "\n",
        "        batch_X = X_train_net[i:i+BATCH_SIZE]\n",
        "        batch_y = y_train_net[i:i+BATCH_SIZE]\n",
        "\n",
        "        net.zero_grad()\n",
        "\n",
        "        outputs = net(batch_X)\n",
        "        loss = loss_function(outputs, batch_y)\n",
        "        loss.backward()\n",
        "        optimizer.step()    \n",
        "\n",
        "    print(f\"Epoch: {epoch}. Loss: {loss}\")"
      ],
      "id": "42A3ZJSVe3Qz",
      "execution_count": null,
      "outputs": [
        {
          "output_type": "stream",
          "text": [
            "  3%|▎         | 1/30 [00:01<00:53,  1.85s/it]"
          ],
          "name": "stderr"
        },
        {
          "output_type": "stream",
          "text": [
            "Epoch: 0. Loss: 0.042906370013952255\n"
          ],
          "name": "stdout"
        },
        {
          "output_type": "stream",
          "text": [
            "\r  7%|▋         | 2/30 [00:03<00:50,  1.81s/it]"
          ],
          "name": "stderr"
        },
        {
          "output_type": "stream",
          "text": [
            "Epoch: 1. Loss: 0.04011097922921181\n"
          ],
          "name": "stdout"
        },
        {
          "output_type": "stream",
          "text": [
            "\r 10%|█         | 3/30 [00:05<00:47,  1.77s/it]"
          ],
          "name": "stderr"
        },
        {
          "output_type": "stream",
          "text": [
            "Epoch: 2. Loss: 0.0701151117682457\n"
          ],
          "name": "stdout"
        },
        {
          "output_type": "stream",
          "text": [
            "\r 13%|█▎        | 4/30 [00:07<00:46,  1.78s/it]"
          ],
          "name": "stderr"
        },
        {
          "output_type": "stream",
          "text": [
            "Epoch: 3. Loss: 0.03633669763803482\n"
          ],
          "name": "stdout"
        },
        {
          "output_type": "stream",
          "text": [
            "\r 17%|█▋        | 5/30 [00:08<00:44,  1.77s/it]"
          ],
          "name": "stderr"
        },
        {
          "output_type": "stream",
          "text": [
            "Epoch: 4. Loss: 0.030286595225334167\n"
          ],
          "name": "stdout"
        },
        {
          "output_type": "stream",
          "text": [
            "\r 20%|██        | 6/30 [00:10<00:42,  1.77s/it]"
          ],
          "name": "stderr"
        },
        {
          "output_type": "stream",
          "text": [
            "Epoch: 5. Loss: 0.028106985613703728\n"
          ],
          "name": "stdout"
        },
        {
          "output_type": "stream",
          "text": [
            "\r 23%|██▎       | 7/30 [00:12<00:40,  1.76s/it]"
          ],
          "name": "stderr"
        },
        {
          "output_type": "stream",
          "text": [
            "Epoch: 6. Loss: 0.005425756797194481\n"
          ],
          "name": "stdout"
        },
        {
          "output_type": "stream",
          "text": [
            "\r 27%|██▋       | 8/30 [00:14<00:38,  1.75s/it]"
          ],
          "name": "stderr"
        },
        {
          "output_type": "stream",
          "text": [
            "Epoch: 7. Loss: 0.043581992387771606\n"
          ],
          "name": "stdout"
        },
        {
          "output_type": "stream",
          "text": [
            "\r 30%|███       | 9/30 [00:16<00:37,  1.78s/it]"
          ],
          "name": "stderr"
        },
        {
          "output_type": "stream",
          "text": [
            "Epoch: 8. Loss: 0.026541633531451225\n"
          ],
          "name": "stdout"
        },
        {
          "output_type": "stream",
          "text": [
            "\r 33%|███▎      | 10/30 [00:17<00:36,  1.80s/it]"
          ],
          "name": "stderr"
        },
        {
          "output_type": "stream",
          "text": [
            "Epoch: 9. Loss: 0.03696867823600769\n"
          ],
          "name": "stdout"
        },
        {
          "output_type": "stream",
          "text": [
            "\r 37%|███▋      | 11/30 [00:19<00:34,  1.81s/it]"
          ],
          "name": "stderr"
        },
        {
          "output_type": "stream",
          "text": [
            "Epoch: 10. Loss: 0.020819436758756638\n"
          ],
          "name": "stdout"
        },
        {
          "output_type": "stream",
          "text": [
            "\r 40%|████      | 12/30 [00:21<00:32,  1.82s/it]"
          ],
          "name": "stderr"
        },
        {
          "output_type": "stream",
          "text": [
            "Epoch: 11. Loss: 0.03965351730585098\n"
          ],
          "name": "stdout"
        },
        {
          "output_type": "stream",
          "text": [
            "\r 43%|████▎     | 13/30 [00:23<00:31,  1.85s/it]"
          ],
          "name": "stderr"
        },
        {
          "output_type": "stream",
          "text": [
            "Epoch: 12. Loss: 0.037729814648628235\n"
          ],
          "name": "stdout"
        },
        {
          "output_type": "stream",
          "text": [
            "\r 47%|████▋     | 14/30 [00:25<00:30,  1.88s/it]"
          ],
          "name": "stderr"
        },
        {
          "output_type": "stream",
          "text": [
            "Epoch: 13. Loss: 0.016181737184524536\n"
          ],
          "name": "stdout"
        },
        {
          "output_type": "stream",
          "text": [
            "\r 50%|█████     | 15/30 [00:27<00:27,  1.85s/it]"
          ],
          "name": "stderr"
        },
        {
          "output_type": "stream",
          "text": [
            "Epoch: 14. Loss: 0.035336919128894806\n"
          ],
          "name": "stdout"
        },
        {
          "output_type": "stream",
          "text": [
            "\r 53%|█████▎    | 16/30 [00:28<00:25,  1.84s/it]"
          ],
          "name": "stderr"
        },
        {
          "output_type": "stream",
          "text": [
            "Epoch: 15. Loss: 0.0403812974691391\n"
          ],
          "name": "stdout"
        },
        {
          "output_type": "stream",
          "text": [
            "\r 57%|█████▋    | 17/30 [00:30<00:23,  1.83s/it]"
          ],
          "name": "stderr"
        },
        {
          "output_type": "stream",
          "text": [
            "Epoch: 16. Loss: 0.022487066686153412\n"
          ],
          "name": "stdout"
        },
        {
          "output_type": "stream",
          "text": [
            "\r 60%|██████    | 18/30 [00:32<00:21,  1.83s/it]"
          ],
          "name": "stderr"
        },
        {
          "output_type": "stream",
          "text": [
            "Epoch: 17. Loss: 0.01756962202489376\n"
          ],
          "name": "stdout"
        },
        {
          "output_type": "stream",
          "text": [
            "\r 63%|██████▎   | 19/30 [00:34<00:20,  1.88s/it]"
          ],
          "name": "stderr"
        },
        {
          "output_type": "stream",
          "text": [
            "Epoch: 18. Loss: 0.024407295510172844\n"
          ],
          "name": "stdout"
        },
        {
          "output_type": "stream",
          "text": [
            "\r 67%|██████▋   | 20/30 [00:36<00:18,  1.87s/it]"
          ],
          "name": "stderr"
        },
        {
          "output_type": "stream",
          "text": [
            "Epoch: 19. Loss: 0.01129075326025486\n"
          ],
          "name": "stdout"
        },
        {
          "output_type": "stream",
          "text": [
            "\r 70%|███████   | 21/30 [00:38<00:17,  1.90s/it]"
          ],
          "name": "stderr"
        },
        {
          "output_type": "stream",
          "text": [
            "Epoch: 20. Loss: 0.033511560410261154\n"
          ],
          "name": "stdout"
        },
        {
          "output_type": "stream",
          "text": [
            "\r 73%|███████▎  | 22/30 [00:40<00:15,  1.89s/it]"
          ],
          "name": "stderr"
        },
        {
          "output_type": "stream",
          "text": [
            "Epoch: 21. Loss: 0.015302380546927452\n"
          ],
          "name": "stdout"
        },
        {
          "output_type": "stream",
          "text": [
            "\r 77%|███████▋  | 23/30 [00:42<00:13,  1.88s/it]"
          ],
          "name": "stderr"
        },
        {
          "output_type": "stream",
          "text": [
            "Epoch: 22. Loss: 0.02193509042263031\n"
          ],
          "name": "stdout"
        },
        {
          "output_type": "stream",
          "text": [
            "\r 80%|████████  | 24/30 [00:44<00:11,  1.88s/it]"
          ],
          "name": "stderr"
        },
        {
          "output_type": "stream",
          "text": [
            "Epoch: 23. Loss: 0.01349778100848198\n"
          ],
          "name": "stdout"
        },
        {
          "output_type": "stream",
          "text": [
            "\r 83%|████████▎ | 25/30 [00:45<00:09,  1.87s/it]"
          ],
          "name": "stderr"
        },
        {
          "output_type": "stream",
          "text": [
            "Epoch: 24. Loss: 0.014044249430298805\n"
          ],
          "name": "stdout"
        },
        {
          "output_type": "stream",
          "text": [
            "\r 87%|████████▋ | 26/30 [00:47<00:07,  1.88s/it]"
          ],
          "name": "stderr"
        },
        {
          "output_type": "stream",
          "text": [
            "Epoch: 25. Loss: 0.0220512505620718\n"
          ],
          "name": "stdout"
        },
        {
          "output_type": "stream",
          "text": [
            "\r 90%|█████████ | 27/30 [00:49<00:05,  1.90s/it]"
          ],
          "name": "stderr"
        },
        {
          "output_type": "stream",
          "text": [
            "Epoch: 26. Loss: 0.0439474880695343\n"
          ],
          "name": "stdout"
        },
        {
          "output_type": "stream",
          "text": [
            "\r 93%|█████████▎| 28/30 [00:51<00:03,  1.91s/it]"
          ],
          "name": "stderr"
        },
        {
          "output_type": "stream",
          "text": [
            "Epoch: 27. Loss: 0.03237636759877205\n"
          ],
          "name": "stdout"
        },
        {
          "output_type": "stream",
          "text": [
            "\r 97%|█████████▋| 29/30 [00:53<00:01,  1.94s/it]"
          ],
          "name": "stderr"
        },
        {
          "output_type": "stream",
          "text": [
            "Epoch: 28. Loss: 0.025036823004484177\n"
          ],
          "name": "stdout"
        },
        {
          "output_type": "stream",
          "text": [
            "100%|██████████| 30/30 [00:55<00:00,  1.86s/it]"
          ],
          "name": "stderr"
        },
        {
          "output_type": "stream",
          "text": [
            "Epoch: 29. Loss: 0.019384413957595825\n"
          ],
          "name": "stdout"
        },
        {
          "output_type": "stream",
          "text": [
            "\n"
          ],
          "name": "stderr"
        }
      ]
    },
    {
      "cell_type": "code",
      "metadata": {
        "id": "kgpnRBrZTzTc"
      },
      "source": [
        "file_name_nn = '/content/gdrive/MyDrive/Project/Models/simle_nn_model.pickle'\n",
        "# with open(file_name_nn, \"wb\") as f:\n",
        "#     pickle.dump(net, f)"
      ],
      "id": "kgpnRBrZTzTc",
      "execution_count": null,
      "outputs": []
    },
    {
      "cell_type": "code",
      "metadata": {
        "id": "la-oRflxUfLr"
      },
      "source": [
        "with open(file_name_nn, \"rb\") as f:\n",
        "    net = pickle.load(f)"
      ],
      "id": "la-oRflxUfLr",
      "execution_count": null,
      "outputs": []
    },
    {
      "cell_type": "code",
      "metadata": {
        "id": "3dk9hOxkzxjj"
      },
      "source": [
        "X_test_net = torch.Tensor(X_test_vectorized)\n",
        "y_test_net = torch.Tensor(y_test_new)"
      ],
      "id": "3dk9hOxkzxjj",
      "execution_count": null,
      "outputs": []
    },
    {
      "cell_type": "code",
      "metadata": {
        "colab": {
          "base_uri": "https://localhost:8080/"
        },
        "id": "UvUA0FsFh4Um",
        "outputId": "b6eb25bc-5963-43b1-fbf2-55c050bf6e03"
      },
      "source": [
        "correct = 0\n",
        "total = 0\n",
        "vect_y_predict = []\n",
        "with torch.no_grad():\n",
        "    for i in tqdm(range(len(X_test_net))):\n",
        "        real_class = torch.argmax(y_test_net[i])\n",
        "        net_out = net(X_test_net[i]) \n",
        "        predicted_class = torch.argmax(net_out)\n",
        "        vect_y_predict.append(predicted_class.item())\n",
        "        if predicted_class == real_class:\n",
        "            correct += 1\n",
        "        total += 1\n",
        "print(\"Accuracy: \", round(correct/total, 3))\n",
        "# 0.891\n",
        "# 0.907\n",
        "# 0.917"
      ],
      "id": "UvUA0FsFh4Um",
      "execution_count": null,
      "outputs": [
        {
          "output_type": "stream",
          "text": [
            "100%|██████████| 45367/45367 [00:04<00:00, 10457.44it/s]"
          ],
          "name": "stderr"
        },
        {
          "output_type": "stream",
          "text": [
            "Accuracy:  0.959\n"
          ],
          "name": "stdout"
        },
        {
          "output_type": "stream",
          "text": [
            "\n"
          ],
          "name": "stderr"
        }
      ]
    },
    {
      "cell_type": "code",
      "metadata": {
        "colab": {
          "base_uri": "https://localhost:8080/"
        },
        "id": "vjyG68pODHRP",
        "outputId": "9931888a-d2f7-4d42-ba66-7a7c96dd793b"
      },
      "source": [
        "print(classification_report(y_test,vect_y_predict))"
      ],
      "id": "vjyG68pODHRP",
      "execution_count": null,
      "outputs": [
        {
          "output_type": "stream",
          "text": [
            "              precision    recall  f1-score   support\n",
            "\n",
            "           0       0.96      0.96      0.96     22480\n",
            "           1       0.96      0.96      0.96     22887\n",
            "\n",
            "    accuracy                           0.96     45367\n",
            "   macro avg       0.96      0.96      0.96     45367\n",
            "weighted avg       0.96      0.96      0.96     45367\n",
            "\n"
          ],
          "name": "stdout"
        }
      ]
    },
    {
      "cell_type": "markdown",
      "metadata": {
        "id": "yellow-hacker"
      },
      "source": [
        "# Extension of word2vec"
      ],
      "id": "yellow-hacker"
    },
    {
      "cell_type": "markdown",
      "metadata": {
        "id": "cZB7MzhIbEUd"
      },
      "source": [
        "Algorithm:\n",
        "\n",
        "- Train TF-IDF model on the normalized corpus\n",
        "- TF = frequency of a word in document, IDF = log(N/#{count of documents with a word})\n",
        "- word2vec.get_vector(word) * idf(word) "
      ],
      "id": "cZB7MzhIbEUd"
    },
    {
      "cell_type": "code",
      "metadata": {
        "id": "25LCB13bF-D6"
      },
      "source": [
        "def compute_tf(text):\n",
        "    tf_text = collections.Counter(text)\n",
        "    for i in tf_text:\n",
        "        tf_text[i] = tf_text[i]/float(len(text))\n",
        "    return tf_text  "
      ],
      "id": "25LCB13bF-D6",
      "execution_count": null,
      "outputs": []
    },
    {
      "cell_type": "code",
      "metadata": {
        "id": "nKzTW6e5GQkc"
      },
      "source": [
        "def compute_idf(word, corpus):\n",
        "    s = sum([1.0 for i in corpus if word in i])\n",
        "    if s == 0:\n",
        "        return math.log10(len(corpus))\n",
        "    return math.log2(len(corpus)/s)"
      ],
      "id": "nKzTW6e5GQkc",
      "execution_count": null,
      "outputs": []
    },
    {
      "cell_type": "code",
      "metadata": {
        "id": "MtmQhAPydqPS"
      },
      "source": [
        "dictionary = corpora.Dictionary(X_train)\n",
        "corpus = [dictionary.doc2bow(text) for text in X_train]\n",
        "tfidf = models.TfidfModel(corpus)"
      ],
      "id": "MtmQhAPydqPS",
      "execution_count": null,
      "outputs": []
    },
    {
      "cell_type": "code",
      "metadata": {
        "colab": {
          "base_uri": "https://localhost:8080/"
        },
        "id": "EgXw3PljRZiV",
        "outputId": "12fb7eb4-60e2-463f-e743-fb6eb8963036"
      },
      "source": [
        "dictionary.token2id['мой']"
      ],
      "id": "EgXw3PljRZiV",
      "execution_count": null,
      "outputs": [
        {
          "output_type": "execute_result",
          "data": {
            "text/plain": [
              "243"
            ]
          },
          "metadata": {},
          "execution_count": 55
        }
      ]
    },
    {
      "cell_type": "code",
      "metadata": {
        "colab": {
          "base_uri": "https://localhost:8080/"
        },
        "id": "DpQyV2Ko01Xw",
        "outputId": "72683ac2-9f17-46ca-d4c9-48bbb172cc8a"
      },
      "source": [
        "tfidf.idfs[dictionary.token2id['мой']]"
      ],
      "id": "DpQyV2Ko01Xw",
      "execution_count": null,
      "outputs": [
        {
          "output_type": "execute_result",
          "data": {
            "text/plain": [
              "6.444900566578848"
            ]
          },
          "metadata": {},
          "execution_count": 56
        }
      ]
    },
    {
      "cell_type": "code",
      "metadata": {
        "colab": {
          "base_uri": "https://localhost:8080/"
        },
        "id": "WsxF5D2HFe8H",
        "outputId": "103306d0-a504-4140-e428-29552340d493"
      },
      "source": [
        "tfidf.idfs[dictionary.token2id[':)']]"
      ],
      "id": "WsxF5D2HFe8H",
      "execution_count": null,
      "outputs": [
        {
          "output_type": "execute_result",
          "data": {
            "text/plain": [
              "3.5928307440544955"
            ]
          },
          "metadata": {},
          "execution_count": 57
        }
      ]
    },
    {
      "cell_type": "code",
      "metadata": {
        "colab": {
          "base_uri": "https://localhost:8080/"
        },
        "id": "QjFgE51Ed7k1",
        "outputId": "9cc03235-13cc-4ec0-eeeb-5daf0178e328"
      },
      "source": [
        "#сделать функцию для test и train\n",
        "X_vec_idf = []\n",
        "for i in tqdm(range(len(X_train))):\n",
        "    ans = 0\n",
        "    for el in X_train[i]:\n",
        "        ans += w2v_model.wv[el] * tfidf.idfs[dictionary.token2id[el]]\n",
        "                                                    \n",
        "    X_vec_idf.append(ans)"
      ],
      "id": "QjFgE51Ed7k1",
      "execution_count": null,
      "outputs": [
        {
          "output_type": "stream",
          "text": [
            "100%|██████████| 181467/181467 [00:12<00:00, 14921.28it/s]\n"
          ],
          "name": "stderr"
        }
      ]
    },
    {
      "cell_type": "markdown",
      "metadata": {
        "id": "3TqGwpq_GoF0"
      },
      "source": [
        "Обучим модель"
      ],
      "id": "3TqGwpq_GoF0"
    },
    {
      "cell_type": "code",
      "metadata": {
        "colab": {
          "base_uri": "https://localhost:8080/"
        },
        "id": "-mrBcneJDNLz",
        "outputId": "70d96049-af5a-4ad3-d424-7897cf35a2bf"
      },
      "source": [
        "model_extended_xgb = xgboost.XGBClassifier()\n",
        "model_extended_xgb.fit(np.array(X_vec_idf), y_train)"
      ],
      "id": "-mrBcneJDNLz",
      "execution_count": null,
      "outputs": [
        {
          "output_type": "execute_result",
          "data": {
            "text/plain": [
              "XGBClassifier(base_score=0.5, booster='gbtree', colsample_bylevel=1,\n",
              "              colsample_bynode=1, colsample_bytree=1, gamma=0,\n",
              "              learning_rate=0.1, max_delta_step=0, max_depth=3,\n",
              "              min_child_weight=1, missing=None, n_estimators=100, n_jobs=1,\n",
              "              nthread=None, objective='binary:logistic', random_state=0,\n",
              "              reg_alpha=0, reg_lambda=1, scale_pos_weight=1, seed=None,\n",
              "              silent=None, subsample=1, verbosity=1)"
            ]
          },
          "metadata": {},
          "execution_count": 60
        }
      ]
    },
    {
      "cell_type": "code",
      "metadata": {
        "id": "Ov4ko-RPVCxX"
      },
      "source": [
        "file_name_ext = '/content/gdrive/MyDrive/Project/Models/extended_xgb_model.pickle'\n",
        "with open(file_name_ext, \"wb\") as f:\n",
        "    pickle.dump(model_extended_xgb, f)"
      ],
      "id": "Ov4ko-RPVCxX",
      "execution_count": null,
      "outputs": []
    },
    {
      "cell_type": "code",
      "metadata": {
        "id": "SMlqsJJHVRcu"
      },
      "source": [
        "with open(file_name_ext, \"rb\") as f:\n",
        "    model_extended_xgb = pickle.load(f)"
      ],
      "id": "SMlqsJJHVRcu",
      "execution_count": null,
      "outputs": []
    },
    {
      "cell_type": "code",
      "metadata": {
        "colab": {
          "base_uri": "https://localhost:8080/"
        },
        "id": "uj7r8IPMenXp",
        "outputId": "44236235-2ee8-4cf8-c6cb-a9811da51c44"
      },
      "source": [
        "X_vec_idf_test = []\n",
        "for i in tqdm(range(len(X_test))):\n",
        "    ans = 0\n",
        "    for el in X_test[i]:\n",
        "        if el in dictionary:\n",
        "          idf = tfidf.idfs[dictionary.token2id[el]]\n",
        "        else:\n",
        "          idf = np.sqrt(len(X_train))  \n",
        "\n",
        "        ans += w2v_model.wv[el] * idf\n",
        "                                                    \n",
        "    X_vec_idf_test.append(ans)"
      ],
      "id": "uj7r8IPMenXp",
      "execution_count": null,
      "outputs": [
        {
          "output_type": "stream",
          "text": [
            "100%|██████████| 45367/45367 [00:04<00:00, 9838.64it/s] \n"
          ],
          "name": "stderr"
        }
      ]
    },
    {
      "cell_type": "code",
      "metadata": {
        "colab": {
          "base_uri": "https://localhost:8080/"
        },
        "id": "DprOmasViDu_",
        "outputId": "e7ea71af-b05f-4a86-d41f-357b2890f700"
      },
      "source": [
        "y_pred = model_extended_xgb.predict(np.array(X_vec_idf_test))\n",
        "predictions = [round(value) for value in y_pred]\n",
        "\n",
        "accuracy = accuracy_score(y_test, predictions)\n",
        "print(\"Accuracy: %.2f%%\" % (accuracy * 100.0))\n",
        "#61.70%\n",
        "#71.20%\n",
        "#75.97%\n",
        "#77.24%"
      ],
      "id": "DprOmasViDu_",
      "execution_count": null,
      "outputs": [
        {
          "output_type": "stream",
          "text": [
            "Accuracy: 76.37%\n"
          ],
          "name": "stdout"
        }
      ]
    },
    {
      "cell_type": "code",
      "metadata": {
        "colab": {
          "base_uri": "https://localhost:8080/"
        },
        "id": "_tuvPCd7arjH",
        "outputId": "e43ac366-532f-4cc1-c9f7-3ec8fb07e038"
      },
      "source": [
        "print(classification_report(y_test, y_pred))"
      ],
      "id": "_tuvPCd7arjH",
      "execution_count": null,
      "outputs": [
        {
          "output_type": "stream",
          "text": [
            "              precision    recall  f1-score   support\n",
            "\n",
            "           0       0.70      0.91      0.79     22480\n",
            "           1       0.88      0.62      0.72     22887\n",
            "\n",
            "    accuracy                           0.76     45367\n",
            "   macro avg       0.79      0.77      0.76     45367\n",
            "weighted avg       0.79      0.76      0.76     45367\n",
            "\n"
          ],
          "name": "stdout"
        }
      ]
    },
    {
      "cell_type": "code",
      "metadata": {
        "id": "HNF-LpmcaWTw"
      },
      "source": [
        "def plot_confusion_matrix(labels, pred_labels):\n",
        "    \n",
        "    fig = plt.figure(figsize = (10, 10));\n",
        "    ax = fig.add_subplot(1, 1, 1);\n",
        "    cm = metrics.confusion_matrix(labels, pred_labels);\n",
        "    cm = metrics.ConfusionMatrixDisplay(cm, display_labels = range(10));\n",
        "    cm.plot(values_format = 'd', cmap = 'Blues', ax = ax)"
      ],
      "id": "HNF-LpmcaWTw",
      "execution_count": null,
      "outputs": []
    },
    {
      "cell_type": "code",
      "metadata": {
        "colab": {
          "base_uri": "https://localhost:8080/",
          "height": 574
        },
        "id": "xgra-NLMhOmI",
        "outputId": "84575edd-5d01-46aa-a461-17eca10fa5f8"
      },
      "source": [
        "plot_confusion_matrix(y_test, y_pred)"
      ],
      "id": "xgra-NLMhOmI",
      "execution_count": null,
      "outputs": [
        {
          "output_type": "display_data",
          "data": {
            "image/png": "[encoded data removed]",
            "text/plain": [
              "<Figure size 720x720 with 2 Axes>"
            ]
          },
          "metadata": {
            "needs_background": "light"
          }
        }
      ]
    },
    {
      "cell_type": "markdown",
      "metadata": {
        "id": "E2QwPAX_HC0-"
      },
      "source": [
        "# Tacatron encoder"
      ],
      "id": "E2QwPAX_HC0-"
    },
    {
      "cell_type": "markdown",
      "metadata": {
        "id": "c-gM70nM9Zct"
      },
      "source": [
        "Теперь построим нейронную сеть, такую как encoder в Tacatron."
      ],
      "id": "c-gM70nM9Zct"
    },
    {
      "cell_type": "code",
      "metadata": {
        "id": "jhPWVCq6B2dU"
      },
      "source": [
        "class Encoder(nn.Module):\n",
        "    def __init__(self, vocab_size: int, embedding_size: int):\n",
        "        super().__init__()\n",
        "        self.embedding_size = embedding_size\n",
        "        self.embed = nn.Embedding(vocab_size, embedding_size)\n",
        "\n",
        "        self.conv1 = nn.Conv1d(36, 8, 4)\n",
        "        self.conv2 = nn.Conv1d(8, 16, 4)\n",
        "        self.conv3 = nn.Conv1d(16, 32, 4)\n",
        "\n",
        "        self.lstm = nn.LSTM(23, 20, bidirectional=True, batch_first=True)\n",
        "        self.fc1 = nn.Linear(32 * 20 * 2, 2)\n",
        "\n",
        "    def forward(self, x: torch.Tensor) -> torch.Tensor:\n",
        "        x = self.embed(x)\n",
        "        x = F.relu(self.conv1(x))\n",
        "        x = F.relu(self.conv2(x))\n",
        "        x = F.relu(self.conv3(x))\n",
        "\n",
        "        packed_output, (hidden, cell) = self.lstm(x)\n",
        "        cat = packed_output\n",
        "        rel = F.relu(cat)\n",
        "        ans = rel.reshape(rel.shape[0], -1)\n",
        "        dense1 = self.fc1(ans)\n",
        "      \n",
        "        return dense1"
      ],
      "id": "jhPWVCq6B2dU",
      "execution_count": null,
      "outputs": []
    },
    {
      "cell_type": "code",
      "metadata": {
        "id": "IQZGMoPk2uBZ"
      },
      "source": [
        "len_pos = len(pos_text)\n",
        "len_neg = len(neg_text)\n",
        "twits = np.concatenate((pos_text, neg_text))\n",
        "labels = [1] * len_pos + [0] * len_neg\n",
        "labels = np.array(labels)"
      ],
      "id": "IQZGMoPk2uBZ",
      "execution_count": null,
      "outputs": []
    },
    {
      "cell_type": "markdown",
      "metadata": {
        "id": "LmdrA3bJfcSh"
      },
      "source": [
        "- Фиксируем длину вектора равным максимальному числу слов в твите. То есть каждому твиту сопоставляем числовой вектор такого размера.\n",
        "\n",
        "- Строим словарь слов (как раньше), но только по твитам из Train.\n",
        "\n",
        "- Зафиксируем 0 (ноль) – как служебный символ. Будем его использовать, когда слова нет.\n",
        "\n",
        "- Зафиксируем 1 (единица) – как служебный символ. Будем использовать, если для слова нет кода.\n",
        "\n",
        "- Теперь можно сделать batch_size = 32."
      ],
      "id": "LmdrA3bJfcSh"
    },
    {
      "cell_type": "code",
      "metadata": {
        "id": "NYNgsT1eM79c"
      },
      "source": [
        "# максимальное число слов в твите\n",
        "def find_max_number(twits: List[List[str]]) -> int:\n",
        "    return max(len(twit) for twit in twits)  "
      ],
      "id": "NYNgsT1eM79c",
      "execution_count": null,
      "outputs": []
    },
    {
      "cell_type": "code",
      "metadata": {
        "colab": {
          "base_uri": "https://localhost:8080/"
        },
        "id": "ZjVomFqINOLX",
        "outputId": "626787cf-1cc4-434d-da92-8ab1a9cd5ef0"
      },
      "source": [
        "max_len = find_max_number(twits_tokenized)\n",
        "max_len"
      ],
      "id": "ZjVomFqINOLX",
      "execution_count": null,
      "outputs": [
        {
          "output_type": "execute_result",
          "data": {
            "text/plain": [
              "36"
            ]
          },
          "metadata": {},
          "execution_count": 34
        }
      ]
    },
    {
      "cell_type": "code",
      "metadata": {
        "id": "p0rFZL5zkO76"
      },
      "source": [
        "# X_train, X_test, y_train, y_test = train_test_split(X_twits, labels, test_size=0.2, random_state=42)"
      ],
      "id": "p0rFZL5zkO76",
      "execution_count": null,
      "outputs": []
    },
    {
      "cell_type": "code",
      "metadata": {
        "id": "GyeGDksdhD_3"
      },
      "source": [
        "def build_dict(twits: List[List[str]], indent=2): # -> Dict[str, int]\n",
        "    X_dict = {}\n",
        "    for twit in twits:\n",
        "        for token in twit:\n",
        "            X_dict[token] = X_dict.get(token, len(X_dict) + indent)\n",
        "\n",
        "    return X_dict"
      ],
      "id": "GyeGDksdhD_3",
      "execution_count": null,
      "outputs": []
    },
    {
      "cell_type": "code",
      "metadata": {
        "id": "tsBcGW3ekbMa"
      },
      "source": [
        "vocabulary = build_dict(X_train)"
      ],
      "id": "tsBcGW3ekbMa",
      "execution_count": null,
      "outputs": []
    },
    {
      "cell_type": "code",
      "metadata": {
        "id": "9xiZWdGYl6fo"
      },
      "source": [
        "# кодируем слова в соответствии со словарем\n",
        "def encode(X, dict_, unk_token: int = 1) -> List[List[int]]:\n",
        "    X_twits_encoded = copy.deepcopy(X)\n",
        "\n",
        "    for n_el, el in enumerate(X_twits_encoded):\n",
        "        for n_i, i in enumerate(el):\n",
        "            # el[n_i] = X_dict.get(i, 1)\n",
        "            el[n_i] = vocabulary.get(i, 1)\n",
        "\n",
        "    return X_twits_encoded     "
      ],
      "id": "9xiZWdGYl6fo",
      "execution_count": null,
      "outputs": []
    },
    {
      "cell_type": "code",
      "metadata": {
        "id": "Q4_bxZ8fpH8W"
      },
      "source": [
        "X_train_encoded = encode(X_train, vocabulary)\n",
        "X_test_encoded = encode(X_test, vocabulary)"
      ],
      "id": "Q4_bxZ8fpH8W",
      "execution_count": null,
      "outputs": []
    },
    {
      "cell_type": "code",
      "metadata": {
        "id": "sgrqB1C-Omzt"
      },
      "source": [
        "# from torch.nn.utils.rnn import pad_sequence\n",
        "# a = torch.ones(30)\n",
        "# b = torch.ones(20)\n",
        "# c = torch.ones(15)\n",
        "# pad_sequence([a, b, c], batch_first=True, padding_value=0).size()"
      ],
      "id": "sgrqB1C-Omzt",
      "execution_count": null,
      "outputs": []
    },
    {
      "cell_type": "code",
      "metadata": {
        "id": "I1EbYDHZpNb6"
      },
      "source": [
        "# добавляем нули, чтобы дополнить вектор до длины = максимальному числу слов в твите\n",
        "def addition(X, number_words=max_len):\n",
        "    X_add = copy.deepcopy(X)\n",
        "    for i, el in enumerate(X):\n",
        "        cur_len = len(el)\n",
        "        add_zero = number_words - cur_len\n",
        "        cur_list = copy.deepcopy(el)\n",
        "        cur_list += [0] * add_zero\n",
        "        X_add[i] = cur_list\n",
        "\n",
        "    return X_add     "
      ],
      "id": "I1EbYDHZpNb6",
      "execution_count": null,
      "outputs": []
    },
    {
      "cell_type": "code",
      "metadata": {
        "id": "AsNy3i7or-mg"
      },
      "source": [
        "X_train_encoded = addition(X_train_encoded)\n",
        "X_test_encoded = addition(X_test_encoded)"
      ],
      "id": "AsNy3i7or-mg",
      "execution_count": null,
      "outputs": []
    },
    {
      "cell_type": "code",
      "metadata": {
        "colab": {
          "base_uri": "https://localhost:8080/"
        },
        "id": "BwmeQ__0uW_v",
        "outputId": "8a7f7aa0-6639-4f9f-ff13-98a6d40d42f6"
      },
      "source": [
        "len(X_test_encoded[0])"
      ],
      "id": "BwmeQ__0uW_v",
      "execution_count": null,
      "outputs": [
        {
          "output_type": "execute_result",
          "data": {
            "text/plain": [
              "36"
            ]
          },
          "metadata": {},
          "execution_count": 84
        }
      ]
    },
    {
      "cell_type": "code",
      "metadata": {
        "id": "uuSq6YnMmeQ8"
      },
      "source": [
        "vocab_size = len(vocabulary) + 2\n",
        "embedding_size = 32"
      ],
      "id": "uuSq6YnMmeQ8",
      "execution_count": null,
      "outputs": []
    },
    {
      "cell_type": "code",
      "metadata": {
        "id": "9nygRkQBOsAY"
      },
      "source": [
        "device = torch.device(\"cuda\" if torch.cuda.is_available() else \"cpu\")"
      ],
      "id": "9nygRkQBOsAY",
      "execution_count": null,
      "outputs": []
    },
    {
      "cell_type": "code",
      "metadata": {
        "id": "cQ5K0AXNvDeK"
      },
      "source": [
        "net = Encoder(vocab_size, embedding_size).to(device)"
      ],
      "id": "cQ5K0AXNvDeK",
      "execution_count": null,
      "outputs": []
    },
    {
      "cell_type": "code",
      "metadata": {
        "id": "r18oug8V0MMz"
      },
      "source": [
        "loss_function = nn.CrossEntropyLoss()\n",
        "optimizer = torch.optim.Adam(net.parameters(), lr=0.01)"
      ],
      "id": "r18oug8V0MMz",
      "execution_count": null,
      "outputs": []
    },
    {
      "cell_type": "code",
      "metadata": {
        "id": "AlUFdJJhLRer"
      },
      "source": [
        "y_train_new = [np.eye(2)[i] for i in y_train]\n",
        "y_test_new = [np.eye(2)[i] for i in y_test]"
      ],
      "id": "AlUFdJJhLRer",
      "execution_count": null,
      "outputs": []
    },
    {
      "cell_type": "code",
      "metadata": {
        "id": "wHvZ2kmdIhJh"
      },
      "source": [
        "BATCH_SIZE = 64\n",
        "EPOCHS = 10"
      ],
      "id": "wHvZ2kmdIhJh",
      "execution_count": null,
      "outputs": []
    },
    {
      "cell_type": "code",
      "metadata": {
        "colab": {
          "base_uri": "https://localhost:8080/"
        },
        "id": "zZk-hHurQBjs",
        "outputId": "8ec30e11-8956-455f-e048-0b5306b6b17f"
      },
      "source": [
        "y_train[:2]"
      ],
      "id": "zZk-hHurQBjs",
      "execution_count": null,
      "outputs": [
        {
          "output_type": "execute_result",
          "data": {
            "text/plain": [
              "array([1, 0])"
            ]
          },
          "metadata": {},
          "execution_count": 91
        }
      ]
    },
    {
      "cell_type": "code",
      "metadata": {
        "colab": {
          "base_uri": "https://localhost:8080/"
        },
        "id": "mi4LA2YCCd_m",
        "outputId": "b2dac66c-9806-402c-9f3b-b6658f3d56e7"
      },
      "source": [
        "for epoch in tqdm(range(EPOCHS)):\n",
        "\n",
        "    for i in range(0, len(X_train_encoded), BATCH_SIZE): \n",
        "\n",
        "        batch_X = torch.LongTensor(X_train_encoded[i:i+BATCH_SIZE]).view(min(BATCH_SIZE, len(X_train_encoded[i:i+BATCH_SIZE])), -1)\n",
        "        batch_y = torch.LongTensor(y_train[i:i+BATCH_SIZE])\n",
        "\n",
        "        # batch_X = pad_sequence([torch.LongTensor(a) for a in X_train_encoded[i:i+BATCH_SIZE]], batch_first=True, padding_value=0)\n",
        "        # batch_y = pad_sequence([torch.LongTensor(a) for a in y_train[i:i+BATCH_SIZE]], batch_first=True, padding_value=0)\n",
        "        batch_X, batch_y = batch_X.to(device), batch_y.to(device)\n",
        "\n",
        "        net.zero_grad()\n",
        "\n",
        "        outputs = net(batch_X)\n",
        "        t = batch_y\n",
        "        loss = loss_function(outputs, t)\n",
        "        loss.backward()\n",
        "        optimizer.step()    \n",
        "\n",
        "    print(f\"Epoch: {epoch}. Loss: {loss}\")"
      ],
      "id": "mi4LA2YCCd_m",
      "execution_count": null,
      "outputs": [
        {
          "output_type": "stream",
          "text": [
            " 10%|█         | 1/10 [00:19<02:51, 19.00s/it]"
          ],
          "name": "stderr"
        },
        {
          "output_type": "stream",
          "text": [
            "Epoch: 0. Loss: 0.07658164948225021\n"
          ],
          "name": "stdout"
        },
        {
          "output_type": "stream",
          "text": [
            "\r 20%|██        | 2/10 [00:37<02:30, 18.86s/it]"
          ],
          "name": "stderr"
        },
        {
          "output_type": "stream",
          "text": [
            "Epoch: 1. Loss: 0.053099680691957474\n"
          ],
          "name": "stdout"
        },
        {
          "output_type": "stream",
          "text": [
            "\r 30%|███       | 3/10 [00:56<02:11, 18.84s/it]"
          ],
          "name": "stderr"
        },
        {
          "output_type": "stream",
          "text": [
            "Epoch: 2. Loss: 0.036094918847084045\n"
          ],
          "name": "stdout"
        },
        {
          "output_type": "stream",
          "text": [
            "\r 40%|████      | 4/10 [01:15<01:52, 18.76s/it]"
          ],
          "name": "stderr"
        },
        {
          "output_type": "stream",
          "text": [
            "Epoch: 3. Loss: 0.0012315807398408651\n"
          ],
          "name": "stdout"
        },
        {
          "output_type": "stream",
          "text": [
            "\r 50%|█████     | 5/10 [01:33<01:33, 18.77s/it]"
          ],
          "name": "stderr"
        },
        {
          "output_type": "stream",
          "text": [
            "Epoch: 4. Loss: 0.0012065015034750104\n"
          ],
          "name": "stdout"
        },
        {
          "output_type": "stream",
          "text": [
            "\r 60%|██████    | 6/10 [01:52<01:15, 18.77s/it]"
          ],
          "name": "stderr"
        },
        {
          "output_type": "stream",
          "text": [
            "Epoch: 5. Loss: 0.016753293573856354\n"
          ],
          "name": "stdout"
        },
        {
          "output_type": "stream",
          "text": [
            "\r 70%|███████   | 7/10 [02:11<00:56, 18.74s/it]"
          ],
          "name": "stderr"
        },
        {
          "output_type": "stream",
          "text": [
            "Epoch: 6. Loss: 0.061529140919446945\n"
          ],
          "name": "stdout"
        },
        {
          "output_type": "stream",
          "text": [
            "\r 80%|████████  | 8/10 [02:30<00:37, 18.76s/it]"
          ],
          "name": "stderr"
        },
        {
          "output_type": "stream",
          "text": [
            "Epoch: 7. Loss: 0.011863750405609608\n"
          ],
          "name": "stdout"
        },
        {
          "output_type": "stream",
          "text": [
            "\r 90%|█████████ | 9/10 [02:48<00:18, 18.72s/it]"
          ],
          "name": "stderr"
        },
        {
          "output_type": "stream",
          "text": [
            "Epoch: 8. Loss: 0.006533307023346424\n"
          ],
          "name": "stdout"
        },
        {
          "output_type": "stream",
          "text": [
            "100%|██████████| 10/10 [03:07<00:00, 18.77s/it]"
          ],
          "name": "stderr"
        },
        {
          "output_type": "stream",
          "text": [
            "Epoch: 9. Loss: 0.0007001767517067492\n"
          ],
          "name": "stdout"
        },
        {
          "output_type": "stream",
          "text": [
            "\n"
          ],
          "name": "stderr"
        }
      ]
    },
    {
      "cell_type": "code",
      "metadata": {
        "id": "uuIsG-6MX-db"
      },
      "source": [
        "file_name_nn = '/content/gdrive/MyDrive/Project/Models/tacatron_encoder_model.pickle'\n",
        "# with open(file_name_nn, \"wb\") as f:\n",
        "#     pickle.dump(net, f)"
      ],
      "id": "uuIsG-6MX-db",
      "execution_count": null,
      "outputs": []
    },
    {
      "cell_type": "code",
      "metadata": {
        "id": "FdZOUtE2YNZT",
        "colab": {
          "base_uri": "https://localhost:8080/",
          "height": 358
        },
        "outputId": "9864582d-4cfd-422c-947e-33e624e8120d"
      },
      "source": [
        "with open(file_name_nn, \"rb\") as f:\n",
        "    net = pickle.load(f)"
      ],
      "id": "FdZOUtE2YNZT",
      "execution_count": null,
      "outputs": [
        {
          "output_type": "error",
          "ename": "RuntimeError",
          "evalue": "ignored",
          "traceback": [
            "\u001b[0;31m---------------------------------------------------------------------------\u001b[0m",
            "\u001b[0;31mRuntimeError\u001b[0m                              Traceback (most recent call last)",
            "\u001b[0;32m<ipython-input-38-5639839cb199>\u001b[0m in \u001b[0;36m<module>\u001b[0;34m()\u001b[0m\n\u001b[1;32m      1\u001b[0m \u001b[0;32mwith\u001b[0m \u001b[0mopen\u001b[0m\u001b[0;34m(\u001b[0m\u001b[0mfile_name_nn\u001b[0m\u001b[0;34m,\u001b[0m \u001b[0;34m\"rb\"\u001b[0m\u001b[0;34m)\u001b[0m \u001b[0;32mas\u001b[0m \u001b[0mf\u001b[0m\u001b[0;34m:\u001b[0m\u001b[0;34m\u001b[0m\u001b[0;34m\u001b[0m\u001b[0m\n\u001b[0;32m----> 2\u001b[0;31m     \u001b[0mnet\u001b[0m \u001b[0;34m=\u001b[0m \u001b[0mpickle\u001b[0m\u001b[0;34m.\u001b[0m\u001b[0mload\u001b[0m\u001b[0;34m(\u001b[0m\u001b[0mf\u001b[0m\u001b[0;34m)\u001b[0m\u001b[0;34m\u001b[0m\u001b[0;34m\u001b[0m\u001b[0m\n\u001b[0m",
            "\u001b[0;32m/usr/local/lib/python3.7/dist-packages/torch/storage.py\u001b[0m in \u001b[0;36m_load_from_bytes\u001b[0;34m(b)\u001b[0m\n\u001b[1;32m    159\u001b[0m \u001b[0;34m\u001b[0m\u001b[0m\n\u001b[1;32m    160\u001b[0m \u001b[0;32mdef\u001b[0m \u001b[0m_load_from_bytes\u001b[0m\u001b[0;34m(\u001b[0m\u001b[0mb\u001b[0m\u001b[0;34m)\u001b[0m\u001b[0;34m:\u001b[0m\u001b[0;34m\u001b[0m\u001b[0;34m\u001b[0m\u001b[0m\n\u001b[0;32m--> 161\u001b[0;31m     \u001b[0;32mreturn\u001b[0m \u001b[0mtorch\u001b[0m\u001b[0;34m.\u001b[0m\u001b[0mload\u001b[0m\u001b[0;34m(\u001b[0m\u001b[0mio\u001b[0m\u001b[0;34m.\u001b[0m\u001b[0mBytesIO\u001b[0m\u001b[0;34m(\u001b[0m\u001b[0mb\u001b[0m\u001b[0;34m)\u001b[0m\u001b[0;34m)\u001b[0m\u001b[0;34m\u001b[0m\u001b[0;34m\u001b[0m\u001b[0m\n\u001b[0m\u001b[1;32m    162\u001b[0m \u001b[0;34m\u001b[0m\u001b[0m\n\u001b[1;32m    163\u001b[0m \u001b[0;34m\u001b[0m\u001b[0m\n",
            "\u001b[0;32m/usr/local/lib/python3.7/dist-packages/torch/serialization.py\u001b[0m in \u001b[0;36mload\u001b[0;34m(f, map_location, pickle_module, **pickle_load_args)\u001b[0m\n\u001b[1;32m    606\u001b[0m                     \u001b[0;32mreturn\u001b[0m \u001b[0mtorch\u001b[0m\u001b[0;34m.\u001b[0m\u001b[0mjit\u001b[0m\u001b[0;34m.\u001b[0m\u001b[0mload\u001b[0m\u001b[0;34m(\u001b[0m\u001b[0mopened_file\u001b[0m\u001b[0;34m)\u001b[0m\u001b[0;34m\u001b[0m\u001b[0;34m\u001b[0m\u001b[0m\n\u001b[1;32m    607\u001b[0m                 \u001b[0;32mreturn\u001b[0m \u001b[0m_load\u001b[0m\u001b[0;34m(\u001b[0m\u001b[0mopened_zipfile\u001b[0m\u001b[0;34m,\u001b[0m \u001b[0mmap_location\u001b[0m\u001b[0;34m,\u001b[0m \u001b[0mpickle_module\u001b[0m\u001b[0;34m,\u001b[0m \u001b[0;34m**\u001b[0m\u001b[0mpickle_load_args\u001b[0m\u001b[0;34m)\u001b[0m\u001b[0;34m\u001b[0m\u001b[0;34m\u001b[0m\u001b[0m\n\u001b[0;32m--> 608\u001b[0;31m         \u001b[0;32mreturn\u001b[0m \u001b[0m_legacy_load\u001b[0m\u001b[0;34m(\u001b[0m\u001b[0mopened_file\u001b[0m\u001b[0;34m,\u001b[0m \u001b[0mmap_location\u001b[0m\u001b[0;34m,\u001b[0m \u001b[0mpickle_module\u001b[0m\u001b[0;34m,\u001b[0m \u001b[0;34m**\u001b[0m\u001b[0mpickle_load_args\u001b[0m\u001b[0;34m)\u001b[0m\u001b[0;34m\u001b[0m\u001b[0;34m\u001b[0m\u001b[0m\n\u001b[0m\u001b[1;32m    609\u001b[0m \u001b[0;34m\u001b[0m\u001b[0m\n\u001b[1;32m    610\u001b[0m \u001b[0;34m\u001b[0m\u001b[0m\n",
            "\u001b[0;32m/usr/local/lib/python3.7/dist-packages/torch/serialization.py\u001b[0m in \u001b[0;36m_legacy_load\u001b[0;34m(f, map_location, pickle_module, **pickle_load_args)\u001b[0m\n\u001b[1;32m    785\u001b[0m     \u001b[0munpickler\u001b[0m \u001b[0;34m=\u001b[0m \u001b[0mpickle_module\u001b[0m\u001b[0;34m.\u001b[0m\u001b[0mUnpickler\u001b[0m\u001b[0;34m(\u001b[0m\u001b[0mf\u001b[0m\u001b[0;34m,\u001b[0m \u001b[0;34m**\u001b[0m\u001b[0mpickle_load_args\u001b[0m\u001b[0;34m)\u001b[0m\u001b[0;34m\u001b[0m\u001b[0;34m\u001b[0m\u001b[0m\n\u001b[1;32m    786\u001b[0m     \u001b[0munpickler\u001b[0m\u001b[0;34m.\u001b[0m\u001b[0mpersistent_load\u001b[0m \u001b[0;34m=\u001b[0m \u001b[0mpersistent_load\u001b[0m\u001b[0;34m\u001b[0m\u001b[0;34m\u001b[0m\u001b[0m\n\u001b[0;32m--> 787\u001b[0;31m     \u001b[0mresult\u001b[0m \u001b[0;34m=\u001b[0m \u001b[0munpickler\u001b[0m\u001b[0;34m.\u001b[0m\u001b[0mload\u001b[0m\u001b[0;34m(\u001b[0m\u001b[0;34m)\u001b[0m\u001b[0;34m\u001b[0m\u001b[0;34m\u001b[0m\u001b[0m\n\u001b[0m\u001b[1;32m    788\u001b[0m \u001b[0;34m\u001b[0m\u001b[0m\n\u001b[1;32m    789\u001b[0m     \u001b[0mdeserialized_storage_keys\u001b[0m \u001b[0;34m=\u001b[0m \u001b[0mpickle_module\u001b[0m\u001b[0;34m.\u001b[0m\u001b[0mload\u001b[0m\u001b[0;34m(\u001b[0m\u001b[0mf\u001b[0m\u001b[0;34m,\u001b[0m \u001b[0;34m**\u001b[0m\u001b[0mpickle_load_args\u001b[0m\u001b[0;34m)\u001b[0m\u001b[0;34m\u001b[0m\u001b[0;34m\u001b[0m\u001b[0m\n",
            "\u001b[0;32m/usr/local/lib/python3.7/dist-packages/torch/serialization.py\u001b[0m in \u001b[0;36mpersistent_load\u001b[0;34m(saved_id)\u001b[0m\n\u001b[1;32m    741\u001b[0m                 \u001b[0mobj\u001b[0m \u001b[0;34m=\u001b[0m \u001b[0mdata_type\u001b[0m\u001b[0;34m(\u001b[0m\u001b[0msize\u001b[0m\u001b[0;34m)\u001b[0m\u001b[0;34m\u001b[0m\u001b[0;34m\u001b[0m\u001b[0m\n\u001b[1;32m    742\u001b[0m                 \u001b[0mobj\u001b[0m\u001b[0;34m.\u001b[0m\u001b[0m_torch_load_uninitialized\u001b[0m \u001b[0;34m=\u001b[0m \u001b[0;32mTrue\u001b[0m\u001b[0;34m\u001b[0m\u001b[0;34m\u001b[0m\u001b[0m\n\u001b[0;32m--> 743\u001b[0;31m                 \u001b[0mdeserialized_objects\u001b[0m\u001b[0;34m[\u001b[0m\u001b[0mroot_key\u001b[0m\u001b[0;34m]\u001b[0m \u001b[0;34m=\u001b[0m \u001b[0mrestore_location\u001b[0m\u001b[0;34m(\u001b[0m\u001b[0mobj\u001b[0m\u001b[0;34m,\u001b[0m \u001b[0mlocation\u001b[0m\u001b[0;34m)\u001b[0m\u001b[0;34m\u001b[0m\u001b[0;34m\u001b[0m\u001b[0m\n\u001b[0m\u001b[1;32m    744\u001b[0m             \u001b[0mstorage\u001b[0m \u001b[0;34m=\u001b[0m \u001b[0mdeserialized_objects\u001b[0m\u001b[0;34m[\u001b[0m\u001b[0mroot_key\u001b[0m\u001b[0;34m]\u001b[0m\u001b[0;34m\u001b[0m\u001b[0;34m\u001b[0m\u001b[0m\n\u001b[1;32m    745\u001b[0m             \u001b[0;32mif\u001b[0m \u001b[0mview_metadata\u001b[0m \u001b[0;32mis\u001b[0m \u001b[0;32mnot\u001b[0m \u001b[0;32mNone\u001b[0m\u001b[0;34m:\u001b[0m\u001b[0;34m\u001b[0m\u001b[0;34m\u001b[0m\u001b[0m\n",
            "\u001b[0;32m/usr/local/lib/python3.7/dist-packages/torch/serialization.py\u001b[0m in \u001b[0;36mdefault_restore_location\u001b[0;34m(storage, location)\u001b[0m\n\u001b[1;32m    173\u001b[0m \u001b[0;32mdef\u001b[0m \u001b[0mdefault_restore_location\u001b[0m\u001b[0;34m(\u001b[0m\u001b[0mstorage\u001b[0m\u001b[0;34m,\u001b[0m \u001b[0mlocation\u001b[0m\u001b[0;34m)\u001b[0m\u001b[0;34m:\u001b[0m\u001b[0;34m\u001b[0m\u001b[0;34m\u001b[0m\u001b[0m\n\u001b[1;32m    174\u001b[0m     \u001b[0;32mfor\u001b[0m \u001b[0m_\u001b[0m\u001b[0;34m,\u001b[0m \u001b[0m_\u001b[0m\u001b[0;34m,\u001b[0m \u001b[0mfn\u001b[0m \u001b[0;32min\u001b[0m \u001b[0m_package_registry\u001b[0m\u001b[0;34m:\u001b[0m\u001b[0;34m\u001b[0m\u001b[0;34m\u001b[0m\u001b[0m\n\u001b[0;32m--> 175\u001b[0;31m         \u001b[0mresult\u001b[0m \u001b[0;34m=\u001b[0m \u001b[0mfn\u001b[0m\u001b[0;34m(\u001b[0m\u001b[0mstorage\u001b[0m\u001b[0;34m,\u001b[0m \u001b[0mlocation\u001b[0m\u001b[0;34m)\u001b[0m\u001b[0;34m\u001b[0m\u001b[0;34m\u001b[0m\u001b[0m\n\u001b[0m\u001b[1;32m    176\u001b[0m         \u001b[0;32mif\u001b[0m \u001b[0mresult\u001b[0m \u001b[0;32mis\u001b[0m \u001b[0;32mnot\u001b[0m \u001b[0;32mNone\u001b[0m\u001b[0;34m:\u001b[0m\u001b[0;34m\u001b[0m\u001b[0;34m\u001b[0m\u001b[0m\n\u001b[1;32m    177\u001b[0m             \u001b[0;32mreturn\u001b[0m \u001b[0mresult\u001b[0m\u001b[0;34m\u001b[0m\u001b[0;34m\u001b[0m\u001b[0m\n",
            "\u001b[0;32m/usr/local/lib/python3.7/dist-packages/torch/serialization.py\u001b[0m in \u001b[0;36m_cuda_deserialize\u001b[0;34m(obj, location)\u001b[0m\n\u001b[1;32m    149\u001b[0m \u001b[0;32mdef\u001b[0m \u001b[0m_cuda_deserialize\u001b[0m\u001b[0;34m(\u001b[0m\u001b[0mobj\u001b[0m\u001b[0;34m,\u001b[0m \u001b[0mlocation\u001b[0m\u001b[0;34m)\u001b[0m\u001b[0;34m:\u001b[0m\u001b[0;34m\u001b[0m\u001b[0;34m\u001b[0m\u001b[0m\n\u001b[1;32m    150\u001b[0m     \u001b[0;32mif\u001b[0m \u001b[0mlocation\u001b[0m\u001b[0;34m.\u001b[0m\u001b[0mstartswith\u001b[0m\u001b[0;34m(\u001b[0m\u001b[0;34m'cuda'\u001b[0m\u001b[0;34m)\u001b[0m\u001b[0;34m:\u001b[0m\u001b[0;34m\u001b[0m\u001b[0;34m\u001b[0m\u001b[0m\n\u001b[0;32m--> 151\u001b[0;31m         \u001b[0mdevice\u001b[0m \u001b[0;34m=\u001b[0m \u001b[0mvalidate_cuda_device\u001b[0m\u001b[0;34m(\u001b[0m\u001b[0mlocation\u001b[0m\u001b[0;34m)\u001b[0m\u001b[0;34m\u001b[0m\u001b[0;34m\u001b[0m\u001b[0m\n\u001b[0m\u001b[1;32m    152\u001b[0m         \u001b[0;32mif\u001b[0m \u001b[0mgetattr\u001b[0m\u001b[0;34m(\u001b[0m\u001b[0mobj\u001b[0m\u001b[0;34m,\u001b[0m \u001b[0;34m\"_torch_load_uninitialized\"\u001b[0m\u001b[0;34m,\u001b[0m \u001b[0;32mFalse\u001b[0m\u001b[0;34m)\u001b[0m\u001b[0;34m:\u001b[0m\u001b[0;34m\u001b[0m\u001b[0;34m\u001b[0m\u001b[0m\n\u001b[1;32m    153\u001b[0m             \u001b[0mstorage_type\u001b[0m \u001b[0;34m=\u001b[0m \u001b[0mgetattr\u001b[0m\u001b[0;34m(\u001b[0m\u001b[0mtorch\u001b[0m\u001b[0;34m.\u001b[0m\u001b[0mcuda\u001b[0m\u001b[0;34m,\u001b[0m \u001b[0mtype\u001b[0m\u001b[0;34m(\u001b[0m\u001b[0mobj\u001b[0m\u001b[0;34m)\u001b[0m\u001b[0;34m.\u001b[0m\u001b[0m__name__\u001b[0m\u001b[0;34m)\u001b[0m\u001b[0;34m\u001b[0m\u001b[0;34m\u001b[0m\u001b[0m\n",
            "\u001b[0;32m/usr/local/lib/python3.7/dist-packages/torch/serialization.py\u001b[0m in \u001b[0;36mvalidate_cuda_device\u001b[0;34m(location)\u001b[0m\n\u001b[1;32m    133\u001b[0m \u001b[0;34m\u001b[0m\u001b[0m\n\u001b[1;32m    134\u001b[0m     \u001b[0;32mif\u001b[0m \u001b[0;32mnot\u001b[0m \u001b[0mtorch\u001b[0m\u001b[0;34m.\u001b[0m\u001b[0mcuda\u001b[0m\u001b[0;34m.\u001b[0m\u001b[0mis_available\u001b[0m\u001b[0;34m(\u001b[0m\u001b[0;34m)\u001b[0m\u001b[0;34m:\u001b[0m\u001b[0;34m\u001b[0m\u001b[0;34m\u001b[0m\u001b[0m\n\u001b[0;32m--> 135\u001b[0;31m         raise RuntimeError('Attempting to deserialize object on a CUDA '\n\u001b[0m\u001b[1;32m    136\u001b[0m                            \u001b[0;34m'device but torch.cuda.is_available() is False. '\u001b[0m\u001b[0;34m\u001b[0m\u001b[0;34m\u001b[0m\u001b[0m\n\u001b[1;32m    137\u001b[0m                            \u001b[0;34m'If you are running on a CPU-only machine, '\u001b[0m\u001b[0;34m\u001b[0m\u001b[0;34m\u001b[0m\u001b[0m\n",
            "\u001b[0;31mRuntimeError\u001b[0m: Attempting to deserialize object on a CUDA device but torch.cuda.is_available() is False. If you are running on a CPU-only machine, please use torch.load with map_location=torch.device('cpu') to map your storages to the CPU."
          ]
        }
      ]
    },
    {
      "cell_type": "code",
      "metadata": {
        "id": "j3Sc73LsWF6d",
        "colab": {
          "base_uri": "https://localhost:8080/"
        },
        "outputId": "83d25fec-49f4-4c1b-b66c-c8cf88ecc41c"
      },
      "source": [
        "correct = 0\n",
        "total = 0\n",
        "vect_y_predict = []\n",
        "with torch.no_grad():\n",
        "    for i in tqdm(range(len(X_test_encoded))):\n",
        "\n",
        "        batch_X = torch.LongTensor(X_test_encoded[i]).view(1, -1)\n",
        "        batch_y = torch.LongTensor(y_test[i])\n",
        "        batch_X, batch_y = batch_X.to(device), batch_y.to(device)\n",
        "\n",
        "        net_out = net(batch_X) \n",
        "        predicted_class = torch.argmax(net_out)\n",
        "        vect_y_predict.append(predicted_class.item())\n",
        "\n",
        "        if predicted_class == y_test[i]:\n",
        "            correct += 1\n",
        "        total += 1\n",
        "\n",
        "print(\"Accuracy: \", round(correct/total, 3))\n",
        "#0.919\n",
        "#0.966"
      ],
      "id": "j3Sc73LsWF6d",
      "execution_count": null,
      "outputs": [
        {
          "output_type": "stream",
          "text": [
            "  0%|          | 0/45367 [00:00<?, ?it/s]/usr/local/lib/python3.7/dist-packages/torch/nn/modules/rnn.py:680: UserWarning: RNN module weights are not part of single contiguous chunk of memory. This means they need to be compacted at every call, possibly greatly increasing memory usage. To compact weights again call flatten_parameters(). (Triggered internally at  /pytorch/aten/src/ATen/native/cudnn/RNN.cpp:924.)\n",
            "  self.dropout, self.training, self.bidirectional, self.batch_first)\n",
            "100%|██████████| 45367/45367 [01:07<00:00, 667.21it/s]"
          ],
          "name": "stderr"
        },
        {
          "output_type": "stream",
          "text": [
            "Accuracy:  0.966\n"
          ],
          "name": "stdout"
        },
        {
          "output_type": "stream",
          "text": [
            "\n"
          ],
          "name": "stderr"
        }
      ]
    },
    {
      "cell_type": "code",
      "metadata": {
        "colab": {
          "base_uri": "https://localhost:8080/"
        },
        "id": "-wuE7relHF0y",
        "outputId": "709f6fc3-3984-46b1-8d60-5eeeed5a04b9"
      },
      "source": [
        "print(classification_report(y_test, vect_y_predict))"
      ],
      "id": "-wuE7relHF0y",
      "execution_count": null,
      "outputs": [
        {
          "output_type": "stream",
          "text": [
            "              precision    recall  f1-score   support\n",
            "\n",
            "           0       0.99      0.94      0.97     22480\n",
            "           1       0.94      0.99      0.97     22887\n",
            "\n",
            "    accuracy                           0.97     45367\n",
            "   macro avg       0.97      0.97      0.97     45367\n",
            "weighted avg       0.97      0.97      0.97     45367\n",
            "\n"
          ],
          "name": "stdout"
        }
      ]
    },
    {
      "cell_type": "markdown",
      "metadata": {
        "id": "z2KsySDpWYOd"
      },
      "source": [
        "# Compare quality of several models"
      ],
      "id": "z2KsySDpWYOd"
    },
    {
      "cell_type": "markdown",
      "metadata": {
        "id": "4pPLA5EUXHzF"
      },
      "source": [
        "Launch our algorithms (5-10 times) on the test sample.\n",
        "\n",
        "Calculate all previous metrics and stores their results to make statistical analysis:\n",
        "- confidence interval (95%-97%)\n",
        "- hypothesis analysis (null hypothesis - quality of models are the same, alternative - quality is changed), T-test"
      ],
      "id": "4pPLA5EUXHzF"
    },
    {
      "cell_type": "code",
      "metadata": {
        "id": "buaMSP6FXguy"
      },
      "source": [
        "def find_metrics(y_true, y_pred):\n",
        "\n",
        "    TN, FP, FN, TP = confusion_matrix(y_true,y_pred).ravel()\n",
        "\n",
        "    precision = TP/(TP + FP)\n",
        "    recall = TP/(TP + FN)\n",
        "    f1_score = 2*TP/(2*TP + FP + FN)  \n",
        "\n",
        "    return precision, recall, f1_score"
      ],
      "id": "buaMSP6FXguy",
      "execution_count": null,
      "outputs": []
    },
    {
      "cell_type": "code",
      "metadata": {
        "id": "YnoqbzlQYicg"
      },
      "source": [
        "def find_mean_metrics(method, number_iterations):\n",
        "    precision_mean, recall_mean, f1_score_mean = 0, 0, 0\n",
        "    cur_metrics = []\n",
        "\n",
        "    for i in tqdm(range(number_iterations)):\n",
        "      precision, recall, f1_score = method\n",
        "      cur_metrics.append((precision, recall, f1_score))\n",
        "      precision_mean += precision\n",
        "      recall_mean += recall\n",
        "      f1_score_mean += f1_score\n",
        "\n",
        "    precision_mean /= number_iterations\n",
        "    recall_mean /= number_iterations\n",
        "    f1_score_mean /= number_iterations  \n",
        "\n",
        "    return cur_metrics, precision_mean, recall_mean, f1_score_mean"
      ],
      "id": "YnoqbzlQYicg",
      "execution_count": null,
      "outputs": []
    },
    {
      "cell_type": "code",
      "metadata": {
        "id": "JOH-C2IhZpac"
      },
      "source": [
        "def write_file(name, cur_metrics, precision_mean, recall_mean, f1_score_mean):\n",
        "\n",
        "    #запишем промежуточные и конечные результаты в файл\n",
        "    f = open(name, 'w')\n",
        "    f.write('precision ' + 'recall ' + 'f1_score ' + '\\n')\n",
        "    for i in cur_metrics:\n",
        "        f.write(str(i) + '\\n')\n",
        "\n",
        "    f.write('mean_precision ' + 'mean_recall ' + 'mean_f1_score ' + '\\n')\n",
        "    f.write(str(precision_mean) + str(recall_mean) +  str(f1_score_mean))\n",
        "    f.close()\n"
      ],
      "id": "JOH-C2IhZpac",
      "execution_count": null,
      "outputs": []
    },
    {
      "cell_type": "code",
      "metadata": {
        "id": "5SOCShdLWZbs"
      },
      "source": [
        "def XGBoost_train():\n",
        "    X_train, X_test, y_train, y_test = train_test_split(twits, labels, test_size=0.2, random_state=42)\n",
        "\n",
        "    #X_train list; здесь токенизируем\n",
        "    X_right = tokenize(X_train)\n",
        "    model_right = gensim.models.Word2Vec(X_right, min_count = 1, window = 10,  sg = 1)    \n",
        "\n",
        "    # посчитаем среднее значение векторов, входящих в твит\n",
        "    X_vec = find_mean_vec(X_right, model_right)  \n",
        "\n",
        "    model = xgboost.XGBClassifier(n_estimators=200)\n",
        "    model.fit(np.array(X_vec), y_train)\n",
        "\n",
        "    #X_test in list\n",
        "    X_right_test = tokenize(X_test)\n",
        "\n",
        "    model_right.train(X_right_test, total_examples = len(X_right_test), epochs = 10)\n",
        "    model_right.build_vocab(X_right_test, update=True)   \n",
        "\n",
        "\n",
        "    X_vec_test = find_mean_vec(X_right_test, model_right)\n",
        "    y_pred = model.predict(np.array(X_vec_test))\n",
        "\n",
        "    precision, recall, f1_score = find_metrics(y_test, y_pred) \n",
        "\n",
        "    return precision, recall, f1_score"
      ],
      "id": "5SOCShdLWZbs",
      "execution_count": null,
      "outputs": []
    },
    {
      "cell_type": "code",
      "metadata": {
        "colab": {
          "base_uri": "https://localhost:8080/"
        },
        "id": "S8YOsA7PZPnJ",
        "outputId": "4a12da24-c5f9-4670-87c7-0fb4f85bd7fc"
      },
      "source": [
        "find_mean_metrics(XGBoost_train(), 1)"
      ],
      "id": "S8YOsA7PZPnJ",
      "execution_count": null,
      "outputs": [
        {
          "output_type": "stream",
          "text": [
            "\n",
            "100%|██████████| 1/1 [00:00<00:00, 7423.55it/s]\n"
          ],
          "name": "stderr"
        },
        {
          "output_type": "execute_result",
          "data": {
            "text/plain": [
              "([(0.9262968155417585, 0.8083191331323458, 0.8632959238433001)],\n",
              " 0.9262968155417585,\n",
              " 0.8083191331323458,\n",
              " 0.8632959238433001)"
            ]
          },
          "metadata": {
            "tags": []
          },
          "execution_count": 54
        }
      ]
    },
    {
      "cell_type": "code",
      "metadata": {
        "id": "azqpRNUdaHGK"
      },
      "source": [
        "# number_iterations = 5\n",
        "# cur_metrics, precision_mean, recall_mean, f1_score_mean = find_mean_metrics(XGBoost_train(), number_iterations)"
      ],
      "id": "azqpRNUdaHGK",
      "execution_count": null,
      "outputs": []
    },
    {
      "cell_type": "code",
      "metadata": {
        "id": "_7SSCCXvaSsE"
      },
      "source": [
        "#write_file('xgboost_results.txt', cur_metrics, precision_mean, recall_mean, f1_score_mean)"
      ],
      "id": "_7SSCCXvaSsE",
      "execution_count": null,
      "outputs": []
    },
    {
      "cell_type": "code",
      "metadata": {
        "id": "r74y3dkLWzrs",
        "colab": {
          "base_uri": "https://localhost:8080/"
        },
        "outputId": "d41e6571-eb6b-4cfa-a267-e37d676d9179"
      },
      "source": [
        "precision_mean, recall_mean, f1_score_mean = 0, 0, 0\n",
        "number_iterations = 5\n",
        "cur_metrics = []\n",
        "\n",
        "for i in tqdm(range(number_iterations)):\n",
        "  precision, recall, f1_score = XGBoost_train()\n",
        "  cur_metrics.append((precision, recall, f1_score))\n",
        "  precision_mean += precision\n",
        "  recall_mean += recall\n",
        "  f1_score_mean += f1_score\n",
        "\n",
        "precision_mean /= number_iterations\n",
        "recall_mean /= number_iterations\n",
        "f1_score_mean /= number_iterations"
      ],
      "id": "r74y3dkLWzrs",
      "execution_count": null,
      "outputs": [
        {
          "output_type": "stream",
          "text": [
            "\n",
            "  0%|          | 0/5 [00:00<?, ?it/s]\u001b[A\n",
            " 20%|██        | 1/5 [07:46<31:07, 466.87s/it]\u001b[A\n",
            " 40%|████      | 2/5 [15:37<23:24, 468.04s/it]\u001b[A\n",
            " 60%|██████    | 3/5 [23:37<15:42, 471.45s/it]\u001b[A\n",
            " 80%|████████  | 4/5 [31:39<07:54, 474.90s/it]\u001b[A\n",
            "100%|██████████| 5/5 [39:41<00:00, 476.33s/it]\n"
          ],
          "name": "stderr"
        }
      ]
    },
    {
      "cell_type": "code",
      "metadata": {
        "id": "GK81JxU2W91K"
      },
      "source": [
        "#запишем промежуточные и конечные результаты в файл\n",
        "f = open('xgboost_results.txt', 'w')\n",
        "f.write('precision ' + 'recall ' + 'f1_score ' + '\\n')\n",
        "for i in cur_metrics:\n",
        "    f.write(str(i) + '\\n')\n",
        "\n",
        "f.write('mean_precision ' + 'mean_recall ' + 'mean_f1_score ' + '\\n')\n",
        "f.write(str(precision_mean) + str(recall_mean) +  str(f1_score_mean))\n",
        "f.close()"
      ],
      "id": "GK81JxU2W91K",
      "execution_count": null,
      "outputs": []
    },
    {
      "cell_type": "code",
      "metadata": {
        "id": "cUDx1k7OW-5d",
        "colab": {
          "base_uri": "https://localhost:8080/"
        },
        "outputId": "fd7c115d-0f49-489d-ff85-230c8c3d058d"
      },
      "source": [
        "print(precision_mean, recall_mean, f1_score_mean)"
      ],
      "id": "cUDx1k7OW-5d",
      "execution_count": null,
      "outputs": [
        {
          "output_type": "stream",
          "text": [
            "0.9349607161461948 0.8103901778302092 0.8677674368640979\n"
          ],
          "name": "stdout"
        }
      ]
    },
    {
      "cell_type": "code",
      "metadata": {
        "id": "rPMgf4TjXMe4"
      },
      "source": [
        "def Simple_nn():  \n",
        "\n",
        "    X_train, X_test, y_train, y_test = train_test_split(twits, labels, test_size=0.2, random_state=42)\n",
        "\n",
        "    y_train_new = [np.eye(2)[i] for i in y_train]\n",
        "    y_test_new = [np.eye(2)[i] for i in y_test]\n",
        "\n",
        "    X_right = tokenize(X_train)   \n",
        "\n",
        "    model_right = gensim.models.Word2Vec(X_right, min_count = 1, window = 10,  sg = 1)    \n",
        "\n",
        "\n",
        "    X_vec = find_mean_vec(X_right, model_right)   \n",
        "\n",
        "    X_train_net = torch.Tensor(X_vec)\n",
        "    y_train_net = torch.Tensor(y_train_new)  \n",
        "\n",
        "    optimizer = optim.Adam(net.parameters(), lr=0.001)\n",
        "    loss_function = nn.MSELoss()  \n",
        "\n",
        "    BATCH_SIZE = 128\n",
        "    EPOCHS = 30\n",
        "\n",
        "    for epoch in tqdm(range(EPOCHS)):\n",
        "\n",
        "        random_index = np.random.permutation(len(X_train_net))\n",
        "        X_train_net = X_train_net[random_index]\n",
        "        y_train_net = y_train_net[random_index]\n",
        "\n",
        "        for i in range(0, len(X_train_net), BATCH_SIZE): \n",
        "\n",
        "            batch_X = X_train_net[i:i+BATCH_SIZE]\n",
        "            batch_y = y_train_net[i:i+BATCH_SIZE]\n",
        "\n",
        "            net.zero_grad()\n",
        "\n",
        "            outputs = net(batch_X)\n",
        "            loss = loss_function(outputs, batch_y)\n",
        "            loss.backward()\n",
        "            optimizer.step()    \n",
        "\n",
        "\n",
        "    X_right_test = tokenize(X_test)\n",
        "\n",
        "\n",
        "    model_right.train(X_right_test, total_examples = len(X_right_test), epochs = 10)\n",
        "    model_right.build_vocab(X_right_test, update=True)   \n",
        "\n",
        "\n",
        "    X_vec_test = find_mean_vec(X_right_test, model_right)\n",
        "\n",
        "    X_test_net = torch.Tensor(X_vec_test)\n",
        "    y_test_net = torch.Tensor(y_test_new)    \n",
        "\n",
        "\n",
        "    correct = 0\n",
        "    total = 0\n",
        "    y_test = []\n",
        "    y_pred = []\n",
        "    with torch.no_grad():\n",
        "        for i in tqdm(range(len(X_test_net))):\n",
        "            real_class = torch.argmax(y_test_net[i])\n",
        "            y_test.append(real_class)\n",
        "            net_out = net(X_test_net[i]) \n",
        "            predicted_class = torch.argmax(net_out)\n",
        "            y_pred.append(predicted_class)\n",
        "    \n",
        "    precision, recall, f1_score = find_metrics(y_test, y_pred) \n",
        "\n",
        "    return precision, recall, f1_score"
      ],
      "id": "rPMgf4TjXMe4",
      "execution_count": null,
      "outputs": []
    },
    {
      "cell_type": "code",
      "metadata": {
        "id": "It_lxpk1XsEu"
      },
      "source": [
        "precision_mean, recall_mean, f1_score_mean = 0, 0, 0\n",
        "number_iterations = 5\n",
        "cur_metrics = []\n",
        "for i in tqdm(range(number_iterations)):\n",
        "  precision, recall, f1_score = Simple_nn()\n",
        "  cur_metrics.append((precision, recall, f1_score))\n",
        "  precision_mean += precision\n",
        "  recall_mean += recall\n",
        "  f1_score_mean += f1_score\n",
        "\n",
        "precision_mean /= number_iterations\n",
        "recall_mean /= number_iterations\n",
        "f1_score_mean /= number_iterations"
      ],
      "id": "It_lxpk1XsEu",
      "execution_count": null,
      "outputs": []
    },
    {
      "cell_type": "code",
      "metadata": {
        "id": "7huaRXUNX8gO"
      },
      "source": [
        "f = open('simple_nn_results.txt', 'w')\n",
        "f.write('precision ' + 'recall ' + 'f1_score ' + '\\n')\n",
        "for i in cur_metrics:\n",
        "    f.write(str(i) + '\\n')\n",
        "\n",
        "f.write('mean_precision ' + 'mean_recall ' + 'mean_f1_score ' + '\\n')\n",
        "f.write(str(precision_mean) + ' ' + str(recall_mean) + ' ' +  str(f1_score_mean))\n",
        "f.close()    "
      ],
      "id": "7huaRXUNX8gO",
      "execution_count": null,
      "outputs": []
    },
    {
      "cell_type": "code",
      "metadata": {
        "id": "m-fUeN7IaeCO"
      },
      "source": [
        "#cur_metrics, precision_mean, recall_mean, f1_score_mean = find_mean_metrics(Simple_nn(), 5)"
      ],
      "id": "m-fUeN7IaeCO",
      "execution_count": null,
      "outputs": []
    },
    {
      "cell_type": "code",
      "metadata": {
        "id": "ropa9StbapvP"
      },
      "source": [
        "#write_file('simple_nn_results.txt', cur_metrics, precision_mean, recall_mean, f1_score_mean)"
      ],
      "id": "ropa9StbapvP",
      "execution_count": null,
      "outputs": []
    },
    {
      "cell_type": "code",
      "metadata": {
        "id": "UCkFbFvVYDas"
      },
      "source": [
        "print(precision_mean, recall_mean, f1_score_mean)"
      ],
      "id": "UCkFbFvVYDas",
      "execution_count": null,
      "outputs": []
    },
    {
      "cell_type": "markdown",
      "metadata": {
        "id": "pv6aXHrjYQUt"
      },
      "source": [
        "Теперь сравним 2 модели. XGBoost и простую нейронную сеть."
      ],
      "id": "pv6aXHrjYQUt"
    },
    {
      "cell_type": "code",
      "metadata": {
        "id": "GR9Gm5hcYPEc"
      },
      "source": [
        "stats.ttest_ind(rvs1,rvs2)"
      ],
      "id": "GR9Gm5hcYPEc",
      "execution_count": null,
      "outputs": []
    },
    {
      "cell_type": "markdown",
      "metadata": {
        "id": "XxfzMZR2WOmR"
      },
      "source": [
        "# Create a simple sentiment annotator for named entities"
      ],
      "id": "XxfzMZR2WOmR"
    },
    {
      "cell_type": "markdown",
      "metadata": {
        "id": "ab2-mJrWQKTt"
      },
      "source": [
        "- Chose dataset with NE: Person, Organization, ... \n",
        "(https://tatianashavrina.github.io/2018/08/30/datasets/#ner);\n",
        "- Apply two of the our best models for NE's context (N = 5-7 words from the left + 5-7 words from the right);\n",
        "Each best model for each student :) One model should be a simple, another model - a neural;\n",
        "\n",
        "Note: try to design an architecture prototype of our annotator!\n",
        "\n",
        "Hints: main classes (Annotator(Model model), Model (abstract class)), Handler"
      ],
      "id": "ab2-mJrWQKTt"
    },
    {
      "cell_type": "code",
      "metadata": {
        "id": "e55kB26-UK_q"
      },
      "source": [
        "# networks, xgboost"
      ],
      "id": "e55kB26-UK_q",
      "execution_count": null,
      "outputs": []
    },
    {
      "cell_type": "code",
      "metadata": {
        "id": "9_9eXptIUax_"
      },
      "source": [
        "from abc import ABC, abstractmethod"
      ],
      "id": "9_9eXptIUax_",
      "execution_count": null,
      "outputs": []
    },
    {
      "cell_type": "code",
      "metadata": {
        "id": "obBUrjPXfHpO"
      },
      "source": [
        "from collections import namedtuple\n",
        "\n",
        "annotation = namedtuple('annotation', 'tag, start, end, ne')"
      ],
      "id": "obBUrjPXfHpO",
      "execution_count": null,
      "outputs": []
    },
    {
      "cell_type": "code",
      "metadata": {
        "id": "Q_B-f3lqWtoo"
      },
      "source": [
        "class Dataset:\n",
        "    def __init__(self):\n",
        "        self.dataset = [] # храним набор tuple (text, [(annotation, start, end, ne)])\n",
        "        self.crop_sentences = []\n",
        "   \n",
        "    def load_sentences(self, ann_file_path: str, text_file_path: str):\n",
        "        with open(text_file_path, 'r') as text_file:\n",
        "            text = text_file.read()\n",
        "\n",
        "        with open(ann_file_path, 'r') as ann_file:\n",
        "            annotations = []\n",
        "            for line in ann_file.readlines():\n",
        "                tokens = line.split()\n",
        "                annotations.append(annotation(tokens[1], tokens[2], tokens[3], tokens[4]))\n",
        "\n",
        "        cur_tuple = (text, annotations)\n",
        "        self.dataset.append(cur_tuple)\n",
        "\n",
        "    def _get_left(self, local_text: str, ann: annotation) -> List[str]:\n",
        "        pos = int(ann.start) - 1\n",
        "        cur_word = ''\n",
        "        words = []\n",
        "\n",
        "        while pos >= 0 and len(words) < window_size:\n",
        "            if local_text[pos] == ' ':\n",
        "                if cur_word != '':\n",
        "                    words.append(cur_word[::-1])\n",
        "                cur_word = ''\n",
        "            else:\n",
        "                cur_word += local_text[pos]\n",
        "            pos -= 1\n",
        "\n",
        "        if cur_word != '':\n",
        "            words.append(cur_word[::-1])\n",
        "\n",
        "        return words[::-1]  \n",
        "\n",
        "    def _get_right(self, local_text: str, ann: annotation) -> List[str]:\n",
        "        pos_right = int(ann.end)\n",
        "        cur_word = ''\n",
        "        words_right = []\n",
        "\n",
        "        while pos_right < len(local_text) and len(words_right) < window_size:\n",
        "            if local_text[pos_right] == ' ':\n",
        "                if cur_word != '':\n",
        "                    words_right.append(cur_word)\n",
        "                cur_word = ''    \n",
        "            else:\n",
        "                cur_word += local_text[pos_right]  \n",
        "\n",
        "            pos_right += 1 \n",
        "\n",
        "        if cur_word != '':\n",
        "            words_right.append(cur_word) \n",
        "        \n",
        "        return words_right\n",
        "      \n",
        "\n",
        "    def build_crop_sentences(self, window_size: int):\n",
        "        for text, annotators in self.dataset:\n",
        "            local_text = text.replace('\\n', '  ')\n",
        "            local_text = local_text.replace('\\r', '  ')\n",
        "            local_text = local_text.replace('\\t', '  ')\n",
        "\n",
        "            for ann in annotators:\n",
        "                left = self._get_left(local_text, ann)\n",
        "                right = self._get_right(local_text, ann)       \n",
        "\n",
        "                self.crop_sentences.append((ann, ' '.join(left), ' '.join(right)))"
      ],
      "id": "Q_B-f3lqWtoo",
      "execution_count": null,
      "outputs": []
    },
    {
      "cell_type": "code",
      "metadata": {
        "id": "6BVWyDqiSbbV"
      },
      "source": [
        "class Model(ABC):\n",
        "    def __init__(self, model, w2v):\n",
        "        self.model = model\n",
        "        self.w2v = w2v\n",
        "\n",
        "    @abstractmethod\n",
        "    def __call__(self, s: str) -> float:\n",
        "        pass"
      ],
      "id": "6BVWyDqiSbbV",
      "execution_count": null,
      "outputs": []
    },
    {
      "cell_type": "code",
      "metadata": {
        "id": "BPoHVnaWUvaC"
      },
      "source": [
        "class XGBoostModel(Model):\n",
        "    def __init__(self, model, w2v):\n",
        "        super().__init__(model, w2v)\n",
        "\n",
        "    def __call__(self, s: str):\n",
        "        # self.model.predict(x)\n",
        "        pass"
      ],
      "id": "BPoHVnaWUvaC",
      "execution_count": null,
      "outputs": []
    },
    {
      "cell_type": "code",
      "metadata": {
        "id": "61pPSzAGUnn2"
      },
      "source": [
        "class NetModel(Model):\n",
        "    def __init__(self, model, w2v):\n",
        "        super().__init__(model, w2v)\n",
        "        \n",
        "    def __call__(self, s: str) -> float:\n",
        "        s_tokenized = tokenize(s)\n",
        "        self.w2v.build_vocab(s_tokenized, update=True)\n",
        "        self.w2v.train(s_tokenized, total_examples = len(s_tokenized),\n",
        "                       epochs = 10)\n",
        "        s_vectorized = get_mean_vec(s_tokenized, self.w2v)\n",
        "        X_tensor_net = torch.Tensor(s_vectorized)\n",
        "        net_out = self.model(X_tensor_net[0]) \n",
        "        return net_out[1].item()"
      ],
      "id": "61pPSzAGUnn2",
      "execution_count": null,
      "outputs": []
    },
    {
      "cell_type": "code",
      "metadata": {
        "id": "Q6gxFDwsWQWY"
      },
      "source": [
        "class Annotator:\n",
        "    def __init__(self, model: Model):\n",
        "        self.model = model\n",
        "\n",
        "    def annotate(self, dataset: Dataset, window_size: int):\n",
        "        data = []\n",
        "        dataset.build_crop_sentences(window_size)\n",
        "\n",
        "        for crop_sentence in tqdm(dataset.crop_sentences):\n",
        "            s = [crop_sentence[1] + ' ' + crop_sentence[0].ne + ' ' + crop_sentence[2]]\n",
        "            pos_prob = self.model(s)\n",
        "            data.append((crop_sentence[1], crop_sentence[0].ne, crop_sentence[2], pos_prob))\n",
        "        self.data = data"
      ],
      "id": "Q6gxFDwsWQWY",
      "execution_count": null,
      "outputs": []
    },
    {
      "cell_type": "code",
      "metadata": {
        "id": "BEPm-thYg6pW"
      },
      "source": [
        "dataset = Dataset()"
      ],
      "id": "BEPm-thYg6pW",
      "execution_count": null,
      "outputs": []
    },
    {
      "cell_type": "code",
      "metadata": {
        "id": "kCWLe2agbu8i"
      },
      "source": [
        "with open(\"/content/gdrive/MyDrive/Project/data.pickle\", 'rb') as f:\n",
        "    dataset.dataset = pickle.load(f)"
      ],
      "id": "kCWLe2agbu8i",
      "execution_count": null,
      "outputs": []
    },
    {
      "cell_type": "code",
      "metadata": {
        "colab": {
          "base_uri": "https://localhost:8080/"
        },
        "id": "1SOxXS39T96b",
        "outputId": "3b3a8297-c276-4db2-b912-c7b74c6cd0c5"
      },
      "source": [
        "# dataset_path = \"/content/gdrive/MyDrive/Project/Collection5\"\n",
        "# a = os.listdir(dataset_path)\n",
        "# a.sort()\n",
        "\n",
        "# for i in tqdm(range(0, len(a) - 1, 2), position=0, leave=True):\n",
        "#     ann_path = dataset_path + '/' + a[i]\n",
        "#     text_path = dataset_path + '/' + a[i + 1]\n",
        "#     dataset.load_sentences(ann_path, text_path)\n",
        "\n",
        "# with open(\"/content/gdrive/MyDrive/Project/data.pickle\", 'wb') as f:\n",
        "#     pickle.dump(dataset.dataset, f)"
      ],
      "id": "1SOxXS39T96b",
      "execution_count": null,
      "outputs": [
        {
          "output_type": "stream",
          "text": [
            "100%|██████████| 3/3 [00:00<00:00, 304.27it/s]\n"
          ],
          "name": "stderr"
        }
      ]
    },
    {
      "cell_type": "code",
      "metadata": {
        "id": "pP9D1-pFoeWx"
      },
      "source": [
        "net_model = NetModel(net, w2v_model)\n",
        "annotator = Annotator(net_model)"
      ],
      "id": "pP9D1-pFoeWx",
      "execution_count": null,
      "outputs": []
    },
    {
      "cell_type": "code",
      "metadata": {
        "id": "dQxydMOJo1mq"
      },
      "source": [
        "annotator.annotate(dataset, 5)"
      ],
      "id": "dQxydMOJo1mq",
      "execution_count": null,
      "outputs": []
    },
    {
      "cell_type": "code",
      "metadata": {
        "colab": {
          "base_uri": "https://localhost:8080/"
        },
        "id": "4YrxBLy9pRzq",
        "outputId": "822bc4a1-6d2d-4d8d-c25b-218d40d1b579"
      },
      "source": [
        "annotator.data[:5]"
      ],
      "id": "4YrxBLy9pRzq",
      "execution_count": null,
      "outputs": [
        {
          "output_type": "execute_result",
          "data": {
            "text/plain": [
              "[('',\n",
              "  'Россия',\n",
              "  'рассчитывает на конструктивное воздействие США',\n",
              "  0.9984500408172607),\n",
              " ('Россия рассчитывает на конструктивное воздействие',\n",
              "  'США',\n",
              "  'на Грузию 04/08/2008 12:08 МОСКВА,',\n",
              "  0.9966751337051392),\n",
              " ('на конструктивное воздействие США на',\n",
              "  'Грузию',\n",
              "  '04/08/2008 12:08 МОСКВА, 4 авг',\n",
              "  0.9998002648353577),\n",
              " ('США на Грузию 04/08/2008 12:08',\n",
              "  'МОСКВА',\n",
              "  ', 4 авг - РИА',\n",
              "  0.9999957084655762),\n",
              " ('12:08 МОСКВА, 4 авг -',\n",
              "  'РИА',\n",
              "  '. Россия рассчитывает, что США',\n",
              "  0.9813258647918701)]"
            ]
          },
          "metadata": {},
          "execution_count": 125
        }
      ]
    },
    {
      "cell_type": "code",
      "metadata": {
        "id": "WY21c2DHcUdm"
      },
      "source": [
        ""
      ],
      "id": "WY21c2DHcUdm",
      "execution_count": null,
      "outputs": []
    }
  ]
}