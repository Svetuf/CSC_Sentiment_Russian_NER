{
  "nbformat": 4,
  "nbformat_minor": 5,
  "metadata": {
    "colab": {
      "name": "Analysis_RuTweetCorp.ipynb",
      "provenance": [],
      "collapsed_sections": [
        "XxfzMZR2WOmR",
        "z2KsySDpWYOd"
      ],
      "toc_visible": true
    },
    "kernelspec": {
      "display_name": "Python 3",
      "language": "python",
      "name": "python3"
    },
    "language_info": {
      "codemirror_mode": {
        "name": "ipython",
        "version": 3
      },
      "file_extension": ".py",
      "mimetype": "text/x-python",
      "name": "python",
      "nbconvert_exporter": "python",
      "pygments_lexer": "ipython3",
      "version": "3.7.9"
    },
    "accelerator": "GPU"
  },
  "cells": [
    {
      "cell_type": "code",
      "metadata": {
        "colab": {
          "base_uri": "https://localhost:8080/"
        },
        "id": "otH_dgcpuWih",
        "outputId": "d467c636-3b66-46ea-cd9e-50c85916fce6"
      },
      "source": [
        "from google.colab import drive\n",
        "\n",
        "drive.mount('/content/gdrive')"
      ],
      "id": "otH_dgcpuWih",
      "execution_count": null,
      "outputs": [
        {
          "output_type": "stream",
          "text": [
            "Mounted at /content/gdrive\n"
          ],
          "name": "stdout"
        }
      ]
    },
    {
      "cell_type": "code",
      "metadata": {
        "id": "elHL9FPhueJS"
      },
      "source": [
        "functions_path = '/content/gdrive/MyDrive/Project/functions.py'\n",
        "negative_path = '/content/gdrive/MyDrive/Project/negative.csv'\n",
        "positive_path = '/content/gdrive/MyDrive/Project/positive.csv'"
      ],
      "id": "elHL9FPhueJS",
      "execution_count": null,
      "outputs": []
    },
    {
      "cell_type": "code",
      "metadata": {
        "id": "ggimahLjxiS1"
      },
      "source": [
        "with open(\"functions.py\", 'w') as fw:\n",
        "    with open(functions_path, 'r') as f:\n",
        "        for l in f:\n",
        "            fw.write(l)"
      ],
      "id": "ggimahLjxiS1",
      "execution_count": null,
      "outputs": []
    },
    {
      "cell_type": "markdown",
      "metadata": {
        "id": "XSbsS1KBDKi7"
      },
      "source": [
        "# Imports"
      ],
      "id": "XSbsS1KBDKi7"
    },
    {
      "cell_type": "code",
      "metadata": {
        "id": "kyUJJi-cBLhq"
      },
      "source": [
        "pip install pymorphy2"
      ],
      "id": "kyUJJi-cBLhq",
      "execution_count": null,
      "outputs": []
    },
    {
      "cell_type": "code",
      "metadata": {
        "id": "wired-stranger"
      },
      "source": [
        "from functions import *\n",
        "from gensim import corpora, models, similarities\n",
        "from gensim.models import Word2Vec\n",
        "from matplotlib import pyplot as plt\n",
        "from nltk import ngrams\n",
        "from nltk.corpus import stopwords\n",
        "from nltk.probability import FreqDist\n",
        "from pymorphy2 import MorphAnalyzer\n",
        "from pymystem3 import Mystem\n",
        "from scipy import stats\n",
        "from sklearn.ensemble import RandomForestClassifier\n",
        "from sklearn.feature_extraction.text import TfidfVectorizer\n",
        "from sklearn.model_selection import train_test_split\n",
        "from sklearn.metrics import classification_report, confusion_matrix\n",
        "from sklearn.metrics import accuracy_score\n",
        "from sklearn.metrics import roc_auc_score\n",
        "from sklearn import metrics\n",
        "from spacy.lang.ru import Russian\n",
        "from tqdm import tqdm\n",
        "from torchvision import transforms\n",
        "\n",
        "\n",
        "import collections\n",
        "import copy\n",
        "import gensim\n",
        "import lightgbm as lgb\n",
        "import math\n",
        "import nltk\n",
        "import numpy as np\n",
        "import pandas as pd\n",
        "import random\n",
        "import re\n",
        "import seaborn as sn\n",
        "import spacy\n",
        "import torch\n",
        "import torchvision\n",
        "import torch.nn as nn\n",
        "import torch.nn.functional as F\n",
        "import torch.optim as optim\n",
        "import xgboost"
      ],
      "id": "wired-stranger",
      "execution_count": null,
      "outputs": []
    },
    {
      "cell_type": "markdown",
      "metadata": {
        "id": "QqUUAwCzKH2F"
      },
      "source": [
        "# Preprocessing Data"
      ],
      "id": "QqUUAwCzKH2F"
    },
    {
      "cell_type": "markdown",
      "metadata": {
        "id": "institutional-million"
      },
      "source": [
        "База данных состоит из 12 столбцов:\n",
        "\n",
        "– id: уникальный номер сообщения в системе twitter;\n",
        "\n",
        "– tdate: дата публикации сообщения (твита);\n",
        "\n",
        "– tnamee: имя пользователя, опубликовавшего сообщение;\n",
        "\n",
        "– ttext:  текст сообщения (твита);\n",
        "\n",
        "– ttype: поле в котором в дальнейшем будет указано к кому классу относится твит (положительный, отрицательный, нейтральный);\n",
        "\n",
        "– trep: количество реплаев к данному сообщению. В настоящий момент API твиттера не отдает эту информацию;\n",
        "\n",
        "– trtw: число ретвитов;\n",
        "\n",
        "– tfav: число сколько раз данное сообщение было добавлено в избранное другими пользователями;\n",
        "\n",
        "– tstcount: число всех сообщений пользователя в сети twitter;\n",
        "\n",
        "– tfol: количество фоловеров пользователя (тех людей, которые читают пользователя);\n",
        "\n",
        "– tfrien: количество друзей пользователя (те люди, которых читает пользователь);\n",
        "\n",
        "– listcount: количество листов-подписок в которые добавлен твиттер-пользователь."
      ],
      "id": "institutional-million"
    },
    {
      "cell_type": "markdown",
      "metadata": {
        "id": "processed-satin"
      },
      "source": [
        "Прочитаем данные и построим различные статистики."
      ],
      "id": "processed-satin"
    },
    {
      "cell_type": "code",
      "metadata": {
        "id": "eleven-yeast"
      },
      "source": [
        "columns_name = ['id', 'tdate', 'tname', 'ttext', 'ttype', 'trep','trtw', 'tfav', 'tstcount', 'tfol', 'tfrien', 'listcount']\n",
        "positive_dataset = pd.read_csv('positive.csv', sep = ';', names = columns_name)\n",
        "negative_dataset = pd.read_csv('negative.csv', sep = ';', names = columns_name)"
      ],
      "id": "eleven-yeast",
      "execution_count": null,
      "outputs": []
    },
    {
      "cell_type": "code",
      "metadata": {
        "colab": {
          "base_uri": "https://localhost:8080/"
        },
        "id": "illegal-accounting",
        "outputId": "13623e4d-59c8-4b79-9da9-85f803fdb73d"
      },
      "source": [
        "len(positive_dataset)"
      ],
      "id": "illegal-accounting",
      "execution_count": null,
      "outputs": [
        {
          "output_type": "execute_result",
          "data": {
            "text/plain": [
              "114911"
            ]
          },
          "metadata": {
            "tags": []
          },
          "execution_count": 3
        }
      ]
    },
    {
      "cell_type": "code",
      "metadata": {
        "colab": {
          "base_uri": "https://localhost:8080/",
          "height": 513
        },
        "id": "minimal-creek",
        "outputId": "6f0bdfbf-2a83-4771-fe0b-9fd7d25933d1"
      },
      "source": [
        "positive_dataset.head()"
      ],
      "id": "minimal-creek",
      "execution_count": null,
      "outputs": [
        {
          "output_type": "execute_result",
          "data": {
            "text/html": [
              "<div>\n",
              "<style scoped>\n",
              "    .dataframe tbody tr th:only-of-type {\n",
              "        vertical-align: middle;\n",
              "    }\n",
              "\n",
              "    .dataframe tbody tr th {\n",
              "        vertical-align: top;\n",
              "    }\n",
              "\n",
              "    .dataframe thead th {\n",
              "        text-align: right;\n",
              "    }\n",
              "</style>\n",
              "<table border=\"1\" class=\"dataframe\">\n",
              "  <thead>\n",
              "    <tr style=\"text-align: right;\">\n",
              "      <th></th>\n",
              "      <th>id</th>\n",
              "      <th>tdate</th>\n",
              "      <th>tname</th>\n",
              "      <th>ttext</th>\n",
              "      <th>ttype</th>\n",
              "      <th>trep</th>\n",
              "      <th>trtw</th>\n",
              "      <th>tfav</th>\n",
              "      <th>tstcount</th>\n",
              "      <th>tfol</th>\n",
              "      <th>tfrien</th>\n",
              "      <th>listcount</th>\n",
              "    </tr>\n",
              "  </thead>\n",
              "  <tbody>\n",
              "    <tr>\n",
              "      <th>0</th>\n",
              "      <td>408906692374446080</td>\n",
              "      <td>1386325927</td>\n",
              "      <td>pleease_shut_up</td>\n",
              "      <td>@first_timee хоть я и школота, но поверь, у на...</td>\n",
              "      <td>1</td>\n",
              "      <td>0</td>\n",
              "      <td>0</td>\n",
              "      <td>0</td>\n",
              "      <td>7569</td>\n",
              "      <td>62</td>\n",
              "      <td>61</td>\n",
              "      <td>0</td>\n",
              "    </tr>\n",
              "    <tr>\n",
              "      <th>1</th>\n",
              "      <td>408906692693221377</td>\n",
              "      <td>1386325927</td>\n",
              "      <td>alinakirpicheva</td>\n",
              "      <td>Да, все-таки он немного похож на него. Но мой ...</td>\n",
              "      <td>1</td>\n",
              "      <td>0</td>\n",
              "      <td>0</td>\n",
              "      <td>0</td>\n",
              "      <td>11825</td>\n",
              "      <td>59</td>\n",
              "      <td>31</td>\n",
              "      <td>2</td>\n",
              "    </tr>\n",
              "    <tr>\n",
              "      <th>2</th>\n",
              "      <td>408906695083954177</td>\n",
              "      <td>1386325927</td>\n",
              "      <td>EvgeshaRe</td>\n",
              "      <td>RT @KatiaCheh: Ну ты идиотка) я испугалась за ...</td>\n",
              "      <td>1</td>\n",
              "      <td>0</td>\n",
              "      <td>1</td>\n",
              "      <td>0</td>\n",
              "      <td>1273</td>\n",
              "      <td>26</td>\n",
              "      <td>27</td>\n",
              "      <td>0</td>\n",
              "    </tr>\n",
              "    <tr>\n",
              "      <th>3</th>\n",
              "      <td>408906695356973056</td>\n",
              "      <td>1386325927</td>\n",
              "      <td>ikonnikova_21</td>\n",
              "      <td>RT @digger2912: \"Кто то в углу сидит и погибае...</td>\n",
              "      <td>1</td>\n",
              "      <td>0</td>\n",
              "      <td>1</td>\n",
              "      <td>0</td>\n",
              "      <td>1549</td>\n",
              "      <td>19</td>\n",
              "      <td>17</td>\n",
              "      <td>0</td>\n",
              "    </tr>\n",
              "    <tr>\n",
              "      <th>4</th>\n",
              "      <td>408906761416867842</td>\n",
              "      <td>1386325943</td>\n",
              "      <td>JumpyAlex</td>\n",
              "      <td>@irina_dyshkant Вот что значит страшилка :D\\nН...</td>\n",
              "      <td>1</td>\n",
              "      <td>0</td>\n",
              "      <td>0</td>\n",
              "      <td>0</td>\n",
              "      <td>597</td>\n",
              "      <td>16</td>\n",
              "      <td>23</td>\n",
              "      <td>1</td>\n",
              "    </tr>\n",
              "  </tbody>\n",
              "</table>\n",
              "</div>"
            ],
            "text/plain": [
              "                   id       tdate            tname  ... tfol  tfrien  listcount\n",
              "0  408906692374446080  1386325927  pleease_shut_up  ...   62      61          0\n",
              "1  408906692693221377  1386325927  alinakirpicheva  ...   59      31          2\n",
              "2  408906695083954177  1386325927        EvgeshaRe  ...   26      27          0\n",
              "3  408906695356973056  1386325927    ikonnikova_21  ...   19      17          0\n",
              "4  408906761416867842  1386325943        JumpyAlex  ...   16      23          1\n",
              "\n",
              "[5 rows x 12 columns]"
            ]
          },
          "metadata": {
            "tags": []
          },
          "execution_count": 4
        }
      ]
    },
    {
      "cell_type": "markdown",
      "metadata": {
        "id": "above-latest"
      },
      "source": [
        "Тренировочный корпус состоит из 114,911 положительных, 111,923 отрицательных записей.\n",
        "\n",
        "Удалим NA."
      ],
      "id": "above-latest"
    },
    {
      "cell_type": "code",
      "metadata": {
        "id": "xaVxm4G-yxAX"
      },
      "source": [
        "pos_text = positive_dataset['ttext'].dropna().values\n",
        "neg_text = negative_dataset['ttext'].dropna().values"
      ],
      "id": "xaVxm4G-yxAX",
      "execution_count": null,
      "outputs": []
    },
    {
      "cell_type": "code",
      "metadata": {
        "id": "CdaiX0O05XpF"
      },
      "source": [
        "#отделим от слов смайлики и запишем их как один\n",
        "def split_smile(r,smile, t):\n",
        "  ans = []\n",
        "  for i in t:\n",
        "    ans.append(re.sub(r,smile, i))\n",
        "  return ans   "
      ],
      "id": "CdaiX0O05XpF",
      "execution_count": null,
      "outputs": []
    },
    {
      "cell_type": "code",
      "metadata": {
        "id": "optical-dividend"
      },
      "source": [
        "pos_text = regul(r' *http\\S* *', pos_text)\n",
        "pos_text = regul(r' *@\\S* ', pos_text)\n",
        "pos_text = regul(r'RT *', pos_text)\n",
        "pos_text = regul(r'&quot;', pos_text)\n",
        "pos_text = regul(r'\\n', pos_text)\n",
        "pos_text = regul(r'[.,!?#$%&0-9A-Za-z&\\\"\\']+', pos_text)\n",
        "pos_text = split_smile(r'(\\w)([:;/\\!]*)\\)+', r'\\1 \\2)', pos_text)\n",
        "# pos_text = split_smile(r'(\\w)\\)+', r'\\1 )', pos_text)"
      ],
      "id": "optical-dividend",
      "execution_count": null,
      "outputs": []
    },
    {
      "cell_type": "code",
      "metadata": {
        "colab": {
          "base_uri": "https://localhost:8080/",
          "height": 37
        },
        "id": "y0XuvKGwKuAh",
        "outputId": "d7a8fe7f-1d4a-4b53-8542-15a23fc8e848"
      },
      "source": [
        "pos_text[10]"
      ],
      "id": "y0XuvKGwKuAh",
      "execution_count": null,
      "outputs": [
        {
          "output_type": "execute_result",
          "data": {
            "application/vnd.google.colaboratory.intrinsic+json": {
              "type": "string"
            },
            "text/plain": [
              "'Люблю маму и папу а в остальное я так -влюбляюсь  привязываюсь )\\xa0'"
            ]
          },
          "metadata": {
            "tags": []
          },
          "execution_count": 6
        }
      ]
    },
    {
      "cell_type": "code",
      "metadata": {
        "id": "naughty-palace"
      },
      "source": [
        "neg_text = regul(r' *http\\S* *', neg_text)\n",
        "neg_text = regul(r' *@\\S* ', neg_text)\n",
        "neg_text = regul(r'RT *', neg_text)\n",
        "neg_text = regul(r'&quot;', neg_text)\n",
        "neg_text = regul(r'\\n', neg_text)\n",
        "neg_text = regul(r'[.,!?#$%&0-9A-Za-z&\\\"\\']+', neg_text)\n",
        "neg_text = split_smile(r'(\\w)([:/\\!]*)\\(+', r'\\1 \\2(', neg_text)\n",
        "# neg_text = split_smile(r'(\\w)\\(+', r'\\1 (', neg_text)"
      ],
      "id": "naughty-palace",
      "execution_count": null,
      "outputs": []
    },
    {
      "cell_type": "code",
      "metadata": {
        "id": "controlling-baptist"
      },
      "source": [
        "len_pos = len(pos_text)\n",
        "len_neg = len(neg_text)"
      ],
      "id": "controlling-baptist",
      "execution_count": null,
      "outputs": []
    },
    {
      "cell_type": "code",
      "metadata": {
        "colab": {
          "base_uri": "https://localhost:8080/"
        },
        "id": "broadband-extension",
        "outputId": "9082eb9e-caa3-46da-e5ed-a5075c269ca4"
      },
      "source": [
        "twits = np.concatenate((pos_text, neg_text))\n",
        "twits"
      ],
      "id": "broadband-extension",
      "execution_count": null,
      "outputs": [
        {
          "output_type": "execute_result",
          "data": {
            "text/plain": [
              "array([' хоть я и школота  но поверь  у нас то же самое :  общество профилирующий предмет типа )',\n",
              "       'Да  все-таки он немного похож на него  Но мой мальчик все равно лучше: ',\n",
              "       ' Ну ты идиотка ) я испугалась за тебя ', ...,\n",
              "       'Вот и в школу  в говно это идти уже надо (',\n",
              "       ' Тауриэль  не грусти :( *обнял*',\n",
              "       'Такси везет меня на работу  Раздумываю приплатить  чтобы меня втащили на пятый этаж  Лифта то нет :('],\n",
              "      dtype='<U159')"
            ]
          },
          "metadata": {
            "tags": []
          },
          "execution_count": 8
        }
      ]
    },
    {
      "cell_type": "code",
      "metadata": {
        "colab": {
          "base_uri": "https://localhost:8080/"
        },
        "id": "confirmed-street",
        "outputId": "053389ef-8376-4e08-b986-4424668f54be"
      },
      "source": [
        "labels = [1] * len_pos + [0] * len_neg\n",
        "labels = np.array(labels)\n",
        "labels"
      ],
      "id": "confirmed-street",
      "execution_count": null,
      "outputs": [
        {
          "output_type": "execute_result",
          "data": {
            "text/plain": [
              "array([1, 1, 1, ..., 0, 0, 0])"
            ]
          },
          "metadata": {
            "tags": []
          },
          "execution_count": 9
        }
      ]
    },
    {
      "cell_type": "code",
      "metadata": {
        "id": "palestinian-flooring"
      },
      "source": [
        "symb_len = [len(i) for i in twits]\n",
        "word_len = [len(i.split()) for i in twits]"
      ],
      "id": "palestinian-flooring",
      "execution_count": null,
      "outputs": []
    },
    {
      "cell_type": "markdown",
      "metadata": {
        "id": "subsequent-constitutional"
      },
      "source": [
        "Найдем среднее, медиану, стандартное отклонение, минимальное, максимальное значение."
      ],
      "id": "subsequent-constitutional"
    },
    {
      "cell_type": "code",
      "metadata": {
        "colab": {
          "base_uri": "https://localhost:8080/"
        },
        "id": "swedish-tonight",
        "outputId": "95a103c2-3e0e-4769-a153-54a9fe34a001"
      },
      "source": [
        "symb_mean = np.mean(symb_len)\n",
        "word_mean = np.mean(word_len)\n",
        "print(symb_mean, word_mean)"
      ],
      "id": "swedish-tonight",
      "execution_count": null,
      "outputs": [
        {
          "output_type": "stream",
          "text": [
            "68.30129522029326 12.097890968726029\n"
          ],
          "name": "stdout"
        }
      ]
    },
    {
      "cell_type": "code",
      "metadata": {
        "colab": {
          "base_uri": "https://localhost:8080/"
        },
        "id": "premium-transition",
        "outputId": "8ee1669b-4d74-4e71-8494-1ca9b4705f63"
      },
      "source": [
        "symb_median = np.median(symb_len)\n",
        "word_median = np.median(word_len)\n",
        "print(symb_median, word_median)"
      ],
      "id": "premium-transition",
      "execution_count": null,
      "outputs": [
        {
          "output_type": "stream",
          "text": [
            "63.0 11.0\n"
          ],
          "name": "stdout"
        }
      ]
    },
    {
      "cell_type": "code",
      "metadata": {
        "colab": {
          "base_uri": "https://localhost:8080/"
        },
        "id": "certified-improvement",
        "outputId": "48b3f52a-09fe-414e-bbf8-460d392929d7"
      },
      "source": [
        "symb_std = np.std(symb_len)\n",
        "word_std = np.std(word_len)\n",
        "print(symb_std, word_std)"
      ],
      "id": "certified-improvement",
      "execution_count": null,
      "outputs": [
        {
          "output_type": "stream",
          "text": [
            "29.106003039930123 5.152044015732866\n"
          ],
          "name": "stdout"
        }
      ]
    },
    {
      "cell_type": "code",
      "metadata": {
        "colab": {
          "base_uri": "https://localhost:8080/"
        },
        "id": "prospective-simpson",
        "outputId": "1fe9a5e6-ca88-498e-cff9-b2a1344f665e"
      },
      "source": [
        "symb_min = np.min(symb_len)\n",
        "word_min = np.min(word_len)\n",
        "symb_max = np.max(symb_len)\n",
        "word_max = np.max(word_len)\n",
        "print(symb_min, word_min, symb_max, word_max)"
      ],
      "id": "prospective-simpson",
      "execution_count": null,
      "outputs": [
        {
          "output_type": "stream",
          "text": [
            "2 1 159 36\n"
          ],
          "name": "stdout"
        }
      ]
    },
    {
      "cell_type": "markdown",
      "metadata": {
        "id": "driving-portsmouth"
      },
      "source": [
        "Построим гистограммы"
      ],
      "id": "driving-portsmouth"
    },
    {
      "cell_type": "code",
      "metadata": {
        "colab": {
          "base_uri": "https://localhost:8080/",
          "height": 295
        },
        "id": "unique-target",
        "outputId": "51a97ed6-fa83-487f-fba5-5fbf4195e252"
      },
      "source": [
        "create_hist(symb_len, np.arange(symb_min, symb_max, 5), 'Распределение количества символов в твите', 'количество символов', 'количество твитов')"
      ],
      "id": "unique-target",
      "execution_count": null,
      "outputs": [
        {
          "output_type": "display_data",
          "data": {
            "image/png": "[encoded data removed]",
            "text/plain": [
              "<Figure size 432x288 with 1 Axes>"
            ]
          },
          "metadata": {
            "tags": [],
            "needs_background": "light"
          }
        }
      ]
    },
    {
      "cell_type": "code",
      "metadata": {
        "colab": {
          "base_uri": "https://localhost:8080/",
          "height": 295
        },
        "id": "subject-ceremony",
        "outputId": "72f9e558-18f7-430e-b957-f2593ab0ca27"
      },
      "source": [
        "create_hist(word_len, np.arange(word_min, word_max, 1), 'Распределение количества слов в твите', 'количество слов', 'количество твитов')"
      ],
      "id": "subject-ceremony",
      "execution_count": null,
      "outputs": [
        {
          "output_type": "display_data",
          "data": {
            "image/png": "[encoded data removed]",
            "text/plain": [
              "<Figure size 432x288 with 1 Axes>"
            ]
          },
          "metadata": {
            "tags": [],
            "needs_background": "light"
          }
        }
      ]
    },
    {
      "cell_type": "code",
      "metadata": {
        "colab": {
          "base_uri": "https://localhost:8080/",
          "height": 265
        },
        "id": "crazy-armenia",
        "outputId": "2c6035e0-2e7d-492c-b3e1-fff684df9386"
      },
      "source": [
        "create_boxplot(symb_len)"
      ],
      "id": "crazy-armenia",
      "execution_count": null,
      "outputs": [
        {
          "output_type": "display_data",
          "data": {
            "image/png": "[encoded data removed]",
            "text/plain": [
              "<Figure size 432x288 with 1 Axes>"
            ]
          },
          "metadata": {
            "tags": [],
            "needs_background": "light"
          }
        }
      ]
    },
    {
      "cell_type": "code",
      "metadata": {
        "colab": {
          "base_uri": "https://localhost:8080/",
          "height": 265
        },
        "id": "aware-match",
        "outputId": "1ebe9c01-bbb7-4163-be46-45e086bbce45"
      },
      "source": [
        "create_boxplot(word_len)"
      ],
      "id": "aware-match",
      "execution_count": null,
      "outputs": [
        {
          "output_type": "display_data",
          "data": {
            "image/png": "[encoded data removed]",
            "text/plain": [
              "<Figure size 432x288 with 1 Axes>"
            ]
          },
          "metadata": {
            "tags": [],
            "needs_background": "light"
          }
        }
      ]
    },
    {
      "cell_type": "code",
      "metadata": {
        "colab": {
          "base_uri": "https://localhost:8080/"
        },
        "id": "central-initial",
        "outputId": "43fd2058-3a22-4f24-b1d1-024b8a582412"
      },
      "source": [
        "get_ngrams(2, twits, worst=True)"
      ],
      "id": "central-initial",
      "execution_count": null,
      "outputs": [
        {
          "output_type": "stream",
          "text": [
            "Лучшие 10 2-грамм\n",
            "[(('у', 'меня'), 8268), (('я', 'не'), 4470), (('а', 'я'), 3705), (('и', 'не'), 3235), (('что', 'я'), 2862), (('не', 'могу'), 2804), (('у', 'нас'), 2318), (('не', 'знаю'), 1992), (('у', 'тебя'), 1601), (('и', 'я'), 1520)]\n",
            "Худшие 10 2-грамм\n",
            "[(('Лифта', 'то'), 1), (('этаж', 'Лифта'), 1), (('пятый', 'этаж'), 1), (('на', 'пятый'), 1), (('втащили', 'на'), 1), (('меня', 'втащили'), 1), (('приплатить', 'чтобы'), 1), (('Раздумываю', 'приплатить'), 1), (('работу', 'Раздумываю'), 1), (('Такси', 'везет'), 1)]\n"
          ],
          "name": "stdout"
        }
      ]
    },
    {
      "cell_type": "code",
      "metadata": {
        "id": "sound-crown",
        "colab": {
          "base_uri": "https://localhost:8080/"
        },
        "outputId": "8d53116b-7ff6-4241-dcae-ceef92d38aea"
      },
      "source": [
        "get_frequent_words(' '.join(twits), top=10)"
      ],
      "id": "sound-crown",
      "execution_count": null,
      "outputs": [
        {
          "output_type": "execute_result",
          "data": {
            "text/plain": [
              "[('не', 69370),\n",
              " (')', 65535),\n",
              " ('и', 55018),\n",
              " ('(', 54483),\n",
              " ('в', 52888),\n",
              " ('я', 52550),\n",
              " ('на', 35716),\n",
              " ('что', 31491),\n",
              " ('а', 26709),\n",
              " ('с', 25512)]"
            ]
          },
          "metadata": {
            "tags": []
          },
          "execution_count": 30
        }
      ]
    },
    {
      "cell_type": "markdown",
      "metadata": {
        "id": "micro-lloyd"
      },
      "source": [
        "# Training of the first sentiment model"
      ],
      "id": "micro-lloyd"
    },
    {
      "cell_type": "markdown",
      "metadata": {
        "id": "xMSi3SidWyhm"
      },
      "source": [
        "Algorithm:\n",
        "\n",
        "- creating of word2vec\n",
        "- training model: one of the GBM (i.e. LightGBM, XGBoost) / SVM / ...)"
      ],
      "id": "xMSi3SidWyhm"
    },
    {
      "cell_type": "markdown",
      "metadata": {
        "id": "YZ19a0wcYN4-"
      },
      "source": [
        "Разобьем данные на train/test."
      ],
      "id": "YZ19a0wcYN4-"
    },
    {
      "cell_type": "code",
      "metadata": {
        "id": "acknowledged-saskatchewan"
      },
      "source": [
        "X_train, X_test, y_train, y_test = train_test_split(twits, labels, test_size=0.2, random_state=42)"
      ],
      "id": "acknowledged-saskatchewan",
      "execution_count": null,
      "outputs": []
    },
    {
      "cell_type": "code",
      "metadata": {
        "colab": {
          "base_uri": "https://localhost:8080/"
        },
        "id": "NYux61l8ZbUn",
        "outputId": "028e9f80-c289-451f-d63e-6bd43ee7c6e4"
      },
      "source": [
        "X_train"
      ],
      "id": "NYux61l8ZbUn",
      "execution_count": null,
      "outputs": [
        {
          "output_type": "execute_result",
          "data": {
            "text/plain": [
              "array(['Немного выпьем  говорил он  ничего не будет  говорил он )',\n",
              "       'я по твоему общению и шуткам соскучилась  Че-то давно не виделись (',\n",
              "       ' ахахаахх как ты мою собаку уже не называл  ))', ...,\n",
              "       'дому чуть больше   лет а мне приходится вторую раковину менять ;(',\n",
              "       '  даже представить боюсь (',\n",
              "       'через   дней будет месяц как мы не общаемся  мм да уж как время быстро летит ('],\n",
              "      dtype='<U159')"
            ]
          },
          "metadata": {
            "tags": []
          },
          "execution_count": 19
        }
      ]
    },
    {
      "cell_type": "code",
      "metadata": {
        "id": "FNFQBt7QgjJM"
      },
      "source": [
        "def tokenize(X):\n",
        "    X_ans = []\n",
        "    for el in X:\n",
        "        X_ans.append(el.strip().split()) \n",
        "    return X_ans    "
      ],
      "id": "FNFQBt7QgjJM",
      "execution_count": null,
      "outputs": []
    },
    {
      "cell_type": "code",
      "metadata": {
        "id": "considerable-salmon"
      },
      "source": [
        "#c каждого предложения получим список слов\n",
        "X_right = tokenize(X_train)    "
      ],
      "id": "considerable-salmon",
      "execution_count": null,
      "outputs": []
    },
    {
      "cell_type": "code",
      "metadata": {
        "id": "oUPwgp9u_z_P"
      },
      "source": [
        "# def lemmatize(l):\n",
        "#     morph = MorphAnalyzer()\n",
        "#     ans_tw = []\n",
        "#     for twit in tqdm(l):\n",
        "#       ans = []\n",
        "#       for word in twit:\n",
        "#           ans.append(morph.normal_forms(word))\n",
        "#       ans_tw.append(ans)\n",
        "#     return ans_tw     "
      ],
      "id": "oUPwgp9u_z_P",
      "execution_count": null,
      "outputs": []
    },
    {
      "cell_type": "code",
      "metadata": {
        "colab": {
          "base_uri": "https://localhost:8080/"
        },
        "id": "b6flLTY0Abp7",
        "outputId": "80e4e030-9f6c-48cf-e370-45254c1345e3"
      },
      "source": [
        "# X_right = lemmatize(X_right)"
      ],
      "id": "b6flLTY0Abp7",
      "execution_count": null,
      "outputs": [
        {
          "output_type": "stream",
          "text": [
            "100%|██████████| 181467/181467 [09:23<00:00, 321.80it/s]\n"
          ],
          "name": "stderr"
        }
      ]
    },
    {
      "cell_type": "code",
      "metadata": {
        "colab": {
          "base_uri": "https://localhost:8080/"
        },
        "id": "veterinary-financing",
        "outputId": "3919ee68-154a-47a8-89b1-6c4432025f52"
      },
      "source": [
        "X_right[:5]"
      ],
      "id": "veterinary-financing",
      "execution_count": null,
      "outputs": [
        {
          "output_type": "execute_result",
          "data": {
            "text/plain": [
              "[['Немного',\n",
              "  'выпьем',\n",
              "  'говорил',\n",
              "  'он',\n",
              "  'ничего',\n",
              "  'не',\n",
              "  'будет',\n",
              "  'говорил',\n",
              "  'он',\n",
              "  ')'],\n",
              " ['я',\n",
              "  'по',\n",
              "  'твоему',\n",
              "  'общению',\n",
              "  'и',\n",
              "  'шуткам',\n",
              "  'соскучилась',\n",
              "  'Че-то',\n",
              "  'давно',\n",
              "  'не',\n",
              "  'виделись',\n",
              "  '('],\n",
              " ['ахахаахх', 'как', 'ты', 'мою', 'собаку', 'уже', 'не', 'называл', '))'],\n",
              " ['лично',\n",
              "  'мне',\n",
              "  'было',\n",
              "  'вообще',\n",
              "  'по',\n",
              "  'барабану',\n",
              "  'на',\n",
              "  'гиа',\n",
              "  'и',\n",
              "  'я',\n",
              "  'написала',\n",
              "  'на',\n",
              "  '5',\n",
              "  '4',\n",
              "  '4',\n",
              "  '4',\n",
              "  'так',\n",
              "  'что',\n",
              "  'не',\n",
              "  'заморачивайтесь',\n",
              "  'можно',\n",
              "  'списать',\n",
              "  'спокойно',\n",
              "  ':'],\n",
              " ['Наташа',\n",
              "  'реальный',\n",
              "  'китаец',\n",
              "  'пишет',\n",
              "  'что',\n",
              "  'не',\n",
              "  'хера',\n",
              "  'не',\n",
              "  'понять',\n",
              "  '))))']]"
            ]
          },
          "metadata": {
            "tags": []
          },
          "execution_count": 31
        }
      ]
    },
    {
      "cell_type": "code",
      "metadata": {
        "id": "precious-sweden"
      },
      "source": [
        "model_right = gensim.models.Word2Vec(X_right, min_count = 1, window = 10,  sg = 1)"
      ],
      "id": "precious-sweden",
      "execution_count": null,
      "outputs": []
    },
    {
      "cell_type": "code",
      "metadata": {
        "colab": {
          "base_uri": "https://localhost:8080/"
        },
        "id": "outdoor-tourist",
        "outputId": "340b2536-eb66-48c8-a498-b0506957c664"
      },
      "source": [
        "model_right.wv.most_similar('уроке', topn=10)"
      ],
      "id": "outdoor-tourist",
      "execution_count": null,
      "outputs": [
        {
          "output_type": "execute_result",
          "data": {
            "text/plain": [
              "[('уроках', 0.917378842830658),\n",
              " ('физ-ре', 0.9041421413421631),\n",
              " ('самостоятельную', 0.8923436999320984),\n",
              " ('контрольную', 0.88353431224823),\n",
              " ('перемене', 0.8742630481719971),\n",
              " ('парте', 0.8727004528045654),\n",
              " ('укр', 0.8692817687988281),\n",
              " ('столовой', 0.8676010370254517),\n",
              " ('географии', 0.8640938401222229),\n",
              " ('биологии', 0.862708330154419)]"
            ]
          },
          "metadata": {
            "tags": []
          },
          "execution_count": 24
        }
      ]
    },
    {
      "cell_type": "code",
      "metadata": {
        "colab": {
          "base_uri": "https://localhost:8080/"
        },
        "id": "korean-fountain",
        "outputId": "95069d2c-1bd9-4d27-f208-74002b091d68"
      },
      "source": [
        "model_right.wv['улице']"
      ],
      "id": "korean-fountain",
      "execution_count": null,
      "outputs": [
        {
          "output_type": "execute_result",
          "data": {
            "text/plain": [
              "array([ 0.00596978, -0.67614526, -0.02648533,  0.3647519 , -0.10840542,\n",
              "        1.3563868 , -0.22717278,  0.27599502, -0.77107096, -0.074504  ,\n",
              "       -0.04219999,  0.85818285, -0.1805009 ,  0.13772899, -1.2244619 ,\n",
              "        0.26392666,  0.7816838 , -0.32925448, -0.89375335, -0.10780422,\n",
              "        0.26722103, -0.48165312,  0.9979126 ,  0.09572151,  0.047401  ,\n",
              "       -0.10841226, -1.1170268 , -0.15168943,  0.5896169 ,  0.0253674 ,\n",
              "        0.3017865 ,  0.10214067,  0.25122207,  0.33183712,  0.73832834,\n",
              "       -0.07553694, -0.04542083,  0.10247461,  0.4308253 , -0.08292812,\n",
              "        0.6691749 ,  0.37016296, -0.16467878, -0.436692  , -0.43836796,\n",
              "        0.05876644, -0.69570905, -0.10514926,  0.77584845, -0.21623337,\n",
              "        0.2871829 ,  0.13949399, -0.15227559,  0.4592346 ,  0.2777108 ,\n",
              "        0.01583131, -0.38656068,  0.07019323,  0.5468437 ,  0.9118321 ,\n",
              "       -0.25100538, -0.9396516 ,  0.12689227,  0.02859373, -0.2587734 ,\n",
              "       -0.19397381,  0.15918699, -0.74988705, -0.59395427,  0.00468908,\n",
              "        0.03845242,  0.06184519, -1.0101773 , -0.88405734, -0.436738  ,\n",
              "       -0.44239748, -0.05403838, -0.3692108 ,  0.3506727 ,  0.3882302 ,\n",
              "       -0.5195947 ,  0.5432089 , -0.47670633, -0.0244984 ,  0.49014318,\n",
              "        0.99375427, -0.06380936,  0.82113314,  0.10334185, -0.12478738,\n",
              "        0.3506839 ,  0.20523326,  0.03114237,  0.01482572, -0.04826811,\n",
              "       -0.02687826,  0.41446158,  0.4564632 , -0.33915144, -0.30019683],\n",
              "      dtype=float32)"
            ]
          },
          "metadata": {
            "tags": []
          },
          "execution_count": 25
        }
      ]
    },
    {
      "cell_type": "code",
      "metadata": {
        "id": "ojXHELZAiVZr"
      },
      "source": [
        "def find_mean_vec(X, model):\n",
        "    X_ans = []\n",
        "    for i in range(len(X)):\n",
        "        ans = 0\n",
        "        for j in range(len(X[i])):\n",
        "            ans += model.wv[X[i][j]]\n",
        "        X_ans.append(ans/len(X[i])) \n",
        "    return X_ans        "
      ],
      "id": "ojXHELZAiVZr",
      "execution_count": null,
      "outputs": []
    },
    {
      "cell_type": "code",
      "metadata": {
        "id": "hourly-journalist"
      },
      "source": [
        "# посчитаем среднее значение векторов, входящих в твит\n",
        "X_vec = find_mean_vec(X_right, model_right)"
      ],
      "id": "hourly-journalist",
      "execution_count": null,
      "outputs": []
    },
    {
      "cell_type": "markdown",
      "metadata": {
        "id": "natural-metabolism"
      },
      "source": [
        "## XGBoost"
      ],
      "id": "natural-metabolism"
    },
    {
      "cell_type": "code",
      "metadata": {
        "colab": {
          "base_uri": "https://localhost:8080/"
        },
        "id": "foreign-recruitment",
        "outputId": "aa02624f-d74e-4719-c059-385439a9aad0"
      },
      "source": [
        "model = xgboost.XGBClassifier(n_estimators=200)\n",
        "model.fit(np.array(X_vec), y_train)"
      ],
      "id": "foreign-recruitment",
      "execution_count": null,
      "outputs": [
        {
          "output_type": "execute_result",
          "data": {
            "text/plain": [
              "XGBClassifier(base_score=0.5, booster='gbtree', colsample_bylevel=1,\n",
              "              colsample_bynode=1, colsample_bytree=1, gamma=0,\n",
              "              learning_rate=0.1, max_delta_step=0, max_depth=3,\n",
              "              min_child_weight=1, missing=None, n_estimators=200, n_jobs=1,\n",
              "              nthread=None, objective='binary:logistic', random_state=0,\n",
              "              reg_alpha=0, reg_lambda=1, scale_pos_weight=1, seed=None,\n",
              "              silent=None, subsample=1, verbosity=1)"
            ]
          },
          "metadata": {
            "tags": []
          },
          "execution_count": 28
        }
      ]
    },
    {
      "cell_type": "code",
      "metadata": {
        "id": "immune-papua"
      },
      "source": [
        "X_right_test = tokenize(X_test)"
      ],
      "id": "immune-papua",
      "execution_count": null,
      "outputs": []
    },
    {
      "cell_type": "markdown",
      "metadata": {
        "id": "timely-series"
      },
      "source": [
        "Обучим модель w2v также на тестовом датасете."
      ],
      "id": "timely-series"
    },
    {
      "cell_type": "code",
      "metadata": {
        "colab": {
          "base_uri": "https://localhost:8080/"
        },
        "id": "raised-catalyst",
        "outputId": "e5148dfc-0674-4b3b-92d6-dccfcc93fbbb"
      },
      "source": [
        "model_right.train(X_right_test, total_examples = len(X_right_test), epochs = 10)"
      ],
      "id": "raised-catalyst",
      "execution_count": null,
      "outputs": [
        {
          "output_type": "execute_result",
          "data": {
            "text/plain": [
              "(4241310, 5482800)"
            ]
          },
          "metadata": {
            "tags": []
          },
          "execution_count": 30
        }
      ]
    },
    {
      "cell_type": "code",
      "metadata": {
        "id": "assigned-being"
      },
      "source": [
        "model_right.build_vocab(X_right_test, update=True)"
      ],
      "id": "assigned-being",
      "execution_count": null,
      "outputs": []
    },
    {
      "cell_type": "code",
      "metadata": {
        "id": "accessible-deadline"
      },
      "source": [
        "X_vec_test = find_mean_vec(X_right_test, model_right)"
      ],
      "id": "accessible-deadline",
      "execution_count": null,
      "outputs": []
    },
    {
      "cell_type": "code",
      "metadata": {
        "colab": {
          "base_uri": "https://localhost:8080/"
        },
        "id": "subtle-burke",
        "outputId": "f9eecbae-9e48-43ed-f9ab-aabb9f2b5ea5"
      },
      "source": [
        "y_pred = model.predict(np.array(X_vec_test))\n",
        "accuracy = accuracy_score(y_test, y_pred)\n",
        "print(\"Accuracy: %.2f%%\" % (accuracy * 100.0))\n",
        "# 76.70% с /len(X_right_test[i]) с ! \n",
        "# 69.93% без /len(X_right_test[i])\n",
        "# 77.43% с /len(X_right_test[i]) и без !\n",
        "# 80.04%\n",
        "# 86.12%\n",
        "# 85.54%\n",
        "# 86.79%\n",
        "# 88.59%\n",
        "# 90.26%"
      ],
      "id": "subtle-burke",
      "execution_count": null,
      "outputs": [
        {
          "output_type": "stream",
          "text": [
            "Accuracy: 90.26%\n"
          ],
          "name": "stdout"
        }
      ]
    },
    {
      "cell_type": "code",
      "metadata": {
        "colab": {
          "base_uri": "https://localhost:8080/",
          "height": 296
        },
        "id": "5uaznVlrRvZI",
        "outputId": "6982644a-d63f-4660-d7cf-4b27c2141771"
      },
      "source": [
        "y_score = model.predict_proba(X_vec_test)\n",
        "print(roc_auc_score(y_test, y_score[:, 1]))\n",
        "\n",
        "metrics.plot_roc_curve(model, X_vec_test, y_test)  \n",
        "plt.show()                               "
      ],
      "id": "5uaznVlrRvZI",
      "execution_count": null,
      "outputs": [
        {
          "output_type": "stream",
          "text": [
            "0.9662589551062182\n"
          ],
          "name": "stdout"
        },
        {
          "output_type": "display_data",
          "data": {
            "image/png": "[encoded data removed]",
            "text/plain": [
              "<Figure size 432x288 with 1 Axes>"
            ]
          },
          "metadata": {
            "tags": [],
            "needs_background": "light"
          }
        }
      ]
    },
    {
      "cell_type": "code",
      "metadata": {
        "colab": {
          "base_uri": "https://localhost:8080/"
        },
        "id": "quarterly-paraguay",
        "outputId": "477b8aba-af31-4413-afb8-ebc15bcce7d4"
      },
      "source": [
        "print(classification_report(y_test,y_pred))"
      ],
      "id": "quarterly-paraguay",
      "execution_count": null,
      "outputs": [
        {
          "output_type": "stream",
          "text": [
            "              precision    recall  f1-score   support\n",
            "\n",
            "           0       0.89      0.92      0.90     22480\n",
            "           1       0.92      0.89      0.90     22887\n",
            "\n",
            "    accuracy                           0.90     45367\n",
            "   macro avg       0.90      0.90      0.90     45367\n",
            "weighted avg       0.90      0.90      0.90     45367\n",
            "\n"
          ],
          "name": "stdout"
        }
      ]
    },
    {
      "cell_type": "code",
      "metadata": {
        "colab": {
          "base_uri": "https://localhost:8080/"
        },
        "id": "serial-enemy",
        "outputId": "6913710f-925b-4105-94af-672980110b0f"
      },
      "source": [
        "conf_m = pd.crosstab(y_test, y_pred, rownames=['Actual'], colnames=['Predicted'])\n",
        "print(conf_m)"
      ],
      "id": "serial-enemy",
      "execution_count": null,
      "outputs": [
        {
          "output_type": "stream",
          "text": [
            "Predicted      0      1\n",
            "Actual                 \n",
            "0          20598   1882\n",
            "1           2537  20350\n"
          ],
          "name": "stdout"
        }
      ]
    },
    {
      "cell_type": "markdown",
      "metadata": {
        "id": "objective-nirvana"
      },
      "source": [
        "## LIGHTGBM\n"
      ],
      "id": "objective-nirvana"
    },
    {
      "cell_type": "code",
      "metadata": {
        "colab": {
          "base_uri": "https://localhost:8080/"
        },
        "id": "authorized-fault",
        "outputId": "3d3e0dca-6a97-4187-fecd-af9564ce661c"
      },
      "source": [
        "clf = lgb.LGBMClassifier(learning_rate=0.1)\n",
        "clf.fit(X_vec, y_train)"
      ],
      "id": "authorized-fault",
      "execution_count": null,
      "outputs": [
        {
          "output_type": "execute_result",
          "data": {
            "text/plain": [
              "LGBMClassifier(boosting_type='gbdt', class_weight=None, colsample_bytree=1.0,\n",
              "               importance_type='split', learning_rate=0.1, max_depth=-1,\n",
              "               min_child_samples=20, min_child_weight=0.001, min_split_gain=0.0,\n",
              "               n_estimators=100, n_jobs=-1, num_leaves=31, objective=None,\n",
              "               random_state=None, reg_alpha=0.0, reg_lambda=0.0, silent=True,\n",
              "               subsample=1.0, subsample_for_bin=200000, subsample_freq=0)"
            ]
          },
          "metadata": {
            "tags": []
          },
          "execution_count": 37
        }
      ]
    },
    {
      "cell_type": "code",
      "metadata": {
        "id": "spanish-garlic"
      },
      "source": [
        "y_pred=clf.predict(X_vec_test)"
      ],
      "id": "spanish-garlic",
      "execution_count": null,
      "outputs": []
    },
    {
      "cell_type": "code",
      "metadata": {
        "colab": {
          "base_uri": "https://localhost:8080/"
        },
        "id": "noticed-proof",
        "outputId": "f7ce64ff-1d00-4eb9-ae98-fbe00963d425"
      },
      "source": [
        "accuracy=accuracy_score(y_pred, y_test)\n",
        "print('LightGBM Model accuracy score: {0:0.4f}'.format(accuracy_score(y_test, y_pred)))\n",
        "# 0.7822\n",
        "# 0.7708\n",
        "# 0.8611"
      ],
      "id": "noticed-proof",
      "execution_count": null,
      "outputs": [
        {
          "output_type": "stream",
          "text": [
            "LightGBM Model accuracy score: 0.9013\n"
          ],
          "name": "stdout"
        }
      ]
    },
    {
      "cell_type": "code",
      "metadata": {
        "colab": {
          "base_uri": "https://localhost:8080/"
        },
        "id": "rocky-tenant",
        "outputId": "e3170551-a1a7-44af-e45f-940b963950f2"
      },
      "source": [
        "print(classification_report(y_test, y_pred))"
      ],
      "id": "rocky-tenant",
      "execution_count": null,
      "outputs": [
        {
          "output_type": "stream",
          "text": [
            "              precision    recall  f1-score   support\n",
            "\n",
            "           0       0.90      0.91      0.90     22480\n",
            "           1       0.91      0.90      0.90     22887\n",
            "\n",
            "    accuracy                           0.90     45367\n",
            "   macro avg       0.90      0.90      0.90     45367\n",
            "weighted avg       0.90      0.90      0.90     45367\n",
            "\n"
          ],
          "name": "stdout"
        }
      ]
    },
    {
      "cell_type": "code",
      "metadata": {
        "colab": {
          "base_uri": "https://localhost:8080/",
          "height": 296
        },
        "id": "412PD_BoS1kr",
        "outputId": "c29553da-532d-4b95-9a3b-c10026eaf997"
      },
      "source": [
        "y_score = clf.predict_proba(X_vec_test)\n",
        "print(roc_auc_score(y_test, y_score[:, 1]))\n",
        "\n",
        "metrics.plot_roc_curve(clf, X_vec_test, y_test)  \n",
        "plt.show()  "
      ],
      "id": "412PD_BoS1kr",
      "execution_count": null,
      "outputs": [
        {
          "output_type": "stream",
          "text": [
            "0.9650717669916892\n"
          ],
          "name": "stdout"
        },
        {
          "output_type": "display_data",
          "data": {
            "image/png": "[encoded data removed]",
            "text/plain": [
              "<Figure size 432x288 with 1 Axes>"
            ]
          },
          "metadata": {
            "tags": [],
            "needs_background": "light"
          }
        }
      ]
    },
    {
      "cell_type": "markdown",
      "metadata": {
        "id": "acpmIDys1BT5"
      },
      "source": [
        "## Random Forest"
      ],
      "id": "acpmIDys1BT5"
    },
    {
      "cell_type": "code",
      "metadata": {
        "colab": {
          "base_uri": "https://localhost:8080/"
        },
        "id": "bkX4u1prF7hC",
        "outputId": "2e5e7b48-c743-4517-ac67-5d0712e0302f"
      },
      "source": [
        "clf = RandomForestClassifier(max_depth=2, random_state=42, n_estimators = 200)\n",
        "clf.fit(X_vec, y_train)"
      ],
      "id": "bkX4u1prF7hC",
      "execution_count": null,
      "outputs": [
        {
          "output_type": "execute_result",
          "data": {
            "text/plain": [
              "RandomForestClassifier(bootstrap=True, ccp_alpha=0.0, class_weight=None,\n",
              "                       criterion='gini', max_depth=2, max_features='auto',\n",
              "                       max_leaf_nodes=None, max_samples=None,\n",
              "                       min_impurity_decrease=0.0, min_impurity_split=None,\n",
              "                       min_samples_leaf=1, min_samples_split=2,\n",
              "                       min_weight_fraction_leaf=0.0, n_estimators=200,\n",
              "                       n_jobs=None, oob_score=False, random_state=42, verbose=0,\n",
              "                       warm_start=False)"
            ]
          },
          "metadata": {
            "tags": []
          },
          "execution_count": 42
        }
      ]
    },
    {
      "cell_type": "code",
      "metadata": {
        "id": "KuHEmNN9GAfL"
      },
      "source": [
        "y_pred = clf.predict(X_vec_test)"
      ],
      "id": "KuHEmNN9GAfL",
      "execution_count": null,
      "outputs": []
    },
    {
      "cell_type": "code",
      "metadata": {
        "colab": {
          "base_uri": "https://localhost:8080/"
        },
        "id": "HNPIW_cnGF4k",
        "outputId": "aab14552-db03-4b0b-c76b-c85e18b1ee4d"
      },
      "source": [
        "# accuracy=accuracy_score(y_pred, y_test)\n",
        "print('Random forest Model accuracy score: {0:0.4f}'.format(accuracy_score(y_test, y_pred)))"
      ],
      "id": "HNPIW_cnGF4k",
      "execution_count": null,
      "outputs": [
        {
          "output_type": "stream",
          "text": [
            "Random forest Model accuracy score: 0.8189\n"
          ],
          "name": "stdout"
        }
      ]
    },
    {
      "cell_type": "code",
      "metadata": {
        "colab": {
          "base_uri": "https://localhost:8080/"
        },
        "id": "FE0kGhdKyin-",
        "outputId": "a4b9e9ff-39e6-4f0b-d1f4-bb12cbb6dbce"
      },
      "source": [
        "print(classification_report(y_test, y_pred))"
      ],
      "id": "FE0kGhdKyin-",
      "execution_count": null,
      "outputs": [
        {
          "output_type": "stream",
          "text": [
            "              precision    recall  f1-score   support\n",
            "\n",
            "           0       0.82      0.81      0.82     22480\n",
            "           1       0.82      0.83      0.82     22887\n",
            "\n",
            "    accuracy                           0.82     45367\n",
            "   macro avg       0.82      0.82      0.82     45367\n",
            "weighted avg       0.82      0.82      0.82     45367\n",
            "\n"
          ],
          "name": "stdout"
        }
      ]
    },
    {
      "cell_type": "markdown",
      "metadata": {
        "id": "Cvnk4z_nJL3a"
      },
      "source": [
        "## Простая нейронная сеть"
      ],
      "id": "Cvnk4z_nJL3a"
    },
    {
      "cell_type": "code",
      "metadata": {
        "colab": {
          "base_uri": "https://localhost:8080/"
        },
        "id": "-yi2b9GebL32",
        "outputId": "a154a0bb-ca78-413c-a87b-a3fb3b9b8325"
      },
      "source": [
        "class Net(nn.Module):\n",
        "    def __init__(self):\n",
        "        super().__init__()\n",
        "        self.fc1 = nn.Linear(100, 128)\n",
        "        self.fc2 = nn.Linear(128, 64)\n",
        "        self.fc3 = nn.Linear(64, 32)\n",
        "        self.fc4 = nn.Linear(32, 2)\n",
        "\n",
        "    def forward(self, x):\n",
        "        x = F.relu(self.fc1(x))\n",
        "        x = F.relu(self.fc2(x))\n",
        "        x = F.relu(self.fc3(x))\n",
        "        x = self.fc4(x)\n",
        "        return torch.sigmoid(x)\n",
        "\n",
        "net = Net()\n",
        "print(net)"
      ],
      "id": "-yi2b9GebL32",
      "execution_count": null,
      "outputs": [
        {
          "output_type": "stream",
          "text": [
            "Net(\n",
            "  (fc1): Linear(in_features=100, out_features=128, bias=True)\n",
            "  (fc2): Linear(in_features=128, out_features=64, bias=True)\n",
            "  (fc3): Linear(in_features=64, out_features=32, bias=True)\n",
            "  (fc4): Linear(in_features=32, out_features=2, bias=True)\n",
            ")\n"
          ],
          "name": "stdout"
        }
      ]
    },
    {
      "cell_type": "code",
      "metadata": {
        "id": "0_GFvX2GxG0a"
      },
      "source": [
        "y_train_new = [np.eye(2)[i] for i in y_train]\n",
        "y_test_new = [np.eye(2)[i] for i in y_test]"
      ],
      "id": "0_GFvX2GxG0a",
      "execution_count": null,
      "outputs": []
    },
    {
      "cell_type": "code",
      "metadata": {
        "id": "hvpfb_a9d9P5"
      },
      "source": [
        "X_train_net = torch.Tensor(X_vec)\n",
        "y_train_net = torch.Tensor(y_train_new)"
      ],
      "id": "hvpfb_a9d9P5",
      "execution_count": null,
      "outputs": []
    },
    {
      "cell_type": "code",
      "metadata": {
        "id": "WPFeiBPKe1Lt"
      },
      "source": [
        "optimizer = optim.Adam(net.parameters(), lr=0.001)\n",
        "loss_function = nn.MSELoss()"
      ],
      "id": "WPFeiBPKe1Lt",
      "execution_count": null,
      "outputs": []
    },
    {
      "cell_type": "code",
      "metadata": {
        "colab": {
          "base_uri": "https://localhost:8080/"
        },
        "id": "42A3ZJSVe3Qz",
        "outputId": "f7f7ef31-b2ca-4c8c-f674-6445408681c6"
      },
      "source": [
        "BATCH_SIZE = 128\n",
        "EPOCHS = 30\n",
        "\n",
        "for epoch in tqdm(range(EPOCHS)):\n",
        "    random_index = np.random.permutation(len(X_train_net))\n",
        "    X_train_net = X_train_net[random_index]\n",
        "    y_train_net = y_train_net[random_index]\n",
        "\n",
        "    for i in range(0, len(X_train_net), BATCH_SIZE): \n",
        "\n",
        "        batch_X = X_train_net[i:i+BATCH_SIZE]\n",
        "        batch_y = y_train_net[i:i+BATCH_SIZE]\n",
        "\n",
        "        net.zero_grad()\n",
        "\n",
        "        outputs = net(batch_X)\n",
        "        loss = loss_function(outputs, batch_y)\n",
        "        loss.backward()\n",
        "        optimizer.step()    \n",
        "\n",
        "    print(f\"Epoch: {epoch}. Loss: {loss}\")"
      ],
      "id": "42A3ZJSVe3Qz",
      "execution_count": null,
      "outputs": [
        {
          "output_type": "stream",
          "text": [
            "  3%|▎         | 1/30 [00:02<01:07,  2.34s/it]"
          ],
          "name": "stderr"
        },
        {
          "output_type": "stream",
          "text": [
            "Epoch: 0. Loss: 0.03761076554656029\n"
          ],
          "name": "stdout"
        },
        {
          "output_type": "stream",
          "text": [
            "\r  7%|▋         | 2/30 [00:04<01:04,  2.30s/it]"
          ],
          "name": "stderr"
        },
        {
          "output_type": "stream",
          "text": [
            "Epoch: 1. Loss: 0.03438318893313408\n"
          ],
          "name": "stdout"
        },
        {
          "output_type": "stream",
          "text": [
            "\r 10%|█         | 3/30 [00:06<01:01,  2.28s/it]"
          ],
          "name": "stderr"
        },
        {
          "output_type": "stream",
          "text": [
            "Epoch: 2. Loss: 0.0367092601954937\n"
          ],
          "name": "stdout"
        },
        {
          "output_type": "stream",
          "text": [
            "\r 13%|█▎        | 4/30 [00:09<00:58,  2.27s/it]"
          ],
          "name": "stderr"
        },
        {
          "output_type": "stream",
          "text": [
            "Epoch: 3. Loss: 0.0438724048435688\n"
          ],
          "name": "stdout"
        },
        {
          "output_type": "stream",
          "text": [
            "\r 17%|█▋        | 5/30 [00:11<00:56,  2.26s/it]"
          ],
          "name": "stderr"
        },
        {
          "output_type": "stream",
          "text": [
            "Epoch: 4. Loss: 0.027101395651698112\n"
          ],
          "name": "stdout"
        },
        {
          "output_type": "stream",
          "text": [
            "\r 20%|██        | 6/30 [00:13<00:53,  2.25s/it]"
          ],
          "name": "stderr"
        },
        {
          "output_type": "stream",
          "text": [
            "Epoch: 5. Loss: 0.04600337892770767\n"
          ],
          "name": "stdout"
        },
        {
          "output_type": "stream",
          "text": [
            "\r 23%|██▎       | 7/30 [00:15<00:51,  2.25s/it]"
          ],
          "name": "stderr"
        },
        {
          "output_type": "stream",
          "text": [
            "Epoch: 6. Loss: 0.034682728350162506\n"
          ],
          "name": "stdout"
        },
        {
          "output_type": "stream",
          "text": [
            "\r 27%|██▋       | 8/30 [00:17<00:49,  2.25s/it]"
          ],
          "name": "stderr"
        },
        {
          "output_type": "stream",
          "text": [
            "Epoch: 7. Loss: 0.032206904143095016\n"
          ],
          "name": "stdout"
        },
        {
          "output_type": "stream",
          "text": [
            "\r 30%|███       | 9/30 [00:20<00:47,  2.27s/it]"
          ],
          "name": "stderr"
        },
        {
          "output_type": "stream",
          "text": [
            "Epoch: 8. Loss: 0.028686020523309708\n"
          ],
          "name": "stdout"
        },
        {
          "output_type": "stream",
          "text": [
            "\r 33%|███▎      | 10/30 [00:22<00:45,  2.26s/it]"
          ],
          "name": "stderr"
        },
        {
          "output_type": "stream",
          "text": [
            "Epoch: 9. Loss: 0.055867720395326614\n"
          ],
          "name": "stdout"
        },
        {
          "output_type": "stream",
          "text": [
            "\r 37%|███▋      | 11/30 [00:24<00:43,  2.27s/it]"
          ],
          "name": "stderr"
        },
        {
          "output_type": "stream",
          "text": [
            "Epoch: 10. Loss: 0.04869672283530235\n"
          ],
          "name": "stdout"
        },
        {
          "output_type": "stream",
          "text": [
            "\r 40%|████      | 12/30 [00:27<00:40,  2.27s/it]"
          ],
          "name": "stderr"
        },
        {
          "output_type": "stream",
          "text": [
            "Epoch: 11. Loss: 0.011771646328270435\n"
          ],
          "name": "stdout"
        },
        {
          "output_type": "stream",
          "text": [
            "\r 43%|████▎     | 13/30 [00:29<00:38,  2.27s/it]"
          ],
          "name": "stderr"
        },
        {
          "output_type": "stream",
          "text": [
            "Epoch: 12. Loss: 0.022225555032491684\n"
          ],
          "name": "stdout"
        },
        {
          "output_type": "stream",
          "text": [
            "\r 47%|████▋     | 14/30 [00:31<00:36,  2.28s/it]"
          ],
          "name": "stderr"
        },
        {
          "output_type": "stream",
          "text": [
            "Epoch: 13. Loss: 0.051518503576517105\n"
          ],
          "name": "stdout"
        },
        {
          "output_type": "stream",
          "text": [
            "\r 50%|█████     | 15/30 [00:34<00:34,  2.30s/it]"
          ],
          "name": "stderr"
        },
        {
          "output_type": "stream",
          "text": [
            "Epoch: 14. Loss: 0.02263723313808441\n"
          ],
          "name": "stdout"
        },
        {
          "output_type": "stream",
          "text": [
            "\r 53%|█████▎    | 16/30 [00:36<00:32,  2.32s/it]"
          ],
          "name": "stderr"
        },
        {
          "output_type": "stream",
          "text": [
            "Epoch: 15. Loss: 0.03657275065779686\n"
          ],
          "name": "stdout"
        },
        {
          "output_type": "stream",
          "text": [
            "\r 57%|█████▋    | 17/30 [00:38<00:30,  2.34s/it]"
          ],
          "name": "stderr"
        },
        {
          "output_type": "stream",
          "text": [
            "Epoch: 16. Loss: 0.02989726886153221\n"
          ],
          "name": "stdout"
        },
        {
          "output_type": "stream",
          "text": [
            "\r 60%|██████    | 18/30 [00:41<00:28,  2.37s/it]"
          ],
          "name": "stderr"
        },
        {
          "output_type": "stream",
          "text": [
            "Epoch: 17. Loss: 0.026271438226103783\n"
          ],
          "name": "stdout"
        },
        {
          "output_type": "stream",
          "text": [
            "\r 63%|██████▎   | 19/30 [00:43<00:26,  2.38s/it]"
          ],
          "name": "stderr"
        },
        {
          "output_type": "stream",
          "text": [
            "Epoch: 18. Loss: 0.023277342319488525\n"
          ],
          "name": "stdout"
        },
        {
          "output_type": "stream",
          "text": [
            "\r 67%|██████▋   | 20/30 [00:46<00:23,  2.39s/it]"
          ],
          "name": "stderr"
        },
        {
          "output_type": "stream",
          "text": [
            "Epoch: 19. Loss: 0.037232331931591034\n"
          ],
          "name": "stdout"
        },
        {
          "output_type": "stream",
          "text": [
            "\r 70%|███████   | 21/30 [00:48<00:21,  2.42s/it]"
          ],
          "name": "stderr"
        },
        {
          "output_type": "stream",
          "text": [
            "Epoch: 20. Loss: 0.018633440136909485\n"
          ],
          "name": "stdout"
        },
        {
          "output_type": "stream",
          "text": [
            "\r 73%|███████▎  | 22/30 [00:51<00:19,  2.46s/it]"
          ],
          "name": "stderr"
        },
        {
          "output_type": "stream",
          "text": [
            "Epoch: 21. Loss: 0.019396552816033363\n"
          ],
          "name": "stdout"
        },
        {
          "output_type": "stream",
          "text": [
            "\r 77%|███████▋  | 23/30 [00:53<00:17,  2.48s/it]"
          ],
          "name": "stderr"
        },
        {
          "output_type": "stream",
          "text": [
            "Epoch: 22. Loss: 0.029810408130288124\n"
          ],
          "name": "stdout"
        },
        {
          "output_type": "stream",
          "text": [
            "\r 80%|████████  | 24/30 [00:56<00:14,  2.49s/it]"
          ],
          "name": "stderr"
        },
        {
          "output_type": "stream",
          "text": [
            "Epoch: 23. Loss: 0.03235957399010658\n"
          ],
          "name": "stdout"
        },
        {
          "output_type": "stream",
          "text": [
            "\r 83%|████████▎ | 25/30 [00:58<00:12,  2.50s/it]"
          ],
          "name": "stderr"
        },
        {
          "output_type": "stream",
          "text": [
            "Epoch: 24. Loss: 0.028162719681859016\n"
          ],
          "name": "stdout"
        },
        {
          "output_type": "stream",
          "text": [
            "\r 87%|████████▋ | 26/30 [01:01<00:10,  2.51s/it]"
          ],
          "name": "stderr"
        },
        {
          "output_type": "stream",
          "text": [
            "Epoch: 25. Loss: 0.023167133331298828\n"
          ],
          "name": "stdout"
        },
        {
          "output_type": "stream",
          "text": [
            "\r 90%|█████████ | 27/30 [01:03<00:07,  2.50s/it]"
          ],
          "name": "stderr"
        },
        {
          "output_type": "stream",
          "text": [
            "Epoch: 26. Loss: 0.03163781762123108\n"
          ],
          "name": "stdout"
        },
        {
          "output_type": "stream",
          "text": [
            "\r 93%|█████████▎| 28/30 [01:06<00:05,  2.51s/it]"
          ],
          "name": "stderr"
        },
        {
          "output_type": "stream",
          "text": [
            "Epoch: 27. Loss: 0.026846662163734436\n"
          ],
          "name": "stdout"
        },
        {
          "output_type": "stream",
          "text": [
            "\r 97%|█████████▋| 29/30 [01:08<00:02,  2.52s/it]"
          ],
          "name": "stderr"
        },
        {
          "output_type": "stream",
          "text": [
            "Epoch: 28. Loss: 0.012242784723639488\n"
          ],
          "name": "stdout"
        },
        {
          "output_type": "stream",
          "text": [
            "100%|██████████| 30/30 [01:11<00:00,  2.38s/it]"
          ],
          "name": "stderr"
        },
        {
          "output_type": "stream",
          "text": [
            "Epoch: 29. Loss: 0.011086716316640377\n"
          ],
          "name": "stdout"
        },
        {
          "output_type": "stream",
          "text": [
            "\n"
          ],
          "name": "stderr"
        }
      ]
    },
    {
      "cell_type": "code",
      "metadata": {
        "id": "3dk9hOxkzxjj"
      },
      "source": [
        "X_test_net = torch.Tensor(X_vec_test)\n",
        "y_test_net = torch.Tensor(y_test_new)"
      ],
      "id": "3dk9hOxkzxjj",
      "execution_count": null,
      "outputs": []
    },
    {
      "cell_type": "code",
      "metadata": {
        "colab": {
          "base_uri": "https://localhost:8080/"
        },
        "id": "UvUA0FsFh4Um",
        "outputId": "ee7d73ab-2ca6-4063-a9f8-d95308dd6785"
      },
      "source": [
        "correct = 0\n",
        "total = 0\n",
        "vect_y_predict = []\n",
        "with torch.no_grad():\n",
        "    for i in tqdm(range(len(X_test_net))):\n",
        "        real_class = torch.argmax(y_test_net[i])\n",
        "        net_out = net(X_test_net[i]) \n",
        "        predicted_class = torch.argmax(net_out)\n",
        "        vect_y_predict.append(predicted_class.item())\n",
        "        if predicted_class == real_class:\n",
        "            correct += 1\n",
        "        total += 1\n",
        "print(\"Accuracy: \", round(correct/total, 3))\n",
        "# 0.891\n",
        "# 0.907\n",
        "# 0.917"
      ],
      "id": "UvUA0FsFh4Um",
      "execution_count": null,
      "outputs": [
        {
          "output_type": "stream",
          "text": [
            "100%|██████████| 45367/45367 [00:05<00:00, 8020.75it/s]"
          ],
          "name": "stderr"
        },
        {
          "output_type": "stream",
          "text": [
            "Accuracy:  0.917\n"
          ],
          "name": "stdout"
        },
        {
          "output_type": "stream",
          "text": [
            "\n"
          ],
          "name": "stderr"
        }
      ]
    },
    {
      "cell_type": "code",
      "metadata": {
        "colab": {
          "base_uri": "https://localhost:8080/"
        },
        "id": "vjyG68pODHRP",
        "outputId": "b582c365-ddf7-4978-fbcb-3effa85a17b9"
      },
      "source": [
        "print(classification_report(y_test,vect_y_predict))"
      ],
      "id": "vjyG68pODHRP",
      "execution_count": null,
      "outputs": [
        {
          "output_type": "stream",
          "text": [
            "              precision    recall  f1-score   support\n",
            "\n",
            "           0       0.89      0.95      0.92     22480\n",
            "           1       0.95      0.88      0.92     22887\n",
            "\n",
            "    accuracy                           0.92     45367\n",
            "   macro avg       0.92      0.92      0.92     45367\n",
            "weighted avg       0.92      0.92      0.92     45367\n",
            "\n"
          ],
          "name": "stdout"
        }
      ]
    },
    {
      "cell_type": "markdown",
      "metadata": {
        "id": "yellow-hacker"
      },
      "source": [
        "# Extension of word2vec"
      ],
      "id": "yellow-hacker"
    },
    {
      "cell_type": "markdown",
      "metadata": {
        "id": "cZB7MzhIbEUd"
      },
      "source": [
        "Algorithm:\n",
        "\n",
        "- Train TF-IDF model on the normalized corpus\n",
        "- TF = frequency of a word in document, IDF = log(N/#{count of documents with a word})\n",
        "- word2vec.get_vector(word) * idf(word) "
      ],
      "id": "cZB7MzhIbEUd"
    },
    {
      "cell_type": "code",
      "metadata": {
        "id": "25LCB13bF-D6"
      },
      "source": [
        "def compute_tf(text):\n",
        "    tf_text = collections.Counter(text)\n",
        "    for i in tf_text:\n",
        "        tf_text[i] = tf_text[i]/float(len(text))\n",
        "    return tf_text  "
      ],
      "id": "25LCB13bF-D6",
      "execution_count": null,
      "outputs": []
    },
    {
      "cell_type": "code",
      "metadata": {
        "id": "nKzTW6e5GQkc"
      },
      "source": [
        "def compute_idf(word, corpus):\n",
        "    s = sum([1.0 for i in corpus if word in i])\n",
        "    if s == 0:\n",
        "        return math.log10(len(corpus))\n",
        "    return math.log2(len(corpus)/s)"
      ],
      "id": "nKzTW6e5GQkc",
      "execution_count": null,
      "outputs": []
    },
    {
      "cell_type": "code",
      "metadata": {
        "id": "MtmQhAPydqPS"
      },
      "source": [
        "dictionary = corpora.Dictionary(X_right)\n",
        "corpus = [dictionary.doc2bow(text) for text in X_right]\n",
        "tfidf = models.TfidfModel(corpus)"
      ],
      "id": "MtmQhAPydqPS",
      "execution_count": null,
      "outputs": []
    },
    {
      "cell_type": "code",
      "metadata": {
        "colab": {
          "base_uri": "https://localhost:8080/"
        },
        "id": "EgXw3PljRZiV",
        "outputId": "4526db6b-f3e8-4121-b909-b16d0bacdf39"
      },
      "source": [
        "dictionary.token2id['мой']"
      ],
      "id": "EgXw3PljRZiV",
      "execution_count": null,
      "outputs": [
        {
          "output_type": "execute_result",
          "data": {
            "text/plain": [
              "243"
            ]
          },
          "metadata": {
            "tags": []
          },
          "execution_count": 60
        }
      ]
    },
    {
      "cell_type": "code",
      "metadata": {
        "colab": {
          "base_uri": "https://localhost:8080/"
        },
        "id": "DpQyV2Ko01Xw",
        "outputId": "0792e7e2-4039-41d4-e7e1-9959ebfa500f"
      },
      "source": [
        "tfidf.idfs[dictionary.token2id['мой']]"
      ],
      "id": "DpQyV2Ko01Xw",
      "execution_count": null,
      "outputs": [
        {
          "output_type": "execute_result",
          "data": {
            "text/plain": [
              "6.444900566578848"
            ]
          },
          "metadata": {
            "tags": []
          },
          "execution_count": 61
        }
      ]
    },
    {
      "cell_type": "code",
      "metadata": {
        "colab": {
          "base_uri": "https://localhost:8080/"
        },
        "id": "WsxF5D2HFe8H",
        "outputId": "6d1402b5-3a73-45b0-b6a8-74dd7926cfd2"
      },
      "source": [
        "tfidf.idfs[dictionary.token2id[':)']]"
      ],
      "id": "WsxF5D2HFe8H",
      "execution_count": null,
      "outputs": [
        {
          "output_type": "execute_result",
          "data": {
            "text/plain": [
              "3.5928307440544955"
            ]
          },
          "metadata": {
            "tags": []
          },
          "execution_count": 62
        }
      ]
    },
    {
      "cell_type": "code",
      "metadata": {
        "colab": {
          "base_uri": "https://localhost:8080/"
        },
        "id": "QjFgE51Ed7k1",
        "outputId": "bc65d6e1-a0d9-4db4-e578-e7a54c9cff45"
      },
      "source": [
        "#сделать функцию для test и train\n",
        "X_vec_idf = []\n",
        "for i in tqdm(range(len(X_right))):\n",
        "    ans = 0\n",
        "    for el in X_right[i]:\n",
        "        ans += model_right.wv[el] * tfidf.idfs[dictionary.token2id[el]]\n",
        "                                                    \n",
        "    X_vec_idf.append(ans)"
      ],
      "id": "QjFgE51Ed7k1",
      "execution_count": null,
      "outputs": [
        {
          "output_type": "stream",
          "text": [
            "100%|██████████| 181467/181467 [00:15<00:00, 11778.31it/s]\n"
          ],
          "name": "stderr"
        }
      ]
    },
    {
      "cell_type": "markdown",
      "metadata": {
        "id": "3TqGwpq_GoF0"
      },
      "source": [
        "Обучим модель"
      ],
      "id": "3TqGwpq_GoF0"
    },
    {
      "cell_type": "code",
      "metadata": {
        "colab": {
          "base_uri": "https://localhost:8080/"
        },
        "id": "-mrBcneJDNLz",
        "outputId": "2c0b7050-554a-4b9b-bd91-efeeb5fb6aaf"
      },
      "source": [
        "model_2 = xgboost.XGBClassifier()\n",
        "model_2.fit(np.array(X_vec_idf), y_train)"
      ],
      "id": "-mrBcneJDNLz",
      "execution_count": null,
      "outputs": [
        {
          "output_type": "execute_result",
          "data": {
            "text/plain": [
              "XGBClassifier(base_score=0.5, booster='gbtree', colsample_bylevel=1,\n",
              "              colsample_bynode=1, colsample_bytree=1, gamma=0,\n",
              "              learning_rate=0.1, max_delta_step=0, max_depth=3,\n",
              "              min_child_weight=1, missing=None, n_estimators=100, n_jobs=1,\n",
              "              nthread=None, objective='binary:logistic', random_state=0,\n",
              "              reg_alpha=0, reg_lambda=1, scale_pos_weight=1, seed=None,\n",
              "              silent=None, subsample=1, verbosity=1)"
            ]
          },
          "metadata": {
            "tags": []
          },
          "execution_count": 64
        }
      ]
    },
    {
      "cell_type": "code",
      "metadata": {
        "colab": {
          "base_uri": "https://localhost:8080/"
        },
        "id": "uj7r8IPMenXp",
        "outputId": "47d0ce09-67c4-4d0a-cad9-249689264259"
      },
      "source": [
        "X_vec_idf_test = []\n",
        "for i in tqdm(range(len(X_right_test))):\n",
        "    ans = 0\n",
        "    for el in X_right_test[i]:\n",
        "        if el in dictionary:\n",
        "          idf = tfidf.idfs[dictionary.token2id[el]]\n",
        "        else:\n",
        "          idf = np.sqrt(len(X_right))  \n",
        "\n",
        "        ans += model_right.wv[el] * idf\n",
        "                                                    \n",
        "    X_vec_idf_test.append(ans)"
      ],
      "id": "uj7r8IPMenXp",
      "execution_count": null,
      "outputs": [
        {
          "output_type": "stream",
          "text": [
            "100%|██████████| 45367/45367 [00:05<00:00, 7952.07it/s]\n"
          ],
          "name": "stderr"
        }
      ]
    },
    {
      "cell_type": "code",
      "metadata": {
        "colab": {
          "base_uri": "https://localhost:8080/"
        },
        "id": "DprOmasViDu_",
        "outputId": "e7b3da2e-a538-49de-fb35-c040d7a60779"
      },
      "source": [
        "y_pred = model_2.predict(np.array(X_vec_idf_test))\n",
        "predictions = [round(value) for value in y_pred]\n",
        "\n",
        "accuracy = accuracy_score(y_test, predictions)\n",
        "print(\"Accuracy: %.2f%%\" % (accuracy * 100.0))\n",
        "#61.70%\n",
        "#71.20%\n",
        "#75.97%\n",
        "#77.24%"
      ],
      "id": "DprOmasViDu_",
      "execution_count": null,
      "outputs": [
        {
          "output_type": "stream",
          "text": [
            "Accuracy: 77.24%\n"
          ],
          "name": "stdout"
        }
      ]
    },
    {
      "cell_type": "code",
      "metadata": {
        "colab": {
          "base_uri": "https://localhost:8080/"
        },
        "id": "_tuvPCd7arjH",
        "outputId": "3b1fa087-e8a9-4495-ad61-4c1518c5fa9b"
      },
      "source": [
        "print(classification_report(y_test, y_pred))"
      ],
      "id": "_tuvPCd7arjH",
      "execution_count": null,
      "outputs": [
        {
          "output_type": "stream",
          "text": [
            "              precision    recall  f1-score   support\n",
            "\n",
            "           0       0.73      0.86      0.79     22480\n",
            "           1       0.84      0.68      0.75     22887\n",
            "\n",
            "    accuracy                           0.77     45367\n",
            "   macro avg       0.78      0.77      0.77     45367\n",
            "weighted avg       0.78      0.77      0.77     45367\n",
            "\n"
          ],
          "name": "stdout"
        }
      ]
    },
    {
      "cell_type": "code",
      "metadata": {
        "id": "HNF-LpmcaWTw"
      },
      "source": [
        "def plot_confusion_matrix(labels, pred_labels):\n",
        "    \n",
        "    fig = plt.figure(figsize = (10, 10));\n",
        "    ax = fig.add_subplot(1, 1, 1);\n",
        "    cm = metrics.confusion_matrix(labels, pred_labels);\n",
        "    cm = metrics.ConfusionMatrixDisplay(cm, display_labels = range(10));\n",
        "    cm.plot(values_format = 'd', cmap = 'Blues', ax = ax)"
      ],
      "id": "HNF-LpmcaWTw",
      "execution_count": null,
      "outputs": []
    },
    {
      "cell_type": "code",
      "metadata": {
        "colab": {
          "base_uri": "https://localhost:8080/",
          "height": 574
        },
        "id": "xgra-NLMhOmI",
        "outputId": "243529d3-5e6a-408e-8d0e-d09f82917349"
      },
      "source": [
        "plot_confusion_matrix(y_test, y_pred)"
      ],
      "id": "xgra-NLMhOmI",
      "execution_count": null,
      "outputs": [
        {
          "output_type": "display_data",
          "data": {
            "image/png": "[encoded data removed]",
            "text/plain": [
              "<Figure size 720x720 with 2 Axes>"
            ]
          },
          "metadata": {
            "tags": [],
            "needs_background": "light"
          }
        }
      ]
    },
    {
      "cell_type": "markdown",
      "metadata": {
        "id": "E2QwPAX_HC0-"
      },
      "source": [
        "# Tacatron encoder"
      ],
      "id": "E2QwPAX_HC0-"
    },
    {
      "cell_type": "markdown",
      "metadata": {
        "id": "c-gM70nM9Zct"
      },
      "source": [
        "Теперь построим нейронную сеть, такую как encoder в Tacatron."
      ],
      "id": "c-gM70nM9Zct"
    },
    {
      "cell_type": "code",
      "metadata": {
        "id": "jhPWVCq6B2dU"
      },
      "source": [
        "class Encoder(nn.Module):\n",
        "\n",
        "    def __init__(self, vocab_size, embedding_size):\n",
        "\n",
        "        super().__init__()\n",
        "        self.embedding_size = embedding_size\n",
        "        self.embed = nn.Embedding(vocab_size, embedding_size)\n",
        "\n",
        "        self.conv1 = nn.Conv1d(36, 8, 4)\n",
        "        self.conv2 = nn.Conv1d(8, 16, 4)\n",
        "        self.conv3 = nn.Conv1d(16, 32, 4)\n",
        "\n",
        "        self.lstm = nn.LSTM(23, 20, bidirectional=True, batch_first=True)\n",
        "        self.fc1 = nn.Linear(32*20*2, 2)\n",
        "\n",
        "\n",
        "    def forward(self, x):\n",
        "\n",
        "        x = self.embed(x)\n",
        "        x = F.relu(self.conv1(x))\n",
        "        x = F.relu(self.conv2(x))\n",
        "        x = F.relu(self.conv3(x))\n",
        "\n",
        "        packed_output, (hidden, cell) = self.lstm(x)\n",
        "        cat = packed_output\n",
        "        rel = F.relu(cat)\n",
        "        ans = rel.reshape(rel.shape[0], -1)\n",
        "        dense1 = self.fc1(ans)\n",
        "      \n",
        "        return dense1"
      ],
      "id": "jhPWVCq6B2dU",
      "execution_count": null,
      "outputs": []
    },
    {
      "cell_type": "code",
      "metadata": {
        "id": "IQZGMoPk2uBZ"
      },
      "source": [
        "len_pos = len(pos_text)\n",
        "len_neg = len(neg_text)\n",
        "twits = np.concatenate((pos_text, neg_text))\n",
        "labels = [1] * len_pos + [0] * len_neg\n",
        "labels = np.array(labels)"
      ],
      "id": "IQZGMoPk2uBZ",
      "execution_count": null,
      "outputs": []
    },
    {
      "cell_type": "markdown",
      "metadata": {
        "id": "LmdrA3bJfcSh"
      },
      "source": [
        "- Фиксируем длину вектора равным максимальному числу слов в твите. То есть каждому твиту сопоставляем числовой вектор такого размера.\n",
        "\n",
        "- Строим словарь слов (как раньше), но только по твитам из Train.\n",
        "\n",
        "- Зафиксируем 0 (ноль) – как служебный символ. Будем его использовать, когда слова нет.\n",
        "\n",
        "- Зафиксируем 1 (единица) – как служебный символ. Будем использовать, если для слова нет кода.\n",
        "\n",
        "- Теперь можно сделать batch_size = 32."
      ],
      "id": "LmdrA3bJfcSh"
    },
    {
      "cell_type": "code",
      "metadata": {
        "id": "yxElheCqMeCu"
      },
      "source": [
        "#токенизируем\n",
        "X_twits = tokenize(twits)"
      ],
      "id": "yxElheCqMeCu",
      "execution_count": null,
      "outputs": []
    },
    {
      "cell_type": "code",
      "metadata": {
        "id": "NYNgsT1eM79c"
      },
      "source": [
        "# максимальное число слов в твите\n",
        "def find_max_number(X_twits):\n",
        "    max_len = 0\n",
        "    for i in X_twits:\n",
        "      if len(i) > max_len:\n",
        "        max_len = len(i)  \n",
        "    return max_len    "
      ],
      "id": "NYNgsT1eM79c",
      "execution_count": null,
      "outputs": []
    },
    {
      "cell_type": "code",
      "metadata": {
        "colab": {
          "base_uri": "https://localhost:8080/"
        },
        "id": "ZjVomFqINOLX",
        "outputId": "80786801-ab74-435a-ac91-2d90a2927cd5"
      },
      "source": [
        "max_len = find_max_number(X_twits)\n",
        "max_len"
      ],
      "id": "ZjVomFqINOLX",
      "execution_count": null,
      "outputs": [
        {
          "output_type": "execute_result",
          "data": {
            "text/plain": [
              "36"
            ]
          },
          "metadata": {
            "tags": []
          },
          "execution_count": 19
        }
      ]
    },
    {
      "cell_type": "code",
      "metadata": {
        "id": "p0rFZL5zkO76"
      },
      "source": [
        "X_train, X_test, y_train, y_test = train_test_split(X_twits, labels, test_size=0.2, random_state=42)"
      ],
      "id": "p0rFZL5zkO76",
      "execution_count": null,
      "outputs": []
    },
    {
      "cell_type": "code",
      "metadata": {
        "id": "GyeGDksdhD_3"
      },
      "source": [
        "def build_dict(twits_lst, indent=2):\n",
        "    X_dict = {}\n",
        "    for twit in twits_lst:\n",
        "        for w in twit:\n",
        "            if w not in X_dict:\n",
        "                word_code = len(X_dict) + indent\n",
        "                X_dict[w] = word_code\n",
        "\n",
        "    return X_dict"
      ],
      "id": "GyeGDksdhD_3",
      "execution_count": null,
      "outputs": []
    },
    {
      "cell_type": "code",
      "metadata": {
        "id": "tsBcGW3ekbMa"
      },
      "source": [
        "X_dict = build_dict(X_train)"
      ],
      "id": "tsBcGW3ekbMa",
      "execution_count": null,
      "outputs": []
    },
    {
      "cell_type": "code",
      "metadata": {
        "id": "9xiZWdGYl6fo"
      },
      "source": [
        "# кодируем слова в соответствии со словарем\n",
        "def encode(X):\n",
        "    X_twits_encoded = copy.deepcopy(X)\n",
        "    for n_el, el in enumerate(X_twits_encoded):\n",
        "      for n_i, i in enumerate(el):\n",
        "        if i in X_dict:\n",
        "          el[n_i] = X_dict[i]   \n",
        "        else:\n",
        "          el[n_i] = 1  \n",
        "    return X_twits_encoded     "
      ],
      "id": "9xiZWdGYl6fo",
      "execution_count": null,
      "outputs": []
    },
    {
      "cell_type": "code",
      "metadata": {
        "id": "Q4_bxZ8fpH8W"
      },
      "source": [
        "X_train_encoded = encode(X_train)\n",
        "X_test_encoded = encode(X_test)"
      ],
      "id": "Q4_bxZ8fpH8W",
      "execution_count": null,
      "outputs": []
    },
    {
      "cell_type": "code",
      "metadata": {
        "colab": {
          "base_uri": "https://localhost:8080/"
        },
        "id": "gf8EuI1Jt2nJ",
        "outputId": "9b556d42-8377-47ed-d710-b9e2c308516c"
      },
      "source": [
        "X_test_encoded[0]"
      ],
      "id": "gf8EuI1Jt2nJ",
      "execution_count": null,
      "outputs": [
        {
          "output_type": "execute_result",
          "data": {
            "text/plain": [
              "[145440, 34, 178, 9772, 114, 10, 3119, 199, 6, 7, 1676, 114]"
            ]
          },
          "metadata": {
            "tags": []
          },
          "execution_count": 26
        }
      ]
    },
    {
      "cell_type": "code",
      "metadata": {
        "id": "I1EbYDHZpNb6"
      },
      "source": [
        "# добавляем нули, чтобы дополнить вектор до длины = максимальному числу слов в твите\n",
        "def addition(X, number_words=max_len):\n",
        "    X_add = copy.deepcopy(X)\n",
        "    for i, el in enumerate(X):\n",
        "        cur_len = len(el)\n",
        "        add_zero = number_words - cur_len\n",
        "        cur_list = copy.deepcopy(el)\n",
        "        cur_list+=[0]*add_zero\n",
        "        X_add[i] = cur_list\n",
        "\n",
        "    return X_add     "
      ],
      "id": "I1EbYDHZpNb6",
      "execution_count": null,
      "outputs": []
    },
    {
      "cell_type": "code",
      "metadata": {
        "id": "AsNy3i7or-mg"
      },
      "source": [
        "X_train_encoded = addition(X_train_encoded)\n",
        "X_test_encoded = addition(X_test_encoded)"
      ],
      "id": "AsNy3i7or-mg",
      "execution_count": null,
      "outputs": []
    },
    {
      "cell_type": "code",
      "metadata": {
        "colab": {
          "base_uri": "https://localhost:8080/"
        },
        "id": "BwmeQ__0uW_v",
        "outputId": "aa10b9cf-ceab-44b8-89b1-853271be8eb3"
      },
      "source": [
        "len(X_test_encoded[0])"
      ],
      "id": "BwmeQ__0uW_v",
      "execution_count": null,
      "outputs": [
        {
          "output_type": "execute_result",
          "data": {
            "text/plain": [
              "36"
            ]
          },
          "metadata": {
            "tags": []
          },
          "execution_count": 30
        }
      ]
    },
    {
      "cell_type": "code",
      "metadata": {
        "id": "uuSq6YnMmeQ8"
      },
      "source": [
        "vocab_size = len(X_dict) + 2\n",
        "embedding_size = 32"
      ],
      "id": "uuSq6YnMmeQ8",
      "execution_count": null,
      "outputs": []
    },
    {
      "cell_type": "code",
      "metadata": {
        "id": "9nygRkQBOsAY"
      },
      "source": [
        "device = torch.device(\"cuda\" if torch.cuda.is_available() else \"cpu\")"
      ],
      "id": "9nygRkQBOsAY",
      "execution_count": null,
      "outputs": []
    },
    {
      "cell_type": "code",
      "metadata": {
        "id": "cQ5K0AXNvDeK"
      },
      "source": [
        "net = Encoder(vocab_size, embedding_size).to(device)"
      ],
      "id": "cQ5K0AXNvDeK",
      "execution_count": null,
      "outputs": []
    },
    {
      "cell_type": "code",
      "metadata": {
        "id": "r18oug8V0MMz"
      },
      "source": [
        "loss_function = nn.CrossEntropyLoss()\n",
        "optimizer = torch.optim.Adam(net.parameters(), lr=0.01)"
      ],
      "id": "r18oug8V0MMz",
      "execution_count": null,
      "outputs": []
    },
    {
      "cell_type": "code",
      "metadata": {
        "id": "AlUFdJJhLRer"
      },
      "source": [
        "y_train_new = [np.eye(2)[i] for i in y_train]\n",
        "y_test_new = [np.eye(2)[i] for i in y_test]"
      ],
      "id": "AlUFdJJhLRer",
      "execution_count": null,
      "outputs": []
    },
    {
      "cell_type": "code",
      "metadata": {
        "id": "wHvZ2kmdIhJh"
      },
      "source": [
        "BATCH_SIZE = 64\n",
        "EPOCHS = 10"
      ],
      "id": "wHvZ2kmdIhJh",
      "execution_count": null,
      "outputs": []
    },
    {
      "cell_type": "code",
      "metadata": {
        "colab": {
          "base_uri": "https://localhost:8080/"
        },
        "id": "mi4LA2YCCd_m",
        "outputId": "b009c208-7841-47d7-ca3a-c7a9ff261883"
      },
      "source": [
        "for epoch in tqdm(range(EPOCHS)):\n",
        "\n",
        "    for i in range(0, len(X_train_encoded), BATCH_SIZE): \n",
        "\n",
        "        batch_X = torch.LongTensor(X_train_encoded[i:i+BATCH_SIZE]).view(min(BATCH_SIZE, len(X_train_encoded[i:i+BATCH_SIZE])), -1)\n",
        "        batch_y = torch.LongTensor(y_train[i:i+BATCH_SIZE])\n",
        "\n",
        "        batch_X, batch_y = batch_X.to(device), batch_y.to(device)\n",
        "\n",
        "        net.zero_grad()\n",
        "\n",
        "        outputs = net(batch_X)\n",
        "        t = batch_y\n",
        "        loss = loss_function(outputs, t)\n",
        "        loss.backward()\n",
        "        optimizer.step()    \n",
        "\n",
        "    print(f\"Epoch: {epoch}. Loss: {loss}\")"
      ],
      "id": "mi4LA2YCCd_m",
      "execution_count": null,
      "outputs": [
        {
          "output_type": "stream",
          "text": [
            " 10%|█         | 1/10 [00:33<05:02, 33.58s/it]"
          ],
          "name": "stderr"
        },
        {
          "output_type": "stream",
          "text": [
            "Epoch: 0. Loss: 0.18540991842746735\n"
          ],
          "name": "stdout"
        },
        {
          "output_type": "stream",
          "text": [
            "\r 20%|██        | 2/10 [01:06<04:27, 33.44s/it]"
          ],
          "name": "stderr"
        },
        {
          "output_type": "stream",
          "text": [
            "Epoch: 1. Loss: 0.06380697339773178\n"
          ],
          "name": "stdout"
        },
        {
          "output_type": "stream",
          "text": [
            "\r 30%|███       | 3/10 [01:39<03:52, 33.28s/it]"
          ],
          "name": "stderr"
        },
        {
          "output_type": "stream",
          "text": [
            "Epoch: 2. Loss: 0.11360973119735718\n"
          ],
          "name": "stdout"
        },
        {
          "output_type": "stream",
          "text": [
            "\r 40%|████      | 4/10 [02:12<03:19, 33.28s/it]"
          ],
          "name": "stderr"
        },
        {
          "output_type": "stream",
          "text": [
            "Epoch: 3. Loss: 0.23684166371822357\n"
          ],
          "name": "stdout"
        },
        {
          "output_type": "stream",
          "text": [
            "\r 50%|█████     | 5/10 [02:46<02:46, 33.26s/it]"
          ],
          "name": "stderr"
        },
        {
          "output_type": "stream",
          "text": [
            "Epoch: 4. Loss: 0.19196580350399017\n"
          ],
          "name": "stdout"
        },
        {
          "output_type": "stream",
          "text": [
            "\r 60%|██████    | 6/10 [03:19<02:13, 33.34s/it]"
          ],
          "name": "stderr"
        },
        {
          "output_type": "stream",
          "text": [
            "Epoch: 5. Loss: 0.05037352070212364\n"
          ],
          "name": "stdout"
        },
        {
          "output_type": "stream",
          "text": [
            "\r 70%|███████   | 7/10 [03:52<01:40, 33.35s/it]"
          ],
          "name": "stderr"
        },
        {
          "output_type": "stream",
          "text": [
            "Epoch: 6. Loss: 0.05242541432380676\n"
          ],
          "name": "stdout"
        },
        {
          "output_type": "stream",
          "text": [
            "\r 80%|████████  | 8/10 [04:26<01:06, 33.35s/it]"
          ],
          "name": "stderr"
        },
        {
          "output_type": "stream",
          "text": [
            "Epoch: 7. Loss: 0.16980594396591187\n"
          ],
          "name": "stdout"
        },
        {
          "output_type": "stream",
          "text": [
            "\r 90%|█████████ | 9/10 [04:59<00:33, 33.40s/it]"
          ],
          "name": "stderr"
        },
        {
          "output_type": "stream",
          "text": [
            "Epoch: 8. Loss: 0.055393293499946594\n"
          ],
          "name": "stdout"
        },
        {
          "output_type": "stream",
          "text": [
            "100%|██████████| 10/10 [05:33<00:00, 33.34s/it]"
          ],
          "name": "stderr"
        },
        {
          "output_type": "stream",
          "text": [
            "Epoch: 9. Loss: 0.061268702149391174\n"
          ],
          "name": "stdout"
        },
        {
          "output_type": "stream",
          "text": [
            "\n"
          ],
          "name": "stderr"
        }
      ]
    },
    {
      "cell_type": "code",
      "metadata": {
        "id": "j3Sc73LsWF6d",
        "colab": {
          "base_uri": "https://localhost:8080/"
        },
        "outputId": "146e439a-e639-4bc0-bbfb-72614ea3b67a"
      },
      "source": [
        "correct = 0\n",
        "total = 0\n",
        "vect_y_predict = []\n",
        "with torch.no_grad():\n",
        "    for i in tqdm(range(len(X_test_encoded))):\n",
        "\n",
        "        batch_X = torch.LongTensor(X_test_encoded[i]).view(1, -1)\n",
        "        batch_y = torch.LongTensor(y_test[i])\n",
        "        batch_X, batch_y = batch_X.to(device), batch_y.to(device)\n",
        "\n",
        "        net_out = net(batch_X) \n",
        "        predicted_class = torch.argmax(net_out)\n",
        "        vect_y_predict.append(predicted_class.item())\n",
        "\n",
        "        if predicted_class == y_test[i]:\n",
        "            correct += 1\n",
        "        total += 1\n",
        "\n",
        "print(\"Accuracy: \", round(correct/total, 3))\n",
        "#0.919\n",
        "#0.966"
      ],
      "id": "j3Sc73LsWF6d",
      "execution_count": null,
      "outputs": [
        {
          "output_type": "stream",
          "text": [
            "100%|██████████| 45367/45367 [02:01<00:00, 374.87it/s]"
          ],
          "name": "stderr"
        },
        {
          "output_type": "stream",
          "text": [
            "Accuracy:  0.966\n"
          ],
          "name": "stdout"
        },
        {
          "output_type": "stream",
          "text": [
            "\n"
          ],
          "name": "stderr"
        }
      ]
    },
    {
      "cell_type": "code",
      "metadata": {
        "colab": {
          "base_uri": "https://localhost:8080/"
        },
        "id": "-wuE7relHF0y",
        "outputId": "b76c4018-f9b1-4886-99b5-d020c9bf367a"
      },
      "source": [
        "print(classification_report(y_test, vect_y_predict))"
      ],
      "id": "-wuE7relHF0y",
      "execution_count": null,
      "outputs": [
        {
          "output_type": "stream",
          "text": [
            "              precision    recall  f1-score   support\n",
            "\n",
            "           0       0.97      0.96      0.97     22480\n",
            "           1       0.96      0.97      0.97     22887\n",
            "\n",
            "    accuracy                           0.97     45367\n",
            "   macro avg       0.97      0.97      0.97     45367\n",
            "weighted avg       0.97      0.97      0.97     45367\n",
            "\n"
          ],
          "name": "stdout"
        }
      ]
    },
    {
      "cell_type": "markdown",
      "metadata": {
        "id": "z2KsySDpWYOd"
      },
      "source": [
        "# Compare quality of several models"
      ],
      "id": "z2KsySDpWYOd"
    },
    {
      "cell_type": "markdown",
      "metadata": {
        "id": "4pPLA5EUXHzF"
      },
      "source": [
        "Launch our algorithms (5-10 times) on the test sample.\n",
        "\n",
        "Calculate all previous metrics and stores their results to make statistical analysis:\n",
        "- confidence interval (95%-97%)\n",
        "- hypothesis analysis (null hypothesis - quality of models are the same, alternative - quality is changed), T-test"
      ],
      "id": "4pPLA5EUXHzF"
    },
    {
      "cell_type": "code",
      "metadata": {
        "id": "buaMSP6FXguy"
      },
      "source": [
        "def find_metrics(y_true, y_pred):\n",
        "\n",
        "    TN, FP, FN, TP = confusion_matrix(y_true,y_pred).ravel()\n",
        "\n",
        "    precision = TP/(TP + FP)\n",
        "    recall = TP/(TP + FN)\n",
        "    f1_score = 2*TP/(2*TP + FP + FN)  \n",
        "\n",
        "    return precision, recall, f1_score"
      ],
      "id": "buaMSP6FXguy",
      "execution_count": null,
      "outputs": []
    },
    {
      "cell_type": "code",
      "metadata": {
        "id": "YnoqbzlQYicg"
      },
      "source": [
        "def find_mean_metrics(method, number_iterations):\n",
        "    precision_mean, recall_mean, f1_score_mean = 0, 0, 0\n",
        "    cur_metrics = []\n",
        "\n",
        "    for i in tqdm(range(number_iterations)):\n",
        "      precision, recall, f1_score = method\n",
        "      cur_metrics.append((precision, recall, f1_score))\n",
        "      precision_mean += precision\n",
        "      recall_mean += recall\n",
        "      f1_score_mean += f1_score\n",
        "\n",
        "    precision_mean /= number_iterations\n",
        "    recall_mean /= number_iterations\n",
        "    f1_score_mean /= number_iterations  \n",
        "\n",
        "    return cur_metrics, precision_mean, recall_mean, f1_score_mean"
      ],
      "id": "YnoqbzlQYicg",
      "execution_count": null,
      "outputs": []
    },
    {
      "cell_type": "code",
      "metadata": {
        "id": "JOH-C2IhZpac"
      },
      "source": [
        "def write_file(name, cur_metrics, precision_mean, recall_mean, f1_score_mean):\n",
        "\n",
        "    #запишем промежуточные и конечные результаты в файл\n",
        "    f = open(name, 'w')\n",
        "    f.write('precision ' + 'recall ' + 'f1_score ' + '\\n')\n",
        "    for i in cur_metrics:\n",
        "        f.write(str(i) + '\\n')\n",
        "\n",
        "    f.write('mean_precision ' + 'mean_recall ' + 'mean_f1_score ' + '\\n')\n",
        "    f.write(str(precision_mean) + str(recall_mean) +  str(f1_score_mean))\n",
        "    f.close()\n"
      ],
      "id": "JOH-C2IhZpac",
      "execution_count": null,
      "outputs": []
    },
    {
      "cell_type": "code",
      "metadata": {
        "id": "5SOCShdLWZbs"
      },
      "source": [
        "def XGBoost_train():\n",
        "    X_train, X_test, y_train, y_test = train_test_split(twits, labels, test_size=0.2, random_state=42)\n",
        "\n",
        "    #X_train list; здесь токенизируем\n",
        "    X_right = tokenize(X_train)\n",
        "    model_right = gensim.models.Word2Vec(X_right, min_count = 1, window = 10,  sg = 1)    \n",
        "\n",
        "    # посчитаем среднее значение векторов, входящих в твит\n",
        "    X_vec = find_mean_vec(X_right, model_right)  \n",
        "\n",
        "    model = xgboost.XGBClassifier(n_estimators=200)\n",
        "    model.fit(np.array(X_vec), y_train)\n",
        "\n",
        "    #X_test in list\n",
        "    X_right_test = tokenize(X_test)\n",
        "\n",
        "    model_right.train(X_right_test, total_examples = len(X_right_test), epochs = 10)\n",
        "    model_right.build_vocab(X_right_test, update=True)   \n",
        "\n",
        "\n",
        "    X_vec_test = find_mean_vec(X_right_test, model_right)\n",
        "    y_pred = model.predict(np.array(X_vec_test))\n",
        "\n",
        "    precision, recall, f1_score = find_metrics(y_test, y_pred) \n",
        "\n",
        "    return precision, recall, f1_score"
      ],
      "id": "5SOCShdLWZbs",
      "execution_count": null,
      "outputs": []
    },
    {
      "cell_type": "code",
      "metadata": {
        "colab": {
          "base_uri": "https://localhost:8080/"
        },
        "id": "S8YOsA7PZPnJ",
        "outputId": "4a12da24-c5f9-4670-87c7-0fb4f85bd7fc"
      },
      "source": [
        "find_mean_metrics(XGBoost_train(), 1)"
      ],
      "id": "S8YOsA7PZPnJ",
      "execution_count": null,
      "outputs": [
        {
          "output_type": "stream",
          "text": [
            "\n",
            "100%|██████████| 1/1 [00:00<00:00, 7423.55it/s]\n"
          ],
          "name": "stderr"
        },
        {
          "output_type": "execute_result",
          "data": {
            "text/plain": [
              "([(0.9262968155417585, 0.8083191331323458, 0.8632959238433001)],\n",
              " 0.9262968155417585,\n",
              " 0.8083191331323458,\n",
              " 0.8632959238433001)"
            ]
          },
          "metadata": {
            "tags": []
          },
          "execution_count": 54
        }
      ]
    },
    {
      "cell_type": "code",
      "metadata": {
        "id": "azqpRNUdaHGK"
      },
      "source": [
        "# number_iterations = 5\n",
        "# cur_metrics, precision_mean, recall_mean, f1_score_mean = find_mean_metrics(XGBoost_train(), number_iterations)"
      ],
      "id": "azqpRNUdaHGK",
      "execution_count": null,
      "outputs": []
    },
    {
      "cell_type": "code",
      "metadata": {
        "id": "_7SSCCXvaSsE"
      },
      "source": [
        "#write_file('xgboost_results.txt', cur_metrics, precision_mean, recall_mean, f1_score_mean)"
      ],
      "id": "_7SSCCXvaSsE",
      "execution_count": null,
      "outputs": []
    },
    {
      "cell_type": "code",
      "metadata": {
        "id": "r74y3dkLWzrs",
        "colab": {
          "base_uri": "https://localhost:8080/"
        },
        "outputId": "d41e6571-eb6b-4cfa-a267-e37d676d9179"
      },
      "source": [
        "precision_mean, recall_mean, f1_score_mean = 0, 0, 0\n",
        "number_iterations = 5\n",
        "cur_metrics = []\n",
        "\n",
        "for i in tqdm(range(number_iterations)):\n",
        "  precision, recall, f1_score = XGBoost_train()\n",
        "  cur_metrics.append((precision, recall, f1_score))\n",
        "  precision_mean += precision\n",
        "  recall_mean += recall\n",
        "  f1_score_mean += f1_score\n",
        "\n",
        "precision_mean /= number_iterations\n",
        "recall_mean /= number_iterations\n",
        "f1_score_mean /= number_iterations"
      ],
      "id": "r74y3dkLWzrs",
      "execution_count": null,
      "outputs": [
        {
          "output_type": "stream",
          "text": [
            "\n",
            "  0%|          | 0/5 [00:00<?, ?it/s]\u001b[A\n",
            " 20%|██        | 1/5 [07:46<31:07, 466.87s/it]\u001b[A\n",
            " 40%|████      | 2/5 [15:37<23:24, 468.04s/it]\u001b[A\n",
            " 60%|██████    | 3/5 [23:37<15:42, 471.45s/it]\u001b[A\n",
            " 80%|████████  | 4/5 [31:39<07:54, 474.90s/it]\u001b[A\n",
            "100%|██████████| 5/5 [39:41<00:00, 476.33s/it]\n"
          ],
          "name": "stderr"
        }
      ]
    },
    {
      "cell_type": "code",
      "metadata": {
        "id": "GK81JxU2W91K"
      },
      "source": [
        "#запишем промежуточные и конечные результаты в файл\n",
        "f = open('xgboost_results.txt', 'w')\n",
        "f.write('precision ' + 'recall ' + 'f1_score ' + '\\n')\n",
        "for i in cur_metrics:\n",
        "    f.write(str(i) + '\\n')\n",
        "\n",
        "f.write('mean_precision ' + 'mean_recall ' + 'mean_f1_score ' + '\\n')\n",
        "f.write(str(precision_mean) + str(recall_mean) +  str(f1_score_mean))\n",
        "f.close()"
      ],
      "id": "GK81JxU2W91K",
      "execution_count": null,
      "outputs": []
    },
    {
      "cell_type": "code",
      "metadata": {
        "id": "cUDx1k7OW-5d",
        "colab": {
          "base_uri": "https://localhost:8080/"
        },
        "outputId": "fd7c115d-0f49-489d-ff85-230c8c3d058d"
      },
      "source": [
        "print(precision_mean, recall_mean, f1_score_mean)"
      ],
      "id": "cUDx1k7OW-5d",
      "execution_count": null,
      "outputs": [
        {
          "output_type": "stream",
          "text": [
            "0.9349607161461948 0.8103901778302092 0.8677674368640979\n"
          ],
          "name": "stdout"
        }
      ]
    },
    {
      "cell_type": "code",
      "metadata": {
        "id": "rPMgf4TjXMe4"
      },
      "source": [
        "def Simple_nn():  \n",
        "\n",
        "    X_train, X_test, y_train, y_test = train_test_split(twits, labels, test_size=0.2, random_state=42)\n",
        "\n",
        "    y_train_new = [np.eye(2)[i] for i in y_train]\n",
        "    y_test_new = [np.eye(2)[i] for i in y_test]\n",
        "\n",
        "    X_right = tokenize(X_train)   \n",
        "\n",
        "    model_right = gensim.models.Word2Vec(X_right, min_count = 1, window = 10,  sg = 1)    \n",
        "\n",
        "\n",
        "    X_vec = find_mean_vec(X_right, model_right)   \n",
        "\n",
        "    X_train_net = torch.Tensor(X_vec)\n",
        "    y_train_net = torch.Tensor(y_train_new)  \n",
        "\n",
        "    optimizer = optim.Adam(net.parameters(), lr=0.001)\n",
        "    loss_function = nn.MSELoss()  \n",
        "\n",
        "    BATCH_SIZE = 128\n",
        "    EPOCHS = 30\n",
        "\n",
        "    for epoch in tqdm(range(EPOCHS)):\n",
        "\n",
        "        random_index = np.random.permutation(len(X_train_net))\n",
        "        X_train_net = X_train_net[random_index]\n",
        "        y_train_net = y_train_net[random_index]\n",
        "\n",
        "        for i in range(0, len(X_train_net), BATCH_SIZE): \n",
        "\n",
        "            batch_X = X_train_net[i:i+BATCH_SIZE]\n",
        "            batch_y = y_train_net[i:i+BATCH_SIZE]\n",
        "\n",
        "            net.zero_grad()\n",
        "\n",
        "            outputs = net(batch_X)\n",
        "            loss = loss_function(outputs, batch_y)\n",
        "            loss.backward()\n",
        "            optimizer.step()    \n",
        "\n",
        "\n",
        "    X_right_test = tokenize(X_test)\n",
        "\n",
        "\n",
        "    model_right.train(X_right_test, total_examples = len(X_right_test), epochs = 10)\n",
        "    model_right.build_vocab(X_right_test, update=True)   \n",
        "\n",
        "\n",
        "    X_vec_test = find_mean_vec(X_right_test, model_right)\n",
        "\n",
        "    X_test_net = torch.Tensor(X_vec_test)\n",
        "    y_test_net = torch.Tensor(y_test_new)    \n",
        "\n",
        "\n",
        "    correct = 0\n",
        "    total = 0\n",
        "    y_test = []\n",
        "    y_pred = []\n",
        "    with torch.no_grad():\n",
        "        for i in tqdm(range(len(X_test_net))):\n",
        "            real_class = torch.argmax(y_test_net[i])\n",
        "            y_test.append(real_class)\n",
        "            net_out = net(X_test_net[i]) \n",
        "            predicted_class = torch.argmax(net_out)\n",
        "            y_pred.append(predicted_class)\n",
        "    \n",
        "    precision, recall, f1_score = find_metrics(y_test, y_pred) \n",
        "\n",
        "    return precision, recall, f1_score"
      ],
      "id": "rPMgf4TjXMe4",
      "execution_count": null,
      "outputs": []
    },
    {
      "cell_type": "code",
      "metadata": {
        "id": "It_lxpk1XsEu"
      },
      "source": [
        "precision_mean, recall_mean, f1_score_mean = 0, 0, 0\n",
        "number_iterations = 5\n",
        "cur_metrics = []\n",
        "for i in tqdm(range(number_iterations)):\n",
        "  precision, recall, f1_score = Simple_nn()\n",
        "  cur_metrics.append((precision, recall, f1_score))\n",
        "  precision_mean += precision\n",
        "  recall_mean += recall\n",
        "  f1_score_mean += f1_score\n",
        "\n",
        "precision_mean /= number_iterations\n",
        "recall_mean /= number_iterations\n",
        "f1_score_mean /= number_iterations"
      ],
      "id": "It_lxpk1XsEu",
      "execution_count": null,
      "outputs": []
    },
    {
      "cell_type": "code",
      "metadata": {
        "id": "7huaRXUNX8gO"
      },
      "source": [
        "f = open('simple_nn_results.txt', 'w')\n",
        "f.write('precision ' + 'recall ' + 'f1_score ' + '\\n')\n",
        "for i in cur_metrics:\n",
        "    f.write(str(i) + '\\n')\n",
        "\n",
        "f.write('mean_precision ' + 'mean_recall ' + 'mean_f1_score ' + '\\n')\n",
        "f.write(str(precision_mean) + ' ' + str(recall_mean) + ' ' +  str(f1_score_mean))\n",
        "f.close()    "
      ],
      "id": "7huaRXUNX8gO",
      "execution_count": null,
      "outputs": []
    },
    {
      "cell_type": "code",
      "metadata": {
        "id": "m-fUeN7IaeCO"
      },
      "source": [
        "#cur_metrics, precision_mean, recall_mean, f1_score_mean = find_mean_metrics(Simple_nn(), 5)"
      ],
      "id": "m-fUeN7IaeCO",
      "execution_count": null,
      "outputs": []
    },
    {
      "cell_type": "code",
      "metadata": {
        "id": "ropa9StbapvP"
      },
      "source": [
        "#write_file('simple_nn_results.txt', cur_metrics, precision_mean, recall_mean, f1_score_mean)"
      ],
      "id": "ropa9StbapvP",
      "execution_count": null,
      "outputs": []
    },
    {
      "cell_type": "code",
      "metadata": {
        "id": "UCkFbFvVYDas"
      },
      "source": [
        "print(precision_mean, recall_mean, f1_score_mean)"
      ],
      "id": "UCkFbFvVYDas",
      "execution_count": null,
      "outputs": []
    },
    {
      "cell_type": "markdown",
      "metadata": {
        "id": "pv6aXHrjYQUt"
      },
      "source": [
        "Теперь сравним 2 модели. XGBoost и простую нейронную сеть."
      ],
      "id": "pv6aXHrjYQUt"
    },
    {
      "cell_type": "code",
      "metadata": {
        "id": "GR9Gm5hcYPEc"
      },
      "source": [
        "stats.ttest_ind(rvs1,rvs2)"
      ],
      "id": "GR9Gm5hcYPEc",
      "execution_count": null,
      "outputs": []
    },
    {
      "cell_type": "markdown",
      "metadata": {
        "id": "XxfzMZR2WOmR"
      },
      "source": [
        "# Create a simple sentiment annotator for named entities"
      ],
      "id": "XxfzMZR2WOmR"
    },
    {
      "cell_type": "markdown",
      "metadata": {
        "id": "ab2-mJrWQKTt"
      },
      "source": [
        "- Chose dataset with NE: Person, Organization, ... \n",
        "(https://tatianashavrina.github.io/2018/08/30/datasets/#ner);\n",
        "- Apply two of the our best models for NE's context (N = 5-7 words from the left + 5-7 words from the right);\n",
        "Each best model for each student :) One model should be a simple, another model - a neural;\n",
        "\n",
        "Note: try to design an architecture prototype of our annotator!\n",
        "\n",
        "Hints: main classes (Annotator(Model model), Model (abstract class)), Handler"
      ],
      "id": "ab2-mJrWQKTt"
    },
    {
      "cell_type": "code",
      "metadata": {
        "id": "Q6gxFDwsWQWY"
      },
      "source": [
        ""
      ],
      "id": "Q6gxFDwsWQWY",
      "execution_count": null,
      "outputs": []
    }
  ]
}